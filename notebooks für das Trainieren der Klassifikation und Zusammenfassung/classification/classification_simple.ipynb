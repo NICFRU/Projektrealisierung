{
 "cells": [
  {
   "cell_type": "code",
   "execution_count": 66,
   "metadata": {},
   "outputs": [],
   "source": [
    "import pandas as pd\n",
    "import numpy as np\n",
    "import matplotlib.pyplot as plt\n",
    "from tqdm import tqdm\n",
    "import spacy\n",
    "from spacy.lang.en import English\n",
    "\n",
    "from sklearn.feature_extraction.text import TfidfVectorizer\n",
    "from sklearn.model_selection import train_test_split\n",
    "from sklearn import svm\n",
    "from sklearn.metrics import classification_report\n",
    "import joblib\n",
    "\n",
    "import tensorflow as tf\n",
    "from tensorflow import keras\n",
    "from tensorflow.keras import layers\n",
    "\n",
    "from ast import literal_eval"
   ]
  },
  {
   "cell_type": "code",
   "execution_count": 67,
   "metadata": {},
   "outputs": [],
   "source": [
    "data_train = pd.read_csv(\"../../data/data_with_features/data_train_with_features.csv\").drop([\"Unnamed: 0\"], axis=1)\n",
    "data_test = pd.read_csv(\"../../data/data_with_features/data_test_with_features.csv\").drop([\"Unnamed: 0\"], axis=1)\n",
    "\n",
    "data_train = data_train.sample(frac=1).reset_index(drop=True)\n",
    "data_test = data_test.sample(frac=1).reset_index(drop=True)"
   ]
  },
  {
   "cell_type": "code",
   "execution_count": 68,
   "metadata": {},
   "outputs": [
    {
     "name": "stdout",
     "output_type": "stream",
     "text": [
      "              precision    recall  f1-score   support\n",
      "\n",
      "  Scientific       1.00      0.98      0.99        99\n",
      "        news       0.96      1.00      0.98        96\n",
      "     reviews       0.97      0.98      0.97       117\n",
      "       story       1.00      0.95      0.98        88\n",
      "\n",
      "    accuracy                           0.98       400\n",
      "   macro avg       0.98      0.98      0.98       400\n",
      "weighted avg       0.98      0.98      0.98       400\n",
      "\n"
     ]
    }
   ],
   "source": [
    "vectorizer = TfidfVectorizer()\n",
    "features = vectorizer.fit_transform(data_train[\"text\"])\n",
    "\n",
    "X_train, X_test, y_train, y_test = train_test_split(features, data_train[\"classification\"], test_size=0.2, random_state=42)\n",
    "\n",
    "model = svm.SVC(probability=True)\n",
    "model.fit(X_train, y_train)\n",
    "\n",
    "y_pred = model.predict(X_test)\n",
    "print(classification_report(y_test, y_pred))"
   ]
  },
  {
   "cell_type": "code",
   "execution_count": 69,
   "metadata": {},
   "outputs": [
    {
     "name": "stdout",
     "output_type": "stream",
     "text": [
      "Klasse ['Scientific']: ['99.97%', '0.00%', '0.00%', '0.03%']\n",
      "Vorhergesagte Klasse: ['Scientific']  | Wahre Klasse: Scientific\n"
     ]
    }
   ],
   "source": [
    "new_text = data_test[\"text\"][12]\n",
    "new_text_features = vectorizer.transform([new_text])\n",
    "probabilities = model.predict_proba(new_text_features)\n",
    "true_class = data_test[\"classification\"][12]\n",
    "predicted_class = model.predict(new_text_features)\n",
    "\n",
    "# Wahrscheinlichkeiten und vorhergesagte Klasse ausgeben\n",
    "for i, probs in enumerate(probabilities):\n",
    "    class_probabilities = [\"{:.2f}%\".format(prob * 100) for prob in probs]\n",
    "    print(\"Klasse {}: {}\".format(predicted_class, class_probabilities))\n",
    "print(\"Vorhergesagte Klasse:\", predicted_class, \" | Wahre Klasse:\", true_class)"
   ]
  },
  {
   "cell_type": "code",
   "execution_count": 70,
   "metadata": {},
   "outputs": [],
   "source": [
    "data_train = pd.read_csv(\"../../data/data_with_features/data_train_with_features.csv\").drop([\"Unnamed: 0\"], axis=1)\n",
    "data_test = pd.read_csv(\"../../data/data_with_features/data_test_with_features.csv\").drop([\"Unnamed: 0\"], axis=1)\n",
    "\n",
    "data_train = data_train.sample(frac=1).reset_index(drop=True)\n",
    "data_test = data_test.sample(frac=1).reset_index(drop=True)"
   ]
  },
  {
   "cell_type": "code",
   "execution_count": 71,
   "metadata": {},
   "outputs": [],
   "source": [
    "vectorizer = TfidfVectorizer()\n",
    "features = vectorizer.fit_transform(data_train[\"text\"])\n",
    "\n",
    "joblib.dump(vectorizer, \"../../models/classification/vectorizer_1.joblib\")\n",
    "\n",
    "X_train, X_test, y_train, y_test = train_test_split(features, data_train[\"classification\"], test_size=0.2, random_state=42)"
   ]
  },
  {
   "cell_type": "code",
   "execution_count": 72,
   "metadata": {},
   "outputs": [],
   "source": [
    "from keras.layers import LSTM\n",
    "from tensorflow.keras.preprocessing.text import Tokenizer\n",
    "from keras.layers import Embedding"
   ]
  },
  {
   "cell_type": "code",
   "execution_count": 73,
   "metadata": {},
   "outputs": [],
   "source": [
    "model = keras.Sequential([\n",
    "    layers.Dense(64, activation='relu', input_shape=(features.shape[1],)),\n",
    "    layers.Dense(64, activation='relu'),\n",
    "    layers.Dense(4, activation='softmax')\n",
    "])\n",
    "\n",
    "model.compile(optimizer='adam',\n",
    "              loss='sparse_categorical_crossentropy',\n",
    "              metrics=['accuracy'])"
   ]
  },
  {
   "cell_type": "code",
   "execution_count": 74,
   "metadata": {},
   "outputs": [],
   "source": [
    "label_to_int = {label: i for i, label in enumerate(np.unique(data_train[\"classification\"]))}\n",
    "y_train = np.array([label_to_int[label] for label in y_train])\n",
    "y_test = np.array([label_to_int[label] for label in y_test])"
   ]
  },
  {
   "cell_type": "code",
   "execution_count": 75,
   "metadata": {},
   "outputs": [
    {
     "name": "stdout",
     "output_type": "stream",
     "text": [
      "Epoch 1/10\n",
      "100/100 [==============================] - 4s 39ms/step - loss: 0.7211 - accuracy: 0.8288\n",
      "Epoch 2/10\n",
      "100/100 [==============================] - 4s 39ms/step - loss: 0.0378 - accuracy: 0.9981\n",
      "Epoch 3/10\n",
      "100/100 [==============================] - 5s 45ms/step - loss: 0.0048 - accuracy: 1.0000\n",
      "Epoch 4/10\n",
      "100/100 [==============================] - 4s 35ms/step - loss: 0.0022 - accuracy: 1.0000\n",
      "Epoch 5/10\n",
      "100/100 [==============================] - 4s 40ms/step - loss: 0.0012 - accuracy: 1.0000\n",
      "Epoch 6/10\n",
      "100/100 [==============================] - 4s 42ms/step - loss: 7.3448e-04 - accuracy: 1.0000\n",
      "Epoch 7/10\n",
      "100/100 [==============================] - 4s 40ms/step - loss: 4.3176e-04 - accuracy: 1.0000\n",
      "Epoch 8/10\n",
      "100/100 [==============================] - 4s 41ms/step - loss: 2.6295e-04 - accuracy: 1.0000\n",
      "Epoch 9/10\n",
      "100/100 [==============================] - 4s 39ms/step - loss: 1.7819e-04 - accuracy: 1.0000\n",
      "Epoch 10/10\n",
      "100/100 [==============================] - 4s 40ms/step - loss: 1.3091e-04 - accuracy: 1.0000\n"
     ]
    },
    {
     "data": {
      "text/plain": [
       "<keras.callbacks.History at 0x2078a46d460>"
      ]
     },
     "execution_count": 75,
     "metadata": {},
     "output_type": "execute_result"
    }
   ],
   "source": [
    "model.fit(X_train.toarray(), y_train, epochs=10, batch_size=16, verbose=1)"
   ]
  },
  {
   "cell_type": "code",
   "execution_count": 76,
   "metadata": {},
   "outputs": [
    {
     "name": "stdout",
     "output_type": "stream",
     "text": [
      "13/13 [==============================] - 1s 34ms/step - loss: 0.0235 - accuracy: 0.9950\n",
      "Test Loss: 0.02345920167863369\n",
      "Test Accuracy: 0.9950000047683716\n"
     ]
    }
   ],
   "source": [
    "loss, accuracy = model.evaluate(X_test.toarray(), y_test, verbose=1)\n",
    "print('Test Loss:', loss)\n",
    "print('Test Accuracy:', accuracy)"
   ]
  },
  {
   "cell_type": "code",
   "execution_count": 77,
   "metadata": {},
   "outputs": [
    {
     "name": "stdout",
     "output_type": "stream",
     "text": [
      "1/1 [==============================] - 0s 60ms/step\n",
      "Vorhergesagte Klasse: Scientific, Wahrscheinlichkeit: 0.999997615814209, Wahre Klasse: Scientific.  [0]\n"
     ]
    }
   ],
   "source": [
    "test_number = 78\n",
    "new_text = data_test[\"text\"][test_number]\n",
    "new_class = data_test[\"classification\"][test_number]\n",
    "new_text_features = vectorizer.transform([new_text])\n",
    "\n",
    "predictions = model.predict(new_text_features.toarray())\n",
    "predicted_class = np.argmax(predictions, axis=1)\n",
    "predicted_probability = np.max(predictions, axis=1)\n",
    "\n",
    "int_to_label = {i: label for label, i in label_to_int.items()}\n",
    "\n",
    "predicted_labels = [int_to_label[prediction] for prediction in predicted_class]\n",
    "for label, probability in zip(predicted_labels, predicted_probability):\n",
    "    print(f\"Vorhergesagte Klasse: {label}, Wahrscheinlichkeit: {probability}, Wahre Klasse: {new_class}. \", predicted_class)"
   ]
  },
  {
   "cell_type": "code",
   "execution_count": 78,
   "metadata": {},
   "outputs": [],
   "source": [
    "model.save(\"../../models/classification/neuro_net_1.h5\")"
   ]
  }
 ],
 "metadata": {
  "kernelspec": {
   "display_name": "NLP-Projektrealisierung",
   "language": "python",
   "name": "python3"
  },
  "language_info": {
   "codemirror_mode": {
    "name": "ipython",
    "version": 3
   },
   "file_extension": ".py",
   "mimetype": "text/x-python",
   "name": "python",
   "nbconvert_exporter": "python",
   "pygments_lexer": "ipython3",
   "version": "3.9.17"
  },
  "orig_nbformat": 4
 },
 "nbformat": 4,
 "nbformat_minor": 2
}
