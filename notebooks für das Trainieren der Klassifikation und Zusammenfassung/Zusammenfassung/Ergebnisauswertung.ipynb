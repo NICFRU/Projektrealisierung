{
 "cells": [
  {
   "cell_type": "code",
   "execution_count": 1,
   "metadata": {},
   "outputs": [],
   "source": [
    "import pandas as pd\n",
    "import matplotlib.pyplot as plt\n",
    "import seaborn\n",
    "\n"
   ]
  },
  {
   "cell_type": "code",
   "execution_count": 133,
   "metadata": {},
   "outputs": [],
   "source": [
    "news = pd.read_csv(\"C:/Users/antoi/Desktop/Projektrealisierung-2/notebooks für das Trainieren der Klassifikation und Zusammenfassung/Trainings und Testdaten/ergbnisse/test_news_neu.csv\")\n",
    "science = pd.read_csv(\"C:/Users/antoi/Desktop/Projektrealisierung-2/notebooks für das Trainieren der Klassifikation und Zusammenfassung/Trainings und Testdaten/ergbnisse/test_science.csv\")\n",
    "science_neu = pd.read_csv(\"C:/Users/antoi/Desktop/Projektrealisierung-2/notebooks für das Trainieren der Klassifikation und Zusammenfassung/Trainings und Testdaten/ergbnisse/test_science_neu.csv\")\n",
    "review = pd.read_csv(\"C:/Users/antoi/Desktop/Projektrealisierung-2/notebooks für das Trainieren der Klassifikation und Zusammenfassung/Trainings und Testdaten/ergbnisse/test_review_text.csv\")\n",
    "story = pd.read_csv(\"C:/Users/antoi/Desktop/Projektrealisierung-2/notebooks für das Trainieren der Klassifikation und Zusammenfassung/Trainings und Testdaten/ergbnisse/test_story_neu.csv\")"
   ]
  },
  {
   "cell_type": "code",
   "execution_count": 16,
   "metadata": {},
   "outputs": [
    {
     "data": {
      "text/plain": [
       "Index(['Unnamed: 0', 'text_rank_text', 'token_text_rank', 'Zusammenfassung',\n",
       "       'länge Zusammenfassung', 'text', 'tokens_gesamt',\n",
       "       'desired_compression_rate', 'ent_com_rate', 'ent_com_rate_neu'],\n",
       "      dtype='object')"
      ]
     },
     "execution_count": 16,
     "metadata": {},
     "output_type": "execute_result"
    }
   ],
   "source": [
    "news.columns"
   ]
  },
  {
   "cell_type": "code",
   "execution_count": 98,
   "metadata": {},
   "outputs": [],
   "source": [
    "df = pd.concat([news,science,review,story])[['text_rank_text', 'token_text_rank', 'Zusammenfassung',\n",
    "       'länge Zusammenfassung', 'text', 'tokens_gesamt',\n",
    "       'desired_compression_rate', 'ent_com_rate', 'ent_com_rate_neu']]"
   ]
  },
  {
   "cell_type": "code",
   "execution_count": 99,
   "metadata": {},
   "outputs": [],
   "source": [
    "df = df.reset_index()"
   ]
  },
  {
   "cell_type": "code",
   "execution_count": 33,
   "metadata": {},
   "outputs": [
    {
     "data": {
      "text/html": [
       "<div>\n",
       "<style scoped>\n",
       "    .dataframe tbody tr th:only-of-type {\n",
       "        vertical-align: middle;\n",
       "    }\n",
       "\n",
       "    .dataframe tbody tr th {\n",
       "        vertical-align: top;\n",
       "    }\n",
       "\n",
       "    .dataframe thead th {\n",
       "        text-align: right;\n",
       "    }\n",
       "</style>\n",
       "<table border=\"1\" class=\"dataframe\">\n",
       "  <thead>\n",
       "    <tr style=\"text-align: right;\">\n",
       "      <th></th>\n",
       "      <th>index</th>\n",
       "      <th>text_rank_text</th>\n",
       "      <th>token_text_rank</th>\n",
       "      <th>Zusammenfassung</th>\n",
       "      <th>länge Zusammenfassung</th>\n",
       "      <th>text</th>\n",
       "      <th>tokens_gesamt</th>\n",
       "      <th>desired_compression_rate</th>\n",
       "      <th>ent_com_rate</th>\n",
       "      <th>ent_com_rate_neu</th>\n",
       "      <th>Bereich</th>\n",
       "      <th>Bereich_Num</th>\n",
       "    </tr>\n",
       "  </thead>\n",
       "  <tbody>\n",
       "    <tr>\n",
       "      <th>0</th>\n",
       "      <td>0</td>\n",
       "      <td>RJD Chief Lalu Prasad Yadav on Wednesday said ...</td>\n",
       "      <td>31</td>\n",
       "      <td>RJD Chief Lalu Prasad Yadav on Wednesday said ...</td>\n",
       "      <td>31</td>\n",
       "      <td>RJD Chief Lalu Prasad Yadav on Wednesday said ...</td>\n",
       "      <td>58</td>\n",
       "      <td>0.54</td>\n",
       "      <td>0.534483</td>\n",
       "      <td>0.534483</td>\n",
       "      <td>Zwischen</td>\n",
       "      <td>1</td>\n",
       "    </tr>\n",
       "    <tr>\n",
       "      <th>1</th>\n",
       "      <td>1</td>\n",
       "      <td>The Indira Gandhi International Airport has cl...</td>\n",
       "      <td>30</td>\n",
       "      <td>The Indira Gandhi International Airport has cl...</td>\n",
       "      <td>30</td>\n",
       "      <td>The Indira Gandhi International Airport has cl...</td>\n",
       "      <td>59</td>\n",
       "      <td>0.46</td>\n",
       "      <td>0.508475</td>\n",
       "      <td>0.508475</td>\n",
       "      <td>Zwischen</td>\n",
       "      <td>1</td>\n",
       "    </tr>\n",
       "    <tr>\n",
       "      <th>2</th>\n",
       "      <td>2</td>\n",
       "      <td>State run buses, school buses, and vehicles us...</td>\n",
       "      <td>34</td>\n",
       "      <td>State run buses, school buses, and vehicles us...</td>\n",
       "      <td>34</td>\n",
       "      <td>Mumbai Traffic Police have temporarily banned ...</td>\n",
       "      <td>63</td>\n",
       "      <td>0.55</td>\n",
       "      <td>0.539683</td>\n",
       "      <td>0.539683</td>\n",
       "      <td>Zwischen</td>\n",
       "      <td>1</td>\n",
       "    </tr>\n",
       "    <tr>\n",
       "      <th>3</th>\n",
       "      <td>3</td>\n",
       "      <td>Titanic actors Leonardo DiCaprio and Kate Wins...</td>\n",
       "      <td>21</td>\n",
       "      <td>Titanic actors Leonardo DiCaprio and Kate Wins...</td>\n",
       "      <td>21</td>\n",
       "      <td>Titanic actors Leonardo DiCaprio and Kate Wins...</td>\n",
       "      <td>61</td>\n",
       "      <td>0.32</td>\n",
       "      <td>0.344262</td>\n",
       "      <td>0.344262</td>\n",
       "      <td>Zwischen</td>\n",
       "      <td>1</td>\n",
       "    </tr>\n",
       "    <tr>\n",
       "      <th>4</th>\n",
       "      <td>4</td>\n",
       "      <td>A member of Sikh communitys Damdami Taksal sem...</td>\n",
       "      <td>33</td>\n",
       "      <td>A member of Sikh communitys Damdami Taksal sem...</td>\n",
       "      <td>35</td>\n",
       "      <td>A member of Sikh communitys Damdami Taksal sem...</td>\n",
       "      <td>59</td>\n",
       "      <td>0.69</td>\n",
       "      <td>0.593220</td>\n",
       "      <td>0.559322</td>\n",
       "      <td>Drunter</td>\n",
       "      <td>0</td>\n",
       "    </tr>\n",
       "    <tr>\n",
       "      <th>...</th>\n",
       "      <td>...</td>\n",
       "      <td>...</td>\n",
       "      <td>...</td>\n",
       "      <td>...</td>\n",
       "      <td>...</td>\n",
       "      <td>...</td>\n",
       "      <td>...</td>\n",
       "      <td>...</td>\n",
       "      <td>...</td>\n",
       "      <td>...</td>\n",
       "      <td>...</td>\n",
       "      <td>...</td>\n",
       "    </tr>\n",
       "    <tr>\n",
       "      <th>795</th>\n",
       "      <td>195</td>\n",
       "      <td>I Captain Parrol Hartroy stood at the advanced...</td>\n",
       "      <td>1974</td>\n",
       "      <td>i captain parrol hartroy stood at the advanced...</td>\n",
       "      <td>1749</td>\n",
       "      <td>I Captain Parrol Hartroy stood at the advanced...</td>\n",
       "      <td>2529</td>\n",
       "      <td>0.63</td>\n",
       "      <td>0.691578</td>\n",
       "      <td>NaN</td>\n",
       "      <td>Zwischen</td>\n",
       "      <td>1</td>\n",
       "    </tr>\n",
       "    <tr>\n",
       "      <th>796</th>\n",
       "      <td>196</td>\n",
       "      <td>You are not the first to explore this region, ...</td>\n",
       "      <td>870</td>\n",
       "      <td>You are not the first to explore this region, ...</td>\n",
       "      <td>579</td>\n",
       "      <td>A man stepped out of the darkness into the lit...</td>\n",
       "      <td>1936</td>\n",
       "      <td>0.24</td>\n",
       "      <td>0.299070</td>\n",
       "      <td>NaN</td>\n",
       "      <td>Zwischen</td>\n",
       "      <td>1</td>\n",
       "    </tr>\n",
       "    <tr>\n",
       "      <th>797</th>\n",
       "      <td>197</td>\n",
       "      <td>One midsummer night a farmers boy living about...</td>\n",
       "      <td>2105</td>\n",
       "      <td>A farmers boy living about ten miles from the ...</td>\n",
       "      <td>2190</td>\n",
       "      <td>One midsummer night a farmers boy living about...</td>\n",
       "      <td>2499</td>\n",
       "      <td>0.71</td>\n",
       "      <td>0.876351</td>\n",
       "      <td>NaN</td>\n",
       "      <td>Zwischen</td>\n",
       "      <td>1</td>\n",
       "    </tr>\n",
       "    <tr>\n",
       "      <th>798</th>\n",
       "      <td>198</td>\n",
       "      <td>Nobody has lived in it since the summer of 187...</td>\n",
       "      <td>1281</td>\n",
       "      <td>The house was occupied by the family of charle...</td>\n",
       "      <td>1362</td>\n",
       "      <td>To the south of where the road between Leesvil...</td>\n",
       "      <td>1524</td>\n",
       "      <td>0.70</td>\n",
       "      <td>0.893701</td>\n",
       "      <td>NaN</td>\n",
       "      <td>Zwischen</td>\n",
       "      <td>1</td>\n",
       "    </tr>\n",
       "    <tr>\n",
       "      <th>799</th>\n",
       "      <td>199</td>\n",
       "      <td>The elder Lassiter had that severity of manner...</td>\n",
       "      <td>381</td>\n",
       "      <td>The elder lassiter had that severity of manner...</td>\n",
       "      <td>238</td>\n",
       "      <td>In the year 1861 Barr Lassiter, a young man of...</td>\n",
       "      <td>1117</td>\n",
       "      <td>0.21</td>\n",
       "      <td>0.213071</td>\n",
       "      <td>NaN</td>\n",
       "      <td>Zwischen</td>\n",
       "      <td>1</td>\n",
       "    </tr>\n",
       "  </tbody>\n",
       "</table>\n",
       "<p>800 rows × 12 columns</p>\n",
       "</div>"
      ],
      "text/plain": [
       "     index                                     text_rank_text  \\\n",
       "0        0  RJD Chief Lalu Prasad Yadav on Wednesday said ...   \n",
       "1        1  The Indira Gandhi International Airport has cl...   \n",
       "2        2  State run buses, school buses, and vehicles us...   \n",
       "3        3  Titanic actors Leonardo DiCaprio and Kate Wins...   \n",
       "4        4  A member of Sikh communitys Damdami Taksal sem...   \n",
       "..     ...                                                ...   \n",
       "795    195  I Captain Parrol Hartroy stood at the advanced...   \n",
       "796    196  You are not the first to explore this region, ...   \n",
       "797    197  One midsummer night a farmers boy living about...   \n",
       "798    198  Nobody has lived in it since the summer of 187...   \n",
       "799    199  The elder Lassiter had that severity of manner...   \n",
       "\n",
       "     token_text_rank                                    Zusammenfassung  \\\n",
       "0                 31  RJD Chief Lalu Prasad Yadav on Wednesday said ...   \n",
       "1                 30  The Indira Gandhi International Airport has cl...   \n",
       "2                 34  State run buses, school buses, and vehicles us...   \n",
       "3                 21  Titanic actors Leonardo DiCaprio and Kate Wins...   \n",
       "4                 33  A member of Sikh communitys Damdami Taksal sem...   \n",
       "..               ...                                                ...   \n",
       "795             1974  i captain parrol hartroy stood at the advanced...   \n",
       "796              870  You are not the first to explore this region, ...   \n",
       "797             2105  A farmers boy living about ten miles from the ...   \n",
       "798             1281  The house was occupied by the family of charle...   \n",
       "799              381  The elder lassiter had that severity of manner...   \n",
       "\n",
       "     länge Zusammenfassung                                               text  \\\n",
       "0                       31  RJD Chief Lalu Prasad Yadav on Wednesday said ...   \n",
       "1                       30  The Indira Gandhi International Airport has cl...   \n",
       "2                       34  Mumbai Traffic Police have temporarily banned ...   \n",
       "3                       21  Titanic actors Leonardo DiCaprio and Kate Wins...   \n",
       "4                       35  A member of Sikh communitys Damdami Taksal sem...   \n",
       "..                     ...                                                ...   \n",
       "795                   1749  I Captain Parrol Hartroy stood at the advanced...   \n",
       "796                    579  A man stepped out of the darkness into the lit...   \n",
       "797                   2190  One midsummer night a farmers boy living about...   \n",
       "798                   1362  To the south of where the road between Leesvil...   \n",
       "799                    238  In the year 1861 Barr Lassiter, a young man of...   \n",
       "\n",
       "     tokens_gesamt  desired_compression_rate  ent_com_rate  ent_com_rate_neu  \\\n",
       "0               58                      0.54      0.534483          0.534483   \n",
       "1               59                      0.46      0.508475          0.508475   \n",
       "2               63                      0.55      0.539683          0.539683   \n",
       "3               61                      0.32      0.344262          0.344262   \n",
       "4               59                      0.69      0.593220          0.559322   \n",
       "..             ...                       ...           ...               ...   \n",
       "795           2529                      0.63      0.691578               NaN   \n",
       "796           1936                      0.24      0.299070               NaN   \n",
       "797           2499                      0.71      0.876351               NaN   \n",
       "798           1524                      0.70      0.893701               NaN   \n",
       "799           1117                      0.21      0.213071               NaN   \n",
       "\n",
       "      Bereich  Bereich_Num  \n",
       "0    Zwischen            1  \n",
       "1    Zwischen            1  \n",
       "2    Zwischen            1  \n",
       "3    Zwischen            1  \n",
       "4     Drunter            0  \n",
       "..        ...          ...  \n",
       "795  Zwischen            1  \n",
       "796  Zwischen            1  \n",
       "797  Zwischen            1  \n",
       "798  Zwischen            1  \n",
       "799  Zwischen            1  \n",
       "\n",
       "[800 rows x 12 columns]"
      ]
     },
     "execution_count": 33,
     "metadata": {},
     "output_type": "execute_result"
    }
   ],
   "source": [
    "df"
   ]
  },
  {
   "cell_type": "code",
   "execution_count": 100,
   "metadata": {},
   "outputs": [
    {
     "data": {
      "image/png": "[encoded data removed]",
      "text/plain": [
       "<Figure size 432x288 with 1 Axes>"
      ]
     },
     "metadata": {
      "needs_background": "light"
     },
     "output_type": "display_data"
    }
   ],
   "source": [
    "# Spalten extrahieren\n",
    "\n",
    "endgueltige_kompressionsrate = df['ent_com_rate']\n",
    "min_kompressionsrate = df['desired_compression_rate'] - 0.05\n",
    "max_kompressionsrate = df['desired_compression_rate'] + 0.05\n",
    "\n",
    "# Zeile hinzufügen, um den Bereich zu kennzeichnen\n",
    "df['Bereich'] = \"\"\n",
    "for i in range(len(df)):\n",
    "    if (endgueltige_kompressionsrate[i] < min_kompressionsrate[i]).any():\n",
    "        df.at[i, 'Bereich'] = 'Drunter'\n",
    "    elif ((min_kompressionsrate[i] <= endgueltige_kompressionsrate[i]) & (endgueltige_kompressionsrate[i] <= max_kompressionsrate[i])).any():\n",
    "\n",
    "        df.at[i, 'Bereich'] = 'Zwischen'\n",
    "    else:\n",
    "        df.at[i, 'Bereich'] = 'Drüber'\n",
    "\n",
    "# Berechne die prozentualen Anteile der Bereiche\n",
    "counts = df['Bereich'].value_counts(normalize=True) * 100\n",
    "\n",
    "# Plot: Prozentuale Anteile der Bereiche\n",
    "plt.bar(counts.index, counts.values)\n",
    "plt.xlabel('Bereich')\n",
    "plt.ylabel('Prozent')\n",
    "plt.title('Prozentuale Verteilung der Endgültigen Compression Rate-Bereiche')\n",
    "plt.show()"
   ]
  },
  {
   "cell_type": "code",
   "execution_count": 137,
   "metadata": {},
   "outputs": [],
   "source": [
    "def bar_chart(df,rate):\n",
    "    endgueltige_kompressionsrate = df['ent_com_rate']\n",
    "    min_kompressionsrate = df['desired_compression_rate'] - rate\n",
    "    max_kompressionsrate = df['desired_compression_rate'] + rate\n",
    "\n",
    "    # Zeile hinzufügen, um den Bereich zu kennzeichnen\n",
    "    df['Bereich'] = \"\"\n",
    "    for i in range(len(df)):\n",
    "        if (endgueltige_kompressionsrate[i] < min_kompressionsrate[i]).any():\n",
    "            df.at[i, 'Bereich'] = 'Zu kurz'\n",
    "        elif ((min_kompressionsrate[i] <= endgueltige_kompressionsrate[i]) & (endgueltige_kompressionsrate[i] <= max_kompressionsrate[i])).any():\n",
    "\n",
    "            df.at[i, 'Bereich'] = 'Optimal'\n",
    "        else:\n",
    "            df.at[i, 'Bereich'] = 'Zu lang'\n",
    "\n",
    "    # Berechne die prozentualen Anteile der Bereiche\n",
    "    counts = df['Bereich'].value_counts(normalize=True) * 100\n",
    "\n",
    "    # Plot: Prozentuale Anteile der Bereiche\n",
    "    plt.bar(counts.index, counts.values)\n",
    "    plt.xlabel('Bereich')\n",
    "    plt.ylabel('Prozent')\n",
    "    plt.title('Prozentuale Verteilung der Endgültigen Compression Rate-Bereiche')\n",
    "    plt.show()"
   ]
  },
  {
   "cell_type": "code",
   "execution_count": 129,
   "metadata": {},
   "outputs": [
    {
     "data": {
      "text/plain": [
       "Zwischen    109\n",
       "Drunter      67\n",
       "Drüber       24\n",
       "Name: Bereich, dtype: int64"
      ]
     },
     "execution_count": 129,
     "metadata": {},
     "output_type": "execute_result"
    }
   ],
   "source": [
    "science_neu.Bereich.value_counts()"
   ]
  },
  {
   "cell_type": "code",
   "execution_count": 138,
   "metadata": {},
   "outputs": [
    {
     "data": {
      "image/png": "[encoded data removed]",
      "text/plain": [
       "<Figure size 432x288 with 1 Axes>"
      ]
     },
     "metadata": {
      "needs_background": "light"
     },
     "output_type": "display_data"
    },
    {
     "data": {
      "image/png": "[encoded data removed]",
      "text/plain": [
       "<Figure size 432x288 with 1 Axes>"
      ]
     },
     "metadata": {
      "needs_background": "light"
     },
     "output_type": "display_data"
    },
    {
     "data": {
      "text/plain": [
       "(None, None)"
      ]
     },
     "execution_count": 138,
     "metadata": {},
     "output_type": "execute_result"
    }
   ],
   "source": [
    "bar_chart(df,0.05), bar_chart(df,0.1)"
   ]
  },
  {
   "cell_type": "code",
   "execution_count": 136,
   "metadata": {},
   "outputs": [
    {
     "data": {
      "image/png": "[encoded data removed]",
      "text/plain": [
       "<Figure size 432x288 with 1 Axes>"
      ]
     },
     "metadata": {
      "needs_background": "light"
     },
     "output_type": "display_data"
    }
   ],
   "source": [
    "bar_chart(story,0.1)"
   ]
  },
  {
   "cell_type": "code",
   "execution_count": 102,
   "metadata": {},
   "outputs": [
    {
     "data": {
      "text/plain": [
       "60      59\n",
       "61      28\n",
       "59      27\n",
       "62      19\n",
       "58      17\n",
       "        ..\n",
       "3255     1\n",
       "4537     1\n",
       "5966     1\n",
       "5577     1\n",
       "1117     1\n",
       "Name: tokens_gesamt, Length: 508, dtype: int64"
      ]
     },
     "execution_count": 102,
     "metadata": {},
     "output_type": "execute_result"
    }
   ],
   "source": [
    "df.tokens_gesamt.value_counts()"
   ]
  },
  {
   "cell_type": "code",
   "execution_count": 76,
   "metadata": {},
   "outputs": [
    {
     "data": {
      "image/png": "[encoded data removed]",
      "text/plain": [
       "<Figure size 432x288 with 1 Axes>"
      ]
     },
     "metadata": {
      "needs_background": "light"
     },
     "output_type": "display_data"
    }
   ],
   "source": [
    "bar_chart(df)"
   ]
  },
  {
   "cell_type": "code",
   "execution_count": 71,
   "metadata": {},
   "outputs": [
    {
     "data": {
      "image/png": "[encoded data removed]",
      "text/plain": [
       "<Figure size 432x288 with 1 Axes>"
      ]
     },
     "metadata": {
      "needs_background": "light"
     },
     "output_type": "display_data"
    }
   ],
   "source": [
    "bar_chart(news)"
   ]
  },
  {
   "cell_type": "code",
   "execution_count": 84,
   "metadata": {},
   "outputs": [
    {
     "data": {
      "image/png": "[encoded data removed]",
      "text/plain": [
       "<Figure size 432x288 with 1 Axes>"
      ]
     },
     "metadata": {
      "needs_background": "light"
     },
     "output_type": "display_data"
    }
   ],
   "source": [
    "bar_chart(science)"
   ]
  },
  {
   "cell_type": "code",
   "execution_count": 73,
   "metadata": {},
   "outputs": [
    {
     "data": {
      "image/png": "[encoded data removed]",
      "text/plain": [
       "<Figure size 432x288 with 1 Axes>"
      ]
     },
     "metadata": {
      "needs_background": "light"
     },
     "output_type": "display_data"
    }
   ],
   "source": [
    "bar_chart(review)"
   ]
  },
  {
   "cell_type": "code",
   "execution_count": 74,
   "metadata": {},
   "outputs": [
    {
     "data": {
      "image/png": "[encoded data removed]",
      "text/plain": [
       "<Figure size 432x288 with 1 Axes>"
      ]
     },
     "metadata": {
      "needs_background": "light"
     },
     "output_type": "display_data"
    }
   ],
   "source": [
    "bar_chart(story)"
   ]
  },
  {
   "cell_type": "code",
   "execution_count": 31,
   "metadata": {},
   "outputs": [
    {
     "data": {
      "image/png": "[encoded data removed]",
      "text/plain": [
       "<Figure size 720x576 with 2 Axes>"
      ]
     },
     "metadata": {
      "needs_background": "light"
     },
     "output_type": "display_data"
    }
   ],
   "source": [
    "# Spalte \"Bereich\" in numerische Kategorien umwandeln\n",
    "df['Bereich_Num'] = df['Bereich'].map({'Drunter': 0, 'Zwischen': 1, 'Drüber': 2})\n",
    "\n",
    "# Korrelationsmatrix berechnen\n",
    "correlation_matrix = df.corr()\n",
    "\n",
    "# Plot: Korrelationsmatrix\n",
    "plt.figure(figsize=(10, 8))\n",
    "plt.imshow(correlation_matrix, cmap='coolwarm', vmin=-1, vmax=1)\n",
    "plt.colorbar()\n",
    "plt.xticks(range(len(correlation_matrix.columns)), correlation_matrix.columns, rotation=90)\n",
    "plt.yticks(range(len(correlation_matrix.columns)), correlation_matrix.columns)\n",
    "plt.title('Korrelationsmatrix')\n",
    "plt.show()"
   ]
  },
  {
   "cell_type": "code",
   "execution_count": 106,
   "metadata": {},
   "outputs": [
    {
     "data": {
      "image/png": "[encoded data removed]",
      "text/plain": [
       "<Figure size 432x288 with 1 Axes>"
      ]
     },
     "metadata": {
      "needs_background": "light"
     },
     "output_type": "display_data"
    }
   ],
   "source": [
    "# Textlänge in Kategorien einteilen: lang und kurz\n",
    "df['Textlänge'] = pd.cut(df['tokens_gesamt'], bins=[0, 250, 1000, 3000, 10000, float('inf')])\n",
    "\n",
    "# Verteilung der Bereich-Spalte nach Textlänge-Kategorie\n",
    "verteilung = df.groupby(['tokens_gesamt', 'Bereich'])['Bereich'].count().unstack()\n",
    "\n",
    "# Anteilswerte berechnen\n",
    "verteilung_prozent = verteilung.apply(lambda x: x / x.sum() * 100, axis=1)\n",
    "\n",
    "# Plot: Verteilung der Bereich-Spalte nach Textlänge-Kategorie\n",
    "verteilung_prozent.plot(kind='bar', stacked=True)\n",
    "plt.xlabel('Textlänge-tokens_gesamt')\n",
    "plt.ylabel('Anteil in %')\n",
    "plt.title('Anteilige Verteilung der Bereich-Spalte nach Textlänge-Kategorie')\n",
    "plt.legend(title='Bereich')\n",
    "plt.show()"
   ]
  },
  {
   "cell_type": "code",
   "execution_count": 144,
   "metadata": {},
   "outputs": [
    {
     "data": {
      "image/png": "[encoded data removed]",
      "text/plain": [
       "<Figure size 432x288 with 1 Axes>"
      ]
     },
     "metadata": {
      "needs_background": "light"
     },
     "output_type": "display_data"
    }
   ],
   "source": [
    "# Textlänge in Kategorien einteilen: lang und kurz\n",
    "df['Textlänge_Kategorie'] = pd.cut(df['desired_compression_rate']*100, bins=[20, 30,40,50,60,70, float('inf')])\n",
    "\n",
    "# Verteilung der Bereich-Spalte nach Textlänge-Kategorie\n",
    "verteilung = df.groupby(['Textlänge_Kategorie', 'Bereich'])['Bereich'].count().unstack()\n",
    "\n",
    "# Anteilswerte berechnen\n",
    "verteilung_prozent = verteilung.apply(lambda x: x / x.sum() * 100, axis=1)\n",
    "\n",
    "# Plot: Verteilung der Bereich-Spalte nach Textlänge-Kategorie\n",
    "verteilung_prozent.plot(kind='bar', stacked=True)\n",
    "plt.xlabel('Textlänge-Kategorie')\n",
    "plt.ylabel('Anteil in %')\n",
    "plt.title('Anteilige Verteilung der Bereich-Spalte nach Textlänge-Kategorie')\n",
    "plt.legend(title='Bereich')\n",
    "plt.show()"
   ]
  },
  {
   "cell_type": "code",
   "execution_count": 37,
   "metadata": {},
   "outputs": [
    {
     "ename": "KeyError",
     "evalue": "'Min_Kompressionsrate'",
     "output_type": "error",
     "traceback": [
      "\u001b[1;31m---------------------------------------------------------------------------\u001b[0m",
      "\u001b[1;31mKeyError\u001b[0m                                  Traceback (most recent call last)",
      "File \u001b[1;32mc:\\Users\\antoi\\AppData\\Local\\Programs\\Python\\Python310\\lib\\site-packages\\pandas\\core\\indexes\\base.py:3621\u001b[0m, in \u001b[0;36mIndex.get_loc\u001b[1;34m(self, key, method, tolerance)\u001b[0m\n\u001b[0;32m   3620\u001b[0m \u001b[39mtry\u001b[39;00m:\n\u001b[1;32m-> 3621\u001b[0m     \u001b[39mreturn\u001b[39;00m \u001b[39mself\u001b[39;49m\u001b[39m.\u001b[39;49m_engine\u001b[39m.\u001b[39;49mget_loc(casted_key)\n\u001b[0;32m   3622\u001b[0m \u001b[39mexcept\u001b[39;00m \u001b[39mKeyError\u001b[39;00m \u001b[39mas\u001b[39;00m err:\n",
      "File \u001b[1;32mc:\\Users\\antoi\\AppData\\Local\\Programs\\Python\\Python310\\lib\\site-packages\\pandas\\_libs\\index.pyx:136\u001b[0m, in \u001b[0;36mpandas._libs.index.IndexEngine.get_loc\u001b[1;34m()\u001b[0m\n",
      "File \u001b[1;32mc:\\Users\\antoi\\AppData\\Local\\Programs\\Python\\Python310\\lib\\site-packages\\pandas\\_libs\\index.pyx:163\u001b[0m, in \u001b[0;36mpandas._libs.index.IndexEngine.get_loc\u001b[1;34m()\u001b[0m\n",
      "File \u001b[1;32mpandas\\_libs\\hashtable_class_helper.pxi:5198\u001b[0m, in \u001b[0;36mpandas._libs.hashtable.PyObjectHashTable.get_item\u001b[1;34m()\u001b[0m\n",
      "File \u001b[1;32mpandas\\_libs\\hashtable_class_helper.pxi:5206\u001b[0m, in \u001b[0;36mpandas._libs.hashtable.PyObjectHashTable.get_item\u001b[1;34m()\u001b[0m\n",
      "\u001b[1;31mKeyError\u001b[0m: 'Min_Kompressionsrate'",
      "\nThe above exception was the direct cause of the following exception:\n",
      "\u001b[1;31mKeyError\u001b[0m                                  Traceback (most recent call last)",
      "\u001b[1;32mc:\\Users\\antoi\\Desktop\\Projektrealisierung-2\\notebooks für das Trainieren der Klassifikation und Zusammenfassung\\Zusammenfassung\\Ergebnisauswertung.ipynb Cell 11\u001b[0m in \u001b[0;36m<cell line: 2>\u001b[1;34m()\u001b[0m\n\u001b[0;32m      <a href='vscode-notebook-cell:/c%3A/Users/antoi/Desktop/Projektrealisierung-2/notebooks%20f%C3%BCr%20das%20Trainieren%20der%20Klassifikation%20und%20Zusammenfassung/Zusammenfassung/Ergebnisauswertung.ipynb#W6sZmlsZQ%3D%3D?line=0'>1</a>\u001b[0m \u001b[39m# Textlänge in Kategorien einteilen: lang und kurz\u001b[39;00m\n\u001b[1;32m----> <a href='vscode-notebook-cell:/c%3A/Users/antoi/Desktop/Projektrealisierung-2/notebooks%20f%C3%BCr%20das%20Trainieren%20der%20Klassifikation%20und%20Zusammenfassung/Zusammenfassung/Ergebnisauswertung.ipynb#W6sZmlsZQ%3D%3D?line=1'>2</a>\u001b[0m df[\u001b[39m'\u001b[39m\u001b[39mTextlänge_Kategorie\u001b[39m\u001b[39m'\u001b[39m] \u001b[39m=\u001b[39m pd\u001b[39m.\u001b[39mcut(df[\u001b[39m'\u001b[39;49m\u001b[39mMin_Kompressionsrate\u001b[39;49m\u001b[39m'\u001b[39;49m], bins\u001b[39m=\u001b[39m[\u001b[39m0\u001b[39m, \u001b[39m50\u001b[39m, \u001b[39mfloat\u001b[39m(\u001b[39m'\u001b[39m\u001b[39minf\u001b[39m\u001b[39m'\u001b[39m)], labels\u001b[39m=\u001b[39m[\u001b[39m'\u001b[39m\u001b[39mKurz\u001b[39m\u001b[39m'\u001b[39m, \u001b[39m'\u001b[39m\u001b[39mLang\u001b[39m\u001b[39m'\u001b[39m])\n\u001b[0;32m      <a href='vscode-notebook-cell:/c%3A/Users/antoi/Desktop/Projektrealisierung-2/notebooks%20f%C3%BCr%20das%20Trainieren%20der%20Klassifikation%20und%20Zusammenfassung/Zusammenfassung/Ergebnisauswertung.ipynb#W6sZmlsZQ%3D%3D?line=3'>4</a>\u001b[0m \u001b[39m# Verteilung der Bereich-Spalte nach Textlänge-Kategorie\u001b[39;00m\n\u001b[0;32m      <a href='vscode-notebook-cell:/c%3A/Users/antoi/Desktop/Projektrealisierung-2/notebooks%20f%C3%BCr%20das%20Trainieren%20der%20Klassifikation%20und%20Zusammenfassung/Zusammenfassung/Ergebnisauswertung.ipynb#W6sZmlsZQ%3D%3D?line=4'>5</a>\u001b[0m verteilung \u001b[39m=\u001b[39m df\u001b[39m.\u001b[39mgroupby([\u001b[39m'\u001b[39m\u001b[39mTextlänge_Kategorie\u001b[39m\u001b[39m'\u001b[39m, \u001b[39m'\u001b[39m\u001b[39mBereich\u001b[39m\u001b[39m'\u001b[39m])[\u001b[39m'\u001b[39m\u001b[39mBereich\u001b[39m\u001b[39m'\u001b[39m]\u001b[39m.\u001b[39mcount()\u001b[39m.\u001b[39munstack()\n",
      "File \u001b[1;32mc:\\Users\\antoi\\AppData\\Local\\Programs\\Python\\Python310\\lib\\site-packages\\pandas\\core\\frame.py:3505\u001b[0m, in \u001b[0;36mDataFrame.__getitem__\u001b[1;34m(self, key)\u001b[0m\n\u001b[0;32m   3503\u001b[0m \u001b[39mif\u001b[39;00m \u001b[39mself\u001b[39m\u001b[39m.\u001b[39mcolumns\u001b[39m.\u001b[39mnlevels \u001b[39m>\u001b[39m \u001b[39m1\u001b[39m:\n\u001b[0;32m   3504\u001b[0m     \u001b[39mreturn\u001b[39;00m \u001b[39mself\u001b[39m\u001b[39m.\u001b[39m_getitem_multilevel(key)\n\u001b[1;32m-> 3505\u001b[0m indexer \u001b[39m=\u001b[39m \u001b[39mself\u001b[39;49m\u001b[39m.\u001b[39;49mcolumns\u001b[39m.\u001b[39;49mget_loc(key)\n\u001b[0;32m   3506\u001b[0m \u001b[39mif\u001b[39;00m is_integer(indexer):\n\u001b[0;32m   3507\u001b[0m     indexer \u001b[39m=\u001b[39m [indexer]\n",
      "File \u001b[1;32mc:\\Users\\antoi\\AppData\\Local\\Programs\\Python\\Python310\\lib\\site-packages\\pandas\\core\\indexes\\base.py:3623\u001b[0m, in \u001b[0;36mIndex.get_loc\u001b[1;34m(self, key, method, tolerance)\u001b[0m\n\u001b[0;32m   3621\u001b[0m     \u001b[39mreturn\u001b[39;00m \u001b[39mself\u001b[39m\u001b[39m.\u001b[39m_engine\u001b[39m.\u001b[39mget_loc(casted_key)\n\u001b[0;32m   3622\u001b[0m \u001b[39mexcept\u001b[39;00m \u001b[39mKeyError\u001b[39;00m \u001b[39mas\u001b[39;00m err:\n\u001b[1;32m-> 3623\u001b[0m     \u001b[39mraise\u001b[39;00m \u001b[39mKeyError\u001b[39;00m(key) \u001b[39mfrom\u001b[39;00m \u001b[39merr\u001b[39;00m\n\u001b[0;32m   3624\u001b[0m \u001b[39mexcept\u001b[39;00m \u001b[39mTypeError\u001b[39;00m:\n\u001b[0;32m   3625\u001b[0m     \u001b[39m# If we have a listlike key, _check_indexing_error will raise\u001b[39;00m\n\u001b[0;32m   3626\u001b[0m     \u001b[39m#  InvalidIndexError. Otherwise we fall through and re-raise\u001b[39;00m\n\u001b[0;32m   3627\u001b[0m     \u001b[39m#  the TypeError.\u001b[39;00m\n\u001b[0;32m   3628\u001b[0m     \u001b[39mself\u001b[39m\u001b[39m.\u001b[39m_check_indexing_error(key)\n",
      "\u001b[1;31mKeyError\u001b[0m: 'Min_Kompressionsrate'"
     ]
    }
   ],
   "source": [
    "# Textlänge in Kategorien einteilen: lang und kurz\n",
    "df['Textlänge_Kategorie'] = pd.cut(df['Min_Kompressionsrate'], bins=[0, 50, float('inf')], labels=['Kurz', 'Lang'])\n",
    "\n",
    "# Verteilung der Bereich-Spalte nach Textlänge-Kategorie\n",
    "verteilung = df.groupby(['Textlänge_Kategorie', 'Bereich'])['Bereich'].count().unstack()\n",
    "\n",
    "# Anteilswerte berechnen\n",
    "verteilung_prozent = verteilung.apply(lambda x: x / x.sum() * 100, axis=1)\n",
    "\n",
    "# Plot: Verteilung der Bereich-Spalte nach Textlänge-Kategorie\n",
    "verteilung_prozent.plot(kind='bar', stacked=True)\n",
    "plt.xlabel('Textlänge-Kategorie')\n",
    "plt.ylabel('Anteil in %')\n",
    "plt.title('Anteilige Verteilung der Bereich-Spalte nach Textlänge-Kategorie')\n",
    "plt.legend(title='Bereich')\n",
    "plt.show()"
   ]
  },
  {
   "cell_type": "code",
   "execution_count": 139,
   "metadata": {},
   "outputs": [],
   "source": [
    "df[\"Differenz\"] = abs(df[\"ent_com_rate\"]*100 - (df[\"desired_compression_rate\"]*100))"
   ]
  },
  {
   "cell_type": "code",
   "execution_count": 140,
   "metadata": {},
   "outputs": [
    {
     "name": "stdout",
     "output_type": "stream",
     "text": [
      "Mittelwert: 8.785667227378928\n",
      "Standardabweichung: 7.334324271647828\n"
     ]
    }
   ],
   "source": [
    "\n",
    "mittelwert = df['Differenz'].mean()\n",
    "standardabweichung = df['Differenz'].std()\n",
    "\n",
    "# Ausgabe der Ergebnisse\n",
    "print(\"Mittelwert:\", mittelwert)\n",
    "print(\"Standardabweichung:\", standardabweichung)\n"
   ]
  },
  {
   "cell_type": "code",
   "execution_count": 111,
   "metadata": {},
   "outputs": [
    {
     "data": {
      "text/plain": [
       "404"
      ]
     },
     "execution_count": 111,
     "metadata": {},
     "output_type": "execute_result"
    }
   ],
   "source": [
    "import numpy as np\n",
    "np.argmax(df[\"Differenz\"])"
   ]
  },
  {
   "cell_type": "code",
   "execution_count": 117,
   "metadata": {},
   "outputs": [
    {
     "data": {
      "text/plain": [
       "index                                                                       4\n",
       "text_rank_text              What there are in this book are many examples ...\n",
       "token_text_rank                                                           117\n",
       "Zusammenfassung             This is not a new bookperhaps thats why it is ...\n",
       "länge Zusammenfassung                                                     148\n",
       "text                        This is not a new bookperhaps thats why it is ...\n",
       "tokens_gesamt                                                             108\n",
       "desired_compression_rate                                                 0.69\n",
       "ent_com_rate                                                          1.37037\n",
       "ent_com_rate_neu                                                          NaN\n",
       "Bereich                                                                Drüber\n",
       "Textlänge                                                        (0.0, 250.0]\n",
       "Differenz                                                           68.037037\n",
       "Name: 404, dtype: object"
      ]
     },
     "execution_count": 117,
     "metadata": {},
     "output_type": "execute_result"
    }
   ],
   "source": [
    "df.loc[404]"
   ]
  },
  {
   "cell_type": "code",
   "execution_count": 109,
   "metadata": {},
   "outputs": [
    {
     "data": {
      "image/png": "[encoded data removed]",
      "text/plain": [
       "<Figure size 432x288 with 1 Axes>"
      ]
     },
     "metadata": {
      "needs_background": "light"
     },
     "output_type": "display_data"
    }
   ],
   "source": [
    "# Annahme: df ist der DataFrame, für den du den Boxplot der Spalte 'Differenz' erstellen möchtest\n",
    "\n",
    "# Boxplot erstellen\n",
    "plt.boxplot(df['Differenz'])\n",
    "\n",
    "# Achsentitel setzen\n",
    "plt.xlabel('Spalte Differenz')\n",
    "plt.ylabel('Werte')\n",
    "\n",
    "# Titel setzen\n",
    "plt.title('Boxplot der Spalte Differenz')\n",
    "\n",
    "# Boxplot anzeigen\n",
    "plt.show()\n"
   ]
  },
  {
   "cell_type": "code",
   "execution_count": 41,
   "metadata": {},
   "outputs": [],
   "source": [
    "import math\n",
    "df[\"Test\"] = (df[\"tokens_gesamt\"]*df[\"desired_compression_rate\"])"
   ]
  },
  {
   "cell_type": "code",
   "execution_count": 78,
   "metadata": {},
   "outputs": [
    {
     "data": {
      "text/html": [
       "<div>\n",
       "<style scoped>\n",
       "    .dataframe tbody tr th:only-of-type {\n",
       "        vertical-align: middle;\n",
       "    }\n",
       "\n",
       "    .dataframe tbody tr th {\n",
       "        vertical-align: top;\n",
       "    }\n",
       "\n",
       "    .dataframe thead th {\n",
       "        text-align: right;\n",
       "    }\n",
       "</style>\n",
       "<table border=\"1\" class=\"dataframe\">\n",
       "  <thead>\n",
       "    <tr style=\"text-align: right;\">\n",
       "      <th></th>\n",
       "      <th>Unnamed: 0</th>\n",
       "      <th>text_rank_text</th>\n",
       "      <th>token_text_rank</th>\n",
       "      <th>Zusammenfassung</th>\n",
       "      <th>länge Zusammenfassung</th>\n",
       "      <th>text</th>\n",
       "      <th>tokens_gesamt</th>\n",
       "      <th>desired_compression_rate</th>\n",
       "      <th>ent_com_rate</th>\n",
       "      <th>ent_com_rate_neu</th>\n",
       "      <th>Bereich</th>\n",
       "      <th>Differenz</th>\n",
       "      <th>Test</th>\n",
       "    </tr>\n",
       "  </thead>\n",
       "  <tbody>\n",
       "    <tr>\n",
       "      <th>0</th>\n",
       "      <td>0</td>\n",
       "      <td>RJD Chief Lalu Prasad Yadav on Wednesday said ...</td>\n",
       "      <td>31</td>\n",
       "      <td>RJD Chief Lalu Prasad Yadav on Wednesday said ...</td>\n",
       "      <td>31</td>\n",
       "      <td>RJD Chief Lalu Prasad Yadav on Wednesday said ...</td>\n",
       "      <td>58</td>\n",
       "      <td>0.54</td>\n",
       "      <td>0.534483</td>\n",
       "      <td>0.534483</td>\n",
       "      <td>Zwischen</td>\n",
       "      <td>0.551724</td>\n",
       "      <td>31.32</td>\n",
       "    </tr>\n",
       "    <tr>\n",
       "      <th>1</th>\n",
       "      <td>1</td>\n",
       "      <td>The Indira Gandhi International Airport has cl...</td>\n",
       "      <td>30</td>\n",
       "      <td>The Indira Gandhi International Airport has cl...</td>\n",
       "      <td>30</td>\n",
       "      <td>The Indira Gandhi International Airport has cl...</td>\n",
       "      <td>59</td>\n",
       "      <td>0.46</td>\n",
       "      <td>0.508475</td>\n",
       "      <td>0.508475</td>\n",
       "      <td>Zwischen</td>\n",
       "      <td>4.847458</td>\n",
       "      <td>27.14</td>\n",
       "    </tr>\n",
       "    <tr>\n",
       "      <th>2</th>\n",
       "      <td>2</td>\n",
       "      <td>State run buses, school buses, and vehicles us...</td>\n",
       "      <td>34</td>\n",
       "      <td>State run buses, school buses, and vehicles us...</td>\n",
       "      <td>34</td>\n",
       "      <td>Mumbai Traffic Police have temporarily banned ...</td>\n",
       "      <td>63</td>\n",
       "      <td>0.55</td>\n",
       "      <td>0.539683</td>\n",
       "      <td>0.539683</td>\n",
       "      <td>Zwischen</td>\n",
       "      <td>1.031746</td>\n",
       "      <td>34.65</td>\n",
       "    </tr>\n",
       "    <tr>\n",
       "      <th>3</th>\n",
       "      <td>3</td>\n",
       "      <td>Titanic actors Leonardo DiCaprio and Kate Wins...</td>\n",
       "      <td>21</td>\n",
       "      <td>Titanic actors Leonardo DiCaprio and Kate Wins...</td>\n",
       "      <td>21</td>\n",
       "      <td>Titanic actors Leonardo DiCaprio and Kate Wins...</td>\n",
       "      <td>61</td>\n",
       "      <td>0.32</td>\n",
       "      <td>0.344262</td>\n",
       "      <td>0.344262</td>\n",
       "      <td>Zwischen</td>\n",
       "      <td>2.426230</td>\n",
       "      <td>19.52</td>\n",
       "    </tr>\n",
       "    <tr>\n",
       "      <th>4</th>\n",
       "      <td>4</td>\n",
       "      <td>A member of Sikh communitys Damdami Taksal sem...</td>\n",
       "      <td>33</td>\n",
       "      <td>A member of Sikh communitys Damdami Taksal sem...</td>\n",
       "      <td>35</td>\n",
       "      <td>A member of Sikh communitys Damdami Taksal sem...</td>\n",
       "      <td>59</td>\n",
       "      <td>0.69</td>\n",
       "      <td>0.593220</td>\n",
       "      <td>0.559322</td>\n",
       "      <td>Drunter</td>\n",
       "      <td>9.677966</td>\n",
       "      <td>40.71</td>\n",
       "    </tr>\n",
       "    <tr>\n",
       "      <th>...</th>\n",
       "      <td>...</td>\n",
       "      <td>...</td>\n",
       "      <td>...</td>\n",
       "      <td>...</td>\n",
       "      <td>...</td>\n",
       "      <td>...</td>\n",
       "      <td>...</td>\n",
       "      <td>...</td>\n",
       "      <td>...</td>\n",
       "      <td>...</td>\n",
       "      <td>...</td>\n",
       "      <td>...</td>\n",
       "      <td>...</td>\n",
       "    </tr>\n",
       "    <tr>\n",
       "      <th>195</th>\n",
       "      <td>195</td>\n",
       "      <td>Nine people were killed and 22 injured on Satu...</td>\n",
       "      <td>38</td>\n",
       "      <td>Nine people were killed and 22 injured on Satu...</td>\n",
       "      <td>38</td>\n",
       "      <td>Nine people were killed and 22 injured on Satu...</td>\n",
       "      <td>58</td>\n",
       "      <td>0.63</td>\n",
       "      <td>0.655172</td>\n",
       "      <td>0.655172</td>\n",
       "      <td>Zwischen</td>\n",
       "      <td>2.517241</td>\n",
       "      <td>36.54</td>\n",
       "    </tr>\n",
       "    <tr>\n",
       "      <th>196</th>\n",
       "      <td>196</td>\n",
       "      <td>External Affairs Minister Sushma Swaraj had ea...</td>\n",
       "      <td>12</td>\n",
       "      <td>External Affairs Minister Sushma Swaraj had ea...</td>\n",
       "      <td>12</td>\n",
       "      <td>The Union Minister of State for Social Justice...</td>\n",
       "      <td>55</td>\n",
       "      <td>0.24</td>\n",
       "      <td>0.218182</td>\n",
       "      <td>0.218182</td>\n",
       "      <td>Zwischen</td>\n",
       "      <td>2.181818</td>\n",
       "      <td>13.20</td>\n",
       "    </tr>\n",
       "    <tr>\n",
       "      <th>197</th>\n",
       "      <td>197</td>\n",
       "      <td>India womens team captain Mithali Raj has beco...</td>\n",
       "      <td>42</td>\n",
       "      <td>India womens team captain Mithali Raj has beco...</td>\n",
       "      <td>42</td>\n",
       "      <td>India womens team captain Mithali Raj has beco...</td>\n",
       "      <td>59</td>\n",
       "      <td>0.71</td>\n",
       "      <td>0.711864</td>\n",
       "      <td>0.711864</td>\n",
       "      <td>Zwischen</td>\n",
       "      <td>0.186441</td>\n",
       "      <td>41.89</td>\n",
       "    </tr>\n",
       "    <tr>\n",
       "      <th>198</th>\n",
       "      <td>198</td>\n",
       "      <td>A class 10 student from Bihar, who got 0 in Ma...</td>\n",
       "      <td>49</td>\n",
       "      <td>A class 10 student from Bihar, who got 0 in Ma...</td>\n",
       "      <td>49</td>\n",
       "      <td>A class 10 student from Bihar, who got 0 in Ma...</td>\n",
       "      <td>57</td>\n",
       "      <td>0.70</td>\n",
       "      <td>0.859649</td>\n",
       "      <td>0.859649</td>\n",
       "      <td>Drüber</td>\n",
       "      <td>15.964912</td>\n",
       "      <td>39.90</td>\n",
       "    </tr>\n",
       "    <tr>\n",
       "      <th>199</th>\n",
       "      <td>199</td>\n",
       "      <td>\"I had auditioned for Roadies thrice in the pa...</td>\n",
       "      <td>15</td>\n",
       "      <td>\"I had auditioned for Roadies thrice in the pa...</td>\n",
       "      <td>15</td>\n",
       "      <td>Haryana based Shweta Mehta, from Neha Dhupias ...</td>\n",
       "      <td>62</td>\n",
       "      <td>0.21</td>\n",
       "      <td>0.241935</td>\n",
       "      <td>0.241935</td>\n",
       "      <td>Zwischen</td>\n",
       "      <td>3.193548</td>\n",
       "      <td>13.02</td>\n",
       "    </tr>\n",
       "  </tbody>\n",
       "</table>\n",
       "<p>200 rows × 13 columns</p>\n",
       "</div>"
      ],
      "text/plain": [
       "     Unnamed: 0                                     text_rank_text  \\\n",
       "0             0  RJD Chief Lalu Prasad Yadav on Wednesday said ...   \n",
       "1             1  The Indira Gandhi International Airport has cl...   \n",
       "2             2  State run buses, school buses, and vehicles us...   \n",
       "3             3  Titanic actors Leonardo DiCaprio and Kate Wins...   \n",
       "4             4  A member of Sikh communitys Damdami Taksal sem...   \n",
       "..          ...                                                ...   \n",
       "195         195  Nine people were killed and 22 injured on Satu...   \n",
       "196         196  External Affairs Minister Sushma Swaraj had ea...   \n",
       "197         197  India womens team captain Mithali Raj has beco...   \n",
       "198         198  A class 10 student from Bihar, who got 0 in Ma...   \n",
       "199         199  \"I had auditioned for Roadies thrice in the pa...   \n",
       "\n",
       "     token_text_rank                                    Zusammenfassung  \\\n",
       "0                 31  RJD Chief Lalu Prasad Yadav on Wednesday said ...   \n",
       "1                 30  The Indira Gandhi International Airport has cl...   \n",
       "2                 34  State run buses, school buses, and vehicles us...   \n",
       "3                 21  Titanic actors Leonardo DiCaprio and Kate Wins...   \n",
       "4                 33  A member of Sikh communitys Damdami Taksal sem...   \n",
       "..               ...                                                ...   \n",
       "195               38  Nine people were killed and 22 injured on Satu...   \n",
       "196               12  External Affairs Minister Sushma Swaraj had ea...   \n",
       "197               42  India womens team captain Mithali Raj has beco...   \n",
       "198               49  A class 10 student from Bihar, who got 0 in Ma...   \n",
       "199               15  \"I had auditioned for Roadies thrice in the pa...   \n",
       "\n",
       "     länge Zusammenfassung                                               text  \\\n",
       "0                       31  RJD Chief Lalu Prasad Yadav on Wednesday said ...   \n",
       "1                       30  The Indira Gandhi International Airport has cl...   \n",
       "2                       34  Mumbai Traffic Police have temporarily banned ...   \n",
       "3                       21  Titanic actors Leonardo DiCaprio and Kate Wins...   \n",
       "4                       35  A member of Sikh communitys Damdami Taksal sem...   \n",
       "..                     ...                                                ...   \n",
       "195                     38  Nine people were killed and 22 injured on Satu...   \n",
       "196                     12  The Union Minister of State for Social Justice...   \n",
       "197                     42  India womens team captain Mithali Raj has beco...   \n",
       "198                     49  A class 10 student from Bihar, who got 0 in Ma...   \n",
       "199                     15  Haryana based Shweta Mehta, from Neha Dhupias ...   \n",
       "\n",
       "     tokens_gesamt  desired_compression_rate  ent_com_rate  ent_com_rate_neu  \\\n",
       "0               58                      0.54      0.534483          0.534483   \n",
       "1               59                      0.46      0.508475          0.508475   \n",
       "2               63                      0.55      0.539683          0.539683   \n",
       "3               61                      0.32      0.344262          0.344262   \n",
       "4               59                      0.69      0.593220          0.559322   \n",
       "..             ...                       ...           ...               ...   \n",
       "195             58                      0.63      0.655172          0.655172   \n",
       "196             55                      0.24      0.218182          0.218182   \n",
       "197             59                      0.71      0.711864          0.711864   \n",
       "198             57                      0.70      0.859649          0.859649   \n",
       "199             62                      0.21      0.241935          0.241935   \n",
       "\n",
       "      Bereich  Differenz   Test  \n",
       "0    Zwischen   0.551724  31.32  \n",
       "1    Zwischen   4.847458  27.14  \n",
       "2    Zwischen   1.031746  34.65  \n",
       "3    Zwischen   2.426230  19.52  \n",
       "4     Drunter   9.677966  40.71  \n",
       "..        ...        ...    ...  \n",
       "195  Zwischen   2.517241  36.54  \n",
       "196  Zwischen   2.181818  13.20  \n",
       "197  Zwischen   0.186441  41.89  \n",
       "198    Drüber  15.964912  39.90  \n",
       "199  Zwischen   3.193548  13.02  \n",
       "\n",
       "[200 rows x 13 columns]"
      ]
     },
     "execution_count": 78,
     "metadata": {},
     "output_type": "execute_result"
    }
   ],
   "source": [
    "df"
   ]
  }
 ],
 "metadata": {
  "kernelspec": {
   "display_name": "Python 3.9.15 64-bit ('anaconda3')",
   "language": "python",
   "name": "python3"
  },
  "language_info": {
   "codemirror_mode": {
    "name": "ipython",
    "version": 3
   },
   "file_extension": ".py",
   "mimetype": "text/x-python",
   "name": "python",
   "nbconvert_exporter": "python",
   "pygments_lexer": "ipython3",
   "version": "3.10.0"
  },
  "orig_nbformat": 4,
  "vscode": {
   "interpreter": {
    "hash": "40d3a090f54c6569ab1632332b64b2c03c39dcf918b08424e98f38b5ae0af88f"
   }
  }
 },
 "nbformat": 4,
 "nbformat_minor": 2
}
