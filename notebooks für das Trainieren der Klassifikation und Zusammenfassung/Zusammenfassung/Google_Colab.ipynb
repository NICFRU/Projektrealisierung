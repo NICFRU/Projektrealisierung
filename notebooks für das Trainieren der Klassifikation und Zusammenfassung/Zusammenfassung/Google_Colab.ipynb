{
 "cells": [
  {
   "cell_type": "code",
   "execution_count": null,
   "metadata": {},
   "outputs": [],
   "source": [
    "!python -m spacy download en\n",
    "!pip install transformers\n",
    "!pip install torch\n",
    "!pip install tensorflow\n",
    "!python -m spacy download en_core_web_lg"
   ]
  },
  {
   "cell_type": "code",
   "execution_count": 1,
   "metadata": {},
   "outputs": [],
   "source": [
    "import numpy as np\n",
    "import re\n",
    "import networkx as nx\n",
    "import spacy\n",
    "from summa import keywords\n",
    "from summa.summarizer import summarize\n",
    "\n",
    "# Laden des Spacy-Modells\n",
    "import evaluate\n",
    "import nltk\n",
    "from nltk.tokenize import sent_tokenize\n",
    "from transformers import AutoModelForSeq2SeqLM, PegasusForConditionalGeneration, PegasusTokenizer, AutoTokenizer\n",
    "import pandas as pd\n",
    "from collections import Counter\n",
    "import matplotlib.pyplot as plt\n",
    "import math\n",
    "from transformers import PreTrainedTokenizerFast\n",
    "from tqdm import tqdm\n",
    "import random\n",
    "from transformers import pipeline\n",
    "import torch"
   ]
  },
  {
   "cell_type": "code",
   "execution_count": 6,
   "metadata": {},
   "outputs": [
    {
     "name": "stdout",
     "output_type": "stream",
     "text": [
      "<class 'dict'>\n",
      "True\n"
     ]
    }
   ],
   "source": [
    "\n",
    "squares = {1: 1, 2: 4, 3: 9}\n",
    "print(type(squares))\n",
    "if type(squares) is dict:\n",
    "    print(True)"
   ]
  },
  {
   "cell_type": "code",
   "execution_count": 2,
   "metadata": {},
   "outputs": [
    {
     "name": "stdout",
     "output_type": "stream",
     "text": [
      "the past few years witnessed a growing interest among particle physicists and cosmologists toward models with extra space - like dimensions. this interest was initiated by string theorists, @xcite, who exploited a moderately large size of an external 11th dimension in order to reconcile the planck and string / gut scales. taking this idea further, it was shown that large extra dimensions allow for a reduction of the fundamental higher - dimensional gravitational scale down to the tev - scale, @xcite. an essential ingredient of such a scenario is the confinement of the standard model fields on field theoretical defects, so that only gravity can access the large extra dimensions. these models are argued to make contact with an intricate phenomenology with a variety of consequences for collider searches, low - energy precision measurements, rare decays, and astroparticle physics and cosmology. however, the mechanisms responsible for the stabilization of extra dimensions remain unknown. the fact that the size of extra dimensions is large as compared to the fundamental scale also remains unexplained. an alternative solution to the hierarchy problem was proposed in ref. this higher dimensional scenario is based on a non - factorizable geometry which accounts for the ratio between the planck scale and weak scales without the need to introduce a large hierarchy between fundamental planck scale and the compactification scale.\n"
     ]
    }
   ],
   "source": [
    "from deepmultilingualpunctuation import PunctuationModel\n",
    "model = PunctuationModel()\n",
    "text=\"\"\"the past few years witnessed a growing interest among particle physicists and cosmologists toward models with extra space - like dimensions .this interest was initiated by string theorists @xcite , who exploited a moderately large size of an external 11th dimension in order to reconcile the planck and string / gut scales .taking this idea further , it was shown that large extra dimensions allow for a reduction of the fundamental higher - dimensional gravitational scale down to the tev - scale @xcite .an essential ingredient of such a scenario is the confinement of the standard model fields on field theoretical defects , so that only gravity can access the large extra dimensions .these models are argued to make contact with an intricate phenomenology , with a variety of consequences for collider searches , low - energy precision measurements , rare decays and astroparticle physics and cosmology .however , the mechanisms , responsible for the stabilization of extra dimensions , remain unknown .the fact that the size of extra dimensions is large as compared to the fundamental scale also remains unexplained .an alternative solution to the hierarchy problem was proposed in ref .this higher dimensional scenario is based on a non - factorizable geometry which accounts for the ratio between the planck scale and weak scales without the need to introduce a large hierarchy between fundamental planck scale and the compactification scale .\"\"\"\n",
    "result = model.restore_punctuation(text)\n",
    "print(result)"
   ]
  },
  {
   "cell_type": "code",
   "execution_count": 60,
   "metadata": {},
   "outputs": [
    {
     "data": {
      "text/html": [
       "<div>\n",
       "<style scoped>\n",
       "    .dataframe tbody tr th:only-of-type {\n",
       "        vertical-align: middle;\n",
       "    }\n",
       "\n",
       "    .dataframe tbody tr th {\n",
       "        vertical-align: top;\n",
       "    }\n",
       "\n",
       "    .dataframe thead th {\n",
       "        text-align: right;\n",
       "    }\n",
       "</style>\n",
       "<table border=\"1\" class=\"dataframe\">\n",
       "  <thead>\n",
       "    <tr style=\"text-align: right;\">\n",
       "      <th></th>\n",
       "      <th>classification</th>\n",
       "      <th>text</th>\n",
       "      <th>sentences</th>\n",
       "      <th>num_sentences</th>\n",
       "      <th>words</th>\n",
       "      <th>num_words</th>\n",
       "      <th>lemmas</th>\n",
       "      <th>stops</th>\n",
       "      <th>num_stops</th>\n",
       "    </tr>\n",
       "  </thead>\n",
       "  <tbody>\n",
       "    <tr>\n",
       "      <th>0</th>\n",
       "      <td>Scientific</td>\n",
       "      <td>the interest in anchoring phenomena and phenom...</td>\n",
       "      <td>['the interest in anchoring phenomena and phen...</td>\n",
       "      <td>222</td>\n",
       "      <td>['interest', 'anchoring', 'phenomena', 'phenom...</td>\n",
       "      <td>3533</td>\n",
       "      <td>['interest', 'anchor', 'phenomenon', 'phenomen...</td>\n",
       "      <td>[the, in, and, in, has, been, by, their, in, a...</td>\n",
       "      <td>2426</td>\n",
       "    </tr>\n",
       "    <tr>\n",
       "      <th>1</th>\n",
       "      <td>Scientific</td>\n",
       "      <td>galaxy clusters , as the largest peaks in the ...</td>\n",
       "      <td>['galaxy clusters , as the largest peaks in th...</td>\n",
       "      <td>372</td>\n",
       "      <td>['galaxy', 'clusters', 'largest', 'peaks', 'co...</td>\n",
       "      <td>8982</td>\n",
       "      <td>['galaxy', 'cluster', 'large', 'peak', 'cosmic...</td>\n",
       "      <td>[as, the, in, the, an, in, and, in, for, and, ...</td>\n",
       "      <td>5768</td>\n",
       "    </tr>\n",
       "    <tr>\n",
       "      <th>2</th>\n",
       "      <td>Scientific</td>\n",
       "      <td>quantum correlations between components of a s...</td>\n",
       "      <td>['quantum correlations between components of a...</td>\n",
       "      <td>138</td>\n",
       "      <td>['quantum', 'correlations', 'components', 'sys...</td>\n",
       "      <td>2451</td>\n",
       "      <td>['quantum', 'correlation', 'component', 'syste...</td>\n",
       "      <td>[between, of, a, or, are, on, the, of, whole, ...</td>\n",
       "      <td>1780</td>\n",
       "    </tr>\n",
       "    <tr>\n",
       "      <th>3</th>\n",
       "      <td>Scientific</td>\n",
       "      <td>methanol masers are often found in star - form...</td>\n",
       "      <td>['methanol masers are often found in star - fo...</td>\n",
       "      <td>141</td>\n",
       "      <td>['methanol', 'masers', 'found', 'star', 'formi...</td>\n",
       "      <td>3232</td>\n",
       "      <td>['methanol', 'maser', 'find', 'star', 'form', ...</td>\n",
       "      <td>[are, often, in, are, two, of, to, i, most, th...</td>\n",
       "      <td>1940</td>\n",
       "    </tr>\n",
       "    <tr>\n",
       "      <th>4</th>\n",
       "      <td>Scientific</td>\n",
       "      <td>interdisciplinary research has recently gained...</td>\n",
       "      <td>['interdisciplinary research has recently gain...</td>\n",
       "      <td>88</td>\n",
       "      <td>['interdisciplinary', 'research', 'recently', ...</td>\n",
       "      <td>2695</td>\n",
       "      <td>['interdisciplinary', 'research', 'recently', ...</td>\n",
       "      <td>[has, a, in, the, of, to, the, in, was, to, tw...</td>\n",
       "      <td>1997</td>\n",
       "    </tr>\n",
       "  </tbody>\n",
       "</table>\n",
       "</div>"
      ],
      "text/plain": [
       "  classification                                               text  \\\n",
       "0     Scientific  the interest in anchoring phenomena and phenom...   \n",
       "1     Scientific  galaxy clusters , as the largest peaks in the ...   \n",
       "2     Scientific  quantum correlations between components of a s...   \n",
       "3     Scientific  methanol masers are often found in star - form...   \n",
       "4     Scientific  interdisciplinary research has recently gained...   \n",
       "\n",
       "                                           sentences  num_sentences  \\\n",
       "0  ['the interest in anchoring phenomena and phen...            222   \n",
       "1  ['galaxy clusters , as the largest peaks in th...            372   \n",
       "2  ['quantum correlations between components of a...            138   \n",
       "3  ['methanol masers are often found in star - fo...            141   \n",
       "4  ['interdisciplinary research has recently gain...             88   \n",
       "\n",
       "                                               words  num_words  \\\n",
       "0  ['interest', 'anchoring', 'phenomena', 'phenom...       3533   \n",
       "1  ['galaxy', 'clusters', 'largest', 'peaks', 'co...       8982   \n",
       "2  ['quantum', 'correlations', 'components', 'sys...       2451   \n",
       "3  ['methanol', 'masers', 'found', 'star', 'formi...       3232   \n",
       "4  ['interdisciplinary', 'research', 'recently', ...       2695   \n",
       "\n",
       "                                              lemmas  \\\n",
       "0  ['interest', 'anchor', 'phenomenon', 'phenomen...   \n",
       "1  ['galaxy', 'cluster', 'large', 'peak', 'cosmic...   \n",
       "2  ['quantum', 'correlation', 'component', 'syste...   \n",
       "3  ['methanol', 'maser', 'find', 'star', 'form', ...   \n",
       "4  ['interdisciplinary', 'research', 'recently', ...   \n",
       "\n",
       "                                               stops  num_stops  \n",
       "0  [the, in, and, in, has, been, by, their, in, a...       2426  \n",
       "1  [as, the, in, the, an, in, and, in, for, and, ...       5768  \n",
       "2  [between, of, a, or, are, on, the, of, whole, ...       1780  \n",
       "3  [are, often, in, are, two, of, to, i, most, th...       1940  \n",
       "4  [has, a, in, the, of, to, the, in, was, to, tw...       1997  "
      ]
     },
     "execution_count": 60,
     "metadata": {},
     "output_type": "execute_result"
    }
   ],
   "source": [
    "df_train=pd.read_csv('data/data_train_with_features.csv')\n",
    "df_train = df_train.drop('Unnamed: 0', axis=1)\n",
    "df_train.head()"
   ]
  },
  {
   "cell_type": "code",
   "execution_count": 61,
   "metadata": {},
   "outputs": [
    {
     "data": {
      "text/plain": [
       "array(['Scientific', 'news', 'reviews', 'story'], dtype=object)"
      ]
     },
     "execution_count": 61,
     "metadata": {},
     "output_type": "execute_result"
    }
   ],
   "source": [
    "df_train.classification.unique()"
   ]
  },
  {
   "cell_type": "code",
   "execution_count": 303,
   "metadata": {},
   "outputs": [],
   "source": [
    "\n",
    "def reduce_repetitions(text):\n",
    "    text = re.sub(r'\\.{2,}', '.', text)\n",
    "    text = re.sub(r'\\!{2,}', '!', text)\n",
    "    text = re.sub(r'\\,{2,}', ',', text)\n",
    "    text = re.sub(r'\\;{2,}', ';', text)\n",
    "    return text\n",
    "\n",
    "\n",
    "\n",
    "\n",
    "def textrank_extractive(text, compression_rate=0.5,split='\\. '):\n",
    "    # Tokenisierung\n",
    "    nlp = spacy.load(\"en_core_web_lg\")\n",
    "    #doc = nlp(text.replace(\"\\n\\n\", \" \"))\n",
    "\n",
    "    # Split the text at each \". \" that is not followed by a single letter\n",
    "    doc = re.split(fr'(?<!\\b\\w\\w){split}', reduce_repetitions(re.sub(' +', ' ', text.replace(\"\\n\", \" \").replace('-',' ').replace('_',' ').replace(\"\\'\", \"\").replace(\"!\", \".\").replace(\"?\", \".\").replace(\";\", \"\"))))\n",
    "    sentences = [sent for sent in doc if len(sent.replace(\"-\", \" \").split()) > 2]\n",
    "\n",
    "    # Speichern der Spacy-Dokumente der Sätze für spätere Verwendung\n",
    "    sentence_docs = [nlp(sentence) for sentence in sentences]\n",
    "\n",
    "    # Extrahiere Schlüsselsätze mit TextRank\n",
    "    num_sentences = max(1, int(len(sentences) * compression_rate))\n",
    "    extracted_sentences = summarize(text, words=num_sentences, split=True)\n",
    "\n",
    "    # Erzeuge eine Matrix mit den Ähnlichkeiten zwischen den Sätzen\n",
    "    similarity_matrix = np.zeros((len(sentences), len(sentences)))\n",
    "    for i, doc_i in enumerate(sentence_docs):\n",
    "        for j, doc_j in enumerate(sentence_docs):\n",
    "            similarity = similarity_function(doc_i, doc_j)\n",
    "            similarity_matrix[i, j] = similarity\n",
    "    \n",
    "    # Konstruiere einen Graphen mit den Sätzen als Knoten und den Ähnlichkeiten als Kanten\n",
    "    graph = nx.from_numpy_array(similarity_matrix)\n",
    "\n",
    "    # Berechne den TextRank-Score für jeden Satz\n",
    "    scores = nx.pagerank_numpy(graph)\n",
    "\n",
    "    # Wähle die besten Sätze basierend auf ihren TextRank-Scores aus\n",
    "    top_sentences = sorted(scores, key=scores.get, reverse=True)[:num_sentences]\n",
    "\n",
    "    # Sortiere die ausgewählten Sätze nach ihrer Position im Text\n",
    "    top_sentences = sorted(top_sentences)\n",
    "\n",
    "    # Gebe die extrahierten Schlüsselsätze zurück\n",
    "    extracted_sentences = [sentences[index] for index in top_sentences]\n",
    "    return extracted_sentences\n",
    "\n",
    "\n",
    "def similarity_function(doc1, doc2):\n",
    "    # Berechne die Cosinus-Ähnlichkeit zwischen den beiden Dokumenten\n",
    "    similarity = doc1.similarity(doc2)\n",
    "    return similarity\n",
    "\n",
    "\n",
    "\n",
    "\n",
    "def compression_ratio(text, summary):\n",
    "    # Berechne das Verhältnis der Anzahl der Wörter in der Zusammenfassung zur Anzahl der Wörter im Ausgangstext\n",
    "    num_words_text = len(text.split())\n",
    "    num_words_summary = len(summary.split())\n",
    "    ratio = num_words_summary / num_words_text\n",
    "    return ratio\n",
    "\n",
    "\n",
    "\n",
    "def compression(text, compression_rate,split='\\. '):\n",
    "    max_iterations = 20\n",
    "    iterations = 0\n",
    "    #compression_rate -= 0.05\n",
    "    \n",
    "    extracted = textrank_extractive(text, compression_rate,split)\n",
    "    summary = '. '.join(extracted)\n",
    "    compression_rate_renwed = compression_rate\n",
    "\n",
    "\n",
    "    while compression_ratio(text, summary) < compression_rate and iterations < max_iterations:\n",
    "        iterations += 1\n",
    "        compression_rate_renwed += 0.05\n",
    "        if compression_rate_renwed > 1:\n",
    "            compression_rate_renwed = 1\n",
    "        extracted = textrank_extractive(text, compression_rate=compression_rate_renwed)\n",
    "        summary = '. '.join(extracted)\n",
    "    return summary\n",
    "\n",
    "\n"
   ]
  },
  {
   "cell_type": "code",
   "execution_count": 216,
   "metadata": {},
   "outputs": [
    {
     "name": "stderr",
     "output_type": "stream",
     "text": [
      "/var/folders/k3/z_svrdgd6sb9lc9bqdfzp_k00000gn/T/ipykernel_89249/1902150806.py:28: DeprecationWarning: networkx.pagerank_numpy is deprecated and will be removed in NetworkX 3.0, use networkx.pagerank instead.\n",
      "  scores = nx.pagerank_numpy(graph)\n",
      "/Users/niclascramer/opt/miniconda3/envs/torch/lib/python3.9/site-packages/networkx/algorithms/link_analysis/pagerank_alg.py:354: FutureWarning: google_matrix will return an np.ndarray instead of a np.matrix in\n",
      "NetworkX version 3.0.\n",
      "  M = google_matrix(\n"
     ]
    },
    {
     "data": {
      "text/plain": [
       "['The young man was noble and brave, and every body hoped that he would some day be the King of England',\n",
       " 'One summer Prince William went with his father across the sea to look after their lands in France',\n",
       " 'They were wel comed with joy by all their people there, and the young prince was so gallant and kind, that he won the love of all who saw him',\n",
       " 'The king, with his wise men and brave knights, set sail early in the day but Prince William with his younger friends waited a little while',\n",
       " 'They had had so joyous a time in France that they were in no great haste to tear them selves away',\n",
       " 'Then they went on board of the ship which was waiting to carry them home',\n",
       " 'It was a beau ti ful ship with white sails and white masts, and it had been fitted up on purpose for this voyage',\n",
       " 'The sea was smooth, the winds were fair, and no one thought of danger',\n",
       " 'On the ship, every thing had been ar ranged to make the trip a pleasant one',\n",
       " 'The sun had gone down before the white winged vessel was fairly out of the bay',\n",
       " 'The moon was at its full, and it would give light enough and before the dawn of the morrow, the narrow sea would be crossed',\n",
       " 'And so the prince, and the young people who were with him, gave themselves up to mer ri ment and feasting and joy',\n",
       " 'No one knew what to do. A small boat was quickly launched, and the prince with a few of his bravest friends leaped into it. They pushed off just as the ship was be gin ning to settle beneath the waves',\n",
       " 'They had rowed hardly ten yards from the ship, when there was a cry from among those that were left behind',\n",
       " 'One shriek of terror was heard, and then all was still save the sound of the moaning waters',\n",
       " 'Ship and boat, prince and prin cess, and all the gay com pa ny that had set sail from France, went down to the bottom together',\n",
       " 'One man clung to a floating plank, and was saved the next day',\n",
       " 'He was the only person left alive to tell the sad story',\n",
       " 'There stood proud forms before his throne, The stately and the brave But who could fill the place of one, That one beneath the wave',\n",
       " 'Before him passed the young and fair, In pleasures reckless train But seas dashed oer his sons bright hair He never smiled again',\n",
       " 'A murmur of the restless deep Was blent with every strain, A voice of winds that would not sleep He never smiled again',\n",
       " 'Hearts, in that time, closed oer the trace Of vows once fondly poured, And strangers took the kins mans place At many a joyous board Graves which true love had bathed with tears Were left to heavens bright rain Fresh hopes were born for other years He never smiled again']"
      ]
     },
     "execution_count": 216,
     "metadata": {},
     "output_type": "execute_result"
    }
   ],
   "source": [
    "text_2=str(re.sub(' +', ' ', df_training[16:17]['text'][16].replace(\"\\n\", \" \")))\n",
    "textrank_extractive(text_2)"
   ]
  },
  {
   "cell_type": "code",
   "execution_count": 378,
   "metadata": {},
   "outputs": [
    {
     "data": {
      "application/vnd.jupyter.widget-view+json": {
       "model_id": "9105a8e7605a4344afde52782489cc97",
       "version_major": 2,
       "version_minor": 0
      },
      "text/plain": [
       "Downloading:   0%|          | 0.00/558M [00:00<?, ?B/s]"
      ]
     },
     "metadata": {},
     "output_type": "display_data"
    }
   ],
   "source": [
    "#model_name='facebook/bart-large-cnn'\n",
    "model_name='NICFRU/bart-base-paraphrasing'\n",
    "tokenizer = AutoTokenizer.from_pretrained(model_name)\n",
    "summarizer = pipeline(\"text2text-generation\", model=model_name)"
   ]
  },
  {
   "cell_type": "code",
   "execution_count": 343,
   "metadata": {},
   "outputs": [],
   "source": [
    "def token_count(text):\n",
    "    tokens = text.split()\n",
    "    return len(tokens)\n",
    "\n",
    "\n",
    "def adjust_length(text):\n",
    "    length = token_count(text)\n",
    "    if length <20:\n",
    "        min_length = length + int(length * 0.05)\n",
    "        max_length = min_length +min_length\n",
    "    elif length <50:\n",
    "        min_length = length + int(length * 0.05)\n",
    "        max_length = min_length +min_length* 0.5\n",
    "    elif length <60:\n",
    "        min_length = length + int(length * 0.05)\n",
    "        max_length = min_length +min_length* 0.4\n",
    "    elif length < 80:\n",
    "        min_length = length + int(length * 0.05)\n",
    "        max_length = min_length + min_length* 0.25\n",
    "    elif length < 100:\n",
    "        min_length = length + int(length * 0.3)\n",
    "        max_length = min_length + 100\n",
    "    else:\n",
    "        min_length = math.ceil(length / 50) * 70\n",
    "        max_length = min_length + 100\n",
    "    return min_length, max_length"
   ]
  },
  {
   "cell_type": "code",
   "execution_count": 65,
   "metadata": {},
   "outputs": [
    {
     "data": {
      "text/plain": [
       "['Whale naturalist and animal communicator Mary Getten goes beyond what other research has achieved in the way of whale study and communication processes: in 1991 she studied the J-Pod, a family of whales off Washington State',\n",
       " 'Her contention that they use direct telepathic communication between themselves and can do so with humans also makes for fascinating reading.Diane C',\n",
       " 'DonovanCalifornia Bookwatch']"
      ]
     },
     "execution_count": 65,
     "metadata": {},
     "output_type": "execute_result"
    }
   ],
   "source": [
    "split='\\. '\n",
    "sentenc='Whale naturalist and animal communicator Mary Getten goes beyond what other research has achieved in the way of whale study and communication processes: in 1991 she studied the J-Pod, a family of whales off Washington State. Her contention that they use direct telepathic communication between themselves and can do so with humans also makes for fascinating reading.Diane C. DonovanCalifornia Bookwatch'\n",
    "\n",
    "sentences = re.split(fr'(?<!\\b\\w\\w){split}', sentenc)\n",
    "sentences"
   ]
  },
  {
   "cell_type": "code",
   "execution_count": 301,
   "metadata": {},
   "outputs": [],
   "source": []
  },
  {
   "cell_type": "code",
   "execution_count": 83,
   "metadata": {},
   "outputs": [],
   "source": [
    "def batch_sent(sentenc,splitt=180,split='\\. '):\n",
    "    \n",
    "    sentences = re.split(fr'(?<!\\b\\w\\w){split}', sentenc.lower())\n",
    "\n",
    "    # Erstellen Sie Batches von Sätzen, die weniger als 1024 Tokens enthalten\n",
    "    batches = []\n",
    "    batch = []\n",
    "    batch_len = 0\n",
    "    for sentence in sentences:\n",
    "        \n",
    "        sentence_len = len(tokenizer.tokenize(sentence))\n",
    "        if sentence_len + batch_len > splitt:\n",
    "            if sentence_len < splitt:  # überspringen Sie Sätze, die länger als 256 Tokens sind\n",
    "                batches.append(batch)\n",
    "                batch = [sentence]\n",
    "                batch_len = sentence_len\n",
    "            # wenn ein Satz alleine 1024 Tokens überschreitet, wird er übersprungen\n",
    "        else:\n",
    "            batch.append(sentence)\n",
    "            batch_len += sentence_len\n",
    "    batches.append(batch)\n",
    "    return batches"
   ]
  },
  {
   "cell_type": "code",
   "execution_count": 380,
   "metadata": {},
   "outputs": [
    {
     "data": {
      "text/plain": [
       "[{'generated_text': 'this will be a waste of your time.'}]"
      ]
     },
     "execution_count": 380,
     "metadata": {},
     "output_type": "execute_result"
    }
   ],
   "source": [
    "text_news='this will be a waste of your time.'\n",
    "ext_summary=summarizer(text_news, max_length=int(round(12*1,0)), min_length=int(round(8*1,0)),length_penalty=100,num_beams=2)\n",
    "ext_summary"
   ]
  },
  {
   "cell_type": "code",
   "execution_count": 374,
   "metadata": {},
   "outputs": [],
   "source": [
    "def paraphrase_of_text(df_s,text_name='text',komp_name='reduction_multiplier',split='\\. '):\n",
    "\n",
    "    df_summary_testing = pd.DataFrame(columns=['Zusammenfassung','Min_Kompressionsrate', 'Max_Kompressionsrate', 'Endgueltige_Kompressionsrate','länge Zusammenfassung','länge Ausgangstext','batch_texts','batch_output'])\n",
    "    # Teilen Sie den Text in Sätze --> für tatsächliche umsetzubng\n",
    "    soplitting=True\n",
    "    \n",
    "    for _, row in tqdm(df_s.iterrows(), total=df_s.shape[0]):\n",
    "        batch_text_list=[]\n",
    "\n",
    "        output_text_list=[]\n",
    "        text = row[text_name]\n",
    "        komp = row[komp_name]\n",
    "        text_gesamt_list=[]\n",
    "\n",
    "        for batch in tqdm(batch_sent(text,split=split), desc='Verarbeite Batches'):\n",
    "            # Zusammenfügen der Sätze in einem Batch\n",
    "            #print(batch)\n",
    "            if len(batch):\n",
    "                #print('Läuft')\n",
    "                batch_text = '. '.join(batch)\n",
    "                batch_text += \".\"\n",
    "                batch_text_list.append(batch_text)\n",
    "                min_length_test, max_length_test = adjust_length(batch_text)\n",
    "                ext_summary=summarizer(batch_text, max_length=int(round(max_length_test*komp,0)), min_length=int(round(min_length_test*komp,0)),length_penalty=100,num_beams=2)\n",
    "            # Erstellen Sie einen read_csv für die aktuellen Ergebnisse\n",
    "\n",
    "            text_gesamt_list.append(ext_summary[0]['generated_text'])\n",
    "         \n",
    "        text_gesamt = '. '.join(text_gesamt_list)\n",
    "        actual_compression_rate = len(text_gesamt.split(' '))/len(text.split(' '))*100\n",
    "      \n",
    "        df_current = pd.DataFrame({\n",
    "            'Zusammenfassung': [text_gesamt],\n",
    "            'Min_Kompressionsrate': [min_length_test],\n",
    "            'Max_Kompressionsrate': [max_length_test],\n",
    "            'Endgueltige_Kompressionsrate': [actual_compression_rate],\n",
    "            'länge Zusammenfassung': [len(text_gesamt.split(' '))],\n",
    "            'länge Ausgangstext': [len(text.split(' '))],\n",
    "            'batch_texts': [batch_text_list],\n",
    "            'batch_output': [text_gesamt_list]\n",
    "        \n",
    "        })\n",
    "       \n",
    "        # Fügen Sie die Daten zum DataFrame hinzu\n",
    "        df_summary_testing = pd.concat([df_summary_testing, df_current], ignore_index=True)\n",
    "      \n",
    "    return df_summary_testing\n"
   ]
  },
  {
   "cell_type": "code",
   "execution_count": 297,
   "metadata": {},
   "outputs": [],
   "source": [
    "def calculate_compression(df, total_tokens_col, current_tokens_col, desired_compression_rate):\n",
    "    df['current_compression_rate'] = df[current_tokens_col] / df[total_tokens_col]\n",
    "    df['compression_difference'] = df[desired_compression_rate] - df['current_compression_rate']\n",
    "    df['reduction_multiplier'] = df[desired_compression_rate] / df['current_compression_rate']\n",
    "    return df"
   ]
  },
  {
   "cell_type": "code",
   "execution_count": 389,
   "metadata": {},
   "outputs": [],
   "source": [
    "def text_rank_algo(df,seed=10,split='\\. ',random_T=True,column='text'):\n",
    "    df_return = pd.DataFrame(columns=['text','text_rank_text','tokens_gesamt', 'token_text_rank','desired_compression_rate','text_rank_compression_rate'])\n",
    "    # Schleife zur Generierung der zufälligen Werte\n",
    "    random.seed(seed)\n",
    "    for index, row in tqdm(df.iterrows()):\n",
    "        text = row[column].replace(\"\\n\", \" \")\n",
    "        if random_T:\n",
    "            random_value = round(random.uniform(0.2, 0.8), 2)  # Zufälliger Wert zwischen 0.2 und 0.8 auf zwei Stellen nach dem Komma begrenzt\n",
    "        else:\n",
    "            if row['reduction_multiplier']<0.8:\n",
    "                random_value=row['desired_compression_rate']\n",
    "            elif row['reduction_multiplier']<0.9:\n",
    "                random_value=row['reduction_multiplier']\n",
    "            else:\n",
    "                random_value=1\n",
    "        text_rank_text= compression(text.replace(\"\\n\\n\", \" \"),random_value,split)\n",
    "        compression_ratio_value=compression_ratio(text, compression(text,random_value,split))\n",
    "        text=re.sub(' +', ' ', text.replace(\"\\n\", \" \").replace('-',' ').replace('_',' ').replace(\"\\'\", \"\").replace(\"!\", \".\").replace(\"?\", \".\").replace(\";\", \"\"))\n",
    "        text_rank_text=re.sub(' +', ' ', text_rank_text.replace(\"\\n\", \" \").replace('-',' ').replace('_',' ').replace(\"\\'\", \"\").replace(\"!\", \".\").replace(\"?\", \".\").replace(\";\", \"\"))\n",
    "        df_current = pd.DataFrame({\n",
    "                'text':[text],\n",
    "                'text_rank_text': [text_rank_text],\n",
    "                'tokens_gesamt': [len(text.split(' '))],\n",
    "                'token_text_rank': [len(text_rank_text.split(' '))],\n",
    "                'desired_compression_rate': [random_value],\n",
    "                'text_rank_compression_rate': [compression_ratio_value]\n",
    "            })\n",
    "            # Fügen Sie die Daten zum DataFrame hinzu\n",
    "        df_return = pd.concat([df_return, df_current], ignore_index=True)\n",
    "    return df_return\n"
   ]
  },
  {
   "cell_type": "code",
   "execution_count": null,
   "metadata": {},
   "outputs": [],
   "source": []
  },
  {
   "cell_type": "code",
   "execution_count": 86,
   "metadata": {},
   "outputs": [],
   "source": [
    "def execute_text_gen(df,split='\\. ',seed=10):\n",
    "    rank_df=text_rank_algo(df,seed=seed,split=split)\n",
    "    df_zwischen=calculate_compression(rank_df, 'tokens_gesamt', 'token_text_rank', 'desired_compression_rate')\n",
    "    df_sum=paraphrase_of_text(df_zwischen[['text_rank_text','reduction_multiplier']],text_name='text_rank_text',split=split)\n",
    "    merged_df = pd.concat([df_sum, df_zwischen], axis=1)\n",
    "    merged_df['ent_com_rate']=merged_df['länge Zusammenfassung'] / merged_df['tokens_gesamt']\n",
    "    return merged_df"
   ]
  },
  {
   "cell_type": "code",
   "execution_count": 71,
   "metadata": {},
   "outputs": [
    {
     "data": {
      "text/plain": [
       "array(['Scientific', 'news', 'reviews', 'story'], dtype=object)"
      ]
     },
     "execution_count": 71,
     "metadata": {},
     "output_type": "execute_result"
    }
   ],
   "source": [
    "df_train.classification.unique()\n"
   ]
  },
  {
   "cell_type": "code",
   "execution_count": 101,
   "metadata": {},
   "outputs": [],
   "source": [
    "df_training=df_train[df_train.classification=='news'].reset_index(drop=True)[['classification','text']]"
   ]
  },
  {
   "cell_type": "code",
   "execution_count": 77,
   "metadata": {},
   "outputs": [
    {
     "data": {
      "text/plain": [
       "'It was good horrifying never a dull moment u can watch and not be bored ir wondering when is a good part coming'"
      ]
     },
     "execution_count": 77,
     "metadata": {},
     "output_type": "execute_result"
    }
   ],
   "source": [
    "df_training[186:187]['text'][186]"
   ]
  },
  {
   "cell_type": "code",
   "execution_count": 98,
   "metadata": {},
   "outputs": [
    {
     "data": {
      "text/plain": [
       "['Whale naturalist and animal communicator Mary Getten goes beyond what other research has achieved in the way of whale study and communication processes: in 1991 she studied the J-Pod, a family of whales off Washington State']"
      ]
     },
     "execution_count": 98,
     "metadata": {},
     "output_type": "execute_result"
    }
   ],
   "source": [
    "textrank_extractive(df_training[177:178]['text'][177],0.1)"
   ]
  },
  {
   "cell_type": "code",
   "execution_count": 95,
   "metadata": {},
   "outputs": [
    {
     "data": {
      "text/plain": [
       "['Whale naturalist and animal communicator Mary Getten goes beyond what other research has achieved in the way of whale study and communication processes: in 1991 she studied the J-Pod, a family of whales off Washington State',\n",
       " 'Her contention that they use direct telepathic communication between themselves and can do so with humans also makes for fascinating reading.Diane C',\n",
       " 'DonovanCalifornia Bookwatch']"
      ]
     },
     "execution_count": 95,
     "metadata": {},
     "output_type": "execute_result"
    }
   ],
   "source": [
    "re.split(fr'(?<!\\b\\w\\w)\\. ', df_training[177:178]['text'][177].replace(\"\\n\\n\", \" \"))"
   ]
  },
  {
   "cell_type": "code",
   "execution_count": 117,
   "metadata": {},
   "outputs": [],
   "source": [
    "test_df=df_train[df_train.classification=='news'].reset_index(drop=True)[['classification','text']][200:200+50]"
   ]
  },
  {
   "cell_type": "code",
   "execution_count": 163,
   "metadata": {},
   "outputs": [],
   "source": [
    "for satz in test_df[36:37]['text'][236].split('.'):\n",
    "    if len(satz)<2:\n",
    "        print(satz)\n"
   ]
  },
  {
   "cell_type": "code",
   "execution_count": null,
   "metadata": {},
   "outputs": [],
   "source": [
    "text.split()"
   ]
  },
  {
   "cell_type": "code",
   "execution_count": null,
   "metadata": {},
   "outputs": [],
   "source": []
  },
  {
   "cell_type": "code",
   "execution_count": null,
   "metadata": {},
   "outputs": [],
   "source": [
    "\n",
    "nlp = spacy.load(\"en_core_web_lg\")\n",
    "doc = nlp(df_training[67:68]['text'][67].replace(\"\\n\\n\", \" \").replace(\"-\", \" \"))\n",
    "[sent.text for sent in doc.sents if len(sent.text.replace(\"-\", \" \").split()) > 2]"
   ]
  },
  {
   "cell_type": "code",
   "execution_count": 106,
   "metadata": {},
   "outputs": [
    {
     "data": {
      "text/html": [
       "<div>\n",
       "<style scoped>\n",
       "    .dataframe tbody tr th:only-of-type {\n",
       "        vertical-align: middle;\n",
       "    }\n",
       "\n",
       "    .dataframe tbody tr th {\n",
       "        vertical-align: top;\n",
       "    }\n",
       "\n",
       "    .dataframe thead th {\n",
       "        text-align: right;\n",
       "    }\n",
       "</style>\n",
       "<table border=\"1\" class=\"dataframe\">\n",
       "  <thead>\n",
       "    <tr style=\"text-align: right;\">\n",
       "      <th></th>\n",
       "      <th>classification</th>\n",
       "      <th>text</th>\n",
       "    </tr>\n",
       "  </thead>\n",
       "  <tbody>\n",
       "    <tr>\n",
       "      <th>0</th>\n",
       "      <td>story</td>\n",
       "      <td>PART I\\n\\nIf you don't like Christmas stories,...</td>\n",
       "    </tr>\n",
       "    <tr>\n",
       "      <th>1</th>\n",
       "      <td>story</td>\n",
       "      <td>The Railroad Journey was very long and slow. T...</td>\n",
       "    </tr>\n",
       "    <tr>\n",
       "      <th>2</th>\n",
       "      <td>story</td>\n",
       "      <td>His affair that night was prosy. He was intend...</td>\n",
       "    </tr>\n",
       "    <tr>\n",
       "      <th>3</th>\n",
       "      <td>story</td>\n",
       "      <td>This is the tale which Jehan Tugluk Khan, a wi...</td>\n",
       "    </tr>\n",
       "    <tr>\n",
       "      <th>4</th>\n",
       "      <td>story</td>\n",
       "      <td>THE fact that the man whom he feared had died ...</td>\n",
       "    </tr>\n",
       "    <tr>\n",
       "      <th>5</th>\n",
       "      <td>story</td>\n",
       "      <td>IBRAHIM FADLALLAH shrugged bis shoulders: \"You...</td>\n",
       "    </tr>\n",
       "    <tr>\n",
       "      <th>6</th>\n",
       "      <td>story</td>\n",
       "      <td>BEHIND him the Koh Haji-Lal, the \"Mountains of...</td>\n",
       "    </tr>\n",
       "    <tr>\n",
       "      <th>7</th>\n",
       "      <td>story</td>\n",
       "      <td>SPEAKING in after years about that period of h...</td>\n",
       "    </tr>\n",
       "    <tr>\n",
       "      <th>8</th>\n",
       "      <td>story</td>\n",
       "      <td>The ease and apparent willingness with which s...</td>\n",
       "    </tr>\n",
       "    <tr>\n",
       "      <th>9</th>\n",
       "      <td>story</td>\n",
       "      <td>Along in the 80's there occurred a question of...</td>\n",
       "    </tr>\n",
       "  </tbody>\n",
       "</table>\n",
       "</div>"
      ],
      "text/plain": [
       "  classification                                               text\n",
       "0          story  PART I\\n\\nIf you don't like Christmas stories,...\n",
       "1          story  The Railroad Journey was very long and slow. T...\n",
       "2          story  His affair that night was prosy. He was intend...\n",
       "3          story  This is the tale which Jehan Tugluk Khan, a wi...\n",
       "4          story  THE fact that the man whom he feared had died ...\n",
       "5          story  IBRAHIM FADLALLAH shrugged bis shoulders: \"You...\n",
       "6          story  BEHIND him the Koh Haji-Lal, the \"Mountains of...\n",
       "7          story  SPEAKING in after years about that period of h...\n",
       "8          story  The ease and apparent willingness with which s...\n",
       "9          story  Along in the 80's there occurred a question of..."
      ]
     },
     "execution_count": 106,
     "metadata": {},
     "output_type": "execute_result"
    }
   ],
   "source": [
    "df_training"
   ]
  },
  {
   "cell_type": "code",
   "execution_count": 188,
   "metadata": {},
   "outputs": [
    {
     "data": {
      "text/plain": [
       "'King Henry, the Handsome Scholar, had one son, named William, whom he dearly loved. The young man was noble and brave, and every-body hoped that he would some day be the King of England. One summer Prince William went with his father across the sea to look after their lands in France. They were wel-comed with joy by all their people there, and the young prince was so gallant and kind, that he won the love of all who saw him. But at last the time came for them to go back to England. The king, with his wise men and brave knights, set sail early in the day; but Prince William with his younger friends waited a little while. They had had so joyous a time in France that they were in no great haste to tear them-selves away. Then they went on board of the ship which was waiting to carry them home. It was a beau-ti-ful ship with white sails and white masts, and it had been fitted up on purpose for this voyage. The sea was smooth, the winds were fair, and no one thought of danger. On the ship, every-thing had been ar-ranged to make the trip a pleasant one. There was music and dancing, and everybody was merry and glad. The sun had gone down before the white-winged vessel was fairly out of the bay. But what of that? The moon was at its full, and it would give light enough; and before the dawn of the morrow, the narrow sea would be crossed. And so the prince, and the young people who were with him, gave themselves up to mer-ri-ment and feasting and joy. The ear-li-er hours of the night passed by; and then there was a cry of alarm on deck. A moment after-ward there was a great crash. The ship had struck upon a rock. The water rushed in. She was sinking. Ah, where now were those who had lately been so heart-free and glad? Every heart was full of fear. No one knew what to do. A small boat was quickly launched, and the prince with a few of his bravest friends leaped into it. They pushed off just as the ship was be-gin-ning to settle beneath the waves. Would they be saved? They had rowed hardly ten yards from the ship, when there was a cry from among those that were left behind. \"Row back!\" cried the prince. \"It is my little sister. She must be saved!\" The men did not dare to disobey. The boat was again brought along-side of the sinking vessel. The prince stood up, and held out his arms for his sister. At that moment the ship gave a great lurch forward into the waves. One shriek of terror was heard, and then all was still save the sound of the moaning waters. Ship and boat, prince and prin-cess, and all the gay com-pa-ny that had set sail from France, went down to the bottom together. One man clung to a floating plank, and was saved the next day. He was the only person left alive to tell the sad story. When King Henry heard of the death of his son his grief was more than he could bear. His heart was broken. He had no more joy in life; and men say that no one ever saw him smile again. Here is a poem about him that your teacher may read to you, and perhaps, after a while, you may learn it by heart. HE NEVER SMILED AGAIN. There stood proud forms before his throne, The stately and the brave; But who could fill the place of one,-- That one beneath the wave? Before him passed the young and fair, In pleasure\\'s reckless train; But seas dashed o\\'er his son\\'s bright hair-- He never smiled again. He sat where festal bowls went round; He heard the minstrel sing; He saw the tour-ney\\'s victor crowned Amid the knightly ring. A murmur of the restless deep Was blent with every strain, A voice of winds that would not sleep-- He never smiled again. Hearts, in that time, closed o\\'er the trace Of vows once fondly poured, And strangers took the kins-man\\'s place At many a joyous board; Graves which true love had bathed with tears Were left to heaven\\'s bright rain; Fresh hopes were born for other years-- _He_ never smiled again! '"
      ]
     },
     "execution_count": 188,
     "metadata": {},
     "output_type": "execute_result"
    }
   ],
   "source": [
    "re.sub(' +', ' ', df_training[16:17]['text'][16].replace(\"\\n\", \" \"))"
   ]
  },
  {
   "cell_type": "code",
   "execution_count": 198,
   "metadata": {},
   "outputs": [
    {
     "data": {
      "text/plain": [
       "str"
      ]
     },
     "execution_count": 198,
     "metadata": {},
     "output_type": "execute_result"
    }
   ],
   "source": [
    "text_2='King Henry, the Handsome Scholar, had one son, named William, whom he dearly loved. The young man was noble and brave, and every-body hoped that he would some day be the King of England. One summer Prince William went with his father across the sea to look after their lands in France. They were wel-comed with joy by all their people there, and the young prince was so gallant and kind, that he won the love of all who saw him. But at last the time came for them to go back to England. The king, with his wise men and brave knights, set sail early in the day; but Prince William with his younger friends waited a little while. They had had so joyous a time in France that they were in no great haste to tear them-selves away. Then they went on board of the ship which was waiting to carry them home. It was a beau-ti-ful ship with white sails and white masts, and it had been fitted up on purpose for this voyage. The sea was smooth, the winds were fair, and no one thought of danger. On the ship, every-thing had been ar-ranged to make the trip a pleasant one. There was music and dancing, and everybody was merry and glad. The sun had gone down before the white-winged vessel was fairly out of the bay. But what of that? The moon was at its full, and it would give light enough; and before the dawn of the morrow, the narrow sea would be crossed. And so the prince, and the young people who were with him, gave themselves up to mer-ri-ment and feasting and joy. The ear-li-er hours of the night passed by; and then there was a cry of alarm on deck. A moment after-ward there was a great crash. The ship had struck upon a rock. The water rushed in. She was sinking. Ah, where now were those who had lately been so heart-free and glad? Every heart was full of fear. No one knew what to do. A small boat was quickly launched, and the prince with a few of his bravest friends leaped into it. They pushed off just as the ship was be-gin-ning to settle beneath the waves. Would they be saved? They had rowed hardly ten yards from the ship, when there was a cry from among those that were left behind. \"Row back!\" cried the prince.\"It is my little sister. She must be saved!\" The men did not dare to disobey. The boat was again brought along-side of the sinking vessel. The prince stood up, and held out his arms for his sister. At that moment the ship gave a great lurch forward into the waves. One shriek of terror was heard, and then all was still save the sound of the moaning waters. Ship and boat, prince and prin-cess, and all the gay com-pa-ny that had set sail from France, went down to the bottom together. One man clung to a floating plank, and was saved the next day. He was the only person left alive to tell the sad story. When King Henry heard of the death of his son his grief was more than he could bear. His heart was broken. He had no more joy in life; and men say that no one ever saw him smile again. Here is a poem about him that your teacher may read to you, and perhaps, after a while, you may learn it by heart. HE NEVER SMILED AGAIN.There stood proud forms before his throne, The stately and the brave; But who could fill the place of one,-- That one beneath the wave? Before him passed the young and fair, In pleasure\\'s reckless train; But seas dashed o\\'er his son\\'s bright hair-- He never smiled again. He sat where festal bowls went round; He heard the minstrel sing; He saw the tour-ney\\'s victor crowned Amid the knightly ring. A murmur of the restless deep Was blent with every strain, A voice of winds that would not sleep-- He never smiled again. Hearts, in that time, closed o\\'er the trace Of vows once fondly poured, And strangers took the kins-man\\'s place At many a joyous board; Graves which true love had bathed with tears Were left to heaven\\'s bright rain; Fresh hopes were born for other years-- _He_ never smiled again! '\n",
    "type(text_2)"
   ]
  },
  {
   "cell_type": "code",
   "execution_count": 199,
   "metadata": {},
   "outputs": [
    {
     "data": {
      "text/plain": [
       "str"
      ]
     },
     "execution_count": 199,
     "metadata": {},
     "output_type": "execute_result"
    }
   ],
   "source": [
    "text_2=str(re.sub(' +', ' ', df_training[16:17]['text'][16].replace(\"\\n\", \" \")))\n",
    "type(text_2)"
   ]
  },
  {
   "cell_type": "code",
   "execution_count": null,
   "metadata": {},
   "outputs": [],
   "source": [
    "text_2='King Henry, the Handsome Scholar, had one son, named William, whom he dearly loved. The young man was noble and brave, and every-body hoped that he would some day be the King of England. One summer Prince William went with his father across the sea to look after their lands in France. They were wel-comed with joy by all their people there, and the young prince was so gallant and kind, that he won the love of all who saw him. But at last the time came for them to go back to England. The king, with his wise men and brave knights, set sail early in the day; but Prince William with his younger friends waited a little while. They had had so joyous a time in France that they were in no great haste to tear them-selves away. Then they went on board of the ship which was waiting to carry them home. It was a beau-ti-ful ship with white sails and white masts, and it had been fitted up on purpose for this voyage. The sea was smooth, the winds were fair, and no one thought of danger. On the ship, every-thing had been ar-ranged to make the trip a pleasant one. There was music and dancing, and everybody was merry and glad. The sun had gone down before the white-winged vessel was fairly out of the bay. But what of that? The moon was at its full, and it would give light enough; and before the dawn of the morrow, the narrow sea would be crossed. And so the prince, and the young people who were with him, gave themselves up to mer-ri-ment and feasting and joy. The ear-li-er hours of the night passed by; and then there was a cry of alarm on deck. A moment after-ward there was a great crash. The ship had struck upon a rock. The water rushed in. She was sinking. Ah, where now were those who had lately been so heart-free and glad? Every heart was full of fear. No one knew what to do. A small boat was quickly launched, and the prince with a few of his bravest friends leaped into it. They pushed off just as the ship was be-gin-ning to settle beneath the waves. Would they be saved? They had rowed hardly ten yards from the ship, when there was a cry from among those that were left behind. \"Row back!\" cried the prince.\"It is my little sister. She must be saved!\" The men did not dare to disobey. The boat was again brought along-side of the sinking vessel. The prince stood up, and held out his arms for his sister. At that moment the ship gave a great lurch forward into the waves. One shriek of terror was heard, and then all was still save the sound of the moaning waters. Ship and boat, prince and prin-cess, and all the gay com-pa-ny that had set sail from France, went down to the bottom together. One man clung to a floating plank, and was saved the next day. He was the only person left alive to tell the sad story. When King Henry heard of the death of his son his grief was more than he could bear. His heart was broken. He had no more joy in life; and men say that no one ever saw him smile again. Here is a poem about him that your teacher may read to you, and perhaps, after a while, you may learn it by heart. HE NEVER SMILED AGAIN.There stood proud forms before his throne, The stately and the brave; But who could fill the place of one,-- That one beneath the wave? Before him passed the young and fair, In pleasure\\'s reckless train; But seas dashed o\\'er his son\\'s bright hair-- He never smiled again. He sat where festal bowls went round; He heard the minstrel sing; He saw the tour-ney\\'s victor crowned Amid the knightly ring. A murmur of the restless deep Was blent with every strain, A voice of winds that would not sleep-- He never smiled again. Hearts, in that time, closed o\\'er the trace Of vows once fondly poured, And strangers took the kins-man\\'s place At many a joyous board; Graves which true love had bathed with tears Were left to heaven\\'s bright rain; Fresh hopes were born for other years-- _He_ never smiled again! '\n",
    "text_2=str(re.sub(' +', ' ', df_training[16:17]['text'][16].replace(\"\\n\", \" \")))\n",
    "textrank_extractive(text_2)"
   ]
  },
  {
   "cell_type": "code",
   "execution_count": null,
   "metadata": {},
   "outputs": [],
   "source": [
    "textrank_extractive(re.sub(' +', ' ', df_training[16:17]['text'][16].replace(\"\\n\", \" \").replace('-',' ').replace('_',' ').replace(\"\\'\", \"\").replace(\"!\", \".\").replace(\"?\", \".\").replace(\";\", \"\")))"
   ]
  },
  {
   "cell_type": "code",
   "execution_count": 175,
   "metadata": {},
   "outputs": [
    {
     "data": {
      "text/plain": [
       "758"
      ]
     },
     "execution_count": 175,
     "metadata": {},
     "output_type": "execute_result"
    }
   ],
   "source": [
    "len(re.sub(' +', ' ', df_training[16:17]['text'][16].replace(\"\\n\", \" \").replace('-',' ').replace('_',' ').replace(\"\\'\", \"\").replace(\"!\", \".\").replace(\"?\", \".\").replace('\"','').replace(\";\", \"\")).split())"
   ]
  },
  {
   "cell_type": "code",
   "execution_count": null,
   "metadata": {},
   "outputs": [],
   "source": [
    "textrank_extractive(df_training[16:17]['text'][16].replace(\"\\n\", \" \").replace('     ',' ').replace('    ',' ').replace('   ',' ').replace('--',' ').replace('_','').replace(\"\\'\", \"\").replace(\"!\", \".\").replace(\"?\", \".\").replace('\"','').replace(\";\", \"\"))\n",
    "#re.sub(' +', ' ', text)"
   ]
  },
  {
   "cell_type": "code",
   "execution_count": null,
   "metadata": {},
   "outputs": [],
   "source": [
    "text=re.sub(' +', ' ', df_training[16:17]['text'][16].replace(\"\\n\", \" \").replace('--',' ').replace('_',' ').replace(\"\\'\", \"\"))\n",
    "textrank_extractive(text)\n"
   ]
  },
  {
   "cell_type": "code",
   "execution_count": 108,
   "metadata": {},
   "outputs": [],
   "source": [
    "df_training=df_train[df_train.classification=='reviews'].reset_index(drop=True)[['classification','text']].copy()"
   ]
  },
  {
   "cell_type": "code",
   "execution_count": 109,
   "metadata": {},
   "outputs": [
    {
     "data": {
      "text/html": [
       "<div>\n",
       "<style scoped>\n",
       "    .dataframe tbody tr th:only-of-type {\n",
       "        vertical-align: middle;\n",
       "    }\n",
       "\n",
       "    .dataframe tbody tr th {\n",
       "        vertical-align: top;\n",
       "    }\n",
       "\n",
       "    .dataframe thead th {\n",
       "        text-align: right;\n",
       "    }\n",
       "</style>\n",
       "<table border=\"1\" class=\"dataframe\">\n",
       "  <thead>\n",
       "    <tr style=\"text-align: right;\">\n",
       "      <th></th>\n",
       "      <th>classification</th>\n",
       "      <th>text</th>\n",
       "    </tr>\n",
       "  </thead>\n",
       "  <tbody>\n",
       "    <tr>\n",
       "      <th>0</th>\n",
       "      <td>reviews</td>\n",
       "      <td>This sound track was beautiful! It paints the ...</td>\n",
       "    </tr>\n",
       "    <tr>\n",
       "      <th>1</th>\n",
       "      <td>reviews</td>\n",
       "      <td>I'm reading a lot of reviews saying that this ...</td>\n",
       "    </tr>\n",
       "    <tr>\n",
       "      <th>2</th>\n",
       "      <td>reviews</td>\n",
       "      <td>This soundtrack is my favorite music of all ti...</td>\n",
       "    </tr>\n",
       "    <tr>\n",
       "      <th>3</th>\n",
       "      <td>reviews</td>\n",
       "      <td>I truly like this soundtrack and I enjoy video...</td>\n",
       "    </tr>\n",
       "    <tr>\n",
       "      <th>4</th>\n",
       "      <td>reviews</td>\n",
       "      <td>If you've played the game, you know how divine...</td>\n",
       "    </tr>\n",
       "    <tr>\n",
       "      <th>...</th>\n",
       "      <td>...</td>\n",
       "      <td>...</td>\n",
       "    </tr>\n",
       "    <tr>\n",
       "      <th>495</th>\n",
       "      <td>reviews</td>\n",
       "      <td>This book is a wonderful illustration of the s...</td>\n",
       "    </tr>\n",
       "    <tr>\n",
       "      <th>496</th>\n",
       "      <td>reviews</td>\n",
       "      <td>I think beyond the fact that Hazlitt produces ...</td>\n",
       "    </tr>\n",
       "    <tr>\n",
       "      <th>497</th>\n",
       "      <td>reviews</td>\n",
       "      <td>Economics in One Lesson elucidates the basic p...</td>\n",
       "    </tr>\n",
       "    <tr>\n",
       "      <th>498</th>\n",
       "      <td>reviews</td>\n",
       "      <td>Economics in One Lesson is another great \"must...</td>\n",
       "    </tr>\n",
       "    <tr>\n",
       "      <th>499</th>\n",
       "      <td>reviews</td>\n",
       "      <td>Sure, a few of the specific examples cited 60+...</td>\n",
       "    </tr>\n",
       "  </tbody>\n",
       "</table>\n",
       "<p>500 rows × 2 columns</p>\n",
       "</div>"
      ],
      "text/plain": [
       "    classification                                               text\n",
       "0          reviews  This sound track was beautiful! It paints the ...\n",
       "1          reviews  I'm reading a lot of reviews saying that this ...\n",
       "2          reviews  This soundtrack is my favorite music of all ti...\n",
       "3          reviews  I truly like this soundtrack and I enjoy video...\n",
       "4          reviews  If you've played the game, you know how divine...\n",
       "..             ...                                                ...\n",
       "495        reviews  This book is a wonderful illustration of the s...\n",
       "496        reviews  I think beyond the fact that Hazlitt produces ...\n",
       "497        reviews  Economics in One Lesson elucidates the basic p...\n",
       "498        reviews  Economics in One Lesson is another great \"must...\n",
       "499        reviews  Sure, a few of the specific examples cited 60+...\n",
       "\n",
       "[500 rows x 2 columns]"
      ]
     },
     "execution_count": 109,
     "metadata": {},
     "output_type": "execute_result"
    }
   ],
   "source": [
    "df_training"
   ]
  },
  {
   "cell_type": "code",
   "execution_count": 382,
   "metadata": {},
   "outputs": [
    {
     "data": {
      "text/html": [
       "<div>\n",
       "<style scoped>\n",
       "    .dataframe tbody tr th:only-of-type {\n",
       "        vertical-align: middle;\n",
       "    }\n",
       "\n",
       "    .dataframe tbody tr th {\n",
       "        vertical-align: top;\n",
       "    }\n",
       "\n",
       "    .dataframe thead th {\n",
       "        text-align: right;\n",
       "    }\n",
       "</style>\n",
       "<table border=\"1\" class=\"dataframe\">\n",
       "  <thead>\n",
       "    <tr style=\"text-align: right;\">\n",
       "      <th></th>\n",
       "      <th>Unnamed: 0</th>\n",
       "      <th>classification</th>\n",
       "      <th>text</th>\n",
       "    </tr>\n",
       "  </thead>\n",
       "  <tbody>\n",
       "    <tr>\n",
       "      <th>200</th>\n",
       "      <td>500</td>\n",
       "      <td>news</td>\n",
       "      <td>RJD Chief Lalu Prasad Yadav on Wednesday said ...</td>\n",
       "    </tr>\n",
       "    <tr>\n",
       "      <th>201</th>\n",
       "      <td>501</td>\n",
       "      <td>news</td>\n",
       "      <td>The Indira Gandhi International Airport has cl...</td>\n",
       "    </tr>\n",
       "    <tr>\n",
       "      <th>202</th>\n",
       "      <td>502</td>\n",
       "      <td>news</td>\n",
       "      <td>Mumbai Traffic Police have temporarily banned ...</td>\n",
       "    </tr>\n",
       "    <tr>\n",
       "      <th>203</th>\n",
       "      <td>503</td>\n",
       "      <td>news</td>\n",
       "      <td>'Titanic' actors Leonardo DiCaprio and Kate Wi...</td>\n",
       "    </tr>\n",
       "    <tr>\n",
       "      <th>204</th>\n",
       "      <td>504</td>\n",
       "      <td>news</td>\n",
       "      <td>A member of Sikh community's Damdami Taksal se...</td>\n",
       "    </tr>\n",
       "    <tr>\n",
       "      <th>...</th>\n",
       "      <td>...</td>\n",
       "      <td>...</td>\n",
       "      <td>...</td>\n",
       "    </tr>\n",
       "    <tr>\n",
       "      <th>395</th>\n",
       "      <td>695</td>\n",
       "      <td>news</td>\n",
       "      <td>Nine people were killed and 22 injured on Satu...</td>\n",
       "    </tr>\n",
       "    <tr>\n",
       "      <th>396</th>\n",
       "      <td>696</td>\n",
       "      <td>news</td>\n",
       "      <td>The Union Minister of State for Social Justice...</td>\n",
       "    </tr>\n",
       "    <tr>\n",
       "      <th>397</th>\n",
       "      <td>697</td>\n",
       "      <td>news</td>\n",
       "      <td>India women's team captain Mithali Raj has bec...</td>\n",
       "    </tr>\n",
       "    <tr>\n",
       "      <th>398</th>\n",
       "      <td>698</td>\n",
       "      <td>news</td>\n",
       "      <td>A class 10 student from Bihar, who got 0 in Ma...</td>\n",
       "    </tr>\n",
       "    <tr>\n",
       "      <th>399</th>\n",
       "      <td>699</td>\n",
       "      <td>news</td>\n",
       "      <td>Haryana-based Shweta Mehta, from Neha Dhupia's...</td>\n",
       "    </tr>\n",
       "  </tbody>\n",
       "</table>\n",
       "<p>200 rows × 3 columns</p>\n",
       "</div>"
      ],
      "text/plain": [
       "     Unnamed: 0 classification  \\\n",
       "200         500           news   \n",
       "201         501           news   \n",
       "202         502           news   \n",
       "203         503           news   \n",
       "204         504           news   \n",
       "..          ...            ...   \n",
       "395         695           news   \n",
       "396         696           news   \n",
       "397         697           news   \n",
       "398         698           news   \n",
       "399         699           news   \n",
       "\n",
       "                                                  text  \n",
       "200  RJD Chief Lalu Prasad Yadav on Wednesday said ...  \n",
       "201  The Indira Gandhi International Airport has cl...  \n",
       "202  Mumbai Traffic Police have temporarily banned ...  \n",
       "203  'Titanic' actors Leonardo DiCaprio and Kate Wi...  \n",
       "204  A member of Sikh community's Damdami Taksal se...  \n",
       "..                                                 ...  \n",
       "395  Nine people were killed and 22 injured on Satu...  \n",
       "396  The Union Minister of State for Social Justice...  \n",
       "397  India women's team captain Mithali Raj has bec...  \n",
       "398  A class 10 student from Bihar, who got 0 in Ma...  \n",
       "399  Haryana-based Shweta Mehta, from Neha Dhupia's...  \n",
       "\n",
       "[200 rows x 3 columns]"
      ]
     },
     "execution_count": 382,
     "metadata": {},
     "output_type": "execute_result"
    }
   ],
   "source": [
    "df_test=pd.read_csv('data/data_test.csv')\n",
    "df_test[df_test.classification=='news']"
   ]
  },
  {
   "cell_type": "code",
   "execution_count": 383,
   "metadata": {},
   "outputs": [
    {
     "name": "stderr",
     "output_type": "stream",
     "text": [
      "0it [00:00, ?it/s]/var/folders/k3/z_svrdgd6sb9lc9bqdfzp_k00000gn/T/ipykernel_89249/1576956366.py:38: DeprecationWarning: networkx.pagerank_numpy is deprecated and will be removed in NetworkX 3.0, use networkx.pagerank instead.\n",
      "  scores = nx.pagerank_numpy(graph)\n",
      "/Users/niclascramer/opt/miniconda3/envs/torch/lib/python3.9/site-packages/networkx/algorithms/link_analysis/pagerank_alg.py:354: FutureWarning: google_matrix will return an np.ndarray instead of a np.matrix in\n",
      "NetworkX version 3.0.\n",
      "  M = google_matrix(\n",
      "200it [18:55,  5.68s/it]\n",
      "  0%|          | 0/200 [00:00<?, ?it/s]\n",
      "\u001b[A"
     ]
    },
    {
     "name": "stdout",
     "output_type": "stream",
     "text": [
      "['RJD Chief Lalu Prasad Yadav on Wednesday said that Bihar Chief Minister Nitish Kumar has not asked for his son Tejashwi Yadavs resignation after the CBI raided him over corruption allegations', '\"We will not tolerate any disrespect towards him (Nitish Kumar)', 'We have formed the grand alliance, made Nitish CM. Why will we break the alliance,\" Lalu said.']\n",
      "Hey\n"
     ]
    },
    {
     "name": "stderr",
     "output_type": "stream",
     "text": [
      "\n",
      "Verarbeite Batches: 100%|██████████| 1/1 [00:01<00:00,  1.28s/it]\n",
      "  0%|          | 1/200 [00:01<04:14,  1.28s/it]\n",
      "\u001b[A"
     ]
    },
    {
     "name": "stdout",
     "output_type": "stream",
     "text": [
      "['The Indira Gandhi International Airport has claimed that its Twitter handle was hacked and a \"derogatory\" message was posted on it. A tweet supporting a users claim that Congress is Indias real enemy was retweeted by Delhi Airports handle', 'Later, the tweet was deleted and a clarification was posted saying that Delhi Airports handle was under a \"hacker attack\".']\n",
      "Hey\n"
     ]
    },
    {
     "name": "stderr",
     "output_type": "stream",
     "text": [
      "\n",
      "Verarbeite Batches: 100%|██████████| 1/1 [00:01<00:00,  1.00s/it]\n",
      "  1%|          | 2/200 [00:02<03:41,  1.12s/it]\n",
      "\u001b[A"
     ]
    },
    {
     "name": "stdout",
     "output_type": "stream",
     "text": [
      "['State run buses, school buses, and vehicles used for office drops will reportedly be exempt from the ban', 'Authorities said that the northbound vehicles will be diverted to the Eastern Express Highway via Sion']\n",
      "Hey\n"
     ]
    },
    {
     "name": "stderr",
     "output_type": "stream",
     "text": [
      "\n",
      "Verarbeite Batches: 100%|██████████| 1/1 [00:01<00:00,  1.06s/it]\n",
      "  2%|▏         | 3/200 [00:03<03:35,  1.09s/it]\n",
      "\u001b[A"
     ]
    },
    {
     "name": "stdout",
     "output_type": "stream",
     "text": [
      "['Titanic actors Leonardo DiCaprio and Kate Winslet are auctioning off a dinner with the two of them at the Leonardo DiCaprio Foundations fourth annual gala on Wednesday for charity', 'The dinner is among other auction items available for bidders at the event which will take place in France']\n",
      "Hey\n"
     ]
    },
    {
     "name": "stderr",
     "output_type": "stream",
     "text": [
      "\n",
      "Verarbeite Batches: 100%|██████████| 1/1 [00:00<00:00,  1.31it/s]\n",
      "  2%|▏         | 4/200 [00:04<03:09,  1.04it/s]\n",
      "\u001b[A"
     ]
    },
    {
     "name": "stdout",
     "output_type": "stream",
     "text": [
      "['A member of Sikh communitys Damdami Taksal seminary has filed a writ petition in the Bombay High Court against Jarnail Singh Bhindranwale being called a terrorist in Maharashtra State Boards Class 9 textbooks', 'Notably, Bhindranwale was a militant preacher, killed in a military operation at Golden Temple in 1984.']\n",
      "Hey\n"
     ]
    },
    {
     "name": "stderr",
     "output_type": "stream",
     "text": [
      "\n",
      "Verarbeite Batches: 100%|██████████| 1/1 [00:01<00:00,  1.41s/it]\n",
      "  2%|▎         | 5/200 [00:05<03:39,  1.13s/it]\n",
      "\u001b[A"
     ]
    },
    {
     "name": "stdout",
     "output_type": "stream",
     "text": [
      "['After Prime Minister Narendra Modi visited flood hit Gujarat and announced .500 crore as relief for the state, many in Assam took to social media to accuse the Centre of neglecting the northeastern state', '\"Over 70 died in Assam flood', 'Flood in Gujarat, Modi flies himself']\n",
      "Hey\n"
     ]
    },
    {
     "name": "stderr",
     "output_type": "stream",
     "text": [
      "\n",
      "Verarbeite Batches: 100%|██████████| 1/1 [00:01<00:00,  1.42s/it]\n",
      "  3%|▎         | 6/200 [00:06<03:58,  1.23s/it]\n",
      "\u001b[A"
     ]
    },
    {
     "name": "stdout",
     "output_type": "stream",
     "text": [
      "['The Pakistani side crossed the LoC at Army Chief General Pervez Musharrafs command, and mutilated bodies of six Indian soldiers were returned to India', 'India launched the Operation Vijay and reclaimed all posts, terming it a success on July 26.']\n",
      "Hey\n"
     ]
    },
    {
     "name": "stderr",
     "output_type": "stream",
     "text": [
      "\n",
      "Verarbeite Batches: 100%|██████████| 1/1 [00:01<00:00,  1.35s/it]\n",
      "  4%|▎         | 7/200 [00:08<04:05,  1.27s/it]\n",
      "\u001b[A"
     ]
    },
    {
     "name": "stdout",
     "output_type": "stream",
     "text": [
      "['Filmmaker Madhur Bhandarkar has said he is sad that nobody from the film fraternity came to support him in the Indu Sarkar row']\n",
      "Hey\n"
     ]
    },
    {
     "name": "stderr",
     "output_type": "stream",
     "text": [
      "\n",
      "Verarbeite Batches: 100%|██████████| 1/1 [00:00<00:00,  1.28it/s]\n",
      "  4%|▍         | 8/200 [00:09<03:34,  1.12s/it]\n",
      "\u001b[A"
     ]
    },
    {
     "name": "stdout",
     "output_type": "stream",
     "text": [
      "['In a recent order, the Bombay Court held that a working woman who is \"capable of maintaining and sustaining herself\" should not be entitled to get maintenance from her estranged husband']\n",
      "Hey\n"
     ]
    },
    {
     "name": "stderr",
     "output_type": "stream",
     "text": [
      "\n",
      "Verarbeite Batches: 100%|██████████| 1/1 [00:00<00:00,  1.10it/s]\n",
      "  4%|▍         | 9/200 [00:10<03:20,  1.05s/it]\n",
      "\u001b[A"
     ]
    },
    {
     "name": "stdout",
     "output_type": "stream",
     "text": [
      "['Notably, on July 26, 1999, Indian Army succeeded in reclaiming all posts in Kargil region from Pakistan, which is now yearly celebrated as Vijay Diwas.']\n",
      "Hey\n"
     ]
    },
    {
     "name": "stderr",
     "output_type": "stream",
     "text": [
      "\n",
      "Verarbeite Batches: 100%|██████████| 1/1 [00:00<00:00,  1.19it/s]\n",
      "  5%|▌         | 10/200 [00:10<03:07,  1.01it/s]\n",
      "\u001b[A"
     ]
    },
    {
     "name": "stdout",
     "output_type": "stream",
     "text": [
      "['Finance Minister Arun Jaitley has said that the demonetised notes are being processed by the RBI to verify numerical accuracy and authenticity']\n",
      "Hey\n"
     ]
    },
    {
     "name": "stderr",
     "output_type": "stream",
     "text": [
      "\n",
      "Verarbeite Batches: 100%|██████████| 1/1 [00:00<00:00,  1.39it/s]\n",
      "  6%|▌         | 11/200 [00:11<02:51,  1.11it/s]\n",
      "\u001b[A"
     ]
    },
    {
     "name": "stdout",
     "output_type": "stream",
     "text": [
      "['Actress Celina Jaitly said that Kargil Vijay Diwas is a day to celebrate nameless heroes like her father late Colonel Vikram Kumar Jaitly', 'Celina called her father one of the strongest officers of the Indian Army', 'She added, \"Every Indian must be proud of the exemplary courage.displayed by the Indian soldiers in Kargil War']\n",
      "Hey\n"
     ]
    },
    {
     "name": "stderr",
     "output_type": "stream",
     "text": [
      "\n",
      "Verarbeite Batches: 100%|██████████| 1/1 [00:01<00:00,  1.79s/it]\n",
      "  6%|▌         | 12/200 [00:13<03:40,  1.17s/it]\n",
      "\u001b[A"
     ]
    },
    {
     "name": "stdout",
     "output_type": "stream",
     "text": [
      "['A four year old girl died on Monday, two days after sustaining burns on her face when she fell into a pan containing hot tea in Delhis Old Seelampur', 'Reportedly, her elder sister had prepared tea and kept it under the bed waiting for other family members to arrive when the girl fell off the bed and landed head first into the pan.']\n",
      "Hey\n"
     ]
    },
    {
     "name": "stderr",
     "output_type": "stream",
     "text": [
      "\n",
      "Verarbeite Batches: 100%|██████████| 1/1 [00:01<00:00,  1.76s/it]\n",
      "  6%|▋         | 13/200 [00:15<04:12,  1.35s/it]\n",
      "\u001b[A"
     ]
    },
    {
     "name": "stdout",
     "output_type": "stream",
     "text": [
      "['A doctor named Praveen Yadav, who was accused in Madhya Pradeshs Vyapam scam, allegedly committed suicide at his residence on Wednesday']\n",
      "Hey\n"
     ]
    },
    {
     "name": "stderr",
     "output_type": "stream",
     "text": [
      "\n",
      "Verarbeite Batches: 100%|██████████| 1/1 [00:00<00:00,  1.75it/s]\n",
      "  7%|▋         | 14/200 [00:15<03:27,  1.12s/it]\n",
      "\u001b[A"
     ]
    },
    {
     "name": "stdout",
     "output_type": "stream",
     "text": [
      "['HRD Minister Prakash Javadekar informed Rajya Sabha that government has no plans to remove Rabindranath Tagore from school textbooks', 'Javadekar was responding to a query raised by Opposition regarding RSS affiliated organisations recommendations of removing thoughts of Tagore from textbooks for all classes', 'The MP who raised the issue also gave Javadekar three books on Tagore for his reading.']\n",
      "Hey\n"
     ]
    },
    {
     "name": "stderr",
     "output_type": "stream",
     "text": [
      "\n",
      "Verarbeite Batches: 100%|██████████| 1/1 [00:01<00:00,  1.55s/it]\n",
      "  8%|▊         | 15/200 [00:17<03:51,  1.25s/it]\n",
      "\u001b[A"
     ]
    },
    {
     "name": "stdout",
     "output_type": "stream",
     "text": [
      "['The Kannada Development Authority has directed the Bengaluru metro officials to remove all Hindi signs without waiting for the state governments instructions', 'This follows protests from pro Kannada activists against the Centres tri language policy, calling it as forceful imposition of Hindi on non Hindi speaking states.']\n",
      "Hey\n"
     ]
    },
    {
     "name": "stderr",
     "output_type": "stream",
     "text": [
      "\n",
      "Verarbeite Batches: 100%|██████████| 1/1 [00:01<00:00,  1.42s/it]\n",
      "  8%|▊         | 16/200 [00:18<03:59,  1.30s/it]\n",
      "\u001b[A"
     ]
    },
    {
     "name": "stdout",
     "output_type": "stream",
     "text": [
      "['He also announced compensations of .2 lakh to kins of the 83 deceased and .50,000 for injured', 'Modi assured all possible help and assistance from the Centre to normalise the adverse situation.']\n",
      "Hey\n"
     ]
    },
    {
     "name": "stderr",
     "output_type": "stream",
     "text": [
      "\n",
      "Verarbeite Batches: 100%|██████████| 1/1 [00:01<00:00,  1.04s/it]\n",
      "  8%|▊         | 17/200 [00:19<03:43,  1.22s/it]\n",
      "\u001b[A"
     ]
    },
    {
     "name": "stdout",
     "output_type": "stream",
     "text": [
      "['Leader of the Opposition in the Rajya Sabha Ghulam Nabi Azad said that it is very sad and unfortunate that President Ram Nath Kovind did not mention Jawaharlal Nehrus name in his maiden speech']\n",
      "Hey\n"
     ]
    },
    {
     "name": "stderr",
     "output_type": "stream",
     "text": [
      "\n",
      "Verarbeite Batches: 100%|██████████| 1/1 [00:00<00:00,  1.15it/s]\n",
      "  9%|▉         | 18/200 [00:20<03:23,  1.12s/it]\n",
      "\u001b[A"
     ]
    },
    {
     "name": "stdout",
     "output_type": "stream",
     "text": [
      "['The Vatican has turned off 100 fountains for the first time in years due to a prolonged drought affecting the city state and surrounding Italian city Rome', 'The Vatican said this was its \"way of living in solidarity with Rome.\" Rome, which has also closed drinking fountains, is considering water rationing for as many as eight hours a day']\n",
      "Hey\n"
     ]
    },
    {
     "name": "stderr",
     "output_type": "stream",
     "text": [
      "\n",
      "Verarbeite Batches: 100%|██████████| 1/1 [00:01<00:00,  1.44s/it]\n",
      " 10%|▉         | 19/200 [00:22<03:39,  1.21s/it]\n",
      "\u001b[A"
     ]
    },
    {
     "name": "stdout",
     "output_type": "stream",
     "text": [
      "['The Reserve Bank of India (RBI) had stopped printing the .2,000 currency notes about five months ago and has started printing the smaller denomination .200 notes, people familiar with the matter said', 'They also added that around a billion new .200 notes are expected to be in circulation next month and, no more .2,000 notes will be printed this fiscal.']\n",
      "Hey\n"
     ]
    },
    {
     "name": "stderr",
     "output_type": "stream",
     "text": [
      "\n",
      "Verarbeite Batches: 100%|██████████| 1/1 [00:00<00:00,  1.02it/s]\n",
      " 10%|█         | 20/200 [00:23<03:25,  1.14s/it]\n",
      "\u001b[A"
     ]
    },
    {
     "name": "stdout",
     "output_type": "stream",
     "text": [
      "['British swimmer Adam Peaty broke the 50 metre breaststroke world record twice in a day, in the World Aquatics Championships semi final in Budapest on Tuesday', 'The 22 year old defending champion won the semi final in 25.95 seconds, eclipsing his 26.10 seconds world record set in the heats']\n",
      "Hey\n"
     ]
    },
    {
     "name": "stderr",
     "output_type": "stream",
     "text": [
      "\n",
      "Verarbeite Batches: 100%|██████████| 1/1 [00:01<00:00,  1.24s/it]\n",
      " 10%|█         | 21/200 [00:24<03:29,  1.17s/it]\n",
      "\u001b[A"
     ]
    },
    {
     "name": "stdout",
     "output_type": "stream",
     "text": [
      "['Workers of Vivo phone factory on Tuesday protested and damaged the company premises in Greater Noida, alleging that the Chinese firm had sacked over 60 employees without giving prior notice', 'They claimed that Vivo, the title sponsor of IPL T20, hired many workers during the IPL season but fired over 1,000 employees after the matches ended nearly two months ago.']\n",
      "Hey\n"
     ]
    },
    {
     "name": "stderr",
     "output_type": "stream",
     "text": [
      "\n",
      "Verarbeite Batches: 100%|██████████| 1/1 [00:01<00:00,  1.24s/it]\n",
      " 11%|█         | 22/200 [00:25<03:32,  1.20s/it]\n",
      "\u001b[A"
     ]
    },
    {
     "name": "stdout",
     "output_type": "stream",
     "text": [
      "['Air India plans to serve a variety of wines, mocktails, and regional cuisines to its business and first class passengers on international flights, starting October']\n",
      "Hey\n"
     ]
    },
    {
     "name": "stderr",
     "output_type": "stream",
     "text": [
      "\n",
      "Verarbeite Batches: 100%|██████████| 1/1 [00:00<00:00,  1.27it/s]\n",
      " 12%|█▏        | 23/200 [00:26<03:10,  1.07s/it]\n",
      "\u001b[A"
     ]
    },
    {
     "name": "stdout",
     "output_type": "stream",
     "text": [
      "['Russian pranksters fooled US Energy Secretary Rick Perry into believing he was discussing American coal exports and pig manure with Ukrainian PM Volodymyr Groysman', 'The pranksters convinced Perry that Ukrainian President Petro Poroshenko had invented a new biofuel made using pig manure and home brewed alcohol']\n",
      "Hey\n"
     ]
    },
    {
     "name": "stderr",
     "output_type": "stream",
     "text": [
      "\n",
      "Verarbeite Batches: 100%|██████████| 1/1 [00:01<00:00,  1.79s/it]\n",
      " 12%|█▏        | 24/200 [00:28<03:47,  1.29s/it]\n",
      "\u001b[A"
     ]
    },
    {
     "name": "stdout",
     "output_type": "stream",
     "text": [
      "['Reacting to Hollywood actor Nicolas Cage wearing traditional Kazakhstani outfit at the 13th annual Eurasia International Festival, a user tweeted, \"Maybe its just a wax mannequin posing as the real\"', '\"In even other news Nicholas Cage has no idea where he is, how he got there, or why hes wearing that,\" wrote another user']\n",
      "Hey\n"
     ]
    },
    {
     "name": "stderr",
     "output_type": "stream",
     "text": [
      "\n",
      "Verarbeite Batches: 100%|██████████| 1/1 [00:01<00:00,  1.79s/it]\n",
      " 12%|█▎        | 25/200 [00:29<04:12,  1.44s/it]\n",
      "\u001b[A"
     ]
    },
    {
     "name": "stdout",
     "output_type": "stream",
     "text": [
      "['Sania Mirza has called Indian womens team captain Mithali Raj an \"incredible ambassador for the game of cricket\"', '\"Mithali has been performing amazingly for many years', 'I really hope this appreciation that all the girls are getting continues because they deserve it,\" said Sania', 'Mithali became the first Indian captain to lead the team in two ODI World Cup finals.']\n",
      "Hey\n"
     ]
    },
    {
     "name": "stderr",
     "output_type": "stream",
     "text": [
      "\n",
      "Verarbeite Batches: 100%|██████████| 1/1 [00:01<00:00,  1.87s/it]\n",
      " 13%|█▎        | 26/200 [00:31<04:33,  1.57s/it]\n",
      "\u001b[A"
     ]
    },
    {
     "name": "stdout",
     "output_type": "stream",
     "text": [
      "['A group of BJP MPs raised slogans of Jai Shri Ram and Bharat Mata Ki Jai after President Ram Nath Kovind was sworn in at the Parliaments Central Hall on Tuesday', 'Many officials also thumped their desks after the 71 year old took the oath as the 14th President of India', 'Kovind was given a 21 gun salute to mark the assumption of office.']\n",
      "Hey\n"
     ]
    },
    {
     "name": "stderr",
     "output_type": "stream",
     "text": [
      "\n",
      "Verarbeite Batches: 100%|██████████| 1/1 [00:01<00:00,  1.43s/it]\n",
      " 14%|█▎        | 27/200 [00:33<04:24,  1.53s/it]\n",
      "\u001b[A"
     ]
    },
    {
     "name": "stdout",
     "output_type": "stream",
     "text": [
      "['Railway Ministry is planning to introduce an integrated ticketing system in the next three years, which will be first introduced in Mumbai on pilot basis']\n",
      "Hey\n"
     ]
    },
    {
     "name": "stderr",
     "output_type": "stream",
     "text": [
      "\n",
      "Verarbeite Batches: 100%|██████████| 1/1 [00:00<00:00,  1.52it/s]\n",
      " 14%|█▍        | 28/200 [00:33<03:38,  1.27s/it]\n",
      "\u001b[A"
     ]
    },
    {
     "name": "stdout",
     "output_type": "stream",
     "text": [
      "['He said that Bills are getting stuck because of the quorum not being complete in either House']\n",
      "Hey\n"
     ]
    },
    {
     "name": "stderr",
     "output_type": "stream",
     "text": [
      "\n",
      "Verarbeite Batches: 100%|██████████| 1/1 [00:00<00:00,  1.52it/s]\n",
      " 14%|█▍        | 29/200 [00:34<03:05,  1.09s/it]\n",
      "\u001b[A"
     ]
    },
    {
     "name": "stdout",
     "output_type": "stream",
     "text": [
      "['Niti Aayog cited Air Indias \"fragile finances\" as the main reason for recommending its disinvestment, Union Minister Jayant Sinha informed the Rajya Sabha on Tuesday']\n",
      "Hey\n"
     ]
    },
    {
     "name": "stderr",
     "output_type": "stream",
     "text": [
      "\n",
      "Verarbeite Batches: 100%|██████████| 1/1 [00:00<00:00,  1.31it/s]\n",
      " 15%|█▌        | 30/200 [00:35<02:48,  1.01it/s]\n",
      "\u001b[A"
     ]
    },
    {
     "name": "stdout",
     "output_type": "stream",
     "text": [
      "['The US House of Representatives on Tuesday voted 419 3 to approve new sanctions on Russia for its interference in the 2016 presidential elections, despite President Donald Trump objecting to the legislation', 'The bill would also levy new sanctions against North Korea and Iran over the nations ballistic missile programs']\n",
      "Hey\n"
     ]
    },
    {
     "name": "stderr",
     "output_type": "stream",
     "text": [
      "\n",
      "Verarbeite Batches: 100%|██████████| 1/1 [00:01<00:00,  1.71s/it]\n",
      " 16%|█▌        | 31/200 [00:36<03:24,  1.21s/it]\n",
      "\u001b[A"
     ]
    },
    {
     "name": "stdout",
     "output_type": "stream",
     "text": [
      "['Some of the previous Presidents with singular records are Dr Rajendra Prasad, who is the only President to be elected thrice', 'Neelam Sanjiva Reddy is the only President to be elected unopposed, while APJ Abdul Kalam was the only bachelor in all Presidents.']\n",
      "Hey\n"
     ]
    },
    {
     "name": "stderr",
     "output_type": "stream",
     "text": [
      "\n",
      "Verarbeite Batches: 100%|██████████| 1/1 [00:00<00:00,  1.16it/s]\n",
      " 16%|█▌        | 32/200 [00:37<03:05,  1.11s/it]\n",
      "\u001b[A"
     ]
    },
    {
     "name": "stdout",
     "output_type": "stream",
     "text": [
      "['Shiv Sena leader Sunil Shitap was booked for culpable homicide over the collapse of a four storey building in which 12 people were killed in Mumbais Ghatkopar on Tuesday', 'Interestingly, the building wasnt on the Mumbai civic bodys list of 791 unsafe buildings this year.']\n",
      "Hey\n"
     ]
    },
    {
     "name": "stderr",
     "output_type": "stream",
     "text": [
      "\n",
      "Verarbeite Batches: 100%|██████████| 1/1 [00:01<00:00,  1.15s/it]\n",
      " 16%|█▋        | 33/200 [00:39<03:07,  1.12s/it]\n",
      "\u001b[A"
     ]
    },
    {
     "name": "stdout",
     "output_type": "stream",
     "text": [
      "['Goa Chief Minister Manohar Parrikar has clarified that no more permissions for casinos, both on land and off shore, will be granted in the state', 'The number of off shore casinos in Mandovi river would be capped to existing five vessels, which will be shifted to land in the next three years, Parrikar added']\n",
      "Hey\n"
     ]
    },
    {
     "name": "stderr",
     "output_type": "stream",
     "text": [
      "\n",
      "Verarbeite Batches: 100%|██████████| 1/1 [00:01<00:00,  1.44s/it]\n",
      " 17%|█▋        | 34/200 [00:40<03:21,  1.22s/it]\n",
      "\u001b[A"
     ]
    },
    {
     "name": "stdout",
     "output_type": "stream",
     "text": [
      "['He earlier used to tweet from the @rashtrapatibhvn account, which now represents President Ram Nath Kovind', 'Interestingly, it was Mukherjee who had started the Indian Presidents official Twitter handle.']\n",
      "Hey\n"
     ]
    },
    {
     "name": "stderr",
     "output_type": "stream",
     "text": [
      "\n",
      "Verarbeite Batches: 100%|██████████| 1/1 [00:00<00:00,  1.08it/s]\n",
      " 18%|█▊        | 35/200 [00:41<03:06,  1.13s/it]\n",
      "\u001b[A"
     ]
    },
    {
     "name": "stdout",
     "output_type": "stream",
     "text": [
      "['Terrorist group Hizbul Mujahideen chief Syed Salahuddin has claimed in media that his outfit can attack any part of India, Minister of State for Home Affairs Hansraj Ahir said in the Lok Sabha on Tuesday', 'The militant group has been getting logistic support, including arms and ammunition, from Pakistan, the minister added']\n",
      "Hey\n"
     ]
    },
    {
     "name": "stderr",
     "output_type": "stream",
     "text": [
      "\n",
      "Verarbeite Batches: 100%|██████████| 1/1 [00:01<00:00,  1.19s/it]\n",
      " 18%|█▊        | 36/200 [00:42<03:08,  1.15s/it]\n",
      "\u001b[A"
     ]
    },
    {
     "name": "stdout",
     "output_type": "stream",
     "text": [
      "['\"The economical viability of maintaining a cow lasts till it gives milk', 'Once the cow becomes old, it is uneconomical and unaffordable for the farmers,\" Parrikar added']\n",
      "Hey\n"
     ]
    },
    {
     "name": "stderr",
     "output_type": "stream",
     "text": [
      "\n",
      "Verarbeite Batches: 100%|██████████| 1/1 [00:01<00:00,  1.14s/it]\n",
      " 18%|█▊        | 37/200 [00:43<03:06,  1.15s/it]\n",
      "\u001b[A"
     ]
    },
    {
     "name": "stdout",
     "output_type": "stream",
     "text": [
      "['\"Kargil Vijay Diwas reminds us of Indias military prowess & the great sacrifices our armed forces make while steadfastly keeping India safe,\" PM Modi said in one of the tweets.']\n",
      "Hey\n"
     ]
    },
    {
     "name": "stderr",
     "output_type": "stream",
     "text": [
      "\n",
      "Verarbeite Batches: 100%|██████████| 1/1 [00:00<00:00,  1.58it/s]\n",
      " 19%|█▉        | 38/200 [00:44<02:40,  1.01it/s]\n",
      "\u001b[A"
     ]
    },
    {
     "name": "stdout",
     "output_type": "stream",
     "text": [
      "['The ruling AIADMK party in Tamil Nadu on Monday said it would take legal action against Karnataka ex DIG D Roopa if she did not withdraw her bribery charges against party chief VK Sasikala', 'The police officer had alleged that Sasikala was given special treatment and amenities in prison against rules', 'Notably, Sasikala was jailed in a disproportionate assets case.']\n",
      "Hey\n"
     ]
    },
    {
     "name": "stderr",
     "output_type": "stream",
     "text": [
      "\n",
      "Verarbeite Batches: 100%|██████████| 1/1 [00:01<00:00,  1.25s/it]\n",
      " 20%|█▉        | 39/200 [00:45<02:52,  1.07s/it]\n",
      "\u001b[A"
     ]
    },
    {
     "name": "stdout",
     "output_type": "stream",
     "text": [
      "['Ex Australian pacer Glenn McGrath, while talking about Sachin Tendulkars son Arjun who is a left arm pacer, said he will be a winner if he has the love and passion for cricket like his father', '\"When you have a name like Tendulkar, those are pretty big shoes to fill,\" added McGrath']\n",
      "Hey\n"
     ]
    },
    {
     "name": "stderr",
     "output_type": "stream",
     "text": [
      "\n",
      "Verarbeite Batches: 100%|██████████| 1/1 [00:01<00:00,  1.46s/it]\n",
      " 20%|██        | 40/200 [00:47<03:10,  1.19s/it]\n",
      "\u001b[A"
     ]
    },
    {
     "name": "stdout",
     "output_type": "stream",
     "text": [
      "['The committee claimed that the single window clearance system which was introduced in 2015 to improve mandal approval rate was ineffective']\n",
      "Hey\n"
     ]
    },
    {
     "name": "stderr",
     "output_type": "stream",
     "text": [
      "\n",
      "Verarbeite Batches: 100%|██████████| 1/1 [00:00<00:00,  1.75it/s]\n",
      " 20%|██        | 41/200 [00:47<02:39,  1.00s/it]\n",
      "\u001b[A"
     ]
    },
    {
     "name": "stdout",
     "output_type": "stream",
     "text": [
      "['The Border Roads Organisation (BRO) will reportedly construct two tunnels through Arunachal Pradeshs Sela Pass to cut down the distance to the China border through Tawang by 10 km. The tunnels would reduce travel time by at least an hour and ensure that NH13 and the 171 km stretch between Bomdila and Tawang remain accessible in all weather conditions']\n",
      "Hey\n"
     ]
    },
    {
     "name": "stderr",
     "output_type": "stream",
     "text": [
      "\n",
      "Verarbeite Batches: 100%|██████████| 1/1 [00:00<00:00,  1.16it/s]\n",
      " 21%|██        | 42/200 [00:48<02:32,  1.04it/s]\n",
      "\u001b[A"
     ]
    },
    {
     "name": "stdout",
     "output_type": "stream",
     "text": [
      "['Mumbai residents have been protesting outside the Brihanmumbai Municipal Corporations (BMC) Bandra office every Monday and Friday since July 7 over 192 complaints that havent been resolved in 18 months', 'The complaints were filed in BMCs public grievance registration system set up in 2015']\n",
      "Hey\n"
     ]
    },
    {
     "name": "stderr",
     "output_type": "stream",
     "text": [
      "\n",
      "Verarbeite Batches: 100%|██████████| 1/1 [00:01<00:00,  1.21s/it]\n",
      " 22%|██▏       | 43/200 [00:49<02:42,  1.04s/it]\n",
      "\u001b[A"
     ]
    },
    {
     "name": "stdout",
     "output_type": "stream",
     "text": [
      "['The doctors in Telanganas biggest government run Gandhi Hospital in Hyderabad chanted the Mahamrityunjaya mantra to bring down the rising number of deaths of newborns in the hospital']\n",
      "Hey\n"
     ]
    },
    {
     "name": "stderr",
     "output_type": "stream",
     "text": [
      "\n",
      "Verarbeite Batches: 100%|██████████| 1/1 [00:00<00:00,  1.67it/s]\n",
      " 22%|██▏       | 44/200 [00:50<02:21,  1.10it/s]\n",
      "\u001b[A"
     ]
    },
    {
     "name": "stdout",
     "output_type": "stream",
     "text": [
      "['A Polish man was killed after a teenage boy hit him with a \"superman punch\" that caused him to fall and hit his head on the ground, a court has heard', 'The accused reportedly punched the deceased for mocking his English accent']\n",
      "Hey\n"
     ]
    },
    {
     "name": "stderr",
     "output_type": "stream",
     "text": [
      "\n",
      "Verarbeite Batches: 100%|██████████| 1/1 [00:00<00:00,  1.08it/s]\n",
      " 22%|██▎       | 45/200 [00:51<02:21,  1.09it/s]\n",
      "\u001b[A"
     ]
    },
    {
     "name": "stdout",
     "output_type": "stream",
     "text": [
      "['As many as 33 ministers and 359 MLAs in Uttar Pradesh have failed to declare their assets despite CM Yogi Adityanaths repeated directions, according to a government notification', 'As per rules, ministers and MLAs are mandated to declare their assets and liabilities within three months of assuming office or being elected as members of the state assembly.']\n",
      "Hey\n"
     ]
    },
    {
     "name": "stderr",
     "output_type": "stream",
     "text": [
      "\n",
      "Verarbeite Batches: 100%|██████████| 1/1 [00:01<00:00,  1.52s/it]\n",
      " 23%|██▎       | 46/200 [00:52<02:48,  1.10s/it]\n",
      "\u001b[A"
     ]
    },
    {
     "name": "stdout",
     "output_type": "stream",
     "text": [
      "['State owned broadcaster Doordarshan is planning to change its iconic logo and has issued an invitation asking for entries from the public for logo designs', 'Doordarshan will take new logo design entries till August 13, 2017 and the winner will be awarded a cash prize of .1 lakh']\n",
      "Hey\n"
     ]
    },
    {
     "name": "stderr",
     "output_type": "stream",
     "text": [
      "\n",
      "Verarbeite Batches: 100%|██████████| 1/1 [00:01<00:00,  1.13s/it]\n",
      " 24%|██▎       | 47/200 [00:53<02:49,  1.11s/it]\n",
      "\u001b[A"
     ]
    },
    {
     "name": "stdout",
     "output_type": "stream",
     "text": [
      "['If this kind of a set up happens, itll be the biggest set up ever,\" he added', 'Akshay further said the idea struck him when he was watching a Wimbledon match on his phone.']\n",
      "Hey\n"
     ]
    },
    {
     "name": "stderr",
     "output_type": "stream",
     "text": [
      "\n",
      "Verarbeite Batches: 100%|██████████| 1/1 [00:01<00:00,  1.25s/it]\n",
      " 24%|██▍       | 48/200 [00:55<02:54,  1.15s/it]\n",
      "\u001b[A"
     ]
    },
    {
     "name": "stdout",
     "output_type": "stream",
     "text": [
      "['Actor Mithun Chakraborty said that the only advice he has for youngsters is that they should concentrate more on talent as compared to six pack abs', 'He added, \"If you have talent.you have the capability to crack it in the film industry.\" Mithun further said that if one is not persistent with their efforts and talent, they cant do anything.']\n",
      "Hey\n"
     ]
    },
    {
     "name": "stderr",
     "output_type": "stream",
     "text": [
      "\n",
      "Verarbeite Batches: 100%|██████████| 1/1 [00:01<00:00,  1.51s/it]\n",
      " 24%|██▍       | 49/200 [00:56<03:10,  1.26s/it]\n",
      "\u001b[A"
     ]
    },
    {
     "name": "stdout",
     "output_type": "stream",
     "text": [
      "['It represents my childhood.\" His statement comes after recent reports of Doordarshan planning on changing its logo to create something youthful, which will appeal to \"children of liberalization\"']\n",
      "Hey\n"
     ]
    },
    {
     "name": "stderr",
     "output_type": "stream",
     "text": [
      "\n",
      "Verarbeite Batches: 100%|██████████| 1/1 [00:00<00:00,  1.62it/s]\n",
      " 25%|██▌       | 50/200 [00:57<02:40,  1.07s/it]\n",
      "\u001b[A"
     ]
    },
    {
     "name": "stdout",
     "output_type": "stream",
     "text": [
      "['A US court has ruled that President Donald Trumps commission on election fraud can resume collecting voter information from all states', 'The commission had asked states to provide publicly available data including registered voters names, birth dates, and social security numbers']\n",
      "Hey\n"
     ]
    },
    {
     "name": "stderr",
     "output_type": "stream",
     "text": [
      "\n",
      "Verarbeite Batches: 100%|██████████| 1/1 [00:01<00:00,  1.23s/it]\n",
      " 26%|██▌       | 51/200 [00:58<02:46,  1.12s/it]\n",
      "\u001b[A"
     ]
    },
    {
     "name": "stdout",
     "output_type": "stream",
     "text": [
      "['A new book detailing Nelson Mandelas last days has been withdrawn after it was condemned by his widow, the publisher Penguin Random House has announced, saying that it was in no way intended to be disrespectful']\n",
      "Hey\n"
     ]
    },
    {
     "name": "stderr",
     "output_type": "stream",
     "text": [
      "\n",
      "Verarbeite Batches: 100%|██████████| 1/1 [00:01<00:00,  1.02s/it]\n",
      " 26%|██▌       | 52/200 [00:59<02:40,  1.09s/it]\n",
      "\u001b[A"
     ]
    },
    {
     "name": "stdout",
     "output_type": "stream",
     "text": [
      "['The official James Bond Twitter handle has announced November 8, 2019 as the release date for the new film in the franchise titled Bond 25. The film will be written by Neal Purvis and Robert Wade, and produced by Michael G']\n",
      "Hey\n"
     ]
    },
    {
     "name": "stderr",
     "output_type": "stream",
     "text": [
      "\n",
      "Verarbeite Batches: 100%|██████████| 1/1 [00:01<00:00,  1.30s/it]\n",
      " 26%|██▋       | 53/200 [01:00<02:49,  1.15s/it]\n",
      "\u001b[A"
     ]
    },
    {
     "name": "stdout",
     "output_type": "stream",
     "text": [
      "['He also said that India has believed in the philosophy of \"Vasudhaiva Kutumbakam the World is My Family\"']\n",
      "Hey\n"
     ]
    },
    {
     "name": "stderr",
     "output_type": "stream",
     "text": [
      "\n",
      "Verarbeite Batches: 100%|██████████| 1/1 [00:00<00:00,  1.26it/s]\n",
      " 27%|██▋       | 54/200 [01:01<02:32,  1.04s/it]\n",
      "\u001b[A"
     ]
    },
    {
     "name": "stdout",
     "output_type": "stream",
     "text": [
      "['Amrapalis CEO Ritik Kumar Sinha and director Nishant Mukul were arrested over alleged fraud and not paying labour cess of .4.29 crore to Labour Department', 'Amrapali received a final recovery notice in March 2017 but when it failed to pay, police took action', 'The district administration said labour cess is charged for labours welfare, which the group didnt pay.']\n",
      "Hey\n"
     ]
    },
    {
     "name": "stderr",
     "output_type": "stream",
     "text": [
      "\n",
      "Verarbeite Batches: 100%|██████████| 1/1 [00:01<00:00,  1.55s/it]\n",
      " 28%|██▊       | 55/200 [01:03<02:53,  1.20s/it]\n",
      "\u001b[A"
     ]
    },
    {
     "name": "stdout",
     "output_type": "stream",
     "text": [
      "['He said that as technology is transitioning, companies must invest in retraining employees and employees must invest time in learning']\n",
      "Hey\n"
     ]
    },
    {
     "name": "stderr",
     "output_type": "stream",
     "text": [
      "\n",
      "Verarbeite Batches: 100%|██████████| 1/1 [00:00<00:00,  1.66it/s]\n",
      " 28%|██▊       | 56/200 [01:03<02:26,  1.02s/it]\n",
      "\u001b[A"
     ]
    },
    {
     "name": "stdout",
     "output_type": "stream",
     "text": [
      "['Peaty swam the 50m in 26.10 seconds, eclipsing the 26.42 seconds he produced at the 2015 World Aquatics Championships']\n",
      "Hey\n"
     ]
    },
    {
     "name": "stderr",
     "output_type": "stream",
     "text": [
      "\n",
      "Verarbeite Batches: 100%|██████████| 1/1 [00:00<00:00,  1.07it/s]\n",
      " 28%|██▊       | 57/200 [01:04<02:22,  1.00it/s]\n",
      "\u001b[A"
     ]
    },
    {
     "name": "stdout",
     "output_type": "stream",
     "text": [
      "['Human Resource Development Minister Prakash Javadekar on Monday announced that they will soon give approval for the 20 world class research and teaching institutions that will be called Indian institutes of eminence', 'Adding that the approval will be given during the Parliaments Monsoon Session, he said, \"They will be acclaimed and ranked among the top 200 universities in the world\".']\n",
      "Hey\n"
     ]
    },
    {
     "name": "stderr",
     "output_type": "stream",
     "text": [
      "\n",
      "Verarbeite Batches: 100%|██████████| 1/1 [00:01<00:00,  1.32s/it]\n",
      " 29%|██▉       | 58/200 [01:06<02:35,  1.09s/it]\n",
      "\u001b[A"
     ]
    },
    {
     "name": "stdout",
     "output_type": "stream",
     "text": [
      "['German carmaker BMW has rejected reports that it cheated emissions tests through illegal systems in its cars', 'The company also denied reports of plotting with Audi, Volkswagen, and Porsche on designs of diesel emissions treatment systems', 'Vehicle emissions came under scrutiny worldwide since Volkswagen admitted in 2015 to installing illegal software to cheat US emissions tests on diesel cars.']\n",
      "Hey\n"
     ]
    },
    {
     "name": "stderr",
     "output_type": "stream",
     "text": [
      "\n",
      "Verarbeite Batches: 100%|██████████| 1/1 [00:01<00:00,  1.80s/it]\n",
      " 30%|██▉       | 59/200 [01:07<03:04,  1.31s/it]\n",
      "\u001b[A"
     ]
    },
    {
     "name": "stdout",
     "output_type": "stream",
     "text": [
      "['India will host its first WTA tournament in five years when the city of Mumbai stages the .80 lakh ($125,000) Mumbai Open in November', 'Maharashtra State Lawn Tennis Association had recently bagged the hosting rights of Chennai Open which is Indias only ATP World Tour event, and re branded it as \"Maharashtra Open\", to be held in Pune.']\n",
      "Hey\n"
     ]
    },
    {
     "name": "stderr",
     "output_type": "stream",
     "text": [
      "\n",
      "Verarbeite Batches: 100%|██████████| 1/1 [00:01<00:00,  1.05s/it]\n",
      " 30%|███       | 60/200 [01:08<02:52,  1.23s/it]\n",
      "\u001b[A"
     ]
    },
    {
     "name": "stdout",
     "output_type": "stream",
     "text": [
      "['A picture gallery shows former President Pranab Mukherjees journey from being the Minister of State for Revenue and Banking to completing his term as Indias President', 'The gallery also includes a picture of him with former PM Indira Gandhi, during whose tenure he served as the Finance Minister']\n",
      "Hey\n"
     ]
    },
    {
     "name": "stderr",
     "output_type": "stream",
     "text": [
      "\n",
      "Verarbeite Batches: 100%|██████████| 1/1 [00:01<00:00,  1.12s/it]\n",
      " 30%|███       | 61/200 [01:10<02:46,  1.20s/it]\n",
      "\u001b[A"
     ]
    },
    {
     "name": "stdout",
     "output_type": "stream",
     "text": [
      "['The couple had reportedly got into a fight during which he kicked her in the stomach and later strangled her to death']\n",
      "Hey\n"
     ]
    },
    {
     "name": "stderr",
     "output_type": "stream",
     "text": [
      "\n",
      "Verarbeite Batches: 100%|██████████| 1/1 [00:00<00:00,  1.54it/s]\n",
      " 31%|███       | 62/200 [01:10<02:22,  1.03s/it]\n",
      "\u001b[A"
     ]
    },
    {
     "name": "stdout",
     "output_type": "stream",
     "text": [
      "['Benjamin David, who swims along the Isar river in Munich, said his commute is faster than driving in traffic', 'He added, \"the traffic on the road next to the Isar is so wild that it is no fun.\"']\n",
      "Hey\n"
     ]
    },
    {
     "name": "stderr",
     "output_type": "stream",
     "text": [
      "\n",
      "Verarbeite Batches: 100%|██████████| 1/1 [00:00<00:00,  1.10it/s]\n",
      " 32%|███▏      | 63/200 [01:11<02:16,  1.00it/s]\n",
      "\u001b[A"
     ]
    },
    {
     "name": "stdout",
     "output_type": "stream",
     "text": [
      "['Actor Randeep Hooda visited the Kargil War Memorial in Dras ahead of Kargil Vijay Diwas, which is observed on July 26. \"I felt belittled even as my chest was feeling full of pride and sorrow']\n",
      "Hey\n"
     ]
    },
    {
     "name": "stderr",
     "output_type": "stream",
     "text": [
      "\n",
      "Verarbeite Batches: 100%|██████████| 1/1 [00:01<00:00,  1.34s/it]\n",
      " 32%|███▏      | 64/200 [01:12<02:29,  1.10s/it]\n",
      "\u001b[A"
     ]
    },
    {
     "name": "stdout",
     "output_type": "stream",
     "text": [
      "['Reports suggested that Sunny had objected to Yash Raj Films three film deal which Karan was supposed to sign']\n",
      "Hey\n"
     ]
    },
    {
     "name": "stderr",
     "output_type": "stream",
     "text": [
      "\n",
      "Verarbeite Batches: 100%|██████████| 1/1 [00:00<00:00,  1.42it/s]\n",
      " 32%|███▎      | 65/200 [01:13<02:12,  1.02it/s]\n",
      "\u001b[A"
     ]
    },
    {
     "name": "stdout",
     "output_type": "stream",
     "text": [
      "['CM Virbhadra Singh made the announcement on Tuesday, saying the state was \"proud of her achievement in the international cricket arena\"']\n",
      "Hey\n"
     ]
    },
    {
     "name": "stderr",
     "output_type": "stream",
     "text": [
      "\n",
      "Verarbeite Batches: 100%|██████████| 1/1 [00:00<00:00,  1.49it/s]\n",
      " 33%|███▎      | 66/200 [01:14<01:59,  1.12it/s]\n",
      "\u001b[A"
     ]
    },
    {
     "name": "stdout",
     "output_type": "stream",
     "text": [
      "['The buggy which Indian Presidents ride for the oath taking ceremony originally belonged to the Viceroy of India during the British era', 'After the partition of India and Pakistan, both sides tossed a coin to decide who would get the buggy, and India won the toss']\n",
      "Hey\n"
     ]
    },
    {
     "name": "stderr",
     "output_type": "stream",
     "text": [
      "\n",
      "Verarbeite Batches: 100%|██████████| 1/1 [00:01<00:00,  1.21s/it]\n",
      " 34%|███▎      | 67/200 [01:15<02:11,  1.01it/s]\n",
      "\u001b[A"
     ]
    },
    {
     "name": "stdout",
     "output_type": "stream",
     "text": [
      "['It has introduced paperless admissions and biometric entry for students among others', 'It reportedly plans to start online checking of exam papers in the second phase.']\n",
      "Hey\n"
     ]
    },
    {
     "name": "stderr",
     "output_type": "stream",
     "text": [
      "\n",
      "Verarbeite Batches: 100%|██████████| 1/1 [00:00<00:00,  1.35it/s]\n",
      " 34%|███▍      | 68/200 [01:16<02:00,  1.09it/s]\n",
      "\u001b[A"
     ]
    },
    {
     "name": "stdout",
     "output_type": "stream",
     "text": [
      "['As per an official, during the interrogation, the police learnt that the man had managed to enter the house of the actress and steal a purse belonging to her maid', 'The accused also reportedly confessed to robbing 17 other houses.']\n",
      "Hey\n"
     ]
    },
    {
     "name": "stderr",
     "output_type": "stream",
     "text": [
      "\n",
      "Verarbeite Batches: 100%|██████████| 1/1 [00:01<00:00,  1.16s/it]\n",
      " 34%|███▍      | 69/200 [01:17<02:09,  1.01it/s]\n",
      "\u001b[A"
     ]
    },
    {
     "name": "stdout",
     "output_type": "stream",
     "text": [
      "['Samajwadi Party leader Abu Azmi has slammed singer actor Suchitra Krishnamoorthi for her tweet wherein she described the morning Azaan played on loudspeakers as \"extreme imposed religiosity\"', 'He said, \"Those who.drink at 2 am in parties in hotels, and sit with their arms on shoulders of strange men and talk, who have spoilt Indian culture have suddenly started criticising [Azaan].\"']\n",
      "Hey\n"
     ]
    },
    {
     "name": "stderr",
     "output_type": "stream",
     "text": [
      "\n",
      "Verarbeite Batches: 100%|██████████| 1/1 [00:01<00:00,  1.48s/it]\n",
      " 35%|███▌      | 70/200 [01:18<02:27,  1.14s/it]\n",
      "\u001b[A"
     ]
    },
    {
     "name": "stdout",
     "output_type": "stream",
     "text": [
      "['Drug peddlers are coating biscuits and nut crackers with Lysergic acid diethylamide (LSD) drug to avoid being caught at airports, Task Force officials said', '\"These biscuits were detected and seized only because the peddlers were carrying another drug, which was detected in the scanning machine,\" an officer said', 'This was revealed after Task Force arrested nine people carrying LSD laced biscuits.']\n",
      "Hey\n"
     ]
    },
    {
     "name": "stderr",
     "output_type": "stream",
     "text": [
      "\n",
      "Verarbeite Batches: 100%|██████████| 1/1 [00:01<00:00,  1.46s/it]\n",
      " 36%|███▌      | 71/200 [01:20<02:39,  1.23s/it]\n",
      "\u001b[A"
     ]
    },
    {
     "name": "stdout",
     "output_type": "stream",
     "text": [
      "['They were admitted to hospital with injuries and were later declared out of danger', 'Reportedly, tree fall cases are on rise in Kalyan Dombivli', 'We have been getting complaints of tree falls daily,\" authorities said.']\n",
      "Hey\n"
     ]
    },
    {
     "name": "stderr",
     "output_type": "stream",
     "text": [
      "\n",
      "Verarbeite Batches: 100%|██████████| 1/1 [00:00<00:00,  1.13it/s]\n",
      " 36%|███▌      | 72/200 [01:21<02:24,  1.13s/it]\n",
      "\u001b[A"
     ]
    },
    {
     "name": "stdout",
     "output_type": "stream",
     "text": [
      "['Aiming to save around £200 million a year, the NHS chief described homeopathy as .at best a placebo and a misuse of funds', 'The plans also list 17 other items that will no longer be prescribed for reasons ranging from low clinical to low cost effectiveness.']\n",
      "Hey\n"
     ]
    },
    {
     "name": "stderr",
     "output_type": "stream",
     "text": [
      "\n",
      "Verarbeite Batches: 100%|██████████| 1/1 [00:01<00:00,  1.05s/it]\n",
      " 36%|███▋      | 73/200 [01:22<02:20,  1.11s/it]\n",
      "\u001b[A"
     ]
    },
    {
     "name": "stdout",
     "output_type": "stream",
     "text": [
      "['Saudi Arabia, UAE, Bahrain and Egypt on Tuesday blacklisted nine charity groups and nine individuals with ties to Yemen, Qatar and Libya, labelling them \"terrorist\" over suspected ties to Islamist extremism']\n",
      "Hey\n"
     ]
    },
    {
     "name": "stderr",
     "output_type": "stream",
     "text": [
      "\n",
      "Verarbeite Batches: 100%|██████████| 1/1 [00:00<00:00,  1.05it/s]\n",
      " 37%|███▋      | 74/200 [01:23<02:13,  1.06s/it]\n",
      "\u001b[A"
     ]
    },
    {
     "name": "stdout",
     "output_type": "stream",
     "text": [
      "['The Maldivian Opposition has alleged that it was blocked from entering the Parliament on Monday to take part in an impeachment vote against the Speaker Abdulla Maseeh Mohamed, after the military locked it down on the orders of President Yameen Abdul Gayoom']\n",
      "Hey\n"
     ]
    },
    {
     "name": "stderr",
     "output_type": "stream",
     "text": [
      "\n",
      "Verarbeite Batches: 100%|██████████| 1/1 [00:00<00:00,  1.97it/s]\n",
      " 38%|███▊      | 75/200 [01:23<01:51,  1.12it/s]\n",
      "\u001b[A"
     ]
    },
    {
     "name": "stdout",
     "output_type": "stream",
     "text": [
      "['Ram Nath Kovind was sworn in as Indias 14th President on Tuesday at the oath taking ceremony held at the Central Hall of the Parliament', 'He was administered the oath of the office by the Chief Justice of India JS Khehar']\n",
      "Hey\n"
     ]
    },
    {
     "name": "stderr",
     "output_type": "stream",
     "text": [
      "\n",
      "Verarbeite Batches: 100%|██████████| 1/1 [00:01<00:00,  1.34s/it]\n",
      " 38%|███▊      | 76/200 [01:25<02:07,  1.03s/it]\n",
      "\u001b[A"
     ]
    },
    {
     "name": "stdout",
     "output_type": "stream",
     "text": [
      "['President Ram Nath Kovind gave his acceptance speech in the Parliament after being sworn in as the 14th President', 'He also thanked those present for \"trusting [him] with the responsibility to be the President of India\".']\n",
      "Hey\n"
     ]
    },
    {
     "name": "stderr",
     "output_type": "stream",
     "text": [
      "\n",
      "Verarbeite Batches: 100%|██████████| 1/1 [00:00<00:00,  1.06it/s]\n",
      " 38%|███▊      | 77/200 [01:26<02:03,  1.00s/it]\n",
      "\u001b[A"
     ]
    },
    {
     "name": "stdout",
     "output_type": "stream",
     "text": [
      "['Speaking about nepotism remarks which followed the announcement of his launch by Yash Raj Films, actor Raj Kapoors grandson Aadar Jain said that he felt bad and added, \"Im human after all.\" He added, \"Yes, I feel bad when people says things without seeing my work.\" Aadar will be seen making his acting debut with YRF film Qaidi Band.']\n",
      "Hey\n"
     ]
    },
    {
     "name": "stderr",
     "output_type": "stream",
     "text": [
      "\n",
      "Verarbeite Batches: 100%|██████████| 1/1 [00:00<00:00,  1.20it/s]\n",
      " 39%|███▉      | 78/200 [01:26<01:56,  1.05it/s]\n",
      "\u001b[A"
     ]
    },
    {
     "name": "stdout",
     "output_type": "stream",
     "text": [
      "['Actress Kajal Aggarwals manager Ronnie was arrested on Monday in connection with the drug racket case allegedly involving Tollywood actors and filmmakers']\n",
      "Hey\n"
     ]
    },
    {
     "name": "stderr",
     "output_type": "stream",
     "text": [
      "\n",
      "Verarbeite Batches: 100%|██████████| 1/1 [00:00<00:00,  1.53it/s]\n",
      " 40%|███▉      | 79/200 [01:27<01:44,  1.16it/s]\n",
      "\u001b[A"
     ]
    },
    {
     "name": "stdout",
     "output_type": "stream",
     "text": [
      "['A Gurugram district court on Monday reportedly sentenced a blind banker to 10 years in jail for allegedly raping a blind widow repeatedly on the pretext of marriage', 'Reportedly, the accused also pleaded for leniency on account of his blindness, but the court rejected it. The court relied upon voice identification to help the woman identify the accused, reports said.']\n",
      "Hey\n"
     ]
    },
    {
     "name": "stderr",
     "output_type": "stream",
     "text": [
      "\n",
      "Verarbeite Batches: 100%|██████████| 1/1 [00:00<00:00,  1.01it/s]\n",
      " 40%|████      | 80/200 [01:28<01:48,  1.11it/s]\n",
      "\u001b[A"
     ]
    },
    {
     "name": "stdout",
     "output_type": "stream",
     "text": [
      "['North Delhi Municipal Corporation has reportedly decided to develop e rickshaw charging points at select parking lots', 'Authorities reportedly plan to develop the charging points away from main roads to avoid jam, and expect to develop the facility at six locations by the end of August.']\n",
      "Hey\n"
     ]
    },
    {
     "name": "stderr",
     "output_type": "stream",
     "text": [
      "\n",
      "Verarbeite Batches: 100%|██████████| 1/1 [00:01<00:00,  1.44s/it]\n",
      " 40%|████      | 81/200 [01:30<02:06,  1.07s/it]\n",
      "\u001b[A"
     ]
    },
    {
     "name": "stdout",
     "output_type": "stream",
     "text": [
      "['A Delhi police officer has been suspended for allegedly getting drunk and masturbating before a woman constable at a training academy', 'A senior police officer has confirmed the incident and said a departmental inquiry is being conducted in this case.']\n",
      "Hey\n"
     ]
    },
    {
     "name": "stderr",
     "output_type": "stream",
     "text": [
      "\n",
      "Verarbeite Batches: 100%|██████████| 1/1 [00:01<00:00,  1.06s/it]\n",
      " 41%|████      | 82/200 [01:31<02:05,  1.07s/it]\n",
      "\u001b[A"
     ]
    },
    {
     "name": "stdout",
     "output_type": "stream",
     "text": [
      "['Professor Yash Pal, a renowned scientist, passed away at 90 on Monday night in a Noida hospital', 'He was known for his contribution to the study of cosmic rays at Tata Institute of Fundamental Research', 'He also featured in a famous science series, Turning Point, on Doordarshan.']\n",
      "Hey\n"
     ]
    },
    {
     "name": "stderr",
     "output_type": "stream",
     "text": [
      "\n",
      "Verarbeite Batches: 100%|██████████| 1/1 [00:01<00:00,  1.67s/it]\n",
      " 42%|████▏     | 83/200 [01:32<02:26,  1.25s/it]\n",
      "\u001b[A"
     ]
    },
    {
     "name": "stdout",
     "output_type": "stream",
     "text": [
      "['Italian footballer Antonio Cassano has announced his retirement for the second time in a week, after joining newly promoted side Verona two weeks back', 'The 35 year old joined Verona on July 10, but announced his retirement after a week, reversing it hours later, then retired again on Monday']\n",
      "Hey\n"
     ]
    },
    {
     "name": "stderr",
     "output_type": "stream",
     "text": [
      "\n",
      "Verarbeite Batches: 100%|██████████| 1/1 [00:01<00:00,  1.27s/it]\n",
      " 42%|████▏     | 84/200 [01:34<02:25,  1.26s/it]\n",
      "\u001b[A"
     ]
    },
    {
     "name": "stdout",
     "output_type": "stream",
     "text": [
      "['A recent video of Lashkar e Taiba co founder Amir Hamza has reportedly been recovered showing Hamza provoking jihadis to wage war in the northeastern states of India', '\"We will fight in Sikkim.we will fight in Srinagar,\" Hamza allegedly said in the video']\n",
      "Hey\n"
     ]
    },
    {
     "name": "stderr",
     "output_type": "stream",
     "text": [
      "\n",
      "Verarbeite Batches: 100%|██████████| 1/1 [00:00<00:00,  1.09it/s]\n",
      " 42%|████▎     | 85/200 [01:34<02:13,  1.16s/it]\n",
      "\u001b[A"
     ]
    },
    {
     "name": "stdout",
     "output_type": "stream",
     "text": [
      "['The Paris canal opened to swimmers after nearly a century was temporarily closed within a week due to pollution and \"unsatisfactory\" water quality', 'The temporary swimming zones at the canal were the culmination of a 10 year effort by officials to purify the canal water']\n",
      "Hey\n"
     ]
    },
    {
     "name": "stderr",
     "output_type": "stream",
     "text": [
      "\n",
      "Verarbeite Batches: 100%|██████████| 1/1 [00:01<00:00,  1.22s/it]\n",
      " 43%|████▎     | 86/200 [01:36<02:14,  1.18s/it]\n",
      "\u001b[A"
     ]
    },
    {
     "name": "stdout",
     "output_type": "stream",
     "text": [
      "['Swiss town of Schaffhausen was sealed off on Monday after a chainsaw attacker stormed an office building, injuring five people in a violent attack, according to reports', 'Confirming the identity of the assailant, police have launched a search operation to capture him']\n",
      "Hey\n"
     ]
    },
    {
     "name": "stderr",
     "output_type": "stream",
     "text": [
      "\n",
      "Verarbeite Batches: 100%|██████████| 1/1 [00:01<00:00,  1.31s/it]\n",
      " 44%|████▎     | 87/200 [01:37<02:17,  1.22s/it]\n",
      "\u001b[A"
     ]
    },
    {
     "name": "stdout",
     "output_type": "stream",
     "text": [
      "['Interestingly, during the last two years of his tenure, he used to teach class 11 and 12 students in the school inside the Rashtrapati Bhavan premises', 'A speaking museum was developed at the Rashtrapati Bhavan to narrate the buildings story.']\n",
      "Hey\n"
     ]
    },
    {
     "name": "stderr",
     "output_type": "stream",
     "text": [
      "\n",
      "Verarbeite Batches: 100%|██████████| 1/1 [00:01<00:00,  1.21s/it]\n",
      " 44%|████▍     | 88/200 [01:38<02:16,  1.22s/it]\n",
      "\u001b[A"
     ]
    },
    {
     "name": "stdout",
     "output_type": "stream",
     "text": [
      "['Outgoing President Pranab Mukherjee had discontinued the term His Excellency earlier used to address Presidents, during his tenure as the 13th President of the country', 'Further, he had also directed authorities to organise maximum events inside the Rashtrapati Bhavan to reduce inconvenience caused to the police and people.']\n",
      "Hey\n"
     ]
    },
    {
     "name": "stderr",
     "output_type": "stream",
     "text": [
      "\n",
      "Verarbeite Batches: 100%|██████████| 1/1 [00:01<00:00,  1.45s/it]\n",
      " 44%|████▍     | 89/200 [01:40<02:22,  1.29s/it]\n",
      "\u001b[A"
     ]
    },
    {
     "name": "stdout",
     "output_type": "stream",
     "text": [
      "['President elect Ram Nath Kovind, who will take the oath as the countrys 14th President, talked about his childhood, saying his election to the post \"is to represent all such Kovinds toiling away to make a living\"']\n",
      "Hey\n"
     ]
    },
    {
     "name": "stderr",
     "output_type": "stream",
     "text": [
      "\n",
      "Verarbeite Batches: 100%|██████████| 1/1 [00:00<00:00,  1.65it/s]\n",
      " 45%|████▌     | 90/200 [01:40<01:59,  1.08s/it]\n",
      "\u001b[A"
     ]
    },
    {
     "name": "stdout",
     "output_type": "stream",
     "text": [
      "['Hospital officials said that their salary payment and contract renewal had to be done by the Noida Authority, and the hospital was not responsible for it. The staff resumed their duties after the protests.']\n",
      "Hey\n"
     ]
    },
    {
     "name": "stderr",
     "output_type": "stream",
     "text": [
      "\n",
      "Verarbeite Batches: 100%|██████████| 1/1 [00:01<00:00,  1.09s/it]\n",
      " 46%|████▌     | 91/200 [01:41<01:58,  1.09s/it]\n",
      "\u001b[A"
     ]
    },
    {
     "name": "stdout",
     "output_type": "stream",
     "text": [
      "['A 9 year old South African child has become only the third known case worldwide to show signs of AIDS virus long term remission without any drugs', 'The child was given anti AIDS medicine for 10 months till the age of one which helped lower HIV levels from \"very high\" to undetectable']\n",
      "Hey\n"
     ]
    },
    {
     "name": "stderr",
     "output_type": "stream",
     "text": [
      "\n",
      "Verarbeite Batches: 100%|██████████| 1/1 [00:01<00:00,  1.27s/it]\n",
      " 46%|████▌     | 92/200 [01:43<02:03,  1.14s/it]\n",
      "\u001b[A"
     ]
    },
    {
     "name": "stdout",
     "output_type": "stream",
     "text": [
      "['\"Memes are helpful in establishing a connect with young people and they also popularise our on ground campaigns to counter drug addiction, ragging and cyber crimes,\" police said']\n",
      "Hey\n"
     ]
    },
    {
     "name": "stderr",
     "output_type": "stream",
     "text": [
      "\n",
      "Verarbeite Batches: 100%|██████████| 1/1 [00:01<00:00,  1.05s/it]\n",
      " 46%|████▋     | 93/200 [01:44<01:59,  1.11s/it]\n",
      "\u001b[A"
     ]
    },
    {
     "name": "stdout",
     "output_type": "stream",
     "text": [
      "['Railways, with the help of a startup, has also put up hoardings appealing passengers to become like Bhagat Singh, among other national icons by keeping the country clean.']\n",
      "Hey\n"
     ]
    },
    {
     "name": "stderr",
     "output_type": "stream",
     "text": [
      "\n",
      "Verarbeite Batches: 100%|██████████| 1/1 [00:00<00:00,  1.07it/s]\n",
      " 47%|████▋     | 94/200 [01:45<01:52,  1.06s/it]\n",
      "\u001b[A"
     ]
    },
    {
     "name": "stdout",
     "output_type": "stream",
     "text": [
      "['A Chandigarh hospitals doctors ruled out the possibility of abortion for a 10 year old rape victim who is nearly eight months pregnant', 'A Chandigarh district court had rejected the plea when she was six months pregnant.']\n",
      "Hey\n"
     ]
    },
    {
     "name": "stderr",
     "output_type": "stream",
     "text": [
      "\n",
      "Verarbeite Batches: 100%|██████████| 1/1 [00:01<00:00,  1.21s/it]\n",
      " 48%|████▊     | 95/200 [01:46<01:56,  1.11s/it]\n",
      "\u001b[A"
     ]
    },
    {
     "name": "stdout",
     "output_type": "stream",
     "text": [
      "['Additional Chief Secretary Sadakant issued letters to all magistrates \"modifying\" an advisory dated July 13 that ensured separate VVIP lanes, which he said, \"raised a number of questions\"', 'All existing facilities will benefit all citizens, he added.']\n",
      "Hey\n"
     ]
    },
    {
     "name": "stderr",
     "output_type": "stream",
     "text": [
      "\n",
      "Verarbeite Batches: 100%|██████████| 1/1 [00:01<00:00,  1.07s/it]\n",
      " 48%|████▊     | 96/200 [01:47<01:54,  1.10s/it]\n",
      "\u001b[A"
     ]
    },
    {
     "name": "stdout",
     "output_type": "stream",
     "text": [
      "['Premier League club Manchester City has signed French side AS Monacos Benjamin Mendy for £52 million (over .436 crore), making him the worlds most expensive defender', 'The 23 year old left back surpassed Kyle Walker, who recently signed for Manchester City from Tottenham Hotspur for over £45 million (around .377 crore)']\n",
      "Hey\n"
     ]
    },
    {
     "name": "stderr",
     "output_type": "stream",
     "text": [
      "\n",
      "Verarbeite Batches: 100%|██████████| 1/1 [00:01<00:00,  1.20s/it]\n",
      " 48%|████▊     | 97/200 [01:48<01:56,  1.13s/it]\n",
      "\u001b[A"
     ]
    },
    {
     "name": "stdout",
     "output_type": "stream",
     "text": [
      "['The wrestlers son said the Maharashtra government had planned an academy in 2009, but no action was taken']\n",
      "Hey\n"
     ]
    },
    {
     "name": "stderr",
     "output_type": "stream",
     "text": [
      "\n",
      "Verarbeite Batches: 100%|██████████| 1/1 [00:00<00:00,  1.68it/s]\n",
      " 49%|████▉     | 98/200 [01:49<01:38,  1.03it/s]\n",
      "\u001b[A"
     ]
    },
    {
     "name": "stdout",
     "output_type": "stream",
     "text": [
      "['Police officials said they did not find a suicide note and added that his body was handed over to his family after post mortem', 'Reports suggested that the victim suffered from depression.']\n",
      "Hey\n"
     ]
    },
    {
     "name": "stderr",
     "output_type": "stream",
     "text": [
      "\n",
      "Verarbeite Batches: 100%|██████████| 1/1 [00:00<00:00,  1.03it/s]\n",
      " 50%|████▉     | 99/200 [01:50<01:38,  1.03it/s]\n",
      "\u001b[A"
     ]
    },
    {
     "name": "stdout",
     "output_type": "stream",
     "text": [
      "['Delhis Indira Gandhi International Airport has become a transit point for drug trade with over 19 arrests at the airport so far this year, officials said', 'Narcotics Control Bureaus records show that 15 people were arrested for smuggling drugs this year in July, as compared to only two in July 2016.']\n",
      "Hey\n"
     ]
    },
    {
     "name": "stderr",
     "output_type": "stream",
     "text": [
      "\n",
      "Verarbeite Batches: 100%|██████████| 1/1 [00:01<00:00,  1.46s/it]\n",
      " 50%|█████     | 100/200 [01:51<01:51,  1.12s/it]\n",
      "\u001b[A"
     ]
    },
    {
     "name": "stdout",
     "output_type": "stream",
     "text": [
      "['Passengers are making their toddlers drag suitcases onboard to avoid paying the fee for checked in baggage, Ryanair Chief Financial Officer Neil Sorahan said', 'Irish airline Ryanair charges extra for checked in baggage, and travellers reportedly avoid this fee by carrying extra cabin luggage']\n",
      "Hey\n"
     ]
    },
    {
     "name": "stderr",
     "output_type": "stream",
     "text": [
      "\n",
      "Verarbeite Batches: 100%|██████████| 1/1 [00:01<00:00,  1.17s/it]\n",
      " 50%|█████     | 101/200 [01:52<01:52,  1.13s/it]\n",
      "\u001b[A"
     ]
    },
    {
     "name": "stdout",
     "output_type": "stream",
     "text": [
      "['\"How successful I was in discharging my responsibilities will be judged, over time, by the critical lens of history,\" he added.']\n",
      "Hey\n"
     ]
    },
    {
     "name": "stderr",
     "output_type": "stream",
     "text": [
      "\n",
      "Verarbeite Batches: 100%|██████████| 1/1 [00:00<00:00,  2.11it/s]\n",
      " 51%|█████     | 102/200 [01:53<01:31,  1.07it/s]\n",
      "\u001b[A"
     ]
    },
    {
     "name": "stdout",
     "output_type": "stream",
     "text": [
      "['The government had earlier released 100 files related to Netaji in January 2016.']\n",
      "Hey\n"
     ]
    },
    {
     "name": "stderr",
     "output_type": "stream",
     "text": [
      "\n",
      "Verarbeite Batches: 100%|██████████| 1/1 [00:00<00:00,  2.42it/s]\n",
      " 52%|█████▏    | 103/200 [01:53<01:15,  1.28it/s]\n",
      "\u001b[A"
     ]
    },
    {
     "name": "stdout",
     "output_type": "stream",
     "text": [
      "['A major fire broke out on Monday in Delhis Lok Nayak Bhawan complex, which houses several government offices including those of the CBI and Income Tax Department', 'The fire was allegedly sparked by a short circuit in an air conditioning unit on the fourth floor of the building']\n",
      "Hey\n"
     ]
    },
    {
     "name": "stderr",
     "output_type": "stream",
     "text": [
      "\n",
      "Verarbeite Batches: 100%|██████████| 1/1 [00:01<00:00,  1.17s/it]\n",
      " 52%|█████▏    | 104/200 [01:54<01:26,  1.11it/s]\n",
      "\u001b[A"
     ]
    },
    {
     "name": "stdout",
     "output_type": "stream",
     "text": [
      "['After being slammed for her tweet wherein she described the morning Azaan played on loudspeakers as \"extreme imposed religiosity\", singer Suchitra Krishnamoorthi said that after Sonu Nigams tweet, the azaan in her area has become louder']\n",
      "Hey\n"
     ]
    },
    {
     "name": "stderr",
     "output_type": "stream",
     "text": [
      "\n",
      "Verarbeite Batches: 100%|██████████| 1/1 [00:00<00:00,  1.77it/s]\n",
      " 52%|█████▎    | 105/200 [01:55<01:16,  1.25it/s]\n",
      "\u001b[A"
     ]
    },
    {
     "name": "stdout",
     "output_type": "stream",
     "text": [
      "['Maharashtras Barvi dam, which provides water to most cities in Thane district, has been filled up to 99% of its total capacity due to heavy rainfall', 'Notably, the height of the dam was increased in 2016 to accommodate more water stock']\n",
      "Hey\n"
     ]
    },
    {
     "name": "stderr",
     "output_type": "stream",
     "text": [
      "\n",
      "Verarbeite Batches: 100%|██████████| 1/1 [00:00<00:00,  1.50it/s]\n",
      " 53%|█████▎    | 106/200 [01:56<01:11,  1.31it/s]\n",
      "\u001b[A"
     ]
    },
    {
     "name": "stdout",
     "output_type": "stream",
     "text": [
      "['The police added that one accused was killed in an encounter with security forces earlier this month']\n",
      "Hey\n"
     ]
    },
    {
     "name": "stderr",
     "output_type": "stream",
     "text": [
      "\n",
      "Verarbeite Batches: 100%|██████████| 1/1 [00:00<00:00,  2.12it/s]\n",
      " 54%|█████▎    | 107/200 [01:56<01:02,  1.48it/s]\n",
      "\u001b[A"
     ]
    },
    {
     "name": "stdout",
     "output_type": "stream",
     "text": [
      "['Punjab Chief Minister Captain Amarinder Singhs mother Mohinder Kaur passed away aged 94 on Monday at her residence in Patiala after a prolonged illness']\n",
      "Hey\n"
     ]
    },
    {
     "name": "stderr",
     "output_type": "stream",
     "text": [
      "\n",
      "Verarbeite Batches: 100%|██████████| 1/1 [00:00<00:00,  1.41it/s]\n",
      " 54%|█████▍    | 108/200 [01:57<01:03,  1.46it/s]\n",
      "\u001b[A"
     ]
    },
    {
     "name": "stdout",
     "output_type": "stream",
     "text": [
      "['The South Delhi Municipal Corporation has proposed the construction of a six storey multilevel parking which can hold at least 180 cars at Defence Colony market to solve the issue of insufficient parking space', 'The parking, which will reportedly cost around .13.5 crore, was proposed as a part of the civic bodies market development project focusing on 70 South Delhi markets.']\n",
      "Hey\n"
     ]
    },
    {
     "name": "stderr",
     "output_type": "stream",
     "text": [
      "\n",
      "Verarbeite Batches: 100%|██████████| 1/1 [00:01<00:00,  1.72s/it]\n",
      " 55%|█████▍    | 109/200 [01:59<01:30,  1.00it/s]\n",
      "\u001b[A"
     ]
    },
    {
     "name": "stdout",
     "output_type": "stream",
     "text": [
      "['The New Delhi Municipal Corporation has announced that Gole Market near Connaught Place will be transformed into a museum to house materials of cultural and historical importance related to Delhi']\n",
      "Hey\n"
     ]
    },
    {
     "name": "stderr",
     "output_type": "stream",
     "text": [
      "\n",
      "Verarbeite Batches: 100%|██████████| 1/1 [00:00<00:00,  1.08it/s]\n",
      " 55%|█████▌    | 110/200 [01:59<01:27,  1.03it/s]\n",
      "\u001b[A"
     ]
    },
    {
     "name": "stdout",
     "output_type": "stream",
     "text": [
      "['A prolonged drought in Italy may lead to water rationing as the country faces its driest spring in 60 years, reports said', 'Water supply shutdowns could last as long as eight hours daily as some parts of the country received rainfall totalling 80% below normal, officials said']\n",
      "Hey\n"
     ]
    },
    {
     "name": "stderr",
     "output_type": "stream",
     "text": [
      "\n",
      "Verarbeite Batches: 100%|██████████| 1/1 [00:01<00:00,  1.21s/it]\n",
      " 56%|█████▌    | 111/200 [02:01<01:33,  1.05s/it]\n",
      "\u001b[A"
     ]
    },
    {
     "name": "stdout",
     "output_type": "stream",
     "text": [
      "['Microsoft has announced its long standing basic graphics editing program MS Paint will no longer be available with the next Windows 10 update called the Autumn Creators Update', 'MS Paints removal is a part of Microsofts plan to shut programs that are \"not in active development.\"']\n",
      "Hey\n"
     ]
    },
    {
     "name": "stderr",
     "output_type": "stream",
     "text": [
      "\n",
      "Verarbeite Batches: 100%|██████████| 1/1 [00:01<00:00,  1.18s/it]\n",
      " 56%|█████▌    | 112/200 [02:02<01:35,  1.09s/it]\n",
      "\u001b[A"
     ]
    },
    {
     "name": "stdout",
     "output_type": "stream",
     "text": [
      "['At least 20 people were killed and 30 others were injured on Monday in a suicide bomb blast in Lahore near the office of Pakistan PM Nawaz Sharifs brother and Punjab CM Shehbaz', 'The attack reportedly targeted police personnel deployed at the site and buildings near the blast site were evacuated']\n",
      "Hey\n"
     ]
    },
    {
     "name": "stderr",
     "output_type": "stream",
     "text": [
      "\n",
      "Verarbeite Batches: 100%|██████████| 1/1 [00:01<00:00,  1.18s/it]\n",
      " 56%|█████▋    | 113/200 [02:03<01:37,  1.12s/it]\n",
      "\u001b[A"
     ]
    },
    {
     "name": "stdout",
     "output_type": "stream",
     "text": [
      "['UK Foreign Secretary Boris Johnson likened a traditional Maori greeting, hongi, to a head butt while visiting indigenous leaders in New Zealand', 'Boris is visiting New Zealand as Britain aims to strengthen ties with it in preparation for Brexit.']\n",
      "Hey\n"
     ]
    },
    {
     "name": "stderr",
     "output_type": "stream",
     "text": [
      "\n",
      "Verarbeite Batches: 100%|██████████| 1/1 [00:01<00:00,  1.12s/it]\n",
      " 57%|█████▋    | 114/200 [02:04<01:36,  1.12s/it]\n",
      "\u001b[A"
     ]
    },
    {
     "name": "stdout",
     "output_type": "stream",
     "text": [
      "['A journalist has requested the Supreme Court to direct the government to let Sri Tirumala Tirupati Venkateswara temple exchange .8.29 crore of banned notes donated by devotees', 'The man, in his petition said, non acceptance of the devotees offerings was discriminatory and meant that their wishes will remain unfulfilled']\n",
      "Hey\n"
     ]
    },
    {
     "name": "stderr",
     "output_type": "stream",
     "text": [
      "\n",
      "Verarbeite Batches: 100%|██████████| 1/1 [00:01<00:00,  1.64s/it]\n",
      " 57%|█████▊    | 115/200 [02:06<01:48,  1.28s/it]\n",
      "\u001b[A"
     ]
    },
    {
     "name": "stdout",
     "output_type": "stream",
     "text": [
      "['Delhi state consumer panel has directed SBI to refund .1.29 lakh to a customer for not taking effective steps to block her stolen ATM card in 2006', 'It also imposed cost of .1 lakh on SBI for filing a \"frivolous\" appeal', 'Its a case of deficient service as the complainant hasnt received a single penny in 11 years, it noted.']\n",
      "Hey\n"
     ]
    },
    {
     "name": "stderr",
     "output_type": "stream",
     "text": [
      "\n",
      "Verarbeite Batches: 100%|██████████| 1/1 [00:01<00:00,  1.56s/it]\n",
      " 58%|█████▊    | 116/200 [02:07<01:54,  1.36s/it]\n",
      "\u001b[A"
     ]
    },
    {
     "name": "stdout",
     "output_type": "stream",
     "text": [
      "['E way bill would be rolled out after infrastructure is ready to employ RFID chips and QR codes to ensure speedy movement of goods', 'Under GST, e way bill is required to transport goods worth over .50,000.']\n",
      "Hey\n"
     ]
    },
    {
     "name": "stderr",
     "output_type": "stream",
     "text": [
      "\n",
      "Verarbeite Batches: 100%|██████████| 1/1 [00:01<00:00,  1.13s/it]\n",
      " 58%|█████▊    | 117/200 [02:08<01:47,  1.29s/it]\n",
      "\u001b[A"
     ]
    },
    {
     "name": "stdout",
     "output_type": "stream",
     "text": [
      "['British cyclist Chris Froome won his third consecutive and fourth overall Tour de France, finishing the race in 86 hours 20 minutes 55 seconds in Paris on Sunday', 'The 32 year old rider, who finished the event with a 54 second lead, has moved within one win of the all time record']\n",
      "Hey\n"
     ]
    },
    {
     "name": "stderr",
     "output_type": "stream",
     "text": [
      "\n",
      "Verarbeite Batches: 100%|██████████| 1/1 [00:01<00:00,  1.15s/it]\n",
      " 59%|█████▉    | 118/200 [02:10<01:42,  1.25s/it]\n",
      "\u001b[A"
     ]
    },
    {
     "name": "stdout",
     "output_type": "stream",
     "text": [
      "['The Pakistani origin terrorist behind the London Bridge terror attack, Khuram Butt, has reportedly been buried in secret without any rites or mourners after a number of UK cemeteries refused to accept the body', 'Butt masterminded the June attack in which he drove a van into pedestrians and stabbed people with a knife, killing eight and injuring 48 others.']\n",
      "Hey\n"
     ]
    },
    {
     "name": "stderr",
     "output_type": "stream",
     "text": [
      "\n",
      "Verarbeite Batches: 100%|██████████| 1/1 [00:01<00:00,  1.36s/it]\n",
      " 60%|█████▉    | 119/200 [02:11<01:44,  1.29s/it]\n",
      "\u001b[A"
     ]
    },
    {
     "name": "stdout",
     "output_type": "stream",
     "text": [
      "['Donald Trump is the first US President without a pet in the White House in nearly 150 years, in break with a long held tradition of presidential pet ownership', 'The last pet less US leader was Andrew Johnson who was impeached in 1868', 'US Presidents have owned conventional pets like cats and dogs, and also exotic animals like bears and tigers.n']\n",
      "Hey\n"
     ]
    },
    {
     "name": "stderr",
     "output_type": "stream",
     "text": [
      "\n",
      "Verarbeite Batches: 100%|██████████| 1/1 [00:01<00:00,  1.69s/it]\n",
      " 60%|██████    | 120/200 [02:13<01:52,  1.41s/it]\n",
      "\u001b[A"
     ]
    },
    {
     "name": "stdout",
     "output_type": "stream",
     "text": [
      "['Kiran and Mythili were reportedly in a relationship also, which Mythili is said to have ended when she got to know that Kumar was married']\n",
      "Hey\n"
     ]
    },
    {
     "name": "stderr",
     "output_type": "stream",
     "text": [
      "\n",
      "Verarbeite Batches: 100%|██████████| 1/1 [00:00<00:00,  1.19it/s]\n",
      " 60%|██████    | 121/200 [02:14<01:37,  1.24s/it]\n",
      "\u001b[A"
     ]
    },
    {
     "name": "stdout",
     "output_type": "stream",
     "text": [
      "['Actress Shabana Azmi has said that filmmakers should decide if they want to cut scenes in their film and not any board', 'She added that the Censor Board should only certify films and not censor scenes']\n",
      "Hey\n"
     ]
    },
    {
     "name": "stderr",
     "output_type": "stream",
     "text": [
      "\n",
      "Verarbeite Batches: 100%|██████████| 1/1 [00:00<00:00,  1.16it/s]\n",
      " 61%|██████    | 122/200 [02:14<01:27,  1.13s/it]\n",
      "\u001b[A"
     ]
    },
    {
     "name": "stdout",
     "output_type": "stream",
     "text": [
      "['His death appeared to be a \"heartbreaking accident\" as Snooty died after getting stuck in a maintenance hatch, South Florida Museum CEO Brynne Anne Besio said', 'staff, volunteers and board members considered him a star,\" Besio added']\n",
      "Hey\n"
     ]
    },
    {
     "name": "stderr",
     "output_type": "stream",
     "text": [
      "\n",
      "Verarbeite Batches: 100%|██████████| 1/1 [00:01<00:00,  1.28s/it]\n",
      " 62%|██████▏   | 123/200 [02:16<01:30,  1.17s/it]\n",
      "\u001b[A"
     ]
    },
    {
     "name": "stdout",
     "output_type": "stream",
     "text": [
      "['The Mumbai police on Saturday arrested a 39 year old man for allegedly flashing at a woman in Churchgate', 'The 30 year old woman raised an alarm when he allegedly overtook and flashed at her', 'The man was granted bail after he reportedly said that he was only fixing the zip of his trousers']\n",
      "Hey\n"
     ]
    },
    {
     "name": "stderr",
     "output_type": "stream",
     "text": [
      "\n",
      "Verarbeite Batches: 100%|██████████| 1/1 [00:01<00:00,  1.60s/it]\n",
      " 62%|██████▏   | 124/200 [02:17<01:38,  1.30s/it]\n",
      "\u001b[A"
     ]
    },
    {
     "name": "stdout",
     "output_type": "stream",
     "text": [
      "['The Noida authority has reportedly decided to name all lanes in villages under its jurisdiction for identification purposes and for improving civic facilities', 'Officials said that villages cannot be ignored because \"all areas are interconnected\" and poor civic amenities in villages affect urban areas too.']\n",
      "Hey\n"
     ]
    },
    {
     "name": "stderr",
     "output_type": "stream",
     "text": [
      "\n",
      "Verarbeite Batches: 100%|██████████| 1/1 [00:01<00:00,  1.39s/it]\n",
      " 62%|██████▎   | 125/200 [02:19<01:39,  1.33s/it]\n",
      "\u001b[A"
     ]
    },
    {
     "name": "stdout",
     "output_type": "stream",
     "text": [
      "['Mumbai police has reportedly refused to probe the money laundering case against former IPL commissioner Lalit Modi, and returned it to Chennai police saying that FIR was filed in Chennai', 'Seven years after the FIR, Chennai police in June transferred the case to Mumbai saying that as Mumbai police has territorial jurisdiction, it can conduct speedy investigation of the case.']\n",
      "Hey\n"
     ]
    },
    {
     "name": "stderr",
     "output_type": "stream",
     "text": [
      "\n",
      "Verarbeite Batches: 100%|██████████| 1/1 [00:01<00:00,  1.21s/it]\n",
      " 63%|██████▎   | 126/200 [02:20<01:35,  1.29s/it]\n",
      "\u001b[A"
     ]
    },
    {
     "name": "stdout",
     "output_type": "stream",
     "text": [
      "['Uttar Pradesh Power Minister Shrikant Sharma on Sunday launched free power connection schemes for BPL families at 624 places across the state', 'Sharma said that the scheme would also benefit those without BPL cards at present by charging .80 .120 from them to provide the power connection', 'The scheme would provide relief to middle class families with instalment payment facility, he added.']\n",
      "Hey\n"
     ]
    },
    {
     "name": "stderr",
     "output_type": "stream",
     "text": [
      "\n",
      "Verarbeite Batches: 100%|██████████| 1/1 [00:01<00:00,  1.62s/it]\n",
      " 64%|██████▎   | 127/200 [02:22<01:41,  1.39s/it]\n",
      "\u001b[A"
     ]
    },
    {
     "name": "stdout",
     "output_type": "stream",
     "text": [
      "['The Kerala High Court has rejected the bail plea of actor Dileep, who was arrested two weeks ago in connection with the abduction and assault on a Malayalam actress']\n",
      "Hey\n"
     ]
    },
    {
     "name": "stderr",
     "output_type": "stream",
     "text": [
      "\n",
      "Verarbeite Batches: 100%|██████████| 1/1 [00:01<00:00,  1.01s/it]\n",
      " 64%|██████▍   | 128/200 [02:23<01:32,  1.28s/it]\n",
      "\u001b[A"
     ]
    },
    {
     "name": "stdout",
     "output_type": "stream",
     "text": [
      "['Rishi Kapoor slammed director Anurag Basu for delaying Jagga Jasoos, and said the film was in post production even two days before release', 'He further said that in the entire process, he and Ranbir, whos the films co producer, are getting a bad name']\n",
      "Hey\n"
     ]
    },
    {
     "name": "stderr",
     "output_type": "stream",
     "text": [
      "\n",
      "Verarbeite Batches: 100%|██████████| 1/1 [00:01<00:00,  1.47s/it]\n",
      " 64%|██████▍   | 129/200 [02:24<01:34,  1.34s/it]\n",
      "\u001b[A"
     ]
    },
    {
     "name": "stdout",
     "output_type": "stream",
     "text": [
      "['Akshay Kumar has apologised for posting a picture of himself waving the Indian flag upside down while cheering for the Indian cricket team at Womens World Cup final', '\"Extending my sincerest apology for violating the code of conduct for the tricolour', 'India lost to England by nine runs.']\n",
      "Hey\n"
     ]
    },
    {
     "name": "stderr",
     "output_type": "stream",
     "text": [
      "\n",
      "Verarbeite Batches: 100%|██████████| 1/1 [00:01<00:00,  1.81s/it]\n",
      " 65%|██████▌   | 130/200 [02:26<01:43,  1.48s/it]\n",
      "\u001b[A"
     ]
    },
    {
     "name": "stdout",
     "output_type": "stream",
     "text": [
      "['Mumbais 172 year old Sir JJ Hospital on Sunday reportedly got its first case of cadaver donation when a 38 year old brain dead womans organs were donated by her family to the hospital']\n",
      "Hey\n"
     ]
    },
    {
     "name": "stderr",
     "output_type": "stream",
     "text": [
      "\n",
      "Verarbeite Batches: 100%|██████████| 1/1 [00:01<00:00,  1.15s/it]\n",
      " 66%|██████▌   | 131/200 [02:27<01:35,  1.38s/it]\n",
      "\u001b[A"
     ]
    },
    {
     "name": "stdout",
     "output_type": "stream",
     "text": [
      "['It was proposed because the demand for these licences was allegedly highest among the 18 24 age group applicants', 'Students have to be above 18 years of age for eligibility and score at least six out of ten marks in an online test.']\n",
      "Hey\n"
     ]
    },
    {
     "name": "stderr",
     "output_type": "stream",
     "text": [
      "\n",
      "Verarbeite Batches: 100%|██████████| 1/1 [00:01<00:00,  1.26s/it]\n",
      " 66%|██████▌   | 132/200 [02:28<01:31,  1.35s/it]\n",
      "\u001b[A"
     ]
    },
    {
     "name": "stdout",
     "output_type": "stream",
     "text": [
      "['A Maharashtra education board has introduced a compulsory six week internship in the last year of diploma engineering courses as part of a new curriculum', 'The decision was allegedly taken after the number of admission seeking students reportedly declined by 38% in the last two years.']\n",
      "Hey\n"
     ]
    },
    {
     "name": "stderr",
     "output_type": "stream",
     "text": [
      "\n",
      "Verarbeite Batches: 100%|██████████| 1/1 [00:01<00:00,  1.17s/it]\n",
      " 66%|██████▋   | 133/200 [02:29<01:26,  1.29s/it]\n",
      "\u001b[A"
     ]
    },
    {
     "name": "stdout",
     "output_type": "stream",
     "text": [
      "['Farmers organisations in Maharashtra will reportedly hold rasta roko (blockade) on August 14 to restart their protests to demand farm loan waiver', 'This comes after the farmers groups held a march in Pune to spread awareness about the alleged injustices to farmers']\n",
      "Hey\n"
     ]
    },
    {
     "name": "stderr",
     "output_type": "stream",
     "text": [
      "\n",
      "Verarbeite Batches: 100%|██████████| 1/1 [00:01<00:00,  1.26s/it]\n",
      " 67%|██████▋   | 134/200 [02:31<01:24,  1.28s/it]\n",
      "\u001b[A"
     ]
    },
    {
     "name": "stdout",
     "output_type": "stream",
     "text": [
      "['Sugandha further said that initially, good looking girls find it difficult doing comedy as theyre confused about negative portrayals, as is sometimes required in comedy shows.']\n",
      "Hey\n"
     ]
    },
    {
     "name": "stderr",
     "output_type": "stream",
     "text": [
      "\n",
      "Verarbeite Batches: 100%|██████████| 1/1 [00:00<00:00,  1.75it/s]\n",
      " 68%|██████▊   | 135/200 [02:31<01:09,  1.07s/it]\n",
      "\u001b[A"
     ]
    },
    {
     "name": "stdout",
     "output_type": "stream",
     "text": [
      "['Over 200 sheep plunged to their deaths from a 200 metre high cliff on the France Spain border, while reportedly trying to escape a brown bear', 'The bodies of 169 sheep were found in Spanish village Lladorre, while the rest were found in France', 'The flock of sheep, belonging to a French farmer, had panicked after the bear attacked one of them.']\n",
      "Hey\n"
     ]
    },
    {
     "name": "stderr",
     "output_type": "stream",
     "text": [
      "\n",
      "Verarbeite Batches: 100%|██████████| 1/1 [00:01<00:00,  1.72s/it]\n",
      " 68%|██████▊   | 136/200 [02:33<01:21,  1.27s/it]\n",
      "\u001b[A"
     ]
    },
    {
     "name": "stdout",
     "output_type": "stream",
     "text": [
      "['Maharashtra government on Sunday approved bank guarantees and loan related sanctions for four Mumbai Metro projects', 'They approved bank guarantee for Metro 4 and issued Debt Sustainability Certificate (DSC) for Metro 2A, Metro 2B and Metro 7 projects', 'This will help formalise the loan agreements with Asian Development Bank and Asian Infrastructure Investment Bank which are funding the projects.']\n",
      "Hey\n"
     ]
    },
    {
     "name": "stderr",
     "output_type": "stream",
     "text": [
      "\n",
      "Verarbeite Batches: 100%|██████████| 1/1 [00:01<00:00,  1.63s/it]\n",
      " 68%|██████▊   | 137/200 [02:35<01:26,  1.38s/it]\n",
      "\u001b[A"
     ]
    },
    {
     "name": "stdout",
     "output_type": "stream",
     "text": [
      "['The eight lane Hero Honda Chowk flyover of Gurugram was opened to traffic on Monday', 'The flyover is expected to smoothen the traffic movement for commuters, including those travelling between Jaipur and Delhi via Gurugram and Manesar', 'The construction of the 1.4 km flyover started in 2014 as part of a three layered crossing involving the flyover, underpass, and surface road.']\n",
      "Hey\n"
     ]
    },
    {
     "name": "stderr",
     "output_type": "stream",
     "text": [
      "\n",
      "Verarbeite Batches: 100%|██████████| 1/1 [00:01<00:00,  1.61s/it]\n",
      " 69%|██████▉   | 138/200 [02:36<01:29,  1.45s/it]\n",
      "\u001b[A"
     ]
    },
    {
     "name": "stdout",
     "output_type": "stream",
     "text": [
      "['The Indian Air Force on Sunday rescued a pregnant woman, newborn twins and their mother from a flooded village in Gujarat', 'An official said a Chetak helicopter reached the location within 45 minutes of receiving the evacuation request and flew them to a medical team waiting for them.']\n",
      "Hey\n"
     ]
    },
    {
     "name": "stderr",
     "output_type": "stream",
     "text": [
      "\n",
      "Verarbeite Batches: 100%|██████████| 1/1 [00:01<00:00,  1.43s/it]\n",
      " 70%|██████▉   | 139/200 [02:38<01:27,  1.44s/it]\n",
      "\u001b[A"
     ]
    },
    {
     "name": "stdout",
     "output_type": "stream",
     "text": [
      "['Prison officials in the Public Accounts Committee Meeting of Karnataka Legislative Assembly have agreed that AIADMK leader VK Sasikala was given special treatment in jail']\n",
      "Hey\n"
     ]
    },
    {
     "name": "stderr",
     "output_type": "stream",
     "text": [
      "\n",
      "Verarbeite Batches: 100%|██████████| 1/1 [00:00<00:00,  1.31it/s]\n",
      " 70%|███████   | 140/200 [02:38<01:14,  1.24s/it]\n",
      "\u001b[A"
     ]
    },
    {
     "name": "stdout",
     "output_type": "stream",
     "text": [
      "['Rajasthan Police busted a network of drivers and contractors who stole around 5 crore litres of crude oil from Cairn Indias Barmer oilfield in six years', 'The tanker operators authorised for transporting water carried oil in two of the five compartments inside the nearly 40,000 litre tanker, police said']\n",
      "Hey\n"
     ]
    },
    {
     "name": "stderr",
     "output_type": "stream",
     "text": [
      "\n",
      "Verarbeite Batches: 100%|██████████| 1/1 [00:01<00:00,  1.56s/it]\n",
      " 70%|███████   | 141/200 [02:40<01:18,  1.34s/it]\n",
      "\u001b[A"
     ]
    },
    {
     "name": "stdout",
     "output_type": "stream",
     "text": [
      "['The facility will reportedly benefit 3 crore students, who will be able to access the governments National Knowledge Network']\n",
      "Hey\n"
     ]
    },
    {
     "name": "stderr",
     "output_type": "stream",
     "text": [
      "\n",
      "Verarbeite Batches: 100%|██████████| 1/1 [00:00<00:00,  1.58it/s]\n",
      " 71%|███████   | 142/200 [02:41<01:05,  1.13s/it]\n",
      "\u001b[A"
     ]
    },
    {
     "name": "stdout",
     "output_type": "stream",
     "text": [
      "['Jawaharlal Nehru Universitys Vice Chancellor M Jagadesh Kumar has requested the government to get an Army tank for the campus to instill a feeling of nationalism in the students', '\"The tank will remind students of the great sacrifices and valour of Indian Army\", Kumar said']\n",
      "Hey\n"
     ]
    },
    {
     "name": "stderr",
     "output_type": "stream",
     "text": [
      "\n",
      "Verarbeite Batches: 100%|██████████| 1/1 [00:01<00:00,  1.40s/it]\n",
      " 72%|███████▏  | 143/200 [02:42<01:09,  1.21s/it]\n",
      "\u001b[A"
     ]
    },
    {
     "name": "stdout",
     "output_type": "stream",
     "text": [
      "['Outgoing President Pranab Mukherjee in his farewell speech on Sunday remembered Indira Gandhi, calling her a towering personality', 'He also mentioned an incident when on being asked about her gains after the Emergency, she replied, \"In those 21 months we comprehensively managed to alienate all sections of people\"']\n",
      "Hey\n"
     ]
    },
    {
     "name": "stderr",
     "output_type": "stream",
     "text": [
      "\n",
      "Verarbeite Batches: 100%|██████████| 1/1 [00:01<00:00,  1.76s/it]\n",
      " 72%|███████▏  | 144/200 [02:44<01:17,  1.38s/it]\n",
      "\u001b[A"
     ]
    },
    {
     "name": "stdout",
     "output_type": "stream",
     "text": [
      "['Stubbs, the cat which was elected as the honorary mayor of Alaskas town Talkeetna, passed away on Thursday night at the age of 20. Talkeetna, which is a town which has no human mayor, elected Stubbs in 1997']\n",
      "Hey\n"
     ]
    },
    {
     "name": "stderr",
     "output_type": "stream",
     "text": [
      "\n",
      "Verarbeite Batches: 100%|██████████| 1/1 [00:00<00:00,  1.24it/s]\n",
      " 72%|███████▎  | 145/200 [02:45<01:06,  1.21s/it]\n",
      "\u001b[A"
     ]
    },
    {
     "name": "stdout",
     "output_type": "stream",
     "text": [
      "['\"The WBBL has given exposure to two girls.If more girls participate in such leagues, it will give them experience and help them to improve their own game,\" said Mithali.']\n",
      "Hey\n"
     ]
    },
    {
     "name": "stderr",
     "output_type": "stream",
     "text": [
      "\n",
      "Verarbeite Batches: 100%|██████████| 1/1 [00:01<00:00,  1.02s/it]\n",
      " 73%|███████▎  | 146/200 [02:46<01:02,  1.15s/it]\n",
      "\u001b[A"
     ]
    },
    {
     "name": "stdout",
     "output_type": "stream",
     "text": [
      "['The girl was admitted to a hospital for head injuries but was declared dead on admission']\n",
      "Hey\n"
     ]
    },
    {
     "name": "stderr",
     "output_type": "stream",
     "text": [
      "\n",
      "Verarbeite Batches: 100%|██████████| 1/1 [00:00<00:00,  1.88it/s]\n",
      " 74%|███████▎  | 147/200 [02:46<00:51,  1.03it/s]\n",
      "\u001b[A"
     ]
    },
    {
     "name": "stdout",
     "output_type": "stream",
     "text": [
      "['The Aviation Ministry has issued an order withdrawing the direct runway access given to Rashtriya Janata Dal chief Lalu Yadav and his wife Rabri Devi at the Patna airport, according to reports']\n",
      "Hey\n"
     ]
    },
    {
     "name": "stderr",
     "output_type": "stream",
     "text": [
      "\n",
      "Verarbeite Batches: 100%|██████████| 1/1 [00:00<00:00,  1.40it/s]\n",
      " 74%|███████▍  | 148/200 [02:47<00:46,  1.12it/s]\n",
      "\u001b[A"
     ]
    },
    {
     "name": "stdout",
     "output_type": "stream",
     "text": [
      "['The drugs, worth .2 crore, were found in his bag and were hidden in a cavity made of cardboard.']\n",
      "Hey\n"
     ]
    },
    {
     "name": "stderr",
     "output_type": "stream",
     "text": [
      "\n",
      "Verarbeite Batches: 100%|██████████| 1/1 [00:00<00:00,  1.41it/s]\n",
      " 74%|███████▍  | 149/200 [02:48<00:42,  1.19it/s]\n",
      "\u001b[A"
     ]
    },
    {
     "name": "stdout",
     "output_type": "stream",
     "text": [
      "['Indian shuttler HS Prannoy won the US Open Grand Prix Gold tournament after defeating Parupalli Kashyap in an all India final on Sunday']\n",
      "Hey\n"
     ]
    },
    {
     "name": "stderr",
     "output_type": "stream",
     "text": [
      "\n",
      "Verarbeite Batches: 100%|██████████| 1/1 [00:00<00:00,  1.34it/s]\n",
      " 75%|███████▌  | 150/200 [02:48<00:40,  1.23it/s]\n",
      "\u001b[A"
     ]
    },
    {
     "name": "stdout",
     "output_type": "stream",
     "text": [
      "['A youth in Madhya Pradeshs Shivpuri district was allegedly forced to eat shit after being accused of harassing a girl', '\"Police said forcing to eat excreta is nothing, it is done just to insult someone,\" he said', 'The police said both the families tried resolving the issue, but later registered cases.']\n",
      "Hey\n"
     ]
    },
    {
     "name": "stderr",
     "output_type": "stream",
     "text": [
      "\n",
      "Verarbeite Batches: 100%|██████████| 1/1 [00:01<00:00,  1.78s/it]\n",
      " 76%|███████▌  | 151/200 [02:50<00:54,  1.10s/it]\n",
      "\u001b[A"
     ]
    },
    {
     "name": "stdout",
     "output_type": "stream",
     "text": [
      "['China opened a cinema hall on Yongxing Island in the disputed South China Sea on Saturday, not far from where an American warship sailed earlier this month', 'Over 200 residents and soldiers attended an inaugural screening of the Chinese movie The Eternity of Jiao Yulu', 'Several countries, including the Philippines and Malaysia, have territorial claims over the South China Sea.']\n",
      "Hey\n"
     ]
    },
    {
     "name": "stderr",
     "output_type": "stream",
     "text": [
      "\n",
      "Verarbeite Batches: 100%|██████████| 1/1 [00:01<00:00,  1.63s/it]\n",
      " 76%|███████▌  | 152/200 [02:52<01:00,  1.26s/it]\n",
      "\u001b[A"
     ]
    },
    {
     "name": "stdout",
     "output_type": "stream",
     "text": [
      "['US President Donald Trump has attacked The New York Times in a tweet, alleging that one of its reports led to the failure of a US bid to capture ISIS leader Abu Bakr al Baghdadi', 'However, US media suggested Trump was referring to a Fox News report which allegedly leaked information about US efforts to capture Baghdadi.']\n",
      "Hey\n"
     ]
    },
    {
     "name": "stderr",
     "output_type": "stream",
     "text": [
      "\n",
      "Verarbeite Batches: 100%|██████████| 1/1 [00:01<00:00,  1.11s/it]\n",
      " 76%|███████▋  | 153/200 [02:53<00:57,  1.22s/it]\n",
      "\u001b[A"
     ]
    },
    {
     "name": "stdout",
     "output_type": "stream",
     "text": [
      "['Maharashtra and Rajasthan recorded the highest number of cases of child marriage, according to a National Commission for Protection of Child Rights report', 'Of the 70 districts identified with high incidents of child marriage, 17 are in Maharashtra, followed by 13 in Rajasthan', 'Notably, 326 child marriages were reported in 2016, up from the 293 cases in 2015.']\n",
      "Hey\n"
     ]
    },
    {
     "name": "stderr",
     "output_type": "stream",
     "text": [
      "\n",
      "Verarbeite Batches: 100%|██████████| 1/1 [00:01<00:00,  1.54s/it]\n",
      " 77%|███████▋  | 154/200 [02:54<01:00,  1.32s/it]\n",
      "\u001b[A"
     ]
    },
    {
     "name": "stdout",
     "output_type": "stream",
     "text": [
      "['The Maharashtra government has lifted the ban on the sale of paan masala until a single member committee decides on the matter', 'Public health experts urged the government to reconsider its decision adding that paan masala is harmful to health and permitting its sale was shocking']\n",
      "Hey\n"
     ]
    },
    {
     "name": "stderr",
     "output_type": "stream",
     "text": [
      "\n",
      "Verarbeite Batches: 100%|██████████| 1/1 [00:01<00:00,  1.41s/it]\n",
      " 78%|███████▊  | 155/200 [02:56<01:00,  1.35s/it]\n",
      "\u001b[A"
     ]
    },
    {
     "name": "stdout",
     "output_type": "stream",
     "text": [
      "['After 19 Mumbai suburban railway stations were equipped with free WiFi earlier this month, the authorities said they were receiving complaints of non commuters and miscreants using the facility to watch porn']\n",
      "Hey\n"
     ]
    },
    {
     "name": "stderr",
     "output_type": "stream",
     "text": [
      "\n",
      "Verarbeite Batches: 100%|██████████| 1/1 [00:01<00:00,  1.04s/it]\n",
      " 78%|███████▊  | 156/200 [02:57<00:55,  1.26s/it]\n",
      "\u001b[A"
     ]
    },
    {
     "name": "stdout",
     "output_type": "stream",
     "text": [
      "['Over four lakh saplings have been planted by the New Delhi Municipal Council (NDMC) as a part of its green drive which began earlier this month', 'The NDMC aims to plant a total of 10 lakh indigenous trees such as babul, ber, amaltas, and peepal this monsoon']\n",
      "Hey\n"
     ]
    },
    {
     "name": "stderr",
     "output_type": "stream",
     "text": [
      "\n",
      "Verarbeite Batches: 100%|██████████| 1/1 [00:01<00:00,  1.12s/it]\n",
      " 78%|███████▊  | 157/200 [02:58<00:52,  1.22s/it]\n",
      "\u001b[A"
     ]
    },
    {
     "name": "stdout",
     "output_type": "stream",
     "text": [
      "['Ganesh mandals across Mumbai have been demanding that noise norms in Silent Zones of the city should be relaxed for Ganeshotsav', 'Notably, the state government has also asked for relaxation of Silence Zones norms ahead of the festival.']\n",
      "Hey\n"
     ]
    },
    {
     "name": "stderr",
     "output_type": "stream",
     "text": [
      "\n",
      "Verarbeite Batches: 100%|██████████| 1/1 [00:01<00:00,  1.37s/it]\n",
      " 79%|███████▉  | 158/200 [02:59<00:53,  1.26s/it]\n",
      "\u001b[A"
     ]
    },
    {
     "name": "stdout",
     "output_type": "stream",
     "text": [
      "['After banning maids from entering the society following protests over an allegedly missing maid, Noidas Mahagun Moderne Society has reportedly allowed them to resume work', 'It was earlier decided that maids who participated in the protest will not be allowed to resume work, but many maids were reportedly hired again after the residents took responsibility for them.']\n",
      "Hey\n"
     ]
    },
    {
     "name": "stderr",
     "output_type": "stream",
     "text": [
      "\n",
      "Verarbeite Batches: 100%|██████████| 1/1 [00:00<00:00,  1.12it/s]\n",
      " 80%|███████▉  | 159/200 [03:00<00:47,  1.15s/it]\n",
      "\u001b[A"
     ]
    },
    {
     "name": "stdout",
     "output_type": "stream",
     "text": [
      "['The Gurugram Police on Thursday arrested a man belonging to the Rewari based Aloo gang for allegedly possessing illegal arms and recovered two country made pistols and 12 live cartridges']\n",
      "Hey\n"
     ]
    },
    {
     "name": "stderr",
     "output_type": "stream",
     "text": [
      "\n",
      "Verarbeite Batches: 100%|██████████| 1/1 [00:00<00:00,  1.17it/s]\n",
      " 80%|████████  | 160/200 [03:01<00:42,  1.06s/it]\n",
      "\u001b[A"
     ]
    },
    {
     "name": "stdout",
     "output_type": "stream",
     "text": [
      "['An activist has launched an online petition to save over 1,700 trees in Delhis Pragati Maidan from being cut down', 'This comes after an RTI response revealed that the Delhi Forest Department had allowed cutting the trees to construct an exhibition centre']\n",
      "Hey\n"
     ]
    },
    {
     "name": "stderr",
     "output_type": "stream",
     "text": [
      "\n",
      "Verarbeite Batches: 100%|██████████| 1/1 [00:01<00:00,  1.07s/it]\n",
      " 80%|████████  | 161/200 [03:02<00:41,  1.07s/it]\n",
      "\u001b[A"
     ]
    },
    {
     "name": "stdout",
     "output_type": "stream",
     "text": [
      "['Neither the girls parents nor her teachers and classmates were aware of her 26 week pregnancy, reports said', 'Police said the girl was impregnated by her 51 year old neighbour, who raped her eight times in as many months.']\n",
      "Hey\n"
     ]
    },
    {
     "name": "stderr",
     "output_type": "stream",
     "text": [
      "\n",
      "Verarbeite Batches: 100%|██████████| 1/1 [00:01<00:00,  1.20s/it]\n",
      " 81%|████████  | 162/200 [03:03<00:42,  1.11s/it]\n",
      "\u001b[A"
     ]
    },
    {
     "name": "stdout",
     "output_type": "stream",
     "text": [
      "['Mumbais Byculla zoo on Friday celebrated the second birthday of Mr Molt, one of the eight penguins brought from South Korea', 'After some activists spoke against dressing up the penguin, the zoo authorities clarified that the penguin wore the shirt just \"for a few seconds\".']\n",
      "Hey\n"
     ]
    },
    {
     "name": "stderr",
     "output_type": "stream",
     "text": [
      "\n",
      "Verarbeite Batches: 100%|██████████| 1/1 [00:01<00:00,  1.34s/it]\n",
      " 82%|████████▏ | 163/200 [03:05<00:43,  1.18s/it]\n",
      "\u001b[A"
     ]
    },
    {
     "name": "stdout",
     "output_type": "stream",
     "text": [
      "['A two year old boy was attacked and killed by a leopard while he was out for a walk with his family on Saturday in Mumbai']\n",
      "Hey\n"
     ]
    },
    {
     "name": "stderr",
     "output_type": "stream",
     "text": [
      "\n",
      "Verarbeite Batches: 100%|██████████| 1/1 [00:00<00:00,  1.21it/s]\n",
      " 82%|████████▏ | 164/200 [03:06<00:38,  1.07s/it]\n",
      "\u001b[A"
     ]
    },
    {
     "name": "stdout",
     "output_type": "stream",
     "text": [
      "['The woman, a former anchor with Doordarshan, was admitted to a hospital with head injuries but didnt survive', 'The authorities allegedly didnt take action even after the locals had asked them to cut down the tilted tree.']\n",
      "Hey\n"
     ]
    },
    {
     "name": "stderr",
     "output_type": "stream",
     "text": [
      "\n",
      "Verarbeite Batches: 100%|██████████| 1/1 [00:01<00:00,  1.01s/it]\n",
      " 82%|████████▎ | 165/200 [03:07<00:36,  1.05s/it]\n",
      "\u001b[A"
     ]
    },
    {
     "name": "stdout",
     "output_type": "stream",
     "text": [
      "['Over 3,900 illegal websites were shut down by Chinas Internet watchdogs from April to June this year, according to reports', 'The websites included those that published content which jeopardised national security, and those that spread violence, vulgarity or ungrounded rumours, Cyberspace Administration of China said', 'Notably, China operates the worlds largest Internet censorship regime.']\n",
      "Hey\n"
     ]
    },
    {
     "name": "stderr",
     "output_type": "stream",
     "text": [
      "\n",
      "Verarbeite Batches: 100%|██████████| 1/1 [00:01<00:00,  1.53s/it]\n",
      " 83%|████████▎ | 166/200 [03:08<00:40,  1.20s/it]\n",
      "\u001b[A"
     ]
    },
    {
     "name": "stdout",
     "output_type": "stream",
     "text": [
      "['NDA Vice Presidential nominee Venkaiah Naidu on Sunday said that Pakistan should \"recall what happened in 1971,\" and focus on their own country and maintain peace there', '\"Pakistan is mixing terrorism with religion', 'It has unfortunately become Pakistans state policy,\" he added', 'India had won the 13 day war against Pakistan in 1971, which resulted in the liberation of Bangladesh']\n",
      "Hey\n"
     ]
    },
    {
     "name": "stderr",
     "output_type": "stream",
     "text": [
      "\n",
      "Verarbeite Batches: 100%|██████████| 1/1 [00:01<00:00,  1.63s/it]\n",
      " 84%|████████▎ | 167/200 [03:10<00:43,  1.33s/it]\n",
      "\u001b[A"
     ]
    },
    {
     "name": "stdout",
     "output_type": "stream",
     "text": [
      "['Gay men in England will be allowed to donate blood three months after having sex instead of a year, under equalities reforms announced by the government', 'Notably, a lifetime ban had been imposed on gay and bisexual men donating blood across the UK during the 1980s AIDS crisis.']\n",
      "Hey\n"
     ]
    },
    {
     "name": "stderr",
     "output_type": "stream",
     "text": [
      "\n",
      "Verarbeite Batches: 100%|██████████| 1/1 [00:01<00:00,  1.42s/it]\n",
      " 84%|████████▍ | 168/200 [03:11<00:43,  1.36s/it]\n",
      "\u001b[A"
     ]
    },
    {
     "name": "stdout",
     "output_type": "stream",
     "text": [
      "['Tomatoes are reportedly being protected by armed guards in Indore after prices soared due to a shortage']\n",
      "Hey\n"
     ]
    },
    {
     "name": "stderr",
     "output_type": "stream",
     "text": [
      "\n",
      "Verarbeite Batches: 100%|██████████| 1/1 [00:00<00:00,  1.60it/s]\n",
      " 84%|████████▍ | 169/200 [03:12<00:35,  1.14s/it]\n",
      "\u001b[A"
     ]
    },
    {
     "name": "stdout",
     "output_type": "stream",
     "text": [
      "['She added, \"We have grown up watching Salman so we have this wow image about him.\" Notably, Taapsee and Amitabh were seen together in the 2016 courtroom drama Pink']\n",
      "Hey\n"
     ]
    },
    {
     "name": "stderr",
     "output_type": "stream",
     "text": [
      "\n",
      "Verarbeite Batches: 100%|██████████| 1/1 [00:01<00:00,  1.08s/it]\n",
      " 85%|████████▌ | 170/200 [03:13<00:33,  1.12s/it]\n",
      "\u001b[A"
     ]
    },
    {
     "name": "stdout",
     "output_type": "stream",
     "text": [
      "['The Maharashtra government is reportedly planning to start operations at 9 city airports under the Centre.s Regional Connectivity Scheme, to make travel to smaller cities easier']\n",
      "Hey\n"
     ]
    },
    {
     "name": "stderr",
     "output_type": "stream",
     "text": [
      "\n",
      "Verarbeite Batches: 100%|██████████| 1/1 [00:00<00:00,  1.69it/s]\n",
      " 86%|████████▌ | 171/200 [03:13<00:27,  1.04it/s]\n",
      "\u001b[A"
     ]
    },
    {
     "name": "stdout",
     "output_type": "stream",
     "text": [
      "['The police on Saturday arrested three persons from a gang of five alleged criminals in Greater Noida, after a shootout in which one of them was injured and two managed to flee']\n",
      "Hey\n"
     ]
    },
    {
     "name": "stderr",
     "output_type": "stream",
     "text": [
      "\n",
      "Verarbeite Batches: 100%|██████████| 1/1 [00:00<00:00,  1.77it/s]\n",
      " 86%|████████▌ | 172/200 [03:14<00:23,  1.18it/s]\n",
      "\u001b[A"
     ]
    },
    {
     "name": "stdout",
     "output_type": "stream",
     "text": [
      "['The Women and Child Development Ministry has proposed that it should be compulsory for both boys and girls to study home science and physical education in school, in order to promote gender sensitivity']\n",
      "Hey\n"
     ]
    },
    {
     "name": "stderr",
     "output_type": "stream",
     "text": [
      "\n",
      "Verarbeite Batches: 100%|██████████| 1/1 [00:00<00:00,  1.35it/s]\n",
      " 86%|████████▋ | 173/200 [03:15<00:22,  1.23it/s]\n",
      "\u001b[A"
     ]
    },
    {
     "name": "stdout",
     "output_type": "stream",
     "text": [
      "['The Bombay High Court has directed the Maharashtra government to frame a comprehensive policy to regulate adventure sports in the state within three months', 'This came after petitioners claimed that the existing government resolution regulating adventure sports across Maharashtra was not being implemented effectively and that several provisions of the resolution were impractical.']\n",
      "Hey\n"
     ]
    },
    {
     "name": "stderr",
     "output_type": "stream",
     "text": [
      "\n",
      "Verarbeite Batches: 100%|██████████| 1/1 [00:00<00:00,  1.02it/s]\n",
      " 87%|████████▋ | 174/200 [03:16<00:22,  1.16it/s]\n",
      "\u001b[A"
     ]
    },
    {
     "name": "stdout",
     "output_type": "stream",
     "text": [
      "['The Indian Railway Catering and Tourism Corporation plans to install 1,100 water vending machines at 450 railway stations in 2017 18. A 300 ml glass of water from these machines will cost .1, while a litre will cost .5 and two litres will cost .8']\n",
      "Hey\n"
     ]
    },
    {
     "name": "stderr",
     "output_type": "stream",
     "text": [
      "\n",
      "Verarbeite Batches: 100%|██████████| 1/1 [00:01<00:00,  1.29s/it]\n",
      " 88%|████████▊ | 175/200 [03:17<00:24,  1.01it/s]\n",
      "\u001b[A"
     ]
    },
    {
     "name": "stdout",
     "output_type": "stream",
     "text": [
      "['During his farewell speech on Sunday, outgoing President Pranab Mukherjee said that he was a creation of the Parliament', '\"The Parliament gave a direction to my political vision as I got to learn a lot from the serious discussions held in both Houses of the Parliament,\" he added']\n",
      "Hey\n"
     ]
    },
    {
     "name": "stderr",
     "output_type": "stream",
     "text": [
      "\n",
      "Verarbeite Batches: 100%|██████████| 1/1 [00:01<00:00,  1.33s/it]\n",
      " 88%|████████▊ | 176/200 [03:18<00:26,  1.09s/it]\n",
      "\u001b[A"
     ]
    },
    {
     "name": "stdout",
     "output_type": "stream",
     "text": [
      "['The farmers reportedly justified their demand by quoting the .1 crore acquisition rate in Mumbai Goa highway project and .52 lakh to .5.2 crore per hectare rate in Mumbai Nagpur expressway project.']\n",
      "Hey\n"
     ]
    },
    {
     "name": "stderr",
     "output_type": "stream",
     "text": [
      "\n",
      "Verarbeite Batches: 100%|██████████| 1/1 [00:00<00:00,  1.10it/s]\n",
      " 88%|████████▊ | 177/200 [03:19<00:23,  1.04s/it]\n",
      "\u001b[A"
     ]
    },
    {
     "name": "stdout",
     "output_type": "stream",
     "text": [
      "['Hollywood actress Bella Thorne has clarified that she isnt the woman in a viral sex tape, which reportedly featured her masturbating, while tweeting, \"You guys think this is real.\" The video shows the girl saying, \"I really need a father.\" Bella called it the videos worst part as it made fun of the fact that she lost her father.']\n",
      "Hey\n"
     ]
    },
    {
     "name": "stderr",
     "output_type": "stream",
     "text": [
      "\n",
      "Verarbeite Batches: 100%|██████████| 1/1 [00:01<00:00,  1.44s/it]\n",
      " 89%|████████▉ | 178/200 [03:21<00:25,  1.16s/it]\n",
      "\u001b[A"
     ]
    },
    {
     "name": "stdout",
     "output_type": "stream",
     "text": [
      "['Comedian and television host Krushna Abhishek has said that Kapil Sharma just gives one liners while adding, \"I do performances.\" He further said, \"Does he perform for one hour in his show']\n",
      "Hey\n"
     ]
    },
    {
     "name": "stderr",
     "output_type": "stream",
     "text": [
      "\n",
      "Verarbeite Batches: 100%|██████████| 1/1 [00:01<00:00,  1.13s/it]\n",
      " 90%|████████▉ | 179/200 [03:22<00:24,  1.15s/it]\n",
      "\u001b[A"
     ]
    },
    {
     "name": "stdout",
     "output_type": "stream",
     "text": [
      "['Shahid Kapoor, while speaking about the failure of Rangoon, said he cannot take ownership of the film', '\"Rangoon as a film had many energies and many people', 'Im happy my part was appreciated but Im sad for the film not doing well,\" he added']\n",
      "Hey\n"
     ]
    },
    {
     "name": "stderr",
     "output_type": "stream",
     "text": [
      "\n",
      "Verarbeite Batches: 100%|██████████| 1/1 [00:01<00:00,  1.26s/it]\n",
      " 90%|█████████ | 180/200 [03:23<00:23,  1.19s/it]\n",
      "\u001b[A"
     ]
    },
    {
     "name": "stdout",
     "output_type": "stream",
     "text": [
      "['Actress Nandita Das has said that be it films, advertisements or television, India portrays fair people in a country that is largely dark']\n",
      "Hey\n"
     ]
    },
    {
     "name": "stderr",
     "output_type": "stream",
     "text": [
      "\n",
      "Verarbeite Batches: 100%|██████████| 1/1 [00:00<00:00,  1.25it/s]\n",
      " 90%|█████████ | 181/200 [03:24<00:20,  1.07s/it]\n",
      "\u001b[A"
     ]
    },
    {
     "name": "stdout",
     "output_type": "stream",
     "text": [
      "['Delhi Metros non executive staff called off their strike on Sunday after a meeting with the Managing Director and other senior officials at Delhi Metro Rail Corporation.The employees had been demanding a salary increase and rolling back of action against staff council members']\n",
      "Hey\n"
     ]
    },
    {
     "name": "stderr",
     "output_type": "stream",
     "text": [
      "\n",
      "Verarbeite Batches: 100%|██████████| 1/1 [00:01<00:00,  1.22s/it]\n",
      " 91%|█████████ | 182/200 [03:25<00:20,  1.12s/it]\n",
      "\u001b[A"
     ]
    },
    {
     "name": "stdout",
     "output_type": "stream",
     "text": [
      "['Musician Wuilly Arteaga, who became the face of anti government protests in Venezuela, has promised to \"be back in the streets\" after he was injured in clashes on Saturday']\n",
      "Hey\n"
     ]
    },
    {
     "name": "stderr",
     "output_type": "stream",
     "text": [
      "\n",
      "Verarbeite Batches: 100%|██████████| 1/1 [00:00<00:00,  1.30it/s]\n",
      " 92%|█████████▏| 183/200 [03:26<00:17,  1.01s/it]\n",
      "\u001b[A"
     ]
    },
    {
     "name": "stdout",
     "output_type": "stream",
     "text": [
      "['The CAG has criticised Railways over improper cleanliness and management of linen, and suggested putting in place a mechanism to ensure strict compliance to norms', 'The CAG added at many storage depots, fresh linen was stored haphazardly and was exposed to dirt and contamination.']\n",
      "Hey\n"
     ]
    },
    {
     "name": "stderr",
     "output_type": "stream",
     "text": [
      "\n",
      "Verarbeite Batches: 100%|██████████| 1/1 [00:01<00:00,  1.61s/it]\n",
      " 92%|█████████▏| 184/200 [03:28<00:19,  1.19s/it]\n",
      "\u001b[A"
     ]
    },
    {
     "name": "stdout",
     "output_type": "stream",
     "text": [
      "['Around 26 Chartered Accountants have come under the Institute of Chartered Accountants scanner over alleged links with shell companies', 'Notably, ICAI can initiate disciplinary proceedings against members including suspension and cancelling of their registration.']\n",
      "Hey\n"
     ]
    },
    {
     "name": "stderr",
     "output_type": "stream",
     "text": [
      "\n",
      "Verarbeite Batches: 100%|██████████| 1/1 [00:00<00:00,  1.31it/s]\n",
      " 92%|█████████▎| 185/200 [03:28<00:15,  1.07s/it]\n",
      "\u001b[A"
     ]
    },
    {
     "name": "stdout",
     "output_type": "stream",
     "text": [
      "['The proposed National Anti Profiteering Authority under GST regime will take up those cases where the financial implication of undue profit is over .1 crore having national or mass impact, while the rest would be transferred to the state screening authority']\n",
      "Hey\n"
     ]
    },
    {
     "name": "stderr",
     "output_type": "stream",
     "text": [
      "\n",
      "Verarbeite Batches: 100%|██████████| 1/1 [00:01<00:00,  1.18s/it]\n",
      " 93%|█████████▎| 186/200 [03:30<00:15,  1.10s/it]\n",
      "\u001b[A"
     ]
    },
    {
     "name": "stdout",
     "output_type": "stream",
     "text": [
      "['The tribunal found no individual could receive compensation equal to the loss actually suffered', 'Had it been allowed, the case would have been the largest and most complex in British legal history.']\n",
      "Hey\n"
     ]
    },
    {
     "name": "stderr",
     "output_type": "stream",
     "text": [
      "\n",
      "Verarbeite Batches: 100%|██████████| 1/1 [00:01<00:00,  1.00s/it]\n",
      " 94%|█████████▎| 187/200 [03:31<00:13,  1.07s/it]\n",
      "\u001b[A"
     ]
    },
    {
     "name": "stdout",
     "output_type": "stream",
     "text": [
      "['Indias biggest listed blue chip firms are paying their top executives salaries of up to 1,200 times the median employee remunerations, disclosures by top listed firms revealed', 'The pay packages of senior most personnel rose at most private firms during 2016 17. Among the major Sensex firms, Lupin saw the ratio between the Chairman remuneration and the median employee remuneration at 1,263 times.']\n",
      "Hey\n"
     ]
    },
    {
     "name": "stderr",
     "output_type": "stream",
     "text": [
      "\n",
      "Verarbeite Batches: 100%|██████████| 1/1 [00:01<00:00,  1.08s/it]\n",
      " 94%|█████████▍| 188/200 [03:32<00:12,  1.08s/it]\n",
      "\u001b[A"
     ]
    },
    {
     "name": "stdout",
     "output_type": "stream",
     "text": [
      "['Veteran Congress leader M Veerappa Moily has said Madhur Bhandarkars film on 1975 77 Emergency Indu Sarkar will hurt Congressmens sentiments and thats what PM Narendra Modi wants', 'All these ruinous activities help in exit of BJP,\" he added']\n",
      "Hey\n"
     ]
    },
    {
     "name": "stderr",
     "output_type": "stream",
     "text": [
      "\n",
      "Verarbeite Batches: 100%|██████████| 1/1 [00:01<00:00,  1.41s/it]\n",
      " 94%|█████████▍| 189/200 [03:33<00:12,  1.18s/it]\n",
      "\u001b[A"
     ]
    },
    {
     "name": "stdout",
     "output_type": "stream",
     "text": [
      "['\"Were trying to show a very human side of Sanjay Dutt, his perils, his downfall, his time in jail, terrorism charges, his drug phase.,\" he added', 'Ranbir further said Dutt has never been a hypocrite about his life.']\n",
      "Hey\n"
     ]
    },
    {
     "name": "stderr",
     "output_type": "stream",
     "text": [
      "\n",
      "Verarbeite Batches: 100%|██████████| 1/1 [00:01<00:00,  1.55s/it]\n",
      " 95%|█████████▌| 190/200 [03:35<00:12,  1.29s/it]\n",
      "\u001b[A"
     ]
    },
    {
     "name": "stdout",
     "output_type": "stream",
     "text": [
      "['Actor Emraan Hashmi has said he benefitted a lot from the serial kisser tag', '\"A number of my films in which I was shown kissing did very well in the beginning of my career,\" he added', 'However, Emraan said hes now trying to do away with the tag as it may restrict his growth as an actor.']\n",
      "Hey\n"
     ]
    },
    {
     "name": "stderr",
     "output_type": "stream",
     "text": [
      "\n",
      "Verarbeite Batches: 100%|██████████| 1/1 [00:01<00:00,  1.41s/it]\n",
      " 96%|█████████▌| 191/200 [03:36<00:11,  1.33s/it]\n",
      "\u001b[A"
     ]
    },
    {
     "name": "stdout",
     "output_type": "stream",
     "text": [
      "['Wishing the Indian womens team ahead of the World Cup final, former mens team captain MS Dhoni advised the team to embrace the occasion and not focus on the result']\n",
      "Hey\n"
     ]
    },
    {
     "name": "stderr",
     "output_type": "stream",
     "text": [
      "\n",
      "Verarbeite Batches: 100%|██████████| 1/1 [00:00<00:00,  1.05it/s]\n",
      " 96%|█████████▌| 192/200 [03:37<00:09,  1.22s/it]\n",
      "\u001b[A"
     ]
    },
    {
     "name": "stdout",
     "output_type": "stream",
     "text": [
      "['Singh, who called up Harmanpreets father Harmandar Singh, also praised Kaurs unbeaten 171 run knock against Australia in the semifinals', 'The Chief Minister further said he hopes that Kaur would continue to make the country proud with her contributions.']\n",
      "Hey\n"
     ]
    },
    {
     "name": "stderr",
     "output_type": "stream",
     "text": [
      "\n",
      "Verarbeite Batches: 100%|██████████| 1/1 [00:01<00:00,  1.41s/it]\n",
      " 96%|█████████▋| 193/200 [03:38<00:08,  1.27s/it]\n",
      "\u001b[A"
     ]
    },
    {
     "name": "stdout",
     "output_type": "stream",
     "text": [
      "['Union Human Resource Development Minister Prakash Javadekar has said that next year onwards, the question paper for the National Eligibility cum Entrance Test (NEET) will be the same in all languages', 'This comes after the Madras High Court stayed the exam results this year', 'The court was hearing a petition which claimed that questions in vernacular languages were tougher.']\n",
      "Hey\n"
     ]
    },
    {
     "name": "stderr",
     "output_type": "stream",
     "text": [
      "\n",
      "Verarbeite Batches: 100%|██████████| 1/1 [00:01<00:00,  1.83s/it]\n",
      " 97%|█████████▋| 194/200 [03:40<00:08,  1.44s/it]\n",
      "\u001b[A"
     ]
    },
    {
     "name": "stdout",
     "output_type": "stream",
     "text": [
      "['The Income Tax department has detected undisclosed income of around .71,941 crore over the last three years from April 1, 2014 to February 28, 2017, the Centre told the Supreme Court', 'Undisclosed income of over .5,400 crore was detected and 303 kg of gold was seized during the demonetisation period from November 9, 2016 to January 10, 2017, it stated.']\n",
      "Hey\n"
     ]
    },
    {
     "name": "stderr",
     "output_type": "stream",
     "text": [
      "\n",
      "Verarbeite Batches: 100%|██████████| 1/1 [00:01<00:00,  1.73s/it]\n",
      " 98%|█████████▊| 195/200 [03:42<00:07,  1.53s/it]\n",
      "\u001b[A"
     ]
    },
    {
     "name": "stdout",
     "output_type": "stream",
     "text": [
      "['Nine people were killed and 22 injured on Saturday as a bus carrying pilgrims overturned near Udaipur, Rajasthan', 'The bus was on a 16 day tour of religious places, including Pushkar and Haridwar', 'Meanwhile, Prime Minister Narendra Modi expressed his grief over the loss of lives and wished a speedy recovery for those injured in the accident']\n",
      "Hey\n"
     ]
    },
    {
     "name": "stderr",
     "output_type": "stream",
     "text": [
      "\n",
      "Verarbeite Batches: 100%|██████████| 1/1 [00:01<00:00,  1.42s/it]\n",
      " 98%|█████████▊| 196/200 [03:43<00:05,  1.50s/it]\n",
      "\u001b[A"
     ]
    },
    {
     "name": "stdout",
     "output_type": "stream",
     "text": [
      "['External Affairs Minister Sushma Swaraj had earlier said that they might be alive in a prison in Badush.']\n",
      "Hey\n"
     ]
    },
    {
     "name": "stderr",
     "output_type": "stream",
     "text": [
      "\n",
      "Verarbeite Batches: 100%|██████████| 1/1 [00:00<00:00,  2.03it/s]\n",
      " 98%|█████████▊| 197/200 [03:44<00:03,  1.20s/it]\n",
      "\u001b[A"
     ]
    },
    {
     "name": "stdout",
     "output_type": "stream",
     "text": [
      "['India womens team captain Mithali Raj has become the first skipper across mens and womens cricket to lead India in two ODI World Cup finals', 'Mithali, who captained India in the final against England on Sunday, also led in the 2005 final, which the team lost against Australia']\n",
      "Hey\n"
     ]
    },
    {
     "name": "stderr",
     "output_type": "stream",
     "text": [
      "\n",
      "Verarbeite Batches: 100%|██████████| 1/1 [00:01<00:00,  1.54s/it]\n",
      " 99%|█████████▉| 198/200 [03:45<00:02,  1.30s/it]\n",
      "\u001b[A"
     ]
    },
    {
     "name": "stdout",
     "output_type": "stream",
     "text": [
      "['A class 10 student from Bihar, who got 0 in Maths, got 94 in the same paper after the updated results were announced', 'Another students Sanskrit marks increased from 0 to 40, while another one got his marks upgraded from 12 to 61. The state Board had got the papers rechecked after over 50% failed this year.']\n",
      "Hey\n"
     ]
    },
    {
     "name": "stderr",
     "output_type": "stream",
     "text": [
      "\n",
      "Verarbeite Batches: 100%|██████████| 1/1 [00:01<00:00,  1.65s/it]\n",
      "100%|█████████▉| 199/200 [03:47<00:01,  1.41s/it]\n",
      "\u001b[A"
     ]
    },
    {
     "name": "stdout",
     "output_type": "stream",
     "text": [
      "['\"I had auditioned for Roadies thrice in the past, but did not make it to the show']\n",
      "Hey\n"
     ]
    },
    {
     "name": "stderr",
     "output_type": "stream",
     "text": [
      "\n",
      "Verarbeite Batches: 100%|██████████| 1/1 [00:00<00:00,  1.49it/s]\n",
      "100%|██████████| 200/200 [03:48<00:00,  1.14s/it]\n"
     ]
    }
   ],
   "source": [
    "df_test_new=df_test[df_test.classification=='news'].reset_index(drop=True)[['classification','text']].copy()\n",
    "alsdf_sum=execute_text_gen(df_test_new,split='\\. ')\n",
    "alsdf_sum.to_csv('data/ergbnisse/test_news.csv')"
   ]
  },
  {
   "cell_type": "code",
   "execution_count": 289,
   "metadata": {},
   "outputs": [
    {
     "data": {
      "text/plain": [
       "\"['The Administration of Union Territory Daman and Diu has revoked its order that made it compulsory for women to tie rakhis to their male colleagues on the occasion of Rakshabandhan on August 7.']\""
      ]
     },
     "execution_count": 289,
     "metadata": {},
     "output_type": "execute_result"
    }
   ],
   "source": [
    "news_test=pd.read_csv('data/ergbnisse/train_news_test.csv')\n",
    "#news_test[['batch_texts','batch_output']]\n",
    "news_test['batch_output'][0]"
   ]
  },
  {
   "cell_type": "code",
   "execution_count": 290,
   "metadata": {},
   "outputs": [
    {
     "data": {
      "text/plain": [
       "'The Administration of Union Territory Daman and Diu has revoked its order that made it compulsory for women to tie rakhis to their male colleagues on the occasion of Rakshabandhan on August 7. The administration was forced to withdraw the decision within 24 hours of issuing the circular after it received flak from employees and was slammed on social media.'"
      ]
     },
     "execution_count": 290,
     "metadata": {},
     "output_type": "execute_result"
    }
   ],
   "source": [
    "news_test['text'][0]"
   ]
  },
  {
   "cell_type": "code",
   "execution_count": 291,
   "metadata": {},
   "outputs": [
    {
     "data": {
      "text/plain": [
       "\"['The Administration of Union Territory Daman and Diu has revoked its order that made it compulsory for women to tie rakhis to their male colleagues on the occasion of Rakshabandhan on August 7']\""
      ]
     },
     "execution_count": 291,
     "metadata": {},
     "output_type": "execute_result"
    }
   ],
   "source": [
    "news_test['batch_texts'][0]"
   ]
  },
  {
   "cell_type": "code",
   "execution_count": null,
   "metadata": {},
   "outputs": [],
   "source": [
    "df_training=df_train[df_train.classification=='news'].reset_index(drop=True)[['classification','text']].copy()\n",
    "rank_df=text_rank_algo(df_training)\n",
    "df_zwischen=calculate_compression(rank_df, 'tokens_gesamt', 'token_text_rank', 'desired_compression_rate')\n",
    "alsdf_sum.to_csv(f'data/ergbnisse/train_news.csv')"
   ]
  },
  {
   "cell_type": "code",
   "execution_count": 351,
   "metadata": {},
   "outputs": [
    {
     "data": {
      "text/plain": [
       "array(['Scientific', 'news', 'reviews', 'story'], dtype=object)"
      ]
     },
     "execution_count": 351,
     "metadata": {},
     "output_type": "execute_result"
    }
   ],
   "source": [
    "df_train.classification.unique()"
   ]
  },
  {
   "cell_type": "code",
   "execution_count": 352,
   "metadata": {},
   "outputs": [
    {
     "name": "stderr",
     "output_type": "stream",
     "text": [
      "0it [00:00, ?it/s]/var/folders/k3/z_svrdgd6sb9lc9bqdfzp_k00000gn/T/ipykernel_89249/1576956366.py:38: DeprecationWarning: networkx.pagerank_numpy is deprecated and will be removed in NetworkX 3.0, use networkx.pagerank instead.\n",
      "  scores = nx.pagerank_numpy(graph)\n",
      "/Users/niclascramer/opt/miniconda3/envs/torch/lib/python3.9/site-packages/networkx/algorithms/link_analysis/pagerank_alg.py:354: FutureWarning: google_matrix will return an np.ndarray instead of a np.matrix in\n",
      "NetworkX version 3.0.\n",
      "  M = google_matrix(\n",
      "100it [08:11,  4.91s/it]\n",
      "0it [00:00, ?it/s]/var/folders/k3/z_svrdgd6sb9lc9bqdfzp_k00000gn/T/ipykernel_89249/1576956366.py:38: DeprecationWarning: networkx.pagerank_numpy is deprecated and will be removed in NetworkX 3.0, use networkx.pagerank instead.\n",
      "  scores = nx.pagerank_numpy(graph)\n",
      "/Users/niclascramer/opt/miniconda3/envs/torch/lib/python3.9/site-packages/networkx/algorithms/link_analysis/pagerank_alg.py:354: FutureWarning: google_matrix will return an np.ndarray instead of a np.matrix in\n",
      "NetworkX version 3.0.\n",
      "  M = google_matrix(\n",
      "100it [07:23,  4.44s/it]\n",
      "0it [00:00, ?it/s]/var/folders/k3/z_svrdgd6sb9lc9bqdfzp_k00000gn/T/ipykernel_89249/1576956366.py:38: DeprecationWarning: networkx.pagerank_numpy is deprecated and will be removed in NetworkX 3.0, use networkx.pagerank instead.\n",
      "  scores = nx.pagerank_numpy(graph)\n",
      "/Users/niclascramer/opt/miniconda3/envs/torch/lib/python3.9/site-packages/networkx/algorithms/link_analysis/pagerank_alg.py:354: FutureWarning: google_matrix will return an np.ndarray instead of a np.matrix in\n",
      "NetworkX version 3.0.\n",
      "  M = google_matrix(\n",
      "100it [07:57,  4.77s/it]\n",
      "0it [00:00, ?it/s]/var/folders/k3/z_svrdgd6sb9lc9bqdfzp_k00000gn/T/ipykernel_89249/1576956366.py:38: DeprecationWarning: networkx.pagerank_numpy is deprecated and will be removed in NetworkX 3.0, use networkx.pagerank instead.\n",
      "  scores = nx.pagerank_numpy(graph)\n",
      "/Users/niclascramer/opt/miniconda3/envs/torch/lib/python3.9/site-packages/networkx/algorithms/link_analysis/pagerank_alg.py:354: FutureWarning: google_matrix will return an np.ndarray instead of a np.matrix in\n",
      "NetworkX version 3.0.\n",
      "  M = google_matrix(\n",
      "8it [00:34,  4.97s/it]/Users/niclascramer/opt/miniconda3/envs/torch/lib/python3.9/site-packages/networkx/algorithms/link_analysis/pagerank_alg.py:363: RuntimeWarning: divide by zero encountered in divide\n",
      "  return dict(zip(G, map(float, largest / norm)))\n",
      "100it [09:06,  5.46s/it]\n",
      "0it [00:00, ?it/s]/var/folders/k3/z_svrdgd6sb9lc9bqdfzp_k00000gn/T/ipykernel_89249/1576956366.py:38: DeprecationWarning: networkx.pagerank_numpy is deprecated and will be removed in NetworkX 3.0, use networkx.pagerank instead.\n",
      "  scores = nx.pagerank_numpy(graph)\n",
      "/Users/niclascramer/opt/miniconda3/envs/torch/lib/python3.9/site-packages/networkx/algorithms/link_analysis/pagerank_alg.py:354: FutureWarning: google_matrix will return an np.ndarray instead of a np.matrix in\n",
      "NetworkX version 3.0.\n",
      "  M = google_matrix(\n",
      "100it [08:58,  5.38s/it]\n"
     ]
    }
   ],
   "source": [
    "seed=10\n",
    "for x in range(0,401,100):\n",
    "  df_training=df_train[df_train.classification=='Scientific'].reset_index(drop=True)[['classification','text']][x:x+100].reset_index(drop=True).copy()\n",
    "  rank_df=text_rank_algo(df_training,seed=seed)\n",
    "  df_zwischen=calculate_compression(rank_df, 'tokens_gesamt', 'token_text_rank', 'desired_compression_rate')\n",
    "  df_zwischen.to_csv(f'data/ergbnisse/train_Scientific_text_rank_{x+100}.csv')\n",
    "  seed+=1"
   ]
  },
  {
   "cell_type": "code",
   "execution_count": 311,
   "metadata": {},
   "outputs": [
    {
     "data": {
      "text/plain": [
       "'my husband and I watched this and ended up watching something else. this will be a waste of your time'"
      ]
     },
     "execution_count": 311,
     "metadata": {},
     "output_type": "execute_result"
    }
   ],
   "source": [
    "df_train[df_train.classification=='reviews'].reset_index(drop=True)[416:417]['text'][416]"
   ]
  },
  {
   "cell_type": "code",
   "execution_count": 349,
   "metadata": {},
   "outputs": [
    {
     "name": "stderr",
     "output_type": "stream",
     "text": [
      "0it [00:00, ?it/s]/var/folders/k3/z_svrdgd6sb9lc9bqdfzp_k00000gn/T/ipykernel_89249/1576956366.py:38: DeprecationWarning: networkx.pagerank_numpy is deprecated and will be removed in NetworkX 3.0, use networkx.pagerank instead.\n",
      "  scores = nx.pagerank_numpy(graph)\n",
      "/Users/niclascramer/opt/miniconda3/envs/torch/lib/python3.9/site-packages/networkx/algorithms/link_analysis/pagerank_alg.py:354: FutureWarning: google_matrix will return an np.ndarray instead of a np.matrix in\n",
      "NetworkX version 3.0.\n",
      "  M = google_matrix(\n",
      "100it [06:38,  3.99s/it]\n",
      "Verarbeite Batches: 100%|██████████| 1/1 [00:04<00:00,  4.74s/it]\n",
      "Verarbeite Batches: 100%|██████████| 1/1 [00:04<00:00,  4.20s/it]\n",
      "Verarbeite Batches: 100%|██████████| 1/1 [00:05<00:00,  5.92s/it]\n",
      "Verarbeite Batches: 100%|██████████| 1/1 [00:03<00:00,  3.26s/it]\n",
      "Verarbeite Batches: 100%|██████████| 1/1 [00:04<00:00,  4.85s/it]\n",
      "Verarbeite Batches: 100%|██████████| 1/1 [00:11<00:00, 11.21s/it]\n",
      "Verarbeite Batches: 100%|██████████| 1/1 [00:08<00:00,  8.55s/it]\n",
      "Verarbeite Batches: 100%|██████████| 1/1 [00:02<00:00,  2.43s/it]\n",
      "Verarbeite Batches: 100%|██████████| 1/1 [00:03<00:00,  3.94s/it]\n",
      "Verarbeite Batches: 100%|██████████| 1/1 [00:02<00:00,  2.55s/it]\n",
      "Verarbeite Batches: 100%|██████████| 1/1 [00:01<00:00,  1.57s/it]\n",
      "Verarbeite Batches: 100%|██████████| 1/1 [00:06<00:00,  6.98s/it]\n",
      "Verarbeite Batches: 100%|██████████| 1/1 [00:04<00:00,  4.28s/it]\n",
      "Verarbeite Batches: 100%|██████████| 1/1 [00:02<00:00,  2.04s/it]\n",
      "Verarbeite Batches: 100%|██████████| 1/1 [00:09<00:00,  9.60s/it]\n",
      "Verarbeite Batches: 100%|██████████| 1/1 [00:02<00:00,  2.60s/it]\n",
      "Verarbeite Batches: 100%|██████████| 1/1 [00:06<00:00,  6.40s/it]\n",
      "Verarbeite Batches: 100%|██████████| 1/1 [00:04<00:00,  4.16s/it]\n",
      "Verarbeite Batches: 100%|██████████| 1/1 [00:04<00:00,  4.05s/it]\n",
      "Verarbeite Batches: 100%|██████████| 1/1 [00:01<00:00,  1.93s/it]\n",
      "Verarbeite Batches: 100%|██████████| 1/1 [00:04<00:00,  4.08s/it]\n",
      "Verarbeite Batches: 100%|██████████| 1/1 [00:17<00:00, 17.67s/it]\n",
      "Verarbeite Batches: 100%|██████████| 1/1 [00:03<00:00,  3.52s/it]\n",
      "Verarbeite Batches: 100%|██████████| 1/1 [00:11<00:00, 11.83s/it]\n",
      "Verarbeite Batches: 100%|██████████| 1/1 [00:03<00:00,  3.82s/it]\n",
      "Verarbeite Batches: 100%|██████████| 1/1 [00:09<00:00,  9.74s/it]\n",
      "Verarbeite Batches: 100%|██████████| 1/1 [00:05<00:00,  5.24s/it]\n",
      "Verarbeite Batches: 100%|██████████| 1/1 [00:01<00:00,  1.21s/it]\n",
      "Verarbeite Batches: 100%|██████████| 1/1 [00:02<00:00,  2.20s/it]\n",
      "Verarbeite Batches: 100%|██████████| 1/1 [00:04<00:00,  4.05s/it]\n",
      "Verarbeite Batches: 100%|██████████| 1/1 [00:05<00:00,  5.80s/it]\n",
      "Verarbeite Batches: 100%|██████████| 1/1 [00:04<00:00,  4.71s/it]\n",
      "Verarbeite Batches: 100%|██████████| 1/1 [00:02<00:00,  2.21s/it]\n",
      "Verarbeite Batches: 100%|██████████| 1/1 [00:16<00:00, 16.56s/it]\n",
      "Verarbeite Batches: 100%|██████████| 1/1 [00:01<00:00,  1.07s/it]\n",
      "Verarbeite Batches: 100%|██████████| 1/1 [00:05<00:00,  5.38s/it]\n",
      "Verarbeite Batches: 100%|██████████| 1/1 [00:05<00:00,  5.41s/it]\n",
      "Verarbeite Batches: 100%|██████████| 1/1 [00:01<00:00,  1.91s/it]\n",
      "Verarbeite Batches: 100%|██████████| 1/1 [00:01<00:00,  1.89s/it]\n",
      "Verarbeite Batches: 100%|██████████| 1/1 [00:04<00:00,  4.87s/it]\n",
      "Verarbeite Batches: 100%|██████████| 1/1 [00:01<00:00,  1.81s/it]\n",
      "Verarbeite Batches: 100%|██████████| 1/1 [00:08<00:00,  8.48s/it]\n",
      "Verarbeite Batches: 100%|██████████| 1/1 [00:01<00:00,  1.78s/it]\n",
      "Verarbeite Batches: 100%|██████████| 1/1 [00:01<00:00,  1.09s/it]\n",
      "Verarbeite Batches: 100%|██████████| 1/1 [00:01<00:00,  1.44s/it]\n",
      "Verarbeite Batches: 100%|██████████| 1/1 [00:04<00:00,  4.30s/it]\n",
      "Verarbeite Batches: 100%|██████████| 1/1 [00:05<00:00,  5.34s/it]\n",
      "Verarbeite Batches: 100%|██████████| 1/1 [00:04<00:00,  4.38s/it]\n",
      "Verarbeite Batches: 100%|██████████| 1/1 [00:03<00:00,  3.21s/it]\n",
      "Verarbeite Batches: 100%|██████████| 1/1 [00:02<00:00,  2.25s/it]\n",
      "Verarbeite Batches: 100%|██████████| 1/1 [00:02<00:00,  2.38s/it]\n",
      "Verarbeite Batches: 100%|██████████| 1/1 [00:07<00:00,  7.21s/it]\n",
      "Verarbeite Batches: 100%|██████████| 1/1 [00:04<00:00,  4.48s/it]\n",
      "Verarbeite Batches: 100%|██████████| 1/1 [00:02<00:00,  2.29s/it]\n",
      "Verarbeite Batches: 100%|██████████| 1/1 [00:03<00:00,  3.53s/it]\n",
      "Verarbeite Batches: 100%|██████████| 1/1 [00:01<00:00,  1.85s/it]\n",
      "Verarbeite Batches: 100%|██████████| 1/1 [00:02<00:00,  2.10s/it]\n",
      "Verarbeite Batches: 100%|██████████| 1/1 [00:03<00:00,  3.99s/it]\n",
      "Verarbeite Batches: 100%|██████████| 1/1 [00:01<00:00,  1.65s/it]\n",
      "Verarbeite Batches: 100%|██████████| 1/1 [00:01<00:00,  1.56s/it]\n",
      "Verarbeite Batches: 100%|██████████| 1/1 [00:02<00:00,  2.64s/it]\n",
      "Verarbeite Batches: 100%|██████████| 1/1 [00:01<00:00,  1.83s/it]\n",
      "Verarbeite Batches: 100%|██████████| 1/1 [00:03<00:00,  3.27s/it]\n",
      "Verarbeite Batches: 100%|██████████| 1/1 [00:03<00:00,  3.89s/it]\n",
      "Verarbeite Batches: 100%|██████████| 1/1 [00:01<00:00,  1.48s/it]\n",
      "Verarbeite Batches: 100%|██████████| 1/1 [00:03<00:00,  3.17s/it]\n",
      "Verarbeite Batches: 100%|██████████| 1/1 [00:03<00:00,  3.31s/it]\n",
      "Verarbeite Batches: 100%|██████████| 1/1 [00:01<00:00,  1.84s/it]\n",
      "Verarbeite Batches: 100%|██████████| 1/1 [00:04<00:00,  4.03s/it]\n",
      "Verarbeite Batches: 100%|██████████| 1/1 [00:03<00:00,  3.23s/it]\n",
      "Verarbeite Batches: 100%|██████████| 1/1 [00:03<00:00,  3.82s/it]\n",
      "Verarbeite Batches: 100%|██████████| 1/1 [00:09<00:00,  9.01s/it]\n",
      "Verarbeite Batches: 100%|██████████| 1/1 [00:01<00:00,  1.89s/it]\n",
      "Verarbeite Batches: 100%|██████████| 1/1 [00:06<00:00,  6.98s/it]\n",
      "Verarbeite Batches: 100%|██████████| 1/1 [00:02<00:00,  2.31s/it]\n",
      "Verarbeite Batches: 100%|██████████| 1/1 [00:11<00:00, 11.66s/it]\n",
      "Verarbeite Batches: 100%|██████████| 1/1 [00:04<00:00,  4.70s/it]\n",
      "Verarbeite Batches: 100%|██████████| 1/1 [00:00<00:00,  1.06it/s]\n",
      "Verarbeite Batches: 100%|██████████| 1/1 [00:00<00:00,  1.32it/s]\n",
      "Verarbeite Batches: 100%|██████████| 1/1 [00:01<00:00,  1.44s/it]\n",
      "Verarbeite Batches: 100%|██████████| 1/1 [00:05<00:00,  5.40s/it]\n",
      "Verarbeite Batches: 100%|██████████| 1/1 [00:06<00:00,  6.07s/it]\n",
      "Verarbeite Batches: 100%|██████████| 1/1 [00:03<00:00,  3.87s/it]\n",
      "Verarbeite Batches: 100%|██████████| 1/1 [00:02<00:00,  2.49s/it]\n",
      "Verarbeite Batches: 100%|██████████| 1/1 [00:00<00:00,  1.23it/s]\n",
      "Verarbeite Batches: 100%|██████████| 1/1 [00:03<00:00,  3.44s/it]\n",
      "Verarbeite Batches: 100%|██████████| 1/1 [00:01<00:00,  1.91s/it]\n",
      "Verarbeite Batches: 100%|██████████| 1/1 [00:01<00:00,  1.90s/it]\n",
      "Verarbeite Batches: 100%|██████████| 1/1 [00:05<00:00,  5.79s/it]\n",
      "Verarbeite Batches: 100%|██████████| 1/1 [00:01<00:00,  1.87s/it]\n",
      "Verarbeite Batches: 100%|██████████| 1/1 [00:03<00:00,  3.62s/it]\n",
      "Verarbeite Batches: 100%|██████████| 1/1 [00:09<00:00,  9.39s/it]\n",
      "Verarbeite Batches: 100%|██████████| 1/1 [00:02<00:00,  2.38s/it]\n",
      "Verarbeite Batches: 100%|██████████| 1/1 [00:02<00:00,  2.82s/it]\n",
      "Verarbeite Batches: 100%|██████████| 1/1 [00:01<00:00,  1.96s/it]\n",
      "Verarbeite Batches: 100%|██████████| 1/1 [00:02<00:00,  2.85s/it]\n",
      "Verarbeite Batches: 100%|██████████| 1/1 [00:01<00:00,  1.68s/it]\n",
      "Verarbeite Batches: 100%|██████████| 1/1 [00:01<00:00,  1.03s/it]\n",
      "Verarbeite Batches: 100%|██████████| 1/1 [00:01<00:00,  1.43s/it]\n",
      "Verarbeite Batches: 100%|██████████| 1/1 [00:01<00:00,  1.83s/it]\n",
      "100%|██████████| 100/100 [06:48<00:00,  4.09s/it]\n",
      "0it [00:00, ?it/s]/var/folders/k3/z_svrdgd6sb9lc9bqdfzp_k00000gn/T/ipykernel_89249/1576956366.py:38: DeprecationWarning: networkx.pagerank_numpy is deprecated and will be removed in NetworkX 3.0, use networkx.pagerank instead.\n",
      "  scores = nx.pagerank_numpy(graph)\n",
      "/Users/niclascramer/opt/miniconda3/envs/torch/lib/python3.9/site-packages/networkx/algorithms/link_analysis/pagerank_alg.py:354: FutureWarning: google_matrix will return an np.ndarray instead of a np.matrix in\n",
      "NetworkX version 3.0.\n",
      "  M = google_matrix(\n",
      "100it [05:59,  3.60s/it]\n",
      "Verarbeite Batches: 100%|██████████| 1/1 [00:01<00:00,  1.37s/it]\n",
      "Verarbeite Batches: 100%|██████████| 1/1 [00:09<00:00,  9.02s/it]\n",
      "Verarbeite Batches: 100%|██████████| 1/1 [00:05<00:00,  5.19s/it]\n",
      "Verarbeite Batches: 100%|██████████| 1/1 [00:08<00:00,  8.93s/it]\n",
      "Verarbeite Batches: 100%|██████████| 1/1 [00:01<00:00,  1.65s/it]\n",
      "Verarbeite Batches: 100%|██████████| 1/1 [00:01<00:00,  1.57s/it]\n",
      "Verarbeite Batches: 100%|██████████| 1/1 [00:03<00:00,  3.85s/it]\n",
      "Verarbeite Batches: 100%|██████████| 1/1 [00:04<00:00,  4.01s/it]\n",
      "Verarbeite Batches: 100%|██████████| 1/1 [00:02<00:00,  2.55s/it]\n",
      "Verarbeite Batches: 100%|██████████| 1/1 [00:02<00:00,  2.73s/it]\n",
      "Verarbeite Batches: 100%|██████████| 1/1 [00:04<00:00,  4.65s/it]\n",
      "Verarbeite Batches: 100%|██████████| 1/1 [00:01<00:00,  1.83s/it]\n",
      "Verarbeite Batches: 100%|██████████| 1/1 [00:01<00:00,  1.23s/it]\n",
      "Verarbeite Batches: 100%|██████████| 1/1 [00:01<00:00,  1.73s/it]\n",
      "Verarbeite Batches: 100%|██████████| 1/1 [00:01<00:00,  1.50s/it]\n",
      "Verarbeite Batches: 100%|██████████| 1/1 [00:01<00:00,  1.60s/it]\n",
      "Verarbeite Batches: 100%|██████████| 1/1 [00:04<00:00,  4.55s/it]\n",
      "Verarbeite Batches: 100%|██████████| 1/1 [00:20<00:00, 20.44s/it]\n",
      "Verarbeite Batches: 100%|██████████| 1/1 [00:13<00:00, 13.98s/it]\n",
      "Verarbeite Batches: 100%|██████████| 1/1 [00:05<00:00,  5.29s/it]\n",
      "Verarbeite Batches: 100%|██████████| 1/1 [00:03<00:00,  3.01s/it]\n",
      "Verarbeite Batches: 100%|██████████| 1/1 [00:01<00:00,  1.23s/it]\n",
      "Verarbeite Batches: 100%|██████████| 1/1 [00:01<00:00,  1.93s/it]\n",
      "Verarbeite Batches: 100%|██████████| 1/1 [00:01<00:00,  1.18s/it]\n",
      "Verarbeite Batches: 100%|██████████| 1/1 [00:03<00:00,  3.03s/it]\n",
      "Verarbeite Batches: 100%|██████████| 1/1 [00:02<00:00,  2.05s/it]\n",
      "Verarbeite Batches: 100%|██████████| 1/1 [00:01<00:00,  1.64s/it]\n",
      "Verarbeite Batches: 100%|██████████| 1/1 [00:01<00:00,  1.52s/it]\n",
      "Verarbeite Batches: 100%|██████████| 1/1 [00:01<00:00,  1.38s/it]\n",
      "Verarbeite Batches: 100%|██████████| 1/1 [00:03<00:00,  3.17s/it]\n",
      "Verarbeite Batches: 100%|██████████| 1/1 [00:01<00:00,  1.63s/it]\n",
      "Verarbeite Batches: 100%|██████████| 1/1 [00:02<00:00,  2.59s/it]\n",
      "Verarbeite Batches: 100%|██████████| 1/1 [00:03<00:00,  3.08s/it]\n",
      "Verarbeite Batches: 100%|██████████| 1/1 [00:02<00:00,  2.61s/it]\n",
      "Verarbeite Batches: 100%|██████████| 1/1 [00:06<00:00,  6.63s/it]\n",
      "Verarbeite Batches: 100%|██████████| 1/1 [00:01<00:00,  1.27s/it]\n",
      "Verarbeite Batches: 100%|██████████| 1/1 [00:14<00:00, 14.84s/it]\n",
      "Verarbeite Batches: 100%|██████████| 1/1 [00:05<00:00,  5.23s/it]\n",
      "Verarbeite Batches: 100%|██████████| 1/1 [00:03<00:00,  3.70s/it]\n",
      "Verarbeite Batches: 100%|██████████| 1/1 [00:13<00:00, 13.03s/it]\n",
      "Verarbeite Batches: 100%|██████████| 1/1 [00:02<00:00,  2.88s/it]\n",
      "Verarbeite Batches: 100%|██████████| 1/1 [00:01<00:00,  1.61s/it]\n",
      "Verarbeite Batches: 100%|██████████| 1/1 [00:03<00:00,  3.37s/it]\n",
      "Verarbeite Batches: 100%|██████████| 1/1 [00:00<00:00,  1.55it/s]\n",
      "Verarbeite Batches: 100%|██████████| 1/1 [00:06<00:00,  6.32s/it]\n",
      "Verarbeite Batches: 100%|██████████| 1/1 [00:02<00:00,  2.90s/it]\n",
      "Verarbeite Batches: 100%|██████████| 1/1 [00:14<00:00, 14.26s/it]\n",
      "Verarbeite Batches: 100%|██████████| 1/1 [00:03<00:00,  3.33s/it]\n",
      "Verarbeite Batches: 100%|██████████| 1/1 [00:04<00:00,  4.98s/it]\n",
      "Verarbeite Batches: 100%|██████████| 1/1 [00:02<00:00,  2.81s/it]\n",
      "Verarbeite Batches: 100%|██████████| 1/1 [00:01<00:00,  1.71s/it]\n",
      "Verarbeite Batches: 100%|██████████| 1/1 [00:03<00:00,  3.64s/it]\n",
      "Verarbeite Batches: 100%|██████████| 1/1 [00:08<00:00,  8.75s/it]\n",
      "Verarbeite Batches: 100%|██████████| 1/1 [00:02<00:00,  2.56s/it]\n",
      "Verarbeite Batches: 100%|██████████| 1/1 [00:04<00:00,  4.85s/it]\n",
      "Verarbeite Batches: 100%|██████████| 1/1 [00:02<00:00,  2.54s/it]\n",
      "Verarbeite Batches: 100%|██████████| 1/1 [00:03<00:00,  3.47s/it]\n",
      "Verarbeite Batches: 100%|██████████| 1/1 [00:08<00:00,  8.45s/it]\n",
      "Verarbeite Batches: 100%|██████████| 1/1 [00:14<00:00, 14.59s/it]\n",
      "Verarbeite Batches: 100%|██████████| 1/1 [00:01<00:00,  1.78s/it]\n",
      "Verarbeite Batches: 100%|██████████| 1/1 [00:02<00:00,  2.00s/it]\n",
      "Verarbeite Batches: 100%|██████████| 1/1 [00:05<00:00,  5.80s/it]\n",
      "Verarbeite Batches: 100%|██████████| 1/1 [00:13<00:00, 13.99s/it]\n",
      "Verarbeite Batches: 100%|██████████| 1/1 [00:02<00:00,  2.23s/it]\n",
      "Verarbeite Batches: 100%|██████████| 1/1 [00:01<00:00,  1.71s/it]\n",
      "Verarbeite Batches: 100%|██████████| 1/1 [00:05<00:00,  5.92s/it]\n",
      "Verarbeite Batches: 100%|██████████| 1/1 [00:01<00:00,  1.36s/it]\n",
      "Verarbeite Batches: 100%|██████████| 1/1 [00:00<00:00,  1.59it/s]\n",
      "Verarbeite Batches: 100%|██████████| 1/1 [00:07<00:00,  7.09s/it]\n",
      "Verarbeite Batches: 100%|██████████| 1/1 [00:01<00:00,  1.05s/it]\n",
      "Verarbeite Batches: 100%|██████████| 1/1 [00:02<00:00,  2.37s/it]\n",
      "Verarbeite Batches: 100%|██████████| 1/1 [00:02<00:00,  2.41s/it]\n",
      "Verarbeite Batches: 100%|██████████| 1/1 [00:00<00:00,  1.30it/s]\n",
      "Verarbeite Batches: 100%|██████████| 1/1 [00:13<00:00, 13.81s/it]\n",
      "Verarbeite Batches: 100%|██████████| 1/1 [00:01<00:00,  1.10s/it]\n",
      "Verarbeite Batches: 100%|██████████| 1/1 [00:01<00:00,  1.37s/it]\n",
      "Verarbeite Batches: 100%|██████████| 1/1 [00:00<00:00,  1.62it/s]\n",
      "Verarbeite Batches: 100%|██████████| 1/1 [00:02<00:00,  2.85s/it]\n",
      "Verarbeite Batches: 100%|██████████| 1/1 [00:02<00:00,  2.89s/it]\n",
      "Verarbeite Batches: 100%|██████████| 1/1 [00:01<00:00,  1.63s/it]\n",
      "Verarbeite Batches: 100%|██████████| 1/1 [00:05<00:00,  5.59s/it]\n",
      "Verarbeite Batches: 100%|██████████| 1/1 [00:02<00:00,  2.79s/it]\n",
      "Verarbeite Batches: 100%|██████████| 1/1 [00:02<00:00,  2.65s/it]\n",
      "Verarbeite Batches: 100%|██████████| 1/1 [00:07<00:00,  7.99s/it]\n",
      "Verarbeite Batches: 100%|██████████| 1/1 [00:03<00:00,  3.55s/it]\n",
      "Verarbeite Batches: 100%|██████████| 1/1 [00:04<00:00,  4.74s/it]\n",
      "Verarbeite Batches: 100%|██████████| 1/1 [00:01<00:00,  1.79s/it]\n",
      "Verarbeite Batches: 100%|██████████| 1/1 [00:02<00:00,  2.45s/it]\n",
      "Verarbeite Batches: 100%|██████████| 1/1 [00:01<00:00,  1.78s/it]\n",
      "Verarbeite Batches: 100%|██████████| 1/1 [00:14<00:00, 14.42s/it]\n",
      "Verarbeite Batches: 100%|██████████| 1/1 [00:05<00:00,  5.09s/it]\n",
      "Verarbeite Batches: 100%|██████████| 1/1 [00:04<00:00,  4.87s/it]\n",
      "Verarbeite Batches: 100%|██████████| 1/1 [00:04<00:00,  4.68s/it]\n",
      "Verarbeite Batches: 100%|██████████| 1/1 [00:02<00:00,  2.16s/it]\n",
      "Verarbeite Batches: 100%|██████████| 1/1 [00:01<00:00,  1.63s/it]\n",
      "Verarbeite Batches: 100%|██████████| 1/1 [00:01<00:00,  1.21s/it]\n",
      "Verarbeite Batches: 100%|██████████| 1/1 [00:02<00:00,  2.22s/it]\n",
      "Verarbeite Batches: 100%|██████████| 1/1 [00:03<00:00,  3.49s/it]\n",
      "Verarbeite Batches: 100%|██████████| 1/1 [00:02<00:00,  2.28s/it]\n",
      "Verarbeite Batches: 100%|██████████| 1/1 [00:01<00:00,  1.89s/it]\n",
      "100%|██████████| 100/100 [06:57<00:00,  4.17s/it]\n",
      "0it [00:00, ?it/s]/var/folders/k3/z_svrdgd6sb9lc9bqdfzp_k00000gn/T/ipykernel_89249/1576956366.py:38: DeprecationWarning: networkx.pagerank_numpy is deprecated and will be removed in NetworkX 3.0, use networkx.pagerank instead.\n",
      "  scores = nx.pagerank_numpy(graph)\n",
      "/Users/niclascramer/opt/miniconda3/envs/torch/lib/python3.9/site-packages/networkx/algorithms/link_analysis/pagerank_alg.py:354: FutureWarning: google_matrix will return an np.ndarray instead of a np.matrix in\n",
      "NetworkX version 3.0.\n",
      "  M = google_matrix(\n",
      "100it [06:25,  3.86s/it]\n",
      "Verarbeite Batches: 100%|██████████| 1/1 [00:05<00:00,  5.19s/it]\n",
      "Verarbeite Batches: 100%|██████████| 1/1 [00:04<00:00,  4.96s/it]\n",
      "Verarbeite Batches: 100%|██████████| 1/1 [00:04<00:00,  4.62s/it]\n",
      "Verarbeite Batches: 100%|██████████| 1/1 [00:02<00:00,  2.75s/it]\n",
      "Verarbeite Batches: 100%|██████████| 1/1 [00:00<00:00,  2.03it/s]\n",
      "Verarbeite Batches: 100%|██████████| 1/1 [00:01<00:00,  1.72s/it]\n",
      "Verarbeite Batches: 100%|██████████| 1/1 [00:01<00:00,  1.48s/it]\n",
      "Verarbeite Batches: 100%|██████████| 1/1 [00:03<00:00,  3.23s/it]\n",
      "Verarbeite Batches: 100%|██████████| 1/1 [00:04<00:00,  4.12s/it]\n",
      "Verarbeite Batches: 100%|██████████| 1/1 [00:03<00:00,  3.09s/it]\n",
      "Verarbeite Batches: 100%|██████████| 1/1 [00:02<00:00,  2.77s/it]\n",
      "Verarbeite Batches: 100%|██████████| 1/1 [00:04<00:00,  4.43s/it]\n",
      "Verarbeite Batches: 100%|██████████| 1/1 [00:03<00:00,  3.66s/it]\n",
      "Verarbeite Batches: 100%|██████████| 1/1 [00:07<00:00,  7.85s/it]\n",
      "Verarbeite Batches: 100%|██████████| 1/1 [00:02<00:00,  2.73s/it]\n",
      "Verarbeite Batches: 100%|██████████| 1/1 [00:03<00:00,  3.98s/it]\n",
      "Verarbeite Batches: 100%|██████████| 1/1 [00:02<00:00,  2.16s/it]\n",
      "Verarbeite Batches: 100%|██████████| 1/1 [00:03<00:00,  3.67s/it]\n",
      "Verarbeite Batches: 100%|██████████| 1/1 [00:02<00:00,  2.12s/it]\n",
      "Verarbeite Batches: 100%|██████████| 1/1 [00:04<00:00,  4.49s/it]\n",
      "Verarbeite Batches: 100%|██████████| 1/1 [00:04<00:00,  4.26s/it]\n",
      "Verarbeite Batches: 100%|██████████| 1/1 [00:04<00:00,  4.58s/it]\n",
      "Verarbeite Batches: 100%|██████████| 1/1 [00:02<00:00,  2.36s/it]\n",
      "Verarbeite Batches: 100%|██████████| 1/1 [00:01<00:00,  1.08s/it]\n",
      "Verarbeite Batches: 100%|██████████| 1/1 [00:01<00:00,  1.79s/it]\n",
      "Verarbeite Batches: 100%|██████████| 1/1 [00:05<00:00,  5.70s/it]\n",
      "Verarbeite Batches: 100%|██████████| 1/1 [00:02<00:00,  2.77s/it]\n",
      "Verarbeite Batches: 100%|██████████| 1/1 [00:01<00:00,  1.22s/it]\n",
      "Verarbeite Batches: 100%|██████████| 1/1 [00:02<00:00,  2.89s/it]\n",
      "Verarbeite Batches: 100%|██████████| 2/2 [00:14<00:00,  7.10s/it]\n",
      "Verarbeite Batches: 100%|██████████| 1/1 [00:01<00:00,  1.13s/it]\n",
      "Verarbeite Batches: 100%|██████████| 1/1 [00:03<00:00,  3.35s/it]\n",
      "Verarbeite Batches: 100%|██████████| 1/1 [00:01<00:00,  1.57s/it]\n",
      "Verarbeite Batches: 100%|██████████| 1/1 [00:02<00:00,  3.00s/it]\n",
      "Verarbeite Batches: 100%|██████████| 1/1 [00:06<00:00,  6.94s/it]\n",
      "Verarbeite Batches: 100%|██████████| 1/1 [00:03<00:00,  3.07s/it]\n",
      "Verarbeite Batches: 100%|██████████| 1/1 [00:03<00:00,  3.53s/it]\n",
      "Verarbeite Batches: 100%|██████████| 1/1 [00:02<00:00,  2.48s/it]\n",
      "Verarbeite Batches: 100%|██████████| 1/1 [00:02<00:00,  2.15s/it]\n",
      "Verarbeite Batches: 100%|██████████| 1/1 [00:10<00:00, 10.20s/it]\n",
      "Verarbeite Batches: 100%|██████████| 1/1 [00:02<00:00,  2.46s/it]\n",
      "Verarbeite Batches: 100%|██████████| 1/1 [00:05<00:00,  5.44s/it]\n",
      "Verarbeite Batches: 100%|██████████| 1/1 [00:04<00:00,  4.47s/it]\n",
      "Verarbeite Batches: 100%|██████████| 1/1 [00:01<00:00,  1.43s/it]\n",
      "Verarbeite Batches: 100%|██████████| 1/1 [00:05<00:00,  5.39s/it]\n",
      "Verarbeite Batches: 100%|██████████| 1/1 [00:03<00:00,  3.71s/it]\n",
      "Verarbeite Batches: 100%|██████████| 1/1 [00:13<00:00, 13.32s/it]\n",
      "Verarbeite Batches: 100%|██████████| 1/1 [00:07<00:00,  7.38s/it]\n",
      "Verarbeite Batches: 100%|██████████| 1/1 [00:08<00:00,  8.64s/it]\n",
      "Verarbeite Batches: 100%|██████████| 1/1 [00:20<00:00, 20.18s/it]\n",
      "Verarbeite Batches: 100%|██████████| 1/1 [00:01<00:00,  1.06s/it]\n",
      "Verarbeite Batches: 100%|██████████| 1/1 [00:01<00:00,  1.11s/it]\n",
      "Verarbeite Batches: 100%|██████████| 1/1 [00:04<00:00,  4.03s/it]\n",
      "Verarbeite Batches: 100%|██████████| 1/1 [00:06<00:00,  6.44s/it]\n",
      "Verarbeite Batches: 100%|██████████| 1/1 [00:03<00:00,  3.31s/it]\n",
      "Verarbeite Batches: 100%|██████████| 1/1 [00:03<00:00,  3.84s/it]\n",
      "Verarbeite Batches: 100%|██████████| 1/1 [00:02<00:00,  2.02s/it]\n",
      "Verarbeite Batches: 100%|██████████| 1/1 [00:01<00:00,  1.77s/it]\n",
      "Verarbeite Batches: 100%|██████████| 1/1 [00:04<00:00,  4.46s/it]\n",
      "Verarbeite Batches: 100%|██████████| 1/1 [00:03<00:00,  3.43s/it]\n",
      "Verarbeite Batches: 100%|██████████| 1/1 [00:01<00:00,  1.34s/it]\n",
      "Verarbeite Batches: 100%|██████████| 1/1 [00:04<00:00,  4.14s/it]\n",
      "Verarbeite Batches: 100%|██████████| 1/1 [00:02<00:00,  2.11s/it]\n",
      "Verarbeite Batches: 100%|██████████| 1/1 [00:02<00:00,  2.60s/it]\n",
      "Verarbeite Batches: 100%|██████████| 1/1 [00:01<00:00,  1.99s/it]\n",
      "Verarbeite Batches: 100%|██████████| 1/1 [00:03<00:00,  3.31s/it]\n",
      "Verarbeite Batches: 100%|██████████| 1/1 [00:01<00:00,  1.68s/it]\n",
      "Verarbeite Batches: 100%|██████████| 1/1 [00:03<00:00,  3.40s/it]\n",
      "Verarbeite Batches: 100%|██████████| 1/1 [00:00<00:00,  1.12it/s]\n",
      "Verarbeite Batches: 100%|██████████| 1/1 [00:01<00:00,  1.95s/it]\n",
      "Verarbeite Batches: 100%|██████████| 1/1 [00:01<00:00,  1.49s/it]\n",
      "Verarbeite Batches: 100%|██████████| 1/1 [00:03<00:00,  3.79s/it]\n",
      "Verarbeite Batches: 100%|██████████| 1/1 [00:03<00:00,  3.50s/it]\n",
      "Verarbeite Batches: 100%|██████████| 1/1 [00:02<00:00,  2.24s/it]\n",
      "Verarbeite Batches: 100%|██████████| 1/1 [00:04<00:00,  4.68s/it]\n",
      "Verarbeite Batches: 100%|██████████| 1/1 [00:06<00:00,  6.17s/it]\n",
      "Verarbeite Batches: 100%|██████████| 1/1 [00:02<00:00,  2.35s/it]\n",
      "Verarbeite Batches: 100%|██████████| 1/1 [00:05<00:00,  5.42s/it]\n",
      "Verarbeite Batches: 100%|██████████| 1/1 [00:05<00:00,  5.77s/it]\n",
      "Verarbeite Batches: 100%|██████████| 1/1 [00:03<00:00,  3.97s/it]\n",
      "Verarbeite Batches: 100%|██████████| 1/1 [00:03<00:00,  3.23s/it]\n",
      "Verarbeite Batches: 100%|██████████| 1/1 [00:06<00:00,  6.39s/it]\n",
      "Verarbeite Batches: 100%|██████████| 1/1 [00:03<00:00,  3.27s/it]\n",
      "Verarbeite Batches: 100%|██████████| 1/1 [00:01<00:00,  1.83s/it]\n",
      "Verarbeite Batches: 100%|██████████| 1/1 [00:03<00:00,  3.84s/it]\n",
      "Verarbeite Batches: 100%|██████████| 1/1 [00:14<00:00, 14.31s/it]\n",
      "Verarbeite Batches: 100%|██████████| 1/1 [00:04<00:00,  4.78s/it]\n",
      "Verarbeite Batches: 100%|██████████| 1/1 [00:05<00:00,  5.68s/it]\n",
      "Verarbeite Batches: 100%|██████████| 1/1 [00:03<00:00,  3.08s/it]\n",
      "Verarbeite Batches: 100%|██████████| 1/1 [00:17<00:00, 17.13s/it]\n",
      "Verarbeite Batches: 100%|██████████| 1/1 [00:01<00:00,  1.19s/it]\n",
      "Verarbeite Batches: 100%|██████████| 1/1 [00:02<00:00,  2.42s/it]\n",
      "Verarbeite Batches: 100%|██████████| 1/1 [00:04<00:00,  4.07s/it]\n",
      "Verarbeite Batches: 100%|██████████| 1/1 [00:03<00:00,  3.60s/it]\n",
      "Verarbeite Batches: 100%|██████████| 1/1 [00:03<00:00,  3.23s/it]\n",
      "Verarbeite Batches: 100%|██████████| 1/1 [00:00<00:00,  1.57it/s]\n",
      "Verarbeite Batches: 100%|██████████| 1/1 [00:02<00:00,  2.75s/it]\n",
      "Verarbeite Batches: 100%|██████████| 1/1 [00:05<00:00,  5.76s/it]\n",
      "Verarbeite Batches: 100%|██████████| 1/1 [00:05<00:00,  5.32s/it]\n",
      "Verarbeite Batches: 100%|██████████| 1/1 [00:03<00:00,  3.59s/it]\n",
      "100%|██████████| 100/100 [06:50<00:00,  4.11s/it]\n",
      "0it [00:00, ?it/s]/var/folders/k3/z_svrdgd6sb9lc9bqdfzp_k00000gn/T/ipykernel_89249/1576956366.py:38: DeprecationWarning: networkx.pagerank_numpy is deprecated and will be removed in NetworkX 3.0, use networkx.pagerank instead.\n",
      "  scores = nx.pagerank_numpy(graph)\n",
      "/Users/niclascramer/opt/miniconda3/envs/torch/lib/python3.9/site-packages/networkx/algorithms/link_analysis/pagerank_alg.py:354: FutureWarning: google_matrix will return an np.ndarray instead of a np.matrix in\n",
      "NetworkX version 3.0.\n",
      "  M = google_matrix(\n",
      "100it [06:43,  4.04s/it]\n",
      "Verarbeite Batches: 100%|██████████| 1/1 [00:01<00:00,  1.93s/it]\n",
      "Verarbeite Batches: 100%|██████████| 1/1 [00:02<00:00,  2.83s/it]\n",
      "Verarbeite Batches: 100%|██████████| 1/1 [00:04<00:00,  4.53s/it]\n",
      "Verarbeite Batches: 100%|██████████| 1/1 [00:16<00:00, 16.42s/it]\n",
      "Verarbeite Batches: 100%|██████████| 1/1 [00:01<00:00,  1.77s/it]\n",
      "Verarbeite Batches: 100%|██████████| 1/1 [00:01<00:00,  1.60s/it]\n",
      "Verarbeite Batches: 100%|██████████| 1/1 [00:01<00:00,  1.11s/it]\n",
      "Verarbeite Batches: 100%|██████████| 1/1 [00:01<00:00,  1.54s/it]\n",
      "Verarbeite Batches: 100%|██████████| 1/1 [00:03<00:00,  3.13s/it]\n",
      "Verarbeite Batches: 100%|██████████| 1/1 [00:03<00:00,  3.54s/it]\n",
      "Verarbeite Batches: 100%|██████████| 1/1 [00:06<00:00,  6.77s/it]\n",
      "Verarbeite Batches: 100%|██████████| 1/1 [00:02<00:00,  2.87s/it]\n",
      "Verarbeite Batches: 100%|██████████| 1/1 [00:01<00:00,  1.66s/it]\n",
      "Verarbeite Batches: 100%|██████████| 1/1 [00:05<00:00,  5.17s/it]\n",
      "Verarbeite Batches: 100%|██████████| 1/1 [00:03<00:00,  3.42s/it]\n",
      "Verarbeite Batches: 100%|██████████| 1/1 [00:04<00:00,  4.80s/it]\n",
      "Verarbeite Batches: 100%|██████████| 1/1 [00:03<00:00,  3.09s/it]\n",
      "Verarbeite Batches: 100%|██████████| 1/1 [00:02<00:00,  2.62s/it]\n",
      "Verarbeite Batches: 100%|██████████| 1/1 [00:01<00:00,  1.03s/it]\n",
      "Verarbeite Batches: 100%|██████████| 1/1 [00:05<00:00,  5.51s/it]\n",
      "Verarbeite Batches: 100%|██████████| 1/1 [00:16<00:00, 16.33s/it]\n",
      "Verarbeite Batches: 100%|██████████| 1/1 [00:04<00:00,  4.41s/it]\n",
      "Verarbeite Batches: 100%|██████████| 1/1 [00:03<00:00,  3.39s/it]\n",
      "Verarbeite Batches: 100%|██████████| 1/1 [00:05<00:00,  5.06s/it]\n",
      "Verarbeite Batches: 100%|██████████| 1/1 [00:08<00:00,  8.93s/it]\n",
      "Verarbeite Batches: 100%|██████████| 1/1 [00:04<00:00,  4.19s/it]\n",
      "Verarbeite Batches: 100%|██████████| 1/1 [00:01<00:00,  1.06s/it]\n",
      "Verarbeite Batches: 100%|██████████| 1/1 [00:08<00:00,  8.95s/it]\n",
      "Verarbeite Batches: 100%|██████████| 1/1 [00:04<00:00,  4.35s/it]\n",
      "Verarbeite Batches: 100%|██████████| 1/1 [00:04<00:00,  4.79s/it]\n",
      "Verarbeite Batches: 100%|██████████| 1/1 [00:06<00:00,  6.01s/it]\n",
      "Verarbeite Batches: 100%|██████████| 1/1 [00:07<00:00,  7.22s/it]\n",
      "Verarbeite Batches: 100%|██████████| 1/1 [00:01<00:00,  1.01s/it]\n",
      "Verarbeite Batches: 100%|██████████| 1/1 [00:02<00:00,  2.88s/it]\n",
      "Verarbeite Batches: 100%|██████████| 1/1 [00:01<00:00,  1.30s/it]\n",
      "Verarbeite Batches: 100%|██████████| 1/1 [00:04<00:00,  4.55s/it]\n",
      "Verarbeite Batches: 100%|██████████| 1/1 [00:14<00:00, 14.23s/it]\n",
      "Verarbeite Batches: 100%|██████████| 1/1 [00:15<00:00, 15.08s/it]\n",
      "Verarbeite Batches: 100%|██████████| 1/1 [00:13<00:00, 13.78s/it]\n",
      "Verarbeite Batches: 100%|██████████| 1/1 [00:14<00:00, 14.58s/it]\n",
      "Verarbeite Batches: 100%|██████████| 1/1 [00:08<00:00,  8.64s/it]\n",
      "Verarbeite Batches: 100%|██████████| 1/1 [00:02<00:00,  2.42s/it]\n",
      "Verarbeite Batches: 100%|██████████| 1/1 [00:02<00:00,  2.70s/it]\n",
      "Verarbeite Batches: 100%|██████████| 1/1 [00:06<00:00,  6.04s/it]\n",
      "Verarbeite Batches: 100%|██████████| 1/1 [00:07<00:00,  7.58s/it]\n",
      "Verarbeite Batches: 100%|██████████| 1/1 [00:02<00:00,  2.28s/it]\n",
      "Verarbeite Batches: 100%|██████████| 1/1 [00:03<00:00,  3.74s/it]\n",
      "Verarbeite Batches: 100%|██████████| 1/1 [00:05<00:00,  5.53s/it]\n",
      "Verarbeite Batches: 100%|██████████| 1/1 [00:06<00:00,  6.78s/it]\n",
      "Verarbeite Batches: 100%|██████████| 1/1 [00:02<00:00,  2.58s/it]\n",
      "Verarbeite Batches: 100%|██████████| 1/1 [00:04<00:00,  4.45s/it]\n",
      "Verarbeite Batches: 100%|██████████| 1/1 [00:02<00:00,  2.90s/it]\n",
      "Verarbeite Batches: 100%|██████████| 1/1 [00:00<00:00,  1.08it/s]\n",
      "Verarbeite Batches: 100%|██████████| 1/1 [00:02<00:00,  2.16s/it]\n",
      "Verarbeite Batches: 100%|██████████| 1/1 [00:06<00:00,  6.07s/it]\n",
      "Verarbeite Batches: 100%|██████████| 1/1 [00:02<00:00,  2.22s/it]\n",
      "Verarbeite Batches: 100%|██████████| 1/1 [00:04<00:00,  4.36s/it]\n",
      "Verarbeite Batches: 100%|██████████| 1/1 [00:03<00:00,  3.49s/it]\n",
      "Verarbeite Batches: 100%|██████████| 1/1 [00:02<00:00,  2.70s/it]\n",
      "Verarbeite Batches: 100%|██████████| 1/1 [00:04<00:00,  4.15s/it]\n",
      "Verarbeite Batches: 100%|██████████| 1/1 [00:02<00:00,  2.89s/it]\n",
      "Verarbeite Batches: 100%|██████████| 1/1 [00:04<00:00,  4.56s/it]\n",
      "Verarbeite Batches: 100%|██████████| 1/1 [00:05<00:00,  5.03s/it]\n",
      "Verarbeite Batches: 100%|██████████| 1/1 [00:16<00:00, 16.05s/it]\n",
      "Verarbeite Batches: 100%|██████████| 1/1 [00:01<00:00,  1.33s/it]\n",
      "Verarbeite Batches: 100%|██████████| 1/1 [00:01<00:00,  1.66s/it]\n",
      "Verarbeite Batches: 100%|██████████| 1/1 [00:09<00:00,  9.53s/it]\n",
      "Verarbeite Batches: 100%|██████████| 1/1 [00:08<00:00,  8.51s/it]\n",
      "Verarbeite Batches: 100%|██████████| 1/1 [00:03<00:00,  3.20s/it]\n",
      "Verarbeite Batches: 100%|██████████| 1/1 [00:04<00:00,  4.32s/it]\n",
      "Verarbeite Batches: 100%|██████████| 1/1 [00:01<00:00,  1.41s/it]\n",
      "Verarbeite Batches: 100%|██████████| 1/1 [00:16<00:00, 16.32s/it]\n",
      "Verarbeite Batches: 100%|██████████| 1/1 [00:02<00:00,  2.45s/it]\n",
      "Verarbeite Batches: 100%|██████████| 1/1 [00:01<00:00,  1.47s/it]\n",
      "Verarbeite Batches: 100%|██████████| 1/1 [00:03<00:00,  3.82s/it]\n",
      "Verarbeite Batches: 100%|██████████| 1/1 [00:03<00:00,  3.82s/it]\n",
      "Verarbeite Batches: 100%|██████████| 1/1 [00:03<00:00,  3.46s/it]\n",
      "Verarbeite Batches: 100%|██████████| 1/1 [00:01<00:00,  1.66s/it]\n",
      "Verarbeite Batches: 100%|██████████| 1/1 [00:01<00:00,  1.47s/it]\n",
      "Verarbeite Batches: 100%|██████████| 1/1 [00:17<00:00, 17.89s/it]\n",
      "Verarbeite Batches: 100%|██████████| 1/1 [00:06<00:00,  6.18s/it]\n",
      "Verarbeite Batches: 100%|██████████| 1/1 [00:02<00:00,  2.87s/it]\n",
      "Verarbeite Batches: 100%|██████████| 1/1 [00:01<00:00,  1.32s/it]\n",
      "Verarbeite Batches: 100%|██████████| 1/1 [00:01<00:00,  1.68s/it]\n",
      "Verarbeite Batches: 100%|██████████| 1/1 [00:01<00:00,  1.45s/it]\n",
      "Verarbeite Batches: 100%|██████████| 1/1 [00:14<00:00, 14.56s/it]\n",
      "Verarbeite Batches: 100%|██████████| 1/1 [00:05<00:00,  5.70s/it]\n",
      "Verarbeite Batches: 100%|██████████| 1/1 [00:02<00:00,  2.68s/it]\n",
      "Verarbeite Batches: 100%|██████████| 1/1 [00:04<00:00,  4.24s/it]\n",
      "Verarbeite Batches: 100%|██████████| 1/1 [00:01<00:00,  1.59s/it]\n",
      "Verarbeite Batches: 100%|██████████| 1/1 [00:03<00:00,  3.55s/it]\n",
      "Verarbeite Batches: 100%|██████████| 1/1 [00:02<00:00,  2.68s/it]\n",
      "Verarbeite Batches: 100%|██████████| 1/1 [00:00<00:00,  1.29it/s]\n",
      "Verarbeite Batches: 100%|██████████| 1/1 [00:04<00:00,  4.37s/it]\n",
      "Verarbeite Batches: 100%|██████████| 1/1 [00:01<00:00,  2.00s/it]\n",
      "Verarbeite Batches: 100%|██████████| 1/1 [00:03<00:00,  3.13s/it]\n",
      "Verarbeite Batches: 100%|██████████| 1/1 [00:02<00:00,  2.71s/it]\n",
      "Verarbeite Batches: 100%|██████████| 1/1 [00:06<00:00,  6.01s/it]\n",
      "Verarbeite Batches: 100%|██████████| 1/1 [00:04<00:00,  4.24s/it]\n",
      "Verarbeite Batches: 100%|██████████| 1/1 [00:03<00:00,  3.97s/it]\n",
      "100%|██████████| 100/100 [08:06<00:00,  4.86s/it]\n",
      "0it [00:00, ?it/s]/var/folders/k3/z_svrdgd6sb9lc9bqdfzp_k00000gn/T/ipykernel_89249/1576956366.py:38: DeprecationWarning: networkx.pagerank_numpy is deprecated and will be removed in NetworkX 3.0, use networkx.pagerank instead.\n",
      "  scores = nx.pagerank_numpy(graph)\n",
      "/Users/niclascramer/opt/miniconda3/envs/torch/lib/python3.9/site-packages/networkx/algorithms/link_analysis/pagerank_alg.py:354: FutureWarning: google_matrix will return an np.ndarray instead of a np.matrix in\n",
      "NetworkX version 3.0.\n",
      "  M = google_matrix(\n",
      "100it [06:20,  3.81s/it]\n",
      "Verarbeite Batches: 100%|██████████| 1/1 [00:02<00:00,  2.96s/it]\n",
      "Verarbeite Batches: 100%|██████████| 1/1 [00:08<00:00,  8.44s/it]\n",
      "Verarbeite Batches: 100%|██████████| 1/1 [00:03<00:00,  3.04s/it]\n",
      "Verarbeite Batches: 100%|██████████| 1/1 [00:14<00:00, 14.52s/it]\n",
      "Verarbeite Batches: 100%|██████████| 1/1 [00:02<00:00,  2.78s/it]\n",
      "Verarbeite Batches: 100%|██████████| 1/1 [00:01<00:00,  1.55s/it]\n",
      "Verarbeite Batches: 100%|██████████| 1/1 [00:04<00:00,  4.23s/it]\n",
      "Verarbeite Batches: 100%|██████████| 1/1 [00:08<00:00,  8.06s/it]\n",
      "Verarbeite Batches: 100%|██████████| 1/1 [00:07<00:00,  7.09s/it]\n",
      "Verarbeite Batches: 100%|██████████| 1/1 [00:09<00:00,  9.28s/it]\n",
      "Verarbeite Batches: 100%|██████████| 1/1 [00:05<00:00,  5.42s/it]\n",
      "Verarbeite Batches: 100%|██████████| 1/1 [00:02<00:00,  2.07s/it]\n",
      "Verarbeite Batches: 100%|██████████| 1/1 [00:01<00:00,  1.58s/it]\n",
      "Verarbeite Batches: 100%|██████████| 1/1 [00:02<00:00,  2.51s/it]\n",
      "Verarbeite Batches: 100%|██████████| 1/1 [00:02<00:00,  2.03s/it]\n",
      "Verarbeite Batches: 100%|██████████| 1/1 [00:01<00:00,  1.84s/it]\n",
      "Verarbeite Batches: 100%|██████████| 1/1 [00:01<00:00,  1.17s/it]\n",
      "Verarbeite Batches: 100%|██████████| 1/1 [00:06<00:00,  6.51s/it]\n",
      "Verarbeite Batches: 100%|██████████| 1/1 [00:05<00:00,  5.11s/it]\n",
      "Verarbeite Batches: 100%|██████████| 1/1 [00:01<00:00,  1.01s/it]\n",
      "Verarbeite Batches: 100%|██████████| 1/1 [00:02<00:00,  2.15s/it]\n",
      "Verarbeite Batches: 100%|██████████| 1/1 [00:04<00:00,  4.22s/it]\n",
      "Verarbeite Batches: 100%|██████████| 1/1 [00:02<00:00,  2.70s/it]\n",
      "Verarbeite Batches: 100%|██████████| 1/1 [00:06<00:00,  6.89s/it]\n",
      "Verarbeite Batches: 100%|██████████| 1/1 [00:01<00:00,  1.81s/it]\n",
      "Verarbeite Batches: 100%|██████████| 1/1 [00:02<00:00,  2.70s/it]\n",
      "Verarbeite Batches: 100%|██████████| 1/1 [00:00<00:00,  1.18it/s]\n",
      "Verarbeite Batches: 100%|██████████| 1/1 [00:01<00:00,  1.81s/it]\n",
      "Verarbeite Batches: 100%|██████████| 1/1 [00:04<00:00,  4.15s/it]\n",
      "Verarbeite Batches: 100%|██████████| 1/1 [00:01<00:00,  1.57s/it]\n",
      "Verarbeite Batches: 100%|██████████| 1/1 [00:22<00:00, 22.30s/it]\n",
      "Verarbeite Batches: 100%|██████████| 1/1 [00:05<00:00,  5.22s/it]\n",
      "Verarbeite Batches: 100%|██████████| 1/1 [00:06<00:00,  6.34s/it]\n",
      "Verarbeite Batches: 100%|██████████| 1/1 [00:16<00:00, 16.17s/it]\n",
      "Verarbeite Batches: 100%|██████████| 1/1 [00:09<00:00,  9.19s/it]\n",
      "Verarbeite Batches: 100%|██████████| 1/1 [00:03<00:00,  3.22s/it]\n",
      "Verarbeite Batches: 100%|██████████| 1/1 [00:03<00:00,  3.11s/it]\n",
      "Verarbeite Batches: 100%|██████████| 1/1 [00:08<00:00,  8.47s/it]\n",
      "Verarbeite Batches: 100%|██████████| 1/1 [00:02<00:00,  2.40s/it]\n",
      "Verarbeite Batches: 100%|██████████| 1/1 [00:04<00:00,  4.19s/it]\n",
      "Verarbeite Batches: 100%|██████████| 1/1 [00:10<00:00, 10.86s/it]\n",
      "Verarbeite Batches: 100%|██████████| 1/1 [00:02<00:00,  2.08s/it]\n",
      "Verarbeite Batches: 100%|██████████| 1/1 [00:01<00:00,  1.40s/it]\n",
      "Verarbeite Batches: 100%|██████████| 1/1 [00:02<00:00,  2.45s/it]\n",
      "Verarbeite Batches: 100%|██████████| 1/1 [00:03<00:00,  3.69s/it]\n",
      "Verarbeite Batches: 100%|██████████| 1/1 [00:01<00:00,  1.97s/it]\n",
      "Verarbeite Batches: 100%|██████████| 1/1 [00:01<00:00,  1.47s/it]\n",
      "Verarbeite Batches: 100%|██████████| 1/1 [00:03<00:00,  3.15s/it]\n",
      "Verarbeite Batches: 100%|██████████| 1/1 [00:03<00:00,  3.07s/it]\n",
      "Verarbeite Batches: 100%|██████████| 1/1 [00:01<00:00,  1.94s/it]\n",
      "Verarbeite Batches: 100%|██████████| 1/1 [00:03<00:00,  3.41s/it]\n",
      "Verarbeite Batches: 100%|██████████| 1/1 [00:01<00:00,  1.95s/it]\n",
      "Verarbeite Batches: 100%|██████████| 1/1 [00:08<00:00,  8.55s/it]\n",
      "Verarbeite Batches: 100%|██████████| 1/1 [00:00<00:00,  1.29it/s]\n",
      "Verarbeite Batches: 100%|██████████| 1/1 [00:03<00:00,  3.83s/it]\n",
      "Verarbeite Batches: 100%|██████████| 1/1 [00:08<00:00,  8.28s/it]\n",
      "Verarbeite Batches: 100%|██████████| 1/1 [00:03<00:00,  3.54s/it]\n",
      "Verarbeite Batches: 100%|██████████| 1/1 [00:03<00:00,  3.61s/it]\n",
      "Verarbeite Batches: 100%|██████████| 1/1 [00:10<00:00, 10.16s/it]\n",
      "Verarbeite Batches: 100%|██████████| 1/1 [00:03<00:00,  3.77s/it]\n",
      "Verarbeite Batches: 100%|██████████| 1/1 [00:03<00:00,  3.03s/it]\n",
      "Verarbeite Batches: 100%|██████████| 1/1 [00:01<00:00,  1.32s/it]\n",
      "Verarbeite Batches: 100%|██████████| 1/1 [00:04<00:00,  4.31s/it]\n",
      "Verarbeite Batches: 100%|██████████| 1/1 [00:03<00:00,  3.95s/it]\n",
      "Verarbeite Batches: 100%|██████████| 1/1 [00:08<00:00,  8.41s/it]\n",
      "Verarbeite Batches: 100%|██████████| 1/1 [00:02<00:00,  2.13s/it]\n",
      "Verarbeite Batches: 100%|██████████| 1/1 [00:07<00:00,  7.81s/it]\n",
      "Verarbeite Batches: 100%|██████████| 1/1 [00:16<00:00, 16.61s/it]\n",
      "Verarbeite Batches: 100%|██████████| 1/1 [00:02<00:00,  2.22s/it]\n",
      "Verarbeite Batches: 100%|██████████| 1/1 [00:02<00:00,  2.47s/it]\n",
      "Verarbeite Batches: 100%|██████████| 1/1 [00:04<00:00,  4.71s/it]\n",
      "Verarbeite Batches: 100%|██████████| 1/1 [00:06<00:00,  6.09s/it]\n",
      "Verarbeite Batches: 100%|██████████| 1/1 [00:03<00:00,  3.15s/it]\n",
      "Verarbeite Batches: 100%|██████████| 1/1 [00:01<00:00,  1.99s/it]\n",
      "Verarbeite Batches: 100%|██████████| 1/1 [00:05<00:00,  5.54s/it]\n",
      "Verarbeite Batches: 100%|██████████| 1/1 [00:04<00:00,  4.19s/it]\n",
      "Verarbeite Batches: 100%|██████████| 1/1 [00:02<00:00,  2.96s/it]\n",
      "Verarbeite Batches: 100%|██████████| 1/1 [00:08<00:00,  8.80s/it]\n",
      "Verarbeite Batches: 100%|██████████| 1/1 [00:09<00:00,  9.39s/it]\n",
      "Verarbeite Batches: 100%|██████████| 1/1 [00:02<00:00,  2.96s/it]\n",
      "Verarbeite Batches: 100%|██████████| 1/1 [00:01<00:00,  1.84s/it]\n",
      "Verarbeite Batches: 100%|██████████| 1/1 [00:02<00:00,  2.92s/it]\n",
      "Verarbeite Batches: 100%|██████████| 1/1 [00:12<00:00, 12.60s/it]\n",
      "Verarbeite Batches: 100%|██████████| 1/1 [00:03<00:00,  3.82s/it]\n",
      "Verarbeite Batches: 100%|██████████| 1/1 [00:04<00:00,  4.07s/it]\n",
      "Verarbeite Batches: 100%|██████████| 1/1 [00:03<00:00,  3.45s/it]\n",
      "Verarbeite Batches: 100%|██████████| 1/1 [00:01<00:00,  1.68s/it]\n",
      "Verarbeite Batches: 100%|██████████| 1/1 [00:03<00:00,  3.12s/it]\n",
      "Verarbeite Batches: 100%|██████████| 1/1 [00:02<00:00,  2.81s/it]\n",
      "Verarbeite Batches: 100%|██████████| 1/1 [00:02<00:00,  2.70s/it]\n",
      "Verarbeite Batches: 100%|██████████| 1/1 [00:02<00:00,  2.90s/it]\n",
      "Verarbeite Batches: 100%|██████████| 1/1 [00:03<00:00,  3.45s/it]\n",
      "Verarbeite Batches: 100%|██████████| 1/1 [00:08<00:00,  8.39s/it]\n",
      "Verarbeite Batches: 100%|██████████| 1/1 [00:00<00:00,  1.08it/s]\n",
      "Verarbeite Batches: 100%|██████████| 1/1 [00:01<00:00,  1.78s/it]\n",
      "Verarbeite Batches: 100%|██████████| 1/1 [00:03<00:00,  3.08s/it]\n",
      "Verarbeite Batches: 100%|██████████| 1/1 [00:03<00:00,  3.67s/it]\n",
      "Verarbeite Batches: 100%|██████████| 1/1 [00:04<00:00,  4.08s/it]\n",
      "Verarbeite Batches: 100%|██████████| 1/1 [00:05<00:00,  5.82s/it]\n",
      "Verarbeite Batches: 100%|██████████| 1/1 [00:06<00:00,  6.04s/it]\n",
      "100%|██████████| 100/100 [07:42<00:00,  4.62s/it]\n"
     ]
    }
   ],
   "source": [
    "seed=10\n",
    "for x in range(0,401,100):\n",
    "  df_training=df_train[df_train.classification=='reviews'].reset_index(drop=True)[['classification','text']][x:x+100].reset_index(drop=True).copy()\n",
    "  alsdf_sum=execute_text_gen(df_training,split='\\. ',seed=seed)\n",
    "  alsdf_sum.to_csv(f'data/ergbnisse/train_review_2_{x+100}.csv')\n",
    "  seed+=1"
   ]
  },
  {
   "cell_type": "code",
   "execution_count": 95,
   "metadata": {},
   "outputs": [
    {
     "data": {
      "text/html": [
       "<div>\n",
       "<style scoped>\n",
       "    .dataframe tbody tr th:only-of-type {\n",
       "        vertical-align: middle;\n",
       "    }\n",
       "\n",
       "    .dataframe tbody tr th {\n",
       "        vertical-align: top;\n",
       "    }\n",
       "\n",
       "    .dataframe thead th {\n",
       "        text-align: right;\n",
       "    }\n",
       "</style>\n",
       "<table border=\"1\" class=\"dataframe\">\n",
       "  <thead>\n",
       "    <tr style=\"text-align: right;\">\n",
       "      <th></th>\n",
       "      <th>Zusammenfassung</th>\n",
       "      <th>Min_Kompressionsrate</th>\n",
       "      <th>Max_Kompressionsrate</th>\n",
       "      <th>länge Zusammenfassung</th>\n",
       "      <th>text</th>\n",
       "      <th>tokens_gesamt</th>\n",
       "      <th>token_text_rank</th>\n",
       "      <th>desired_compression_rate</th>\n",
       "      <th>text_rank_compression_rate</th>\n",
       "      <th>current_compression_rate</th>\n",
       "      <th>reduction_multiplier</th>\n",
       "      <th>ent_com_rate</th>\n",
       "    </tr>\n",
       "  </thead>\n",
       "  <tbody>\n",
       "    <tr>\n",
       "      <th>0</th>\n",
       "      <td>The Administration of Union Territory Daman an...</td>\n",
       "      <td>34</td>\n",
       "      <td>84</td>\n",
       "      <td>33</td>\n",
       "      <td>The Administration of Union Territory Daman an...</td>\n",
       "      <td>60</td>\n",
       "      <td>33</td>\n",
       "      <td>0.54</td>\n",
       "      <td>0.550000</td>\n",
       "      <td>0.55</td>\n",
       "      <td>0.981818</td>\n",
       "      <td>0.55</td>\n",
       "    </tr>\n",
       "    <tr>\n",
       "      <th>1</th>\n",
       "      <td>Malaika Arora slammed an Instagram user who tr...</td>\n",
       "      <td>40</td>\n",
       "      <td>90</td>\n",
       "      <td>39</td>\n",
       "      <td>Malaika Arora slammed an Instagram user who tr...</td>\n",
       "      <td>60</td>\n",
       "      <td>39</td>\n",
       "      <td>0.46</td>\n",
       "      <td>0.650000</td>\n",
       "      <td>0.65</td>\n",
       "      <td>0.707692</td>\n",
       "      <td>0.65</td>\n",
       "    </tr>\n",
       "    <tr>\n",
       "      <th>2</th>\n",
       "      <td>Bihar Health Minister defined virgin as being ...</td>\n",
       "      <td>36</td>\n",
       "      <td>86</td>\n",
       "      <td>34</td>\n",
       "      <td>The Indira Gandhi Institute of Medical Science...</td>\n",
       "      <td>60</td>\n",
       "      <td>35</td>\n",
       "      <td>0.55</td>\n",
       "      <td>0.583333</td>\n",
       "      <td>0.583333</td>\n",
       "      <td>0.942857</td>\n",
       "      <td>0.566667</td>\n",
       "    </tr>\n",
       "    <tr>\n",
       "      <th>3</th>\n",
       "      <td>Lashkar-e-Taiba's Kashmir commander Abu Dujana...</td>\n",
       "      <td>42</td>\n",
       "      <td>92</td>\n",
       "      <td>22</td>\n",
       "      <td>Lashkar-e-Taiba's Kashmir commander Abu Dujana...</td>\n",
       "      <td>60</td>\n",
       "      <td>40</td>\n",
       "      <td>0.32</td>\n",
       "      <td>0.666667</td>\n",
       "      <td>0.666667</td>\n",
       "      <td>0.48</td>\n",
       "      <td>0.366667</td>\n",
       "    </tr>\n",
       "    <tr>\n",
       "      <th>4</th>\n",
       "      <td>Hotels in Maharashtra will train their staff t...</td>\n",
       "      <td>53</td>\n",
       "      <td>103</td>\n",
       "      <td>38</td>\n",
       "      <td>Hotels in Maharashtra will train their staff t...</td>\n",
       "      <td>60</td>\n",
       "      <td>51</td>\n",
       "      <td>0.69</td>\n",
       "      <td>0.850000</td>\n",
       "      <td>0.85</td>\n",
       "      <td>0.811765</td>\n",
       "      <td>0.633333</td>\n",
       "    </tr>\n",
       "    <tr>\n",
       "      <th>5</th>\n",
       "      <td>Man, 32, was found hanging inside the washroom...</td>\n",
       "      <td>50</td>\n",
       "      <td>100</td>\n",
       "      <td>42</td>\n",
       "      <td>A 32-year-old man on Wednesday was found hangi...</td>\n",
       "      <td>60</td>\n",
       "      <td>48</td>\n",
       "      <td>0.69</td>\n",
       "      <td>0.800000</td>\n",
       "      <td>0.8</td>\n",
       "      <td>0.8625</td>\n",
       "      <td>0.7</td>\n",
       "    </tr>\n",
       "    <tr>\n",
       "      <th>6</th>\n",
       "      <td>Delhi High Court reduced the compensation awar...</td>\n",
       "      <td>37</td>\n",
       "      <td>87</td>\n",
       "      <td>35</td>\n",
       "      <td>The Delhi High Court reduced the compensation ...</td>\n",
       "      <td>61</td>\n",
       "      <td>36</td>\n",
       "      <td>0.59</td>\n",
       "      <td>0.600000</td>\n",
       "      <td>0.590164</td>\n",
       "      <td>0.999722</td>\n",
       "      <td>0.57377</td>\n",
       "    </tr>\n",
       "    <tr>\n",
       "      <th>7</th>\n",
       "      <td>60-year-old Dalit woman was allegedly lynched ...</td>\n",
       "      <td>27</td>\n",
       "      <td>77</td>\n",
       "      <td>21</td>\n",
       "      <td>A 60-year old Dalit woman was allegedly lynche...</td>\n",
       "      <td>60</td>\n",
       "      <td>26</td>\n",
       "      <td>0.30</td>\n",
       "      <td>0.433333</td>\n",
       "      <td>0.433333</td>\n",
       "      <td>0.692308</td>\n",
       "      <td>0.35</td>\n",
       "    </tr>\n",
       "    <tr>\n",
       "      <th>8</th>\n",
       "      <td>The Pawan Hans helicopter was flying at a crit...</td>\n",
       "      <td>63</td>\n",
       "      <td>113</td>\n",
       "      <td>40</td>\n",
       "      <td>An inquiry by the Aircraft Accident Investigat...</td>\n",
       "      <td>61</td>\n",
       "      <td>60</td>\n",
       "      <td>0.51</td>\n",
       "      <td>1.000000</td>\n",
       "      <td>0.983607</td>\n",
       "      <td>0.5185</td>\n",
       "      <td>0.655738</td>\n",
       "    </tr>\n",
       "    <tr>\n",
       "      <th>9</th>\n",
       "      <td>Congress party has opened a bank called 'State...</td>\n",
       "      <td>43</td>\n",
       "      <td>93</td>\n",
       "      <td>30</td>\n",
       "      <td>The Congress party has opened a bank called 'S...</td>\n",
       "      <td>57</td>\n",
       "      <td>41</td>\n",
       "      <td>0.40</td>\n",
       "      <td>0.719298</td>\n",
       "      <td>0.719298</td>\n",
       "      <td>0.556098</td>\n",
       "      <td>0.526316</td>\n",
       "    </tr>\n",
       "  </tbody>\n",
       "</table>\n",
       "</div>"
      ],
      "text/plain": [
       "                                     Zusammenfassung Min_Kompressionsrate  \\\n",
       "0  The Administration of Union Territory Daman an...                   34   \n",
       "1  Malaika Arora slammed an Instagram user who tr...                   40   \n",
       "2  Bihar Health Minister defined virgin as being ...                   36   \n",
       "3  Lashkar-e-Taiba's Kashmir commander Abu Dujana...                   42   \n",
       "4  Hotels in Maharashtra will train their staff t...                   53   \n",
       "5  Man, 32, was found hanging inside the washroom...                   50   \n",
       "6  Delhi High Court reduced the compensation awar...                   37   \n",
       "7  60-year-old Dalit woman was allegedly lynched ...                   27   \n",
       "8  The Pawan Hans helicopter was flying at a crit...                   63   \n",
       "9  Congress party has opened a bank called 'State...                   43   \n",
       "\n",
       "  Max_Kompressionsrate länge Zusammenfassung  \\\n",
       "0                   84                    33   \n",
       "1                   90                    39   \n",
       "2                   86                    34   \n",
       "3                   92                    22   \n",
       "4                  103                    38   \n",
       "5                  100                    42   \n",
       "6                   87                    35   \n",
       "7                   77                    21   \n",
       "8                  113                    40   \n",
       "9                   93                    30   \n",
       "\n",
       "                                                text tokens_gesamt  \\\n",
       "0  The Administration of Union Territory Daman an...            60   \n",
       "1  Malaika Arora slammed an Instagram user who tr...            60   \n",
       "2  The Indira Gandhi Institute of Medical Science...            60   \n",
       "3  Lashkar-e-Taiba's Kashmir commander Abu Dujana...            60   \n",
       "4  Hotels in Maharashtra will train their staff t...            60   \n",
       "5  A 32-year-old man on Wednesday was found hangi...            60   \n",
       "6  The Delhi High Court reduced the compensation ...            61   \n",
       "7  A 60-year old Dalit woman was allegedly lynche...            60   \n",
       "8  An inquiry by the Aircraft Accident Investigat...            61   \n",
       "9  The Congress party has opened a bank called 'S...            57   \n",
       "\n",
       "  token_text_rank  desired_compression_rate  text_rank_compression_rate  \\\n",
       "0              33                      0.54                    0.550000   \n",
       "1              39                      0.46                    0.650000   \n",
       "2              35                      0.55                    0.583333   \n",
       "3              40                      0.32                    0.666667   \n",
       "4              51                      0.69                    0.850000   \n",
       "5              48                      0.69                    0.800000   \n",
       "6              36                      0.59                    0.600000   \n",
       "7              26                      0.30                    0.433333   \n",
       "8              60                      0.51                    1.000000   \n",
       "9              41                      0.40                    0.719298   \n",
       "\n",
       "  current_compression_rate reduction_multiplier ent_com_rate  \n",
       "0                     0.55             0.981818         0.55  \n",
       "1                     0.65             0.707692         0.65  \n",
       "2                 0.583333             0.942857     0.566667  \n",
       "3                 0.666667                 0.48     0.366667  \n",
       "4                     0.85             0.811765     0.633333  \n",
       "5                      0.8               0.8625          0.7  \n",
       "6                 0.590164             0.999722      0.57377  \n",
       "7                 0.433333             0.692308         0.35  \n",
       "8                 0.983607               0.5185     0.655738  \n",
       "9                 0.719298             0.556098     0.526316  "
      ]
     },
     "execution_count": 95,
     "metadata": {},
     "output_type": "execute_result"
    }
   ],
   "source": [
    "df_sum[['Zusammenfassung', 'Min_Kompressionsrate', 'Max_Kompressionsrate',\n",
    "       'länge Zusammenfassung',\n",
    "       'text','tokens_gesamt',\n",
    "       'token_text_rank', 'desired_compression_rate',\n",
    "       'text_rank_compression_rate', 'current_compression_rate',\n",
    "      'reduction_multiplier', 'ent_com_rate']]"
   ]
  },
  {
   "cell_type": "code",
   "execution_count": 115,
   "metadata": {},
   "outputs": [
    {
     "data": {
      "text/html": [
       "<pre style=\"white-space:pre;overflow-x:auto;line-height:normal;font-family:Menlo,'DejaVu Sans Mono',consolas,'Courier New',monospace\"><span style=\"color: #800000; text-decoration-color: #800000\">╭─────────────────────────────── </span><span style=\"color: #800000; text-decoration-color: #800000; font-weight: bold\">Traceback </span><span style=\"color: #bf7f7f; text-decoration-color: #bf7f7f; font-weight: bold\">(most recent call last)</span><span style=\"color: #800000; text-decoration-color: #800000\"> ────────────────────────────────╮</span>\n",
       "<span style=\"color: #800000; text-decoration-color: #800000\">│</span> <span style=\"color: #bfbf7f; text-decoration-color: #bfbf7f\">/var/folders/k3/z_svrdgd6sb9lc9bqdfzp_k00000gn/T/ipykernel_89249/</span><span style=\"color: #808000; text-decoration-color: #808000; font-weight: bold\">3261862292.py</span>:<span style=\"color: #0000ff; text-decoration-color: #0000ff\">1</span> in <span style=\"color: #00ff00; text-decoration-color: #00ff00\">&lt;module&gt;</span>     <span style=\"color: #800000; text-decoration-color: #800000\">│</span>\n",
       "<span style=\"color: #800000; text-decoration-color: #800000\">│</span>                                                                                                  <span style=\"color: #800000; text-decoration-color: #800000\">│</span>\n",
       "<span style=\"color: #800000; text-decoration-color: #800000\">│</span> <span style=\"color: #800000; text-decoration-color: #800000; font-style: italic\">[Errno 2] No such file or directory: </span>                                                            <span style=\"color: #800000; text-decoration-color: #800000\">│</span>\n",
       "<span style=\"color: #800000; text-decoration-color: #800000\">│</span> <span style=\"color: #800000; text-decoration-color: #800000; font-style: italic\">'/var/folders/k3/z_svrdgd6sb9lc9bqdfzp_k00000gn/T/ipykernel_89249/3261862292.py'</span>                 <span style=\"color: #800000; text-decoration-color: #800000\">│</span>\n",
       "<span style=\"color: #800000; text-decoration-color: #800000\">│</span>                                                                                                  <span style=\"color: #800000; text-decoration-color: #800000\">│</span>\n",
       "<span style=\"color: #800000; text-decoration-color: #800000\">│</span> <span style=\"color: #bfbf7f; text-decoration-color: #bfbf7f\">/Users/niclascramer/opt/miniconda3/envs/torch/lib/python3.9/site-packages/pandas/core/</span><span style=\"color: #808000; text-decoration-color: #808000; font-weight: bold\">frame.py</span>:<span style=\"color: #0000ff; text-decoration-color: #0000ff\">7</span> <span style=\"color: #800000; text-decoration-color: #800000\">│</span>\n",
       "<span style=\"color: #800000; text-decoration-color: #800000\">│</span> <span style=\"color: #0000ff; text-decoration-color: #0000ff\">80</span> in <span style=\"color: #00ff00; text-decoration-color: #00ff00\">__init__</span>                                                                                   <span style=\"color: #800000; text-decoration-color: #800000\">│</span>\n",
       "<span style=\"color: #800000; text-decoration-color: #800000\">│</span>                                                                                                  <span style=\"color: #800000; text-decoration-color: #800000\">│</span>\n",
       "<span style=\"color: #800000; text-decoration-color: #800000\">│</span>   <span style=\"color: #7f7f7f; text-decoration-color: #7f7f7f\">  777 │   │   # For data is scalar</span>                                                             <span style=\"color: #800000; text-decoration-color: #800000\">│</span>\n",
       "<span style=\"color: #800000; text-decoration-color: #800000\">│</span>   <span style=\"color: #7f7f7f; text-decoration-color: #7f7f7f\">  778 │   │   </span><span style=\"color: #0000ff; text-decoration-color: #0000ff\">else</span>:                                                                            <span style=\"color: #800000; text-decoration-color: #800000\">│</span>\n",
       "<span style=\"color: #800000; text-decoration-color: #800000\">│</span>   <span style=\"color: #7f7f7f; text-decoration-color: #7f7f7f\">  779 │   │   │   </span><span style=\"color: #0000ff; text-decoration-color: #0000ff\">if</span> index <span style=\"color: #ff00ff; text-decoration-color: #ff00ff\">is</span> <span style=\"color: #0000ff; text-decoration-color: #0000ff\">None</span> <span style=\"color: #ff00ff; text-decoration-color: #ff00ff\">or</span> columns <span style=\"color: #ff00ff; text-decoration-color: #ff00ff\">is</span> <span style=\"color: #0000ff; text-decoration-color: #0000ff\">None</span>:                                         <span style=\"color: #800000; text-decoration-color: #800000\">│</span>\n",
       "<span style=\"color: #800000; text-decoration-color: #800000\">│</span> <span style=\"color: #800000; text-decoration-color: #800000\">❱ </span>  780 <span style=\"color: #7f7f7f; text-decoration-color: #7f7f7f\">│   │   │   │   </span><span style=\"color: #0000ff; text-decoration-color: #0000ff\">raise</span> <span style=\"color: #00ffff; text-decoration-color: #00ffff\">ValueError</span>(<span style=\"color: #808000; text-decoration-color: #808000\">\"DataFrame constructor not properly called!\"</span>)           <span style=\"color: #800000; text-decoration-color: #800000\">│</span>\n",
       "<span style=\"color: #800000; text-decoration-color: #800000\">│</span>   <span style=\"color: #7f7f7f; text-decoration-color: #7f7f7f\">  781 │   │   │   </span>                                                                             <span style=\"color: #800000; text-decoration-color: #800000\">│</span>\n",
       "<span style=\"color: #800000; text-decoration-color: #800000\">│</span>   <span style=\"color: #7f7f7f; text-decoration-color: #7f7f7f\">  782 │   │   │   </span>index = ensure_index(index)                                                  <span style=\"color: #800000; text-decoration-color: #800000\">│</span>\n",
       "<span style=\"color: #800000; text-decoration-color: #800000\">│</span>   <span style=\"color: #7f7f7f; text-decoration-color: #7f7f7f\">  783 │   │   │   </span>columns = ensure_index(columns)                                              <span style=\"color: #800000; text-decoration-color: #800000\">│</span>\n",
       "<span style=\"color: #800000; text-decoration-color: #800000\">╰──────────────────────────────────────────────────────────────────────────────────────────────────╯</span>\n",
       "<span style=\"color: #ff0000; text-decoration-color: #ff0000; font-weight: bold\">ValueError: </span>DataFrame constructor not properly called!\n",
       "</pre>\n"
      ],
      "text/plain": [
       "\u001b[31m╭─\u001b[0m\u001b[31m──────────────────────────────\u001b[0m\u001b[31m \u001b[0m\u001b[1;31mTraceback \u001b[0m\u001b[1;2;31m(most recent call last)\u001b[0m\u001b[31m \u001b[0m\u001b[31m───────────────────────────────\u001b[0m\u001b[31m─╮\u001b[0m\n",
       "\u001b[31m│\u001b[0m \u001b[2;33m/var/folders/k3/z_svrdgd6sb9lc9bqdfzp_k00000gn/T/ipykernel_89249/\u001b[0m\u001b[1;33m3261862292.py\u001b[0m:\u001b[94m1\u001b[0m in \u001b[92m<module>\u001b[0m     \u001b[31m│\u001b[0m\n",
       "\u001b[31m│\u001b[0m                                                                                                  \u001b[31m│\u001b[0m\n",
       "\u001b[31m│\u001b[0m \u001b[3;31m[Errno 2] No such file or directory: \u001b[0m                                                            \u001b[31m│\u001b[0m\n",
       "\u001b[31m│\u001b[0m \u001b[3;31m'/var/folders/k3/z_svrdgd6sb9lc9bqdfzp_k00000gn/T/ipykernel_89249/3261862292.py'\u001b[0m                 \u001b[31m│\u001b[0m\n",
       "\u001b[31m│\u001b[0m                                                                                                  \u001b[31m│\u001b[0m\n",
       "\u001b[31m│\u001b[0m \u001b[2;33m/Users/niclascramer/opt/miniconda3/envs/torch/lib/python3.9/site-packages/pandas/core/\u001b[0m\u001b[1;33mframe.py\u001b[0m:\u001b[94m7\u001b[0m \u001b[31m│\u001b[0m\n",
       "\u001b[31m│\u001b[0m \u001b[94m80\u001b[0m in \u001b[92m__init__\u001b[0m                                                                                   \u001b[31m│\u001b[0m\n",
       "\u001b[31m│\u001b[0m                                                                                                  \u001b[31m│\u001b[0m\n",
       "\u001b[31m│\u001b[0m   \u001b[2m  777 \u001b[0m\u001b[2m│   │   \u001b[0m\u001b[2m# For data is scalar\u001b[0m                                                             \u001b[31m│\u001b[0m\n",
       "\u001b[31m│\u001b[0m   \u001b[2m  778 \u001b[0m\u001b[2m│   │   \u001b[0m\u001b[94melse\u001b[0m:                                                                            \u001b[31m│\u001b[0m\n",
       "\u001b[31m│\u001b[0m   \u001b[2m  779 \u001b[0m\u001b[2m│   │   │   \u001b[0m\u001b[94mif\u001b[0m index \u001b[95mis\u001b[0m \u001b[94mNone\u001b[0m \u001b[95mor\u001b[0m columns \u001b[95mis\u001b[0m \u001b[94mNone\u001b[0m:                                         \u001b[31m│\u001b[0m\n",
       "\u001b[31m│\u001b[0m \u001b[31m❱ \u001b[0m  780 \u001b[2m│   │   │   │   \u001b[0m\u001b[94mraise\u001b[0m \u001b[96mValueError\u001b[0m(\u001b[33m\"\u001b[0m\u001b[33mDataFrame constructor not properly called!\u001b[0m\u001b[33m\"\u001b[0m)           \u001b[31m│\u001b[0m\n",
       "\u001b[31m│\u001b[0m   \u001b[2m  781 \u001b[0m\u001b[2m│   │   │   \u001b[0m                                                                             \u001b[31m│\u001b[0m\n",
       "\u001b[31m│\u001b[0m   \u001b[2m  782 \u001b[0m\u001b[2m│   │   │   \u001b[0mindex = ensure_index(index)                                                  \u001b[31m│\u001b[0m\n",
       "\u001b[31m│\u001b[0m   \u001b[2m  783 \u001b[0m\u001b[2m│   │   │   \u001b[0mcolumns = ensure_index(columns)                                              \u001b[31m│\u001b[0m\n",
       "\u001b[31m╰──────────────────────────────────────────────────────────────────────────────────────────────────╯\u001b[0m\n",
       "\u001b[1;91mValueError: \u001b[0mDataFrame constructor not properly called!\n"
      ]
     },
     "metadata": {},
     "output_type": "display_data"
    }
   ],
   "source": [
    "df1=pd.DataFrame('data/ergbnisse/train_review_100.csv')\n",
    "df2=pd.DataFrame('data/ergbnisse/train_review_200.csv')\n",
    "df3=pd.DataFrame('data/ergbnisse/train_review_300.csv')\n",
    "df4=pd.DataFrame('data/ergbnisse/train_review_400.csv')"
   ]
  },
  {
   "cell_type": "code",
   "execution_count": 118,
   "metadata": {},
   "outputs": [],
   "source": [
    "\n",
    "frames = [pd.read_csv('data/ergbnisse/train_review_100.csv'), pd.read_csv('data/ergbnisse/train_story_text_rank_200.csv'), pd.read_csv('data/ergbnisse/train_story_text_rank_300.csv'),pd.read_csv('data/ergbnisse/train_review_400.csv'),pd.read_csv('data/ergbnisse/train_review_500.csv')]\n",
    "\n",
    "# Verkettung der DataFrames und Neuzuweisung der Indizes\n",
    "df_review = pd.concat(frames, ignore_index=True).drop('Unnamed: 0', axis=1)"
   ]
  },
  {
   "cell_type": "code",
   "execution_count": 119,
   "metadata": {},
   "outputs": [
    {
     "data": {
      "text/html": [
       "<div>\n",
       "<style scoped>\n",
       "    .dataframe tbody tr th:only-of-type {\n",
       "        vertical-align: middle;\n",
       "    }\n",
       "\n",
       "    .dataframe tbody tr th {\n",
       "        vertical-align: top;\n",
       "    }\n",
       "\n",
       "    .dataframe thead th {\n",
       "        text-align: right;\n",
       "    }\n",
       "</style>\n",
       "<table border=\"1\" class=\"dataframe\">\n",
       "  <thead>\n",
       "    <tr style=\"text-align: right;\">\n",
       "      <th></th>\n",
       "      <th>Zusammenfassung</th>\n",
       "      <th>Min_Kompressionsrate</th>\n",
       "      <th>Max_Kompressionsrate</th>\n",
       "      <th>Endgueltige_Kompressionsrate</th>\n",
       "      <th>länge Zusammenfassung</th>\n",
       "      <th>länge Ausgangstext</th>\n",
       "      <th>text</th>\n",
       "      <th>text_rank_text</th>\n",
       "      <th>tokens_gesamt</th>\n",
       "      <th>token_text_rank</th>\n",
       "      <th>desired_compression_rate</th>\n",
       "      <th>text_rank_compression_rate</th>\n",
       "      <th>current_compression_rate</th>\n",
       "      <th>compression_difference</th>\n",
       "      <th>reduction_multiplier</th>\n",
       "      <th>ent_com_rate</th>\n",
       "    </tr>\n",
       "  </thead>\n",
       "  <tbody>\n",
       "    <tr>\n",
       "      <th>0</th>\n",
       "      <td>This sound track was beautiful! It paints the ...</td>\n",
       "      <td>78</td>\n",
       "      <td>128</td>\n",
       "      <td>76.000000</td>\n",
       "      <td>57</td>\n",
       "      <td>75</td>\n",
       "      <td>This sound track was beautiful! It paints the ...</td>\n",
       "      <td>This sound track was beautiful! It paints the ...</td>\n",
       "      <td>75</td>\n",
       "      <td>75</td>\n",
       "      <td>0.54</td>\n",
       "      <td>1.000000</td>\n",
       "      <td>1.000000</td>\n",
       "      <td>-0.460000</td>\n",
       "      <td>0.540000</td>\n",
       "      <td>0.760000</td>\n",
       "    </tr>\n",
       "    <tr>\n",
       "      <th>1</th>\n",
       "      <td>The music is timeless and I'm been listening t...</td>\n",
       "      <td>58</td>\n",
       "      <td>108</td>\n",
       "      <td>100.000000</td>\n",
       "      <td>56</td>\n",
       "      <td>56</td>\n",
       "      <td>I'm reading a lot of reviews saying that this ...</td>\n",
       "      <td>The music is timeless and I'm been listening t...</td>\n",
       "      <td>91</td>\n",
       "      <td>56</td>\n",
       "      <td>0.46</td>\n",
       "      <td>0.615385</td>\n",
       "      <td>0.615385</td>\n",
       "      <td>-0.155385</td>\n",
       "      <td>0.747500</td>\n",
       "      <td>0.615385</td>\n",
       "    </tr>\n",
       "    <tr>\n",
       "      <th>2</th>\n",
       "      <td>The soundtrack is amazing music, probably the ...</td>\n",
       "      <td>78</td>\n",
       "      <td>128</td>\n",
       "      <td>80.000000</td>\n",
       "      <td>60</td>\n",
       "      <td>75</td>\n",
       "      <td>This soundtrack is my favorite music of all ti...</td>\n",
       "      <td>The higher energy tracks like \"Chrono Cross ~ ...</td>\n",
       "      <td>128</td>\n",
       "      <td>75</td>\n",
       "      <td>0.55</td>\n",
       "      <td>0.585938</td>\n",
       "      <td>0.585938</td>\n",
       "      <td>-0.035937</td>\n",
       "      <td>0.938667</td>\n",
       "      <td>0.468750</td>\n",
       "    </tr>\n",
       "    <tr>\n",
       "      <th>3</th>\n",
       "      <td>On disk one Garden Of God, Chronopolis, Fates,...</td>\n",
       "      <td>64</td>\n",
       "      <td>114</td>\n",
       "      <td>40.983607</td>\n",
       "      <td>25</td>\n",
       "      <td>61</td>\n",
       "      <td>I truly like this soundtrack and I enjoy video...</td>\n",
       "      <td>I have played this game and most of the music ...</td>\n",
       "      <td>116</td>\n",
       "      <td>61</td>\n",
       "      <td>0.32</td>\n",
       "      <td>0.525862</td>\n",
       "      <td>0.525862</td>\n",
       "      <td>-0.205862</td>\n",
       "      <td>0.608525</td>\n",
       "      <td>0.215517</td>\n",
       "    </tr>\n",
       "    <tr>\n",
       "      <th>4</th>\n",
       "      <td>The music is perfect if you ask me, the best i...</td>\n",
       "      <td>80</td>\n",
       "      <td>130</td>\n",
       "      <td>67.532468</td>\n",
       "      <td>52</td>\n",
       "      <td>77</td>\n",
       "      <td>If you've played the game, you know how divine...</td>\n",
       "      <td>If you've played the game, you know how divine...</td>\n",
       "      <td>77</td>\n",
       "      <td>77</td>\n",
       "      <td>0.69</td>\n",
       "      <td>1.000000</td>\n",
       "      <td>1.000000</td>\n",
       "      <td>-0.310000</td>\n",
       "      <td>0.690000</td>\n",
       "      <td>0.675325</td>\n",
       "    </tr>\n",
       "    <tr>\n",
       "      <th>...</th>\n",
       "      <td>...</td>\n",
       "      <td>...</td>\n",
       "      <td>...</td>\n",
       "      <td>...</td>\n",
       "      <td>...</td>\n",
       "      <td>...</td>\n",
       "      <td>...</td>\n",
       "      <td>...</td>\n",
       "      <td>...</td>\n",
       "      <td>...</td>\n",
       "      <td>...</td>\n",
       "      <td>...</td>\n",
       "      <td>...</td>\n",
       "      <td>...</td>\n",
       "      <td>...</td>\n",
       "      <td>...</td>\n",
       "    </tr>\n",
       "    <tr>\n",
       "      <th>395</th>\n",
       "      <td>Only thing i found funny about this movie was ...</td>\n",
       "      <td>35</td>\n",
       "      <td>85</td>\n",
       "      <td>97.058824</td>\n",
       "      <td>33</td>\n",
       "      <td>34</td>\n",
       "      <td>His movies seem to be going down hill. The onl...</td>\n",
       "      <td>The only thing i found funny about this movie ...</td>\n",
       "      <td>42</td>\n",
       "      <td>34</td>\n",
       "      <td>0.59</td>\n",
       "      <td>0.809524</td>\n",
       "      <td>0.809524</td>\n",
       "      <td>-0.219524</td>\n",
       "      <td>0.728824</td>\n",
       "      <td>0.785714</td>\n",
       "    </tr>\n",
       "    <tr>\n",
       "      <th>396</th>\n",
       "      <td>Comic has terminal illness that almost kills h...</td>\n",
       "      <td>42</td>\n",
       "      <td>92</td>\n",
       "      <td>70.000000</td>\n",
       "      <td>28</td>\n",
       "      <td>40</td>\n",
       "      <td>FUNNY PEOPLE is somewhat compelling and engagi...</td>\n",
       "      <td>FUNNY PEOPLE is somewhat compelling and engagi...</td>\n",
       "      <td>40</td>\n",
       "      <td>40</td>\n",
       "      <td>0.53</td>\n",
       "      <td>1.000000</td>\n",
       "      <td>1.000000</td>\n",
       "      <td>-0.470000</td>\n",
       "      <td>0.530000</td>\n",
       "      <td>0.700000</td>\n",
       "    </tr>\n",
       "    <tr>\n",
       "      <th>397</th>\n",
       "      <td>\"This movie seems like it's all over the place...</td>\n",
       "      <td>49</td>\n",
       "      <td>99</td>\n",
       "      <td>76.595745</td>\n",
       "      <td>36</td>\n",
       "      <td>47</td>\n",
       "      <td>This is not a typical Adam Sandler movie, whic...</td>\n",
       "      <td>It's about \"comedy\" but I wouldn't consider th...</td>\n",
       "      <td>85</td>\n",
       "      <td>47</td>\n",
       "      <td>0.53</td>\n",
       "      <td>0.552941</td>\n",
       "      <td>0.552941</td>\n",
       "      <td>-0.022941</td>\n",
       "      <td>0.958511</td>\n",
       "      <td>0.423529</td>\n",
       "    </tr>\n",
       "    <tr>\n",
       "      <th>398</th>\n",
       "      <td>I found the jokes and humor to be at best, lam...</td>\n",
       "      <td>48</td>\n",
       "      <td>98</td>\n",
       "      <td>102.173913</td>\n",
       "      <td>47</td>\n",
       "      <td>46</td>\n",
       "      <td>Adam Sadler plays an unlikable comedian, Georg...</td>\n",
       "      <td>Everyone has sex but Ira, which seems to be a ...</td>\n",
       "      <td>174</td>\n",
       "      <td>46</td>\n",
       "      <td>0.22</td>\n",
       "      <td>0.264368</td>\n",
       "      <td>0.264368</td>\n",
       "      <td>-0.044368</td>\n",
       "      <td>0.832174</td>\n",
       "      <td>0.270115</td>\n",
       "    </tr>\n",
       "    <tr>\n",
       "      <th>399</th>\n",
       "      <td>Adam Sandler gives a terrific dramatic perform...</td>\n",
       "      <td>79</td>\n",
       "      <td>129</td>\n",
       "      <td>27.631579</td>\n",
       "      <td>21</td>\n",
       "      <td>76</td>\n",
       "      <td>Intelligent, funny, sad, real, with a terrific...</td>\n",
       "      <td>Intelligent, funny, sad, real, with a terrific...</td>\n",
       "      <td>76</td>\n",
       "      <td>76</td>\n",
       "      <td>0.46</td>\n",
       "      <td>1.000000</td>\n",
       "      <td>1.000000</td>\n",
       "      <td>-0.540000</td>\n",
       "      <td>0.460000</td>\n",
       "      <td>0.276316</td>\n",
       "    </tr>\n",
       "  </tbody>\n",
       "</table>\n",
       "<p>400 rows × 16 columns</p>\n",
       "</div>"
      ],
      "text/plain": [
       "                                       Zusammenfassung  Min_Kompressionsrate  \\\n",
       "0    This sound track was beautiful! It paints the ...                    78   \n",
       "1    The music is timeless and I'm been listening t...                    58   \n",
       "2    The soundtrack is amazing music, probably the ...                    78   \n",
       "3    On disk one Garden Of God, Chronopolis, Fates,...                    64   \n",
       "4    The music is perfect if you ask me, the best i...                    80   \n",
       "..                                                 ...                   ...   \n",
       "395  Only thing i found funny about this movie was ...                    35   \n",
       "396  Comic has terminal illness that almost kills h...                    42   \n",
       "397  \"This movie seems like it's all over the place...                    49   \n",
       "398  I found the jokes and humor to be at best, lam...                    48   \n",
       "399  Adam Sandler gives a terrific dramatic perform...                    79   \n",
       "\n",
       "     Max_Kompressionsrate  Endgueltige_Kompressionsrate  \\\n",
       "0                     128                     76.000000   \n",
       "1                     108                    100.000000   \n",
       "2                     128                     80.000000   \n",
       "3                     114                     40.983607   \n",
       "4                     130                     67.532468   \n",
       "..                    ...                           ...   \n",
       "395                    85                     97.058824   \n",
       "396                    92                     70.000000   \n",
       "397                    99                     76.595745   \n",
       "398                    98                    102.173913   \n",
       "399                   129                     27.631579   \n",
       "\n",
       "     länge Zusammenfassung  länge Ausgangstext  \\\n",
       "0                       57                  75   \n",
       "1                       56                  56   \n",
       "2                       60                  75   \n",
       "3                       25                  61   \n",
       "4                       52                  77   \n",
       "..                     ...                 ...   \n",
       "395                     33                  34   \n",
       "396                     28                  40   \n",
       "397                     36                  47   \n",
       "398                     47                  46   \n",
       "399                     21                  76   \n",
       "\n",
       "                                                  text  \\\n",
       "0    This sound track was beautiful! It paints the ...   \n",
       "1    I'm reading a lot of reviews saying that this ...   \n",
       "2    This soundtrack is my favorite music of all ti...   \n",
       "3    I truly like this soundtrack and I enjoy video...   \n",
       "4    If you've played the game, you know how divine...   \n",
       "..                                                 ...   \n",
       "395  His movies seem to be going down hill. The onl...   \n",
       "396  FUNNY PEOPLE is somewhat compelling and engagi...   \n",
       "397  This is not a typical Adam Sandler movie, whic...   \n",
       "398  Adam Sadler plays an unlikable comedian, Georg...   \n",
       "399  Intelligent, funny, sad, real, with a terrific...   \n",
       "\n",
       "                                        text_rank_text  tokens_gesamt  \\\n",
       "0    This sound track was beautiful! It paints the ...             75   \n",
       "1    The music is timeless and I'm been listening t...             91   \n",
       "2    The higher energy tracks like \"Chrono Cross ~ ...            128   \n",
       "3    I have played this game and most of the music ...            116   \n",
       "4    If you've played the game, you know how divine...             77   \n",
       "..                                                 ...            ...   \n",
       "395  The only thing i found funny about this movie ...             42   \n",
       "396  FUNNY PEOPLE is somewhat compelling and engagi...             40   \n",
       "397  It's about \"comedy\" but I wouldn't consider th...             85   \n",
       "398  Everyone has sex but Ira, which seems to be a ...            174   \n",
       "399  Intelligent, funny, sad, real, with a terrific...             76   \n",
       "\n",
       "     token_text_rank  desired_compression_rate  text_rank_compression_rate  \\\n",
       "0                 75                      0.54                    1.000000   \n",
       "1                 56                      0.46                    0.615385   \n",
       "2                 75                      0.55                    0.585938   \n",
       "3                 61                      0.32                    0.525862   \n",
       "4                 77                      0.69                    1.000000   \n",
       "..               ...                       ...                         ...   \n",
       "395               34                      0.59                    0.809524   \n",
       "396               40                      0.53                    1.000000   \n",
       "397               47                      0.53                    0.552941   \n",
       "398               46                      0.22                    0.264368   \n",
       "399               76                      0.46                    1.000000   \n",
       "\n",
       "     current_compression_rate  compression_difference  reduction_multiplier  \\\n",
       "0                    1.000000               -0.460000              0.540000   \n",
       "1                    0.615385               -0.155385              0.747500   \n",
       "2                    0.585938               -0.035937              0.938667   \n",
       "3                    0.525862               -0.205862              0.608525   \n",
       "4                    1.000000               -0.310000              0.690000   \n",
       "..                        ...                     ...                   ...   \n",
       "395                  0.809524               -0.219524              0.728824   \n",
       "396                  1.000000               -0.470000              0.530000   \n",
       "397                  0.552941               -0.022941              0.958511   \n",
       "398                  0.264368               -0.044368              0.832174   \n",
       "399                  1.000000               -0.540000              0.460000   \n",
       "\n",
       "     ent_com_rate  \n",
       "0        0.760000  \n",
       "1        0.615385  \n",
       "2        0.468750  \n",
       "3        0.215517  \n",
       "4        0.675325  \n",
       "..            ...  \n",
       "395      0.785714  \n",
       "396      0.700000  \n",
       "397      0.423529  \n",
       "398      0.270115  \n",
       "399      0.276316  \n",
       "\n",
       "[400 rows x 16 columns]"
      ]
     },
     "execution_count": 119,
     "metadata": {},
     "output_type": "execute_result"
    }
   ],
   "source": [
    "df_review"
   ]
  },
  {
   "cell_type": "code",
   "execution_count": 221,
   "metadata": {},
   "outputs": [],
   "source": [
    "\n",
    "frames = [pd.read_csv('data/ergbnisse/train_story_text_rank_100.csv'), pd.read_csv('data/ergbnisse/train_story_text_rank_200.csv'), pd.read_csv('data/ergbnisse/train_story_text_rank_300.csv'),pd.read_csv('data/ergbnisse/train_story_text_rank_400.csv'),pd.read_csv('data/ergbnisse/train_story_text_rank_500.csv')]\n",
    "\n",
    "# Verkettung der DataFrames und Neuzuweisung der Indizes\n",
    "df_story_text_rank = pd.concat(frames, ignore_index=True).drop('Unnamed: 0', axis=1)"
   ]
  },
  {
   "cell_type": "code",
   "execution_count": 222,
   "metadata": {},
   "outputs": [
    {
     "data": {
      "text/html": [
       "<div>\n",
       "<style scoped>\n",
       "    .dataframe tbody tr th:only-of-type {\n",
       "        vertical-align: middle;\n",
       "    }\n",
       "\n",
       "    .dataframe tbody tr th {\n",
       "        vertical-align: top;\n",
       "    }\n",
       "\n",
       "    .dataframe thead th {\n",
       "        text-align: right;\n",
       "    }\n",
       "</style>\n",
       "<table border=\"1\" class=\"dataframe\">\n",
       "  <thead>\n",
       "    <tr style=\"text-align: right;\">\n",
       "      <th></th>\n",
       "      <th>text</th>\n",
       "      <th>text_rank_text</th>\n",
       "      <th>tokens_gesamt</th>\n",
       "      <th>token_text_rank</th>\n",
       "      <th>desired_compression_rate</th>\n",
       "      <th>text_rank_compression_rate</th>\n",
       "      <th>current_compression_rate</th>\n",
       "      <th>compression_difference</th>\n",
       "      <th>reduction_multiplier</th>\n",
       "    </tr>\n",
       "  </thead>\n",
       "  <tbody>\n",
       "    <tr>\n",
       "      <th>0</th>\n",
       "      <td>PART I If you don't like Christmas stories, do...</td>\n",
       "      <td>For I warn you perfectly frankly that I am dis...</td>\n",
       "      <td>5499</td>\n",
       "      <td>3773</td>\n",
       "      <td>0.54</td>\n",
       "      <td>0.686125</td>\n",
       "      <td>0.686125</td>\n",
       "      <td>-0.146125</td>\n",
       "      <td>0.787029</td>\n",
       "    </tr>\n",
       "    <tr>\n",
       "      <th>1</th>\n",
       "      <td>The Railroad Journey was very long and slow. T...</td>\n",
       "      <td>And the Young Electrician who lolled across th...</td>\n",
       "      <td>5610</td>\n",
       "      <td>3999</td>\n",
       "      <td>0.46</td>\n",
       "      <td>0.712961</td>\n",
       "      <td>0.712834</td>\n",
       "      <td>-0.252834</td>\n",
       "      <td>0.645311</td>\n",
       "    </tr>\n",
       "    <tr>\n",
       "      <th>2</th>\n",
       "      <td>His affair that night was prosy. He was intend...</td>\n",
       "      <td>He was intending the murder of an old Spanish ...</td>\n",
       "      <td>5644</td>\n",
       "      <td>4526</td>\n",
       "      <td>0.55</td>\n",
       "      <td>0.801914</td>\n",
       "      <td>0.801914</td>\n",
       "      <td>-0.251914</td>\n",
       "      <td>0.685859</td>\n",
       "    </tr>\n",
       "    <tr>\n",
       "      <th>3</th>\n",
       "      <td>This is the tale which Jehan Tugluk Khan, a wi...</td>\n",
       "      <td>This is the tale which Jehan Tugluk Khan, a wi...</td>\n",
       "      <td>4370</td>\n",
       "      <td>2414</td>\n",
       "      <td>0.32</td>\n",
       "      <td>0.552403</td>\n",
       "      <td>0.552403</td>\n",
       "      <td>-0.232403</td>\n",
       "      <td>0.579287</td>\n",
       "    </tr>\n",
       "    <tr>\n",
       "      <th>4</th>\n",
       "      <td>THE fact that the man whom he feared had died ...</td>\n",
       "      <td>THE fact that the man whom he feared had died ...</td>\n",
       "      <td>3412</td>\n",
       "      <td>3065</td>\n",
       "      <td>0.69</td>\n",
       "      <td>0.898300</td>\n",
       "      <td>0.898300</td>\n",
       "      <td>-0.208300</td>\n",
       "      <td>0.768117</td>\n",
       "    </tr>\n",
       "  </tbody>\n",
       "</table>\n",
       "</div>"
      ],
      "text/plain": [
       "                                                text  \\\n",
       "0  PART I If you don't like Christmas stories, do...   \n",
       "1  The Railroad Journey was very long and slow. T...   \n",
       "2  His affair that night was prosy. He was intend...   \n",
       "3  This is the tale which Jehan Tugluk Khan, a wi...   \n",
       "4  THE fact that the man whom he feared had died ...   \n",
       "\n",
       "                                      text_rank_text  tokens_gesamt  \\\n",
       "0  For I warn you perfectly frankly that I am dis...           5499   \n",
       "1  And the Young Electrician who lolled across th...           5610   \n",
       "2  He was intending the murder of an old Spanish ...           5644   \n",
       "3  This is the tale which Jehan Tugluk Khan, a wi...           4370   \n",
       "4  THE fact that the man whom he feared had died ...           3412   \n",
       "\n",
       "   token_text_rank  desired_compression_rate  text_rank_compression_rate  \\\n",
       "0             3773                      0.54                    0.686125   \n",
       "1             3999                      0.46                    0.712961   \n",
       "2             4526                      0.55                    0.801914   \n",
       "3             2414                      0.32                    0.552403   \n",
       "4             3065                      0.69                    0.898300   \n",
       "\n",
       "   current_compression_rate  compression_difference  reduction_multiplier  \n",
       "0                  0.686125               -0.146125              0.787029  \n",
       "1                  0.712834               -0.252834              0.645311  \n",
       "2                  0.801914               -0.251914              0.685859  \n",
       "3                  0.552403               -0.232403              0.579287  \n",
       "4                  0.898300               -0.208300              0.768117  "
      ]
     },
     "execution_count": 222,
     "metadata": {},
     "output_type": "execute_result"
    }
   ],
   "source": [
    "df_story_text_rank.head()"
   ]
  },
  {
   "cell_type": "code",
   "execution_count": 223,
   "metadata": {},
   "outputs": [
    {
     "name": "stderr",
     "output_type": "stream",
     "text": [
      "Verarbeite Batches: 100%|██████████| 33/33 [06:33<00:00, 11.92s/it]\n",
      "Verarbeite Batches: 100%|██████████| 31/31 [04:42<00:00,  9.10s/it]\n",
      "Verarbeite Batches: 100%|██████████| 44/44 [06:49<00:00,  9.31s/it]\n",
      "Verarbeite Batches: 100%|██████████| 15/15 [02:10<00:00,  8.72s/it]\n",
      "Verarbeite Batches: 100%|██████████| 27/27 [05:14<00:00, 11.66s/it]\n",
      "100%|██████████| 5/5 [25:30<00:00, 306.17s/it]\n"
     ]
    }
   ],
   "source": [
    "df_sum=paraphrase_of_text(df_story_text_rank.head()[['text_rank_text','reduction_multiplier']],text_name='text_rank_text',split=split)\n"
   ]
  },
  {
   "cell_type": "code",
   "execution_count": 243,
   "metadata": {},
   "outputs": [],
   "source": [
    "merged_df = pd.concat([df_sum, df_story_text_rank.head()], axis=1)\n",
    "merged_df['ent_com_rate']=merged_df['länge Zusammenfassung'] / merged_df['tokens_gesamt']\n"
   ]
  },
  {
   "cell_type": "code",
   "execution_count": 250,
   "metadata": {},
   "outputs": [
    {
     "name": "stderr",
     "output_type": "stream",
     "text": [
      "/var/folders/k3/z_svrdgd6sb9lc9bqdfzp_k00000gn/T/ipykernel_89249/1497145124.py:2: SettingWithCopyWarning: \n",
      "A value is trying to be set on a copy of a slice from a DataFrame.\n",
      "Try using .loc[row_indexer,col_indexer] = value instead\n",
      "\n",
      "See the caveats in the documentation: https://pandas.pydata.org/pandas-docs/stable/user_guide/indexing.html#returning-a-view-versus-a-copy\n",
      "  df['current_compression_rate'] = df[current_tokens_col] / df[total_tokens_col]\n",
      "/var/folders/k3/z_svrdgd6sb9lc9bqdfzp_k00000gn/T/ipykernel_89249/1497145124.py:3: SettingWithCopyWarning: \n",
      "A value is trying to be set on a copy of a slice from a DataFrame.\n",
      "Try using .loc[row_indexer,col_indexer] = value instead\n",
      "\n",
      "See the caveats in the documentation: https://pandas.pydata.org/pandas-docs/stable/user_guide/indexing.html#returning-a-view-versus-a-copy\n",
      "  df['compression_difference'] = df[desired_compression_rate] - df['current_compression_rate']\n",
      "/var/folders/k3/z_svrdgd6sb9lc9bqdfzp_k00000gn/T/ipykernel_89249/1497145124.py:4: SettingWithCopyWarning: \n",
      "A value is trying to be set on a copy of a slice from a DataFrame.\n",
      "Try using .loc[row_indexer,col_indexer] = value instead\n",
      "\n",
      "See the caveats in the documentation: https://pandas.pydata.org/pandas-docs/stable/user_guide/indexing.html#returning-a-view-versus-a-copy\n",
      "  df['reduction_multiplier'] = df[desired_compression_rate] / df['current_compression_rate']\n"
     ]
    },
    {
     "data": {
      "text/html": [
       "<div>\n",
       "<style scoped>\n",
       "    .dataframe tbody tr th:only-of-type {\n",
       "        vertical-align: middle;\n",
       "    }\n",
       "\n",
       "    .dataframe tbody tr th {\n",
       "        vertical-align: top;\n",
       "    }\n",
       "\n",
       "    .dataframe thead th {\n",
       "        text-align: right;\n",
       "    }\n",
       "</style>\n",
       "<table border=\"1\" class=\"dataframe\">\n",
       "  <thead>\n",
       "    <tr style=\"text-align: right;\">\n",
       "      <th></th>\n",
       "      <th>Zusammenfassung</th>\n",
       "      <th>länge Zusammenfassung</th>\n",
       "      <th>text</th>\n",
       "      <th>tokens_gesamt</th>\n",
       "      <th>desired_compression_rate</th>\n",
       "      <th>ent_com_rate</th>\n",
       "      <th>current_compression_rate</th>\n",
       "      <th>compression_difference</th>\n",
       "      <th>reduction_multiplier</th>\n",
       "    </tr>\n",
       "  </thead>\n",
       "  <tbody>\n",
       "    <tr>\n",
       "      <th>0</th>\n",
       "      <td>Flame's mother gasped when she found out who w...</td>\n",
       "      <td>3485</td>\n",
       "      <td>PART I If you don't like Christmas stories, do...</td>\n",
       "      <td>5499</td>\n",
       "      <td>0.54</td>\n",
       "      <td>0.633752</td>\n",
       "      <td>0.633752</td>\n",
       "      <td>-0.093752</td>\n",
       "      <td>0.852069</td>\n",
       "    </tr>\n",
       "    <tr>\n",
       "      <th>1</th>\n",
       "      <td>The Young Electrician was neither one length n...</td>\n",
       "      <td>2680</td>\n",
       "      <td>The Railroad Journey was very long and slow. T...</td>\n",
       "      <td>5610</td>\n",
       "      <td>0.46</td>\n",
       "      <td>0.477718</td>\n",
       "      <td>0.477718</td>\n",
       "      <td>-0.017718</td>\n",
       "      <td>0.96291</td>\n",
       "    </tr>\n",
       "    <tr>\n",
       "      <th>2</th>\n",
       "      <td>He was intending the murder of an old Spanish ...</td>\n",
       "      <td>3803</td>\n",
       "      <td>His affair that night was prosy. He was intend...</td>\n",
       "      <td>5644</td>\n",
       "      <td>0.55</td>\n",
       "      <td>0.673813</td>\n",
       "      <td>0.673813</td>\n",
       "      <td>-0.123813</td>\n",
       "      <td>0.81625</td>\n",
       "    </tr>\n",
       "    <tr>\n",
       "      <th>3</th>\n",
       "      <td>The tale of Vasantasena, the slave who was fre...</td>\n",
       "      <td>1295</td>\n",
       "      <td>This is the tale which Jehan Tugluk Khan, a wi...</td>\n",
       "      <td>4370</td>\n",
       "      <td>0.32</td>\n",
       "      <td>0.296339</td>\n",
       "      <td>0.296339</td>\n",
       "      <td>0.023661</td>\n",
       "      <td>1.079846</td>\n",
       "    </tr>\n",
       "    <tr>\n",
       "      <th>4</th>\n",
       "      <td>Stuart McGregor reconstructed the final scene ...</td>\n",
       "      <td>2948</td>\n",
       "      <td>THE fact that the man whom he feared had died ...</td>\n",
       "      <td>3412</td>\n",
       "      <td>0.69</td>\n",
       "      <td>0.864009</td>\n",
       "      <td>0.864009</td>\n",
       "      <td>-0.174009</td>\n",
       "      <td>0.798602</td>\n",
       "    </tr>\n",
       "  </tbody>\n",
       "</table>\n",
       "</div>"
      ],
      "text/plain": [
       "                                     Zusammenfassung länge Zusammenfassung  \\\n",
       "0  Flame's mother gasped when she found out who w...                  3485   \n",
       "1  The Young Electrician was neither one length n...                  2680   \n",
       "2  He was intending the murder of an old Spanish ...                  3803   \n",
       "3  The tale of Vasantasena, the slave who was fre...                  1295   \n",
       "4  Stuart McGregor reconstructed the final scene ...                  2948   \n",
       "\n",
       "                                                text  tokens_gesamt  \\\n",
       "0  PART I If you don't like Christmas stories, do...           5499   \n",
       "1  The Railroad Journey was very long and slow. T...           5610   \n",
       "2  His affair that night was prosy. He was intend...           5644   \n",
       "3  This is the tale which Jehan Tugluk Khan, a wi...           4370   \n",
       "4  THE fact that the man whom he feared had died ...           3412   \n",
       "\n",
       "   desired_compression_rate ent_com_rate current_compression_rate  \\\n",
       "0                      0.54     0.633752                 0.633752   \n",
       "1                      0.46     0.477718                 0.477718   \n",
       "2                      0.55     0.673813                 0.673813   \n",
       "3                      0.32     0.296339                 0.296339   \n",
       "4                      0.69     0.864009                 0.864009   \n",
       "\n",
       "  compression_difference reduction_multiplier  \n",
       "0              -0.093752             0.852069  \n",
       "1              -0.017718              0.96291  \n",
       "2              -0.123813              0.81625  \n",
       "3               0.023661             1.079846  \n",
       "4              -0.174009             0.798602  "
      ]
     },
     "execution_count": 250,
     "metadata": {},
     "output_type": "execute_result"
    }
   ],
   "source": []
  },
  {
   "cell_type": "code",
   "execution_count": null,
   "metadata": {},
   "outputs": [],
   "source": [
    "extr"
   ]
  },
  {
   "cell_type": "code",
   "execution_count": 244,
   "metadata": {},
   "outputs": [
    {
     "data": {
      "text/html": [
       "<div>\n",
       "<style scoped>\n",
       "    .dataframe tbody tr th:only-of-type {\n",
       "        vertical-align: middle;\n",
       "    }\n",
       "\n",
       "    .dataframe tbody tr th {\n",
       "        vertical-align: top;\n",
       "    }\n",
       "\n",
       "    .dataframe thead th {\n",
       "        text-align: right;\n",
       "    }\n",
       "</style>\n",
       "<table border=\"1\" class=\"dataframe\">\n",
       "  <thead>\n",
       "    <tr style=\"text-align: right;\">\n",
       "      <th></th>\n",
       "      <th>Zusammenfassung</th>\n",
       "      <th>Min_Kompressionsrate</th>\n",
       "      <th>Max_Kompressionsrate</th>\n",
       "      <th>Endgueltige_Kompressionsrate</th>\n",
       "      <th>länge Zusammenfassung</th>\n",
       "      <th>länge Ausgangstext</th>\n",
       "      <th>text</th>\n",
       "      <th>text_rank_text</th>\n",
       "      <th>tokens_gesamt</th>\n",
       "      <th>token_text_rank</th>\n",
       "      <th>desired_compression_rate</th>\n",
       "      <th>text_rank_compression_rate</th>\n",
       "      <th>current_compression_rate</th>\n",
       "      <th>compression_difference</th>\n",
       "      <th>reduction_multiplier</th>\n",
       "      <th>ent_com_rate</th>\n",
       "    </tr>\n",
       "  </thead>\n",
       "  <tbody>\n",
       "    <tr>\n",
       "      <th>0</th>\n",
       "      <td>Flame's mother gasped when she found out who w...</td>\n",
       "      <td>67</td>\n",
       "      <td>117</td>\n",
       "      <td>92.366817</td>\n",
       "      <td>3485</td>\n",
       "      <td>3773</td>\n",
       "      <td>PART I If you don't like Christmas stories, do...</td>\n",
       "      <td>For I warn you perfectly frankly that I am dis...</td>\n",
       "      <td>5499</td>\n",
       "      <td>3773</td>\n",
       "      <td>0.54</td>\n",
       "      <td>0.686125</td>\n",
       "      <td>0.686125</td>\n",
       "      <td>-0.146125</td>\n",
       "      <td>0.787029</td>\n",
       "      <td>0.633752</td>\n",
       "    </tr>\n",
       "    <tr>\n",
       "      <th>1</th>\n",
       "      <td>The Young Electrician was neither one length n...</td>\n",
       "      <td>210</td>\n",
       "      <td>310</td>\n",
       "      <td>67.016754</td>\n",
       "      <td>2680</td>\n",
       "      <td>3999</td>\n",
       "      <td>The Railroad Journey was very long and slow. T...</td>\n",
       "      <td>And the Young Electrician who lolled across th...</td>\n",
       "      <td>5610</td>\n",
       "      <td>3999</td>\n",
       "      <td>0.46</td>\n",
       "      <td>0.712961</td>\n",
       "      <td>0.712834</td>\n",
       "      <td>-0.252834</td>\n",
       "      <td>0.645311</td>\n",
       "      <td>0.477718</td>\n",
       "    </tr>\n",
       "    <tr>\n",
       "      <th>2</th>\n",
       "      <td>He was intending the murder of an old Spanish ...</td>\n",
       "      <td>53</td>\n",
       "      <td>103</td>\n",
       "      <td>84.025630</td>\n",
       "      <td>3803</td>\n",
       "      <td>4526</td>\n",
       "      <td>His affair that night was prosy. He was intend...</td>\n",
       "      <td>He was intending the murder of an old Spanish ...</td>\n",
       "      <td>5644</td>\n",
       "      <td>4526</td>\n",
       "      <td>0.55</td>\n",
       "      <td>0.801914</td>\n",
       "      <td>0.801914</td>\n",
       "      <td>-0.251914</td>\n",
       "      <td>0.685859</td>\n",
       "      <td>0.673813</td>\n",
       "    </tr>\n",
       "    <tr>\n",
       "      <th>3</th>\n",
       "      <td>The tale of Vasantasena, the slave who was fre...</td>\n",
       "      <td>60</td>\n",
       "      <td>110</td>\n",
       "      <td>53.645402</td>\n",
       "      <td>1295</td>\n",
       "      <td>2414</td>\n",
       "      <td>This is the tale which Jehan Tugluk Khan, a wi...</td>\n",
       "      <td>This is the tale which Jehan Tugluk Khan, a wi...</td>\n",
       "      <td>4370</td>\n",
       "      <td>2414</td>\n",
       "      <td>0.32</td>\n",
       "      <td>0.552403</td>\n",
       "      <td>0.552403</td>\n",
       "      <td>-0.232403</td>\n",
       "      <td>0.579287</td>\n",
       "      <td>0.296339</td>\n",
       "    </tr>\n",
       "    <tr>\n",
       "      <th>4</th>\n",
       "      <td>Stuart McGregor reconstructed the final scene ...</td>\n",
       "      <td>67</td>\n",
       "      <td>117</td>\n",
       "      <td>96.182708</td>\n",
       "      <td>2948</td>\n",
       "      <td>3065</td>\n",
       "      <td>THE fact that the man whom he feared had died ...</td>\n",
       "      <td>THE fact that the man whom he feared had died ...</td>\n",
       "      <td>3412</td>\n",
       "      <td>3065</td>\n",
       "      <td>0.69</td>\n",
       "      <td>0.898300</td>\n",
       "      <td>0.898300</td>\n",
       "      <td>-0.208300</td>\n",
       "      <td>0.768117</td>\n",
       "      <td>0.864009</td>\n",
       "    </tr>\n",
       "  </tbody>\n",
       "</table>\n",
       "</div>"
      ],
      "text/plain": [
       "                                     Zusammenfassung Min_Kompressionsrate  \\\n",
       "0  Flame's mother gasped when she found out who w...                   67   \n",
       "1  The Young Electrician was neither one length n...                  210   \n",
       "2  He was intending the murder of an old Spanish ...                   53   \n",
       "3  The tale of Vasantasena, the slave who was fre...                   60   \n",
       "4  Stuart McGregor reconstructed the final scene ...                   67   \n",
       "\n",
       "  Max_Kompressionsrate  Endgueltige_Kompressionsrate länge Zusammenfassung  \\\n",
       "0                  117                     92.366817                  3485   \n",
       "1                  310                     67.016754                  2680   \n",
       "2                  103                     84.025630                  3803   \n",
       "3                  110                     53.645402                  1295   \n",
       "4                  117                     96.182708                  2948   \n",
       "\n",
       "  länge Ausgangstext                                               text  \\\n",
       "0               3773  PART I If you don't like Christmas stories, do...   \n",
       "1               3999  The Railroad Journey was very long and slow. T...   \n",
       "2               4526  His affair that night was prosy. He was intend...   \n",
       "3               2414  This is the tale which Jehan Tugluk Khan, a wi...   \n",
       "4               3065  THE fact that the man whom he feared had died ...   \n",
       "\n",
       "                                      text_rank_text  tokens_gesamt  \\\n",
       "0  For I warn you perfectly frankly that I am dis...           5499   \n",
       "1  And the Young Electrician who lolled across th...           5610   \n",
       "2  He was intending the murder of an old Spanish ...           5644   \n",
       "3  This is the tale which Jehan Tugluk Khan, a wi...           4370   \n",
       "4  THE fact that the man whom he feared had died ...           3412   \n",
       "\n",
       "   token_text_rank  desired_compression_rate  text_rank_compression_rate  \\\n",
       "0             3773                      0.54                    0.686125   \n",
       "1             3999                      0.46                    0.712961   \n",
       "2             4526                      0.55                    0.801914   \n",
       "3             2414                      0.32                    0.552403   \n",
       "4             3065                      0.69                    0.898300   \n",
       "\n",
       "   current_compression_rate  compression_difference  reduction_multiplier  \\\n",
       "0                  0.686125               -0.146125              0.787029   \n",
       "1                  0.712834               -0.252834              0.645311   \n",
       "2                  0.801914               -0.251914              0.685859   \n",
       "3                  0.552403               -0.232403              0.579287   \n",
       "4                  0.898300               -0.208300              0.768117   \n",
       "\n",
       "  ent_com_rate  \n",
       "0     0.633752  \n",
       "1     0.477718  \n",
       "2     0.673813  \n",
       "3     0.296339  \n",
       "4     0.864009  "
      ]
     },
     "execution_count": 244,
     "metadata": {},
     "output_type": "execute_result"
    }
   ],
   "source": [
    "merged_df"
   ]
  },
  {
   "cell_type": "code",
   "execution_count": 384,
   "metadata": {},
   "outputs": [],
   "source": [
    "news_df=pd.read_csv('data/ergbnisse/test_news.csv')"
   ]
  },
  {
   "cell_type": "code",
   "execution_count": 385,
   "metadata": {},
   "outputs": [
    {
     "name": "stderr",
     "output_type": "stream",
     "text": [
      "/var/folders/k3/z_svrdgd6sb9lc9bqdfzp_k00000gn/T/ipykernel_89249/1497145124.py:2: SettingWithCopyWarning: \n",
      "A value is trying to be set on a copy of a slice from a DataFrame.\n",
      "Try using .loc[row_indexer,col_indexer] = value instead\n",
      "\n",
      "See the caveats in the documentation: https://pandas.pydata.org/pandas-docs/stable/user_guide/indexing.html#returning-a-view-versus-a-copy\n",
      "  df['current_compression_rate'] = df[current_tokens_col] / df[total_tokens_col]\n",
      "/var/folders/k3/z_svrdgd6sb9lc9bqdfzp_k00000gn/T/ipykernel_89249/1497145124.py:3: SettingWithCopyWarning: \n",
      "A value is trying to be set on a copy of a slice from a DataFrame.\n",
      "Try using .loc[row_indexer,col_indexer] = value instead\n",
      "\n",
      "See the caveats in the documentation: https://pandas.pydata.org/pandas-docs/stable/user_guide/indexing.html#returning-a-view-versus-a-copy\n",
      "  df['compression_difference'] = df[desired_compression_rate] - df['current_compression_rate']\n",
      "/var/folders/k3/z_svrdgd6sb9lc9bqdfzp_k00000gn/T/ipykernel_89249/1497145124.py:4: SettingWithCopyWarning: \n",
      "A value is trying to be set on a copy of a slice from a DataFrame.\n",
      "Try using .loc[row_indexer,col_indexer] = value instead\n",
      "\n",
      "See the caveats in the documentation: https://pandas.pydata.org/pandas-docs/stable/user_guide/indexing.html#returning-a-view-versus-a-copy\n",
      "  df['reduction_multiplier'] = df[desired_compression_rate] / df['current_compression_rate']\n"
     ]
    },
    {
     "data": {
      "text/html": [
       "<div>\n",
       "<style scoped>\n",
       "    .dataframe tbody tr th:only-of-type {\n",
       "        vertical-align: middle;\n",
       "    }\n",
       "\n",
       "    .dataframe tbody tr th {\n",
       "        vertical-align: top;\n",
       "    }\n",
       "\n",
       "    .dataframe thead th {\n",
       "        text-align: right;\n",
       "    }\n",
       "</style>\n",
       "<table border=\"1\" class=\"dataframe\">\n",
       "  <thead>\n",
       "    <tr style=\"text-align: right;\">\n",
       "      <th></th>\n",
       "      <th>Zusammenfassung</th>\n",
       "      <th>länge Zusammenfassung</th>\n",
       "      <th>text</th>\n",
       "      <th>tokens_gesamt</th>\n",
       "      <th>desired_compression_rate</th>\n",
       "      <th>ent_com_rate</th>\n",
       "      <th>current_compression_rate</th>\n",
       "      <th>compression_difference</th>\n",
       "      <th>reduction_multiplier</th>\n",
       "    </tr>\n",
       "  </thead>\n",
       "  <tbody>\n",
       "    <tr>\n",
       "      <th>0</th>\n",
       "      <td>RJD Chief Lalu Prasad Yadav on Wednesday said ...</td>\n",
       "      <td>31</td>\n",
       "      <td>RJD Chief Lalu Prasad Yadav on Wednesday said ...</td>\n",
       "      <td>58</td>\n",
       "      <td>0.54</td>\n",
       "      <td>0.534483</td>\n",
       "      <td>0.534483</td>\n",
       "      <td>0.005517</td>\n",
       "      <td>1.010323</td>\n",
       "    </tr>\n",
       "    <tr>\n",
       "      <th>1</th>\n",
       "      <td>The Indira Gandhi International Airport has cl...</td>\n",
       "      <td>30</td>\n",
       "      <td>The Indira Gandhi International Airport has cl...</td>\n",
       "      <td>59</td>\n",
       "      <td>0.46</td>\n",
       "      <td>0.508475</td>\n",
       "      <td>0.508475</td>\n",
       "      <td>-0.048475</td>\n",
       "      <td>0.904667</td>\n",
       "    </tr>\n",
       "    <tr>\n",
       "      <th>2</th>\n",
       "      <td>State run buses, school buses, and vehicles us...</td>\n",
       "      <td>34</td>\n",
       "      <td>Mumbai Traffic Police have temporarily banned ...</td>\n",
       "      <td>63</td>\n",
       "      <td>0.55</td>\n",
       "      <td>0.539683</td>\n",
       "      <td>0.539683</td>\n",
       "      <td>0.010317</td>\n",
       "      <td>1.019118</td>\n",
       "    </tr>\n",
       "    <tr>\n",
       "      <th>3</th>\n",
       "      <td>Titanic actors Leonardo DiCaprio and Kate Wins...</td>\n",
       "      <td>21</td>\n",
       "      <td>Titanic actors Leonardo DiCaprio and Kate Wins...</td>\n",
       "      <td>61</td>\n",
       "      <td>0.32</td>\n",
       "      <td>0.344262</td>\n",
       "      <td>0.344262</td>\n",
       "      <td>-0.024262</td>\n",
       "      <td>0.929524</td>\n",
       "    </tr>\n",
       "    <tr>\n",
       "      <th>4</th>\n",
       "      <td>A member of Sikh communitys Damdami Taksal sem...</td>\n",
       "      <td>35</td>\n",
       "      <td>A member of Sikh communitys Damdami Taksal sem...</td>\n",
       "      <td>59</td>\n",
       "      <td>0.69</td>\n",
       "      <td>0.593220</td>\n",
       "      <td>0.593220</td>\n",
       "      <td>0.096780</td>\n",
       "      <td>1.163143</td>\n",
       "    </tr>\n",
       "    <tr>\n",
       "      <th>...</th>\n",
       "      <td>...</td>\n",
       "      <td>...</td>\n",
       "      <td>...</td>\n",
       "      <td>...</td>\n",
       "      <td>...</td>\n",
       "      <td>...</td>\n",
       "      <td>...</td>\n",
       "      <td>...</td>\n",
       "      <td>...</td>\n",
       "    </tr>\n",
       "    <tr>\n",
       "      <th>195</th>\n",
       "      <td>Nine people were killed and 22 injured on Satu...</td>\n",
       "      <td>38</td>\n",
       "      <td>Nine people were killed and 22 injured on Satu...</td>\n",
       "      <td>58</td>\n",
       "      <td>0.63</td>\n",
       "      <td>0.655172</td>\n",
       "      <td>0.655172</td>\n",
       "      <td>-0.025172</td>\n",
       "      <td>0.961579</td>\n",
       "    </tr>\n",
       "    <tr>\n",
       "      <th>196</th>\n",
       "      <td>External Affairs Minister Sushma Swaraj had ea...</td>\n",
       "      <td>12</td>\n",
       "      <td>The Union Minister of State for Social Justice...</td>\n",
       "      <td>55</td>\n",
       "      <td>0.24</td>\n",
       "      <td>0.218182</td>\n",
       "      <td>0.218182</td>\n",
       "      <td>0.021818</td>\n",
       "      <td>1.100000</td>\n",
       "    </tr>\n",
       "    <tr>\n",
       "      <th>197</th>\n",
       "      <td>India womens team captain Mithali Raj has beco...</td>\n",
       "      <td>42</td>\n",
       "      <td>India womens team captain Mithali Raj has beco...</td>\n",
       "      <td>59</td>\n",
       "      <td>0.71</td>\n",
       "      <td>0.711864</td>\n",
       "      <td>0.711864</td>\n",
       "      <td>-0.001864</td>\n",
       "      <td>0.997381</td>\n",
       "    </tr>\n",
       "    <tr>\n",
       "      <th>198</th>\n",
       "      <td>A class 10 student from Bihar, who got 0 in Ma...</td>\n",
       "      <td>49</td>\n",
       "      <td>A class 10 student from Bihar, who got 0 in Ma...</td>\n",
       "      <td>57</td>\n",
       "      <td>0.70</td>\n",
       "      <td>0.859649</td>\n",
       "      <td>0.859649</td>\n",
       "      <td>-0.159649</td>\n",
       "      <td>0.814286</td>\n",
       "    </tr>\n",
       "    <tr>\n",
       "      <th>199</th>\n",
       "      <td>\"I had auditioned for Roadies thrice in the pa...</td>\n",
       "      <td>15</td>\n",
       "      <td>Haryana based Shweta Mehta, from Neha Dhupias ...</td>\n",
       "      <td>62</td>\n",
       "      <td>0.21</td>\n",
       "      <td>0.241935</td>\n",
       "      <td>0.241935</td>\n",
       "      <td>-0.031935</td>\n",
       "      <td>0.868000</td>\n",
       "    </tr>\n",
       "  </tbody>\n",
       "</table>\n",
       "<p>200 rows × 9 columns</p>\n",
       "</div>"
      ],
      "text/plain": [
       "                                       Zusammenfassung  länge Zusammenfassung  \\\n",
       "0    RJD Chief Lalu Prasad Yadav on Wednesday said ...                     31   \n",
       "1    The Indira Gandhi International Airport has cl...                     30   \n",
       "2    State run buses, school buses, and vehicles us...                     34   \n",
       "3    Titanic actors Leonardo DiCaprio and Kate Wins...                     21   \n",
       "4    A member of Sikh communitys Damdami Taksal sem...                     35   \n",
       "..                                                 ...                    ...   \n",
       "195  Nine people were killed and 22 injured on Satu...                     38   \n",
       "196  External Affairs Minister Sushma Swaraj had ea...                     12   \n",
       "197  India womens team captain Mithali Raj has beco...                     42   \n",
       "198  A class 10 student from Bihar, who got 0 in Ma...                     49   \n",
       "199  \"I had auditioned for Roadies thrice in the pa...                     15   \n",
       "\n",
       "                                                  text  tokens_gesamt  \\\n",
       "0    RJD Chief Lalu Prasad Yadav on Wednesday said ...             58   \n",
       "1    The Indira Gandhi International Airport has cl...             59   \n",
       "2    Mumbai Traffic Police have temporarily banned ...             63   \n",
       "3    Titanic actors Leonardo DiCaprio and Kate Wins...             61   \n",
       "4    A member of Sikh communitys Damdami Taksal sem...             59   \n",
       "..                                                 ...            ...   \n",
       "195  Nine people were killed and 22 injured on Satu...             58   \n",
       "196  The Union Minister of State for Social Justice...             55   \n",
       "197  India womens team captain Mithali Raj has beco...             59   \n",
       "198  A class 10 student from Bihar, who got 0 in Ma...             57   \n",
       "199  Haryana based Shweta Mehta, from Neha Dhupias ...             62   \n",
       "\n",
       "     desired_compression_rate  ent_com_rate  current_compression_rate  \\\n",
       "0                        0.54      0.534483                  0.534483   \n",
       "1                        0.46      0.508475                  0.508475   \n",
       "2                        0.55      0.539683                  0.539683   \n",
       "3                        0.32      0.344262                  0.344262   \n",
       "4                        0.69      0.593220                  0.593220   \n",
       "..                        ...           ...                       ...   \n",
       "195                      0.63      0.655172                  0.655172   \n",
       "196                      0.24      0.218182                  0.218182   \n",
       "197                      0.71      0.711864                  0.711864   \n",
       "198                      0.70      0.859649                  0.859649   \n",
       "199                      0.21      0.241935                  0.241935   \n",
       "\n",
       "     compression_difference  reduction_multiplier  \n",
       "0                  0.005517              1.010323  \n",
       "1                 -0.048475              0.904667  \n",
       "2                  0.010317              1.019118  \n",
       "3                 -0.024262              0.929524  \n",
       "4                  0.096780              1.163143  \n",
       "..                      ...                   ...  \n",
       "195               -0.025172              0.961579  \n",
       "196                0.021818              1.100000  \n",
       "197               -0.001864              0.997381  \n",
       "198               -0.159649              0.814286  \n",
       "199               -0.031935              0.868000  \n",
       "\n",
       "[200 rows x 9 columns]"
      ]
     },
     "execution_count": 385,
     "metadata": {},
     "output_type": "execute_result"
    }
   ],
   "source": [
    "df_zwischen_test=calculate_compression(news_df[['Zusammenfassung','länge Zusammenfassung','text','tokens_gesamt','desired_compression_rate','ent_com_rate']], 'tokens_gesamt', 'länge Zusammenfassung', 'desired_compression_rate')\n",
    "df_zwischen_test"
   ]
  },
  {
   "cell_type": "code",
   "execution_count": 390,
   "metadata": {},
   "outputs": [
    {
     "name": "stderr",
     "output_type": "stream",
     "text": [
      "0it [00:00, ?it/s]/var/folders/k3/z_svrdgd6sb9lc9bqdfzp_k00000gn/T/ipykernel_89249/1576956366.py:38: DeprecationWarning: networkx.pagerank_numpy is deprecated and will be removed in NetworkX 3.0, use networkx.pagerank instead.\n",
      "  scores = nx.pagerank_numpy(graph)\n",
      "/Users/niclascramer/opt/miniconda3/envs/torch/lib/python3.9/site-packages/networkx/algorithms/link_analysis/pagerank_alg.py:354: FutureWarning: google_matrix will return an np.ndarray instead of a np.matrix in\n",
      "NetworkX version 3.0.\n",
      "  M = google_matrix(\n",
      "200it [15:23,  4.62s/it]\n"
     ]
    }
   ],
   "source": [
    "df_testen=text_rank_algo(df_zwischen_test,random_T=False,column = 'Zusammenfassung')"
   ]
  },
  {
   "cell_type": "code",
   "execution_count": 403,
   "metadata": {},
   "outputs": [
    {
     "data": {
      "text/html": [
       "<div>\n",
       "<style scoped>\n",
       "    .dataframe tbody tr th:only-of-type {\n",
       "        vertical-align: middle;\n",
       "    }\n",
       "\n",
       "    .dataframe tbody tr th {\n",
       "        vertical-align: top;\n",
       "    }\n",
       "\n",
       "    .dataframe thead th {\n",
       "        text-align: right;\n",
       "    }\n",
       "</style>\n",
       "<table border=\"1\" class=\"dataframe\">\n",
       "  <thead>\n",
       "    <tr style=\"text-align: right;\">\n",
       "      <th></th>\n",
       "      <th>text_rank_text</th>\n",
       "      <th>token_text_rank</th>\n",
       "      <th>Zusammenfassung</th>\n",
       "      <th>länge Zusammenfassung</th>\n",
       "      <th>text</th>\n",
       "      <th>tokens_gesamt</th>\n",
       "      <th>desired_compression_rate</th>\n",
       "      <th>ent_com_rate</th>\n",
       "    </tr>\n",
       "  </thead>\n",
       "  <tbody>\n",
       "    <tr>\n",
       "      <th>0</th>\n",
       "      <td>RJD Chief Lalu Prasad Yadav on Wednesday said ...</td>\n",
       "      <td>31</td>\n",
       "      <td>RJD Chief Lalu Prasad Yadav on Wednesday said ...</td>\n",
       "      <td>31</td>\n",
       "      <td>RJD Chief Lalu Prasad Yadav on Wednesday said ...</td>\n",
       "      <td>58</td>\n",
       "      <td>0.54</td>\n",
       "      <td>0.534483</td>\n",
       "    </tr>\n",
       "    <tr>\n",
       "      <th>1</th>\n",
       "      <td>The Indira Gandhi International Airport has cl...</td>\n",
       "      <td>30</td>\n",
       "      <td>The Indira Gandhi International Airport has cl...</td>\n",
       "      <td>30</td>\n",
       "      <td>The Indira Gandhi International Airport has cl...</td>\n",
       "      <td>59</td>\n",
       "      <td>0.46</td>\n",
       "      <td>0.508475</td>\n",
       "    </tr>\n",
       "    <tr>\n",
       "      <th>2</th>\n",
       "      <td>State run buses, school buses, and vehicles us...</td>\n",
       "      <td>34</td>\n",
       "      <td>State run buses, school buses, and vehicles us...</td>\n",
       "      <td>34</td>\n",
       "      <td>Mumbai Traffic Police have temporarily banned ...</td>\n",
       "      <td>63</td>\n",
       "      <td>0.55</td>\n",
       "      <td>0.539683</td>\n",
       "    </tr>\n",
       "    <tr>\n",
       "      <th>3</th>\n",
       "      <td>Titanic actors Leonardo DiCaprio and Kate Wins...</td>\n",
       "      <td>21</td>\n",
       "      <td>Titanic actors Leonardo DiCaprio and Kate Wins...</td>\n",
       "      <td>21</td>\n",
       "      <td>Titanic actors Leonardo DiCaprio and Kate Wins...</td>\n",
       "      <td>61</td>\n",
       "      <td>0.32</td>\n",
       "      <td>0.344262</td>\n",
       "    </tr>\n",
       "    <tr>\n",
       "      <th>4</th>\n",
       "      <td>A member of Sikh communitys Damdami Taksal sem...</td>\n",
       "      <td>33</td>\n",
       "      <td>A member of Sikh communitys Damdami Taksal sem...</td>\n",
       "      <td>35</td>\n",
       "      <td>A member of Sikh communitys Damdami Taksal sem...</td>\n",
       "      <td>59</td>\n",
       "      <td>0.69</td>\n",
       "      <td>0.593220</td>\n",
       "    </tr>\n",
       "    <tr>\n",
       "      <th>...</th>\n",
       "      <td>...</td>\n",
       "      <td>...</td>\n",
       "      <td>...</td>\n",
       "      <td>...</td>\n",
       "      <td>...</td>\n",
       "      <td>...</td>\n",
       "      <td>...</td>\n",
       "      <td>...</td>\n",
       "    </tr>\n",
       "    <tr>\n",
       "      <th>195</th>\n",
       "      <td>Nine people were killed and 22 injured on Satu...</td>\n",
       "      <td>38</td>\n",
       "      <td>Nine people were killed and 22 injured on Satu...</td>\n",
       "      <td>38</td>\n",
       "      <td>Nine people were killed and 22 injured on Satu...</td>\n",
       "      <td>58</td>\n",
       "      <td>0.63</td>\n",
       "      <td>0.655172</td>\n",
       "    </tr>\n",
       "    <tr>\n",
       "      <th>196</th>\n",
       "      <td>External Affairs Minister Sushma Swaraj had ea...</td>\n",
       "      <td>12</td>\n",
       "      <td>External Affairs Minister Sushma Swaraj had ea...</td>\n",
       "      <td>12</td>\n",
       "      <td>The Union Minister of State for Social Justice...</td>\n",
       "      <td>55</td>\n",
       "      <td>0.24</td>\n",
       "      <td>0.218182</td>\n",
       "    </tr>\n",
       "    <tr>\n",
       "      <th>197</th>\n",
       "      <td>India womens team captain Mithali Raj has beco...</td>\n",
       "      <td>42</td>\n",
       "      <td>India womens team captain Mithali Raj has beco...</td>\n",
       "      <td>42</td>\n",
       "      <td>India womens team captain Mithali Raj has beco...</td>\n",
       "      <td>59</td>\n",
       "      <td>0.71</td>\n",
       "      <td>0.711864</td>\n",
       "    </tr>\n",
       "    <tr>\n",
       "      <th>198</th>\n",
       "      <td>A class 10 student from Bihar, who got 0 in Ma...</td>\n",
       "      <td>49</td>\n",
       "      <td>A class 10 student from Bihar, who got 0 in Ma...</td>\n",
       "      <td>49</td>\n",
       "      <td>A class 10 student from Bihar, who got 0 in Ma...</td>\n",
       "      <td>57</td>\n",
       "      <td>0.70</td>\n",
       "      <td>0.859649</td>\n",
       "    </tr>\n",
       "    <tr>\n",
       "      <th>199</th>\n",
       "      <td>\"I had auditioned for Roadies thrice in the pa...</td>\n",
       "      <td>15</td>\n",
       "      <td>\"I had auditioned for Roadies thrice in the pa...</td>\n",
       "      <td>15</td>\n",
       "      <td>Haryana based Shweta Mehta, from Neha Dhupias ...</td>\n",
       "      <td>62</td>\n",
       "      <td>0.21</td>\n",
       "      <td>0.241935</td>\n",
       "    </tr>\n",
       "  </tbody>\n",
       "</table>\n",
       "<p>200 rows × 8 columns</p>\n",
       "</div>"
      ],
      "text/plain": [
       "                                        text_rank_text token_text_rank  \\\n",
       "0    RJD Chief Lalu Prasad Yadav on Wednesday said ...              31   \n",
       "1    The Indira Gandhi International Airport has cl...              30   \n",
       "2    State run buses, school buses, and vehicles us...              34   \n",
       "3    Titanic actors Leonardo DiCaprio and Kate Wins...              21   \n",
       "4    A member of Sikh communitys Damdami Taksal sem...              33   \n",
       "..                                                 ...             ...   \n",
       "195  Nine people were killed and 22 injured on Satu...              38   \n",
       "196  External Affairs Minister Sushma Swaraj had ea...              12   \n",
       "197  India womens team captain Mithali Raj has beco...              42   \n",
       "198  A class 10 student from Bihar, who got 0 in Ma...              49   \n",
       "199  \"I had auditioned for Roadies thrice in the pa...              15   \n",
       "\n",
       "                                       Zusammenfassung  länge Zusammenfassung  \\\n",
       "0    RJD Chief Lalu Prasad Yadav on Wednesday said ...                     31   \n",
       "1    The Indira Gandhi International Airport has cl...                     30   \n",
       "2    State run buses, school buses, and vehicles us...                     34   \n",
       "3    Titanic actors Leonardo DiCaprio and Kate Wins...                     21   \n",
       "4    A member of Sikh communitys Damdami Taksal sem...                     35   \n",
       "..                                                 ...                    ...   \n",
       "195  Nine people were killed and 22 injured on Satu...                     38   \n",
       "196  External Affairs Minister Sushma Swaraj had ea...                     12   \n",
       "197  India womens team captain Mithali Raj has beco...                     42   \n",
       "198  A class 10 student from Bihar, who got 0 in Ma...                     49   \n",
       "199  \"I had auditioned for Roadies thrice in the pa...                     15   \n",
       "\n",
       "                                                  text  tokens_gesamt  \\\n",
       "0    RJD Chief Lalu Prasad Yadav on Wednesday said ...             58   \n",
       "1    The Indira Gandhi International Airport has cl...             59   \n",
       "2    Mumbai Traffic Police have temporarily banned ...             63   \n",
       "3    Titanic actors Leonardo DiCaprio and Kate Wins...             61   \n",
       "4    A member of Sikh communitys Damdami Taksal sem...             59   \n",
       "..                                                 ...            ...   \n",
       "195  Nine people were killed and 22 injured on Satu...             58   \n",
       "196  The Union Minister of State for Social Justice...             55   \n",
       "197  India womens team captain Mithali Raj has beco...             59   \n",
       "198  A class 10 student from Bihar, who got 0 in Ma...             57   \n",
       "199  Haryana based Shweta Mehta, from Neha Dhupias ...             62   \n",
       "\n",
       "     desired_compression_rate  ent_com_rate  \n",
       "0                        0.54      0.534483  \n",
       "1                        0.46      0.508475  \n",
       "2                        0.55      0.539683  \n",
       "3                        0.32      0.344262  \n",
       "4                        0.69      0.593220  \n",
       "..                        ...           ...  \n",
       "195                      0.63      0.655172  \n",
       "196                      0.24      0.218182  \n",
       "197                      0.71      0.711864  \n",
       "198                      0.70      0.859649  \n",
       "199                      0.21      0.241935  \n",
       "\n",
       "[200 rows x 8 columns]"
      ]
     },
     "execution_count": 403,
     "metadata": {},
     "output_type": "execute_result"
    }
   ],
   "source": [
    "a=pd.concat([df_testen[['text_rank_text','token_text_rank',]], df_zwischen_test[['Zusammenfassung','länge Zusammenfassung','text','tokens_gesamt','desired_compression_rate','ent_com_rate'\t]]], axis=1)\n",
    "a"
   ]
  },
  {
   "cell_type": "code",
   "execution_count": 404,
   "metadata": {},
   "outputs": [],
   "source": [
    "a['ent_com_rate_neu']= a['token_text_rank']  / a['tokens_gesamt']"
   ]
  },
  {
   "cell_type": "code",
   "execution_count": 406,
   "metadata": {},
   "outputs": [],
   "source": [
    "a.to_csv('data/ergbnisse/test_news_neu.csv')"
   ]
  },
  {
   "cell_type": "code",
   "execution_count": 386,
   "metadata": {},
   "outputs": [
    {
     "name": "stderr",
     "output_type": "stream",
     "text": [
      "/var/folders/k3/z_svrdgd6sb9lc9bqdfzp_k00000gn/T/ipykernel_89249/1576956366.py:38: DeprecationWarning: networkx.pagerank_numpy is deprecated and will be removed in NetworkX 3.0, use networkx.pagerank instead.\n",
      "  scores = nx.pagerank_numpy(graph)\n",
      "/Users/niclascramer/opt/miniconda3/envs/torch/lib/python3.9/site-packages/networkx/algorithms/link_analysis/pagerank_alg.py:354: FutureWarning: google_matrix will return an np.ndarray instead of a np.matrix in\n",
      "NetworkX version 3.0.\n",
      "  M = google_matrix(\n"
     ]
    },
    {
     "data": {
      "text/plain": [
       "0.24193548387096775"
      ]
     },
     "execution_count": 386,
     "metadata": {},
     "output_type": "execute_result"
    }
   ],
   "source": [
    "compression_ratio(df_zwischen_test['text'][199:200][199], compression(df_zwischen_test['Zusammenfassung'][199:200][199],df_zwischen_test['desired_compression_rate'][4:5][4],'\\. '))"
   ]
  },
  {
   "cell_type": "code",
   "execution_count": null,
   "metadata": {},
   "outputs": [],
   "source": [
    "compression(df_zwischen_test['Zusammenfassung'][0:1][0],df_zwischen_test['reduction_multiplier'][0:1][0],'\\. ')"
   ]
  },
  {
   "cell_type": "code",
   "execution_count": 248,
   "metadata": {},
   "outputs": [
    {
     "data": {
      "text/plain": [
       "0.6872801875732708"
      ]
     },
     "execution_count": 248,
     "metadata": {},
     "output_type": "execute_result"
    }
   ],
   "source": [
    "len('. '.join(merged_df['Zusammenfassung'][4:5][4].split('. ')[:-40]).split())/merged_df['tokens_gesamt'][4:5][4]"
   ]
  },
  {
   "cell_type": "code",
   "execution_count": null,
   "metadata": {},
   "outputs": [],
   "source": []
  },
  {
   "cell_type": "code",
   "execution_count": null,
   "metadata": {},
   "outputs": [],
   "source": [
    "rank_df=text_rank_algo(df,seed=seed,split=split)\n",
    "df_zwischen=calculate_compression(rank_df, 'tokens_gesamt', 'token_text_rank', 'desired_compression_rate')"
   ]
  },
  {
   "cell_type": "code",
   "execution_count": 355,
   "metadata": {},
   "outputs": [],
   "source": [
    "df=pd.read_csv('/Users/niclascramer/Dev/Semester 6/Projekt/Projektrealisierung/data/ergbnisse/train_story_text_rank_400.csv')"
   ]
  },
  {
   "cell_type": "code",
   "execution_count": 376,
   "metadata": {},
   "outputs": [
    {
     "data": {
      "text/plain": [
       "10"
      ]
     },
     "execution_count": 376,
     "metadata": {},
     "output_type": "execute_result"
    }
   ],
   "source": [
    "len(batch_sent(df[17:18]['text_rank_text'][17],splitt=180,split='\\. '))\n",
    "\n",
    "    "
   ]
  },
  {
   "cell_type": "code",
   "execution_count": null,
   "metadata": {},
   "outputs": [],
   "source": []
  }
 ],
 "metadata": {
  "kernelspec": {
   "display_name": "Python 3.9.15 ('torch')",
   "language": "python",
   "name": "python3"
  },
  "language_info": {
   "codemirror_mode": {
    "name": "ipython",
    "version": 3
   },
   "file_extension": ".py",
   "mimetype": "text/x-python",
   "name": "python",
   "nbconvert_exporter": "python",
   "pygments_lexer": "ipython3",
   "version": "3.9.15"
  },
  "orig_nbformat": 4,
  "vscode": {
   "interpreter": {
    "hash": "63be3639594356bc87fe58051c1d1c5221c23a964c31c0e05d208c4974bedf26"
   }
  }
 },
 "nbformat": 4,
 "nbformat_minor": 2
}
