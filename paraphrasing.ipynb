{
 "cells": [
  {
   "cell_type": "code",
   "execution_count": 2,
   "metadata": {},
   "outputs": [],
   "source": [
    "from datasets import load_dataset\n",
    "from datasets import concatenate_datasets, DatasetDict\n",
    "import evaluate\n",
    "import nltk\n",
    "from nltk.tokenize import sent_tokenize\n",
    "from transformers import AutoModelForSeq2SeqLM\n",
    "import pandas as pd\n",
    "from collections import Counter\n",
    "import matplotlib.pyplot as plt\n",
    "import math"
   ]
  },
  {
   "cell_type": "code",
   "execution_count": 3,
   "metadata": {},
   "outputs": [
    {
     "data": {
      "text/html": [
       "<div>\n",
       "<style scoped>\n",
       "    .dataframe tbody tr th:only-of-type {\n",
       "        vertical-align: middle;\n",
       "    }\n",
       "\n",
       "    .dataframe tbody tr th {\n",
       "        vertical-align: top;\n",
       "    }\n",
       "\n",
       "    .dataframe thead th {\n",
       "        text-align: right;\n",
       "    }\n",
       "</style>\n",
       "<table border=\"1\" class=\"dataframe\">\n",
       "  <thead>\n",
       "    <tr style=\"text-align: right;\">\n",
       "      <th></th>\n",
       "      <th>Unnamed: 0</th>\n",
       "      <th>classification</th>\n",
       "      <th>text</th>\n",
       "      <th>sentences</th>\n",
       "      <th>num_sentences</th>\n",
       "      <th>words</th>\n",
       "      <th>num_words</th>\n",
       "      <th>lemmas</th>\n",
       "      <th>stops</th>\n",
       "      <th>num_stops</th>\n",
       "    </tr>\n",
       "  </thead>\n",
       "  <tbody>\n",
       "    <tr>\n",
       "      <th>0</th>\n",
       "      <td>0</td>\n",
       "      <td>Scientific</td>\n",
       "      <td>the interest in anchoring phenomena and phenom...</td>\n",
       "      <td>['the interest in anchoring phenomena and phen...</td>\n",
       "      <td>222</td>\n",
       "      <td>['interest', 'anchoring', 'phenomena', 'phenom...</td>\n",
       "      <td>3533</td>\n",
       "      <td>['interest', 'anchor', 'phenomenon', 'phenomen...</td>\n",
       "      <td>[the, in, and, in, has, been, by, their, in, a...</td>\n",
       "      <td>2426</td>\n",
       "    </tr>\n",
       "    <tr>\n",
       "      <th>1</th>\n",
       "      <td>1</td>\n",
       "      <td>Scientific</td>\n",
       "      <td>galaxy clusters , as the largest peaks in the ...</td>\n",
       "      <td>['galaxy clusters , as the largest peaks in th...</td>\n",
       "      <td>372</td>\n",
       "      <td>['galaxy', 'clusters', 'largest', 'peaks', 'co...</td>\n",
       "      <td>8982</td>\n",
       "      <td>['galaxy', 'cluster', 'large', 'peak', 'cosmic...</td>\n",
       "      <td>[as, the, in, the, an, in, and, in, for, and, ...</td>\n",
       "      <td>5768</td>\n",
       "    </tr>\n",
       "    <tr>\n",
       "      <th>2</th>\n",
       "      <td>2</td>\n",
       "      <td>Scientific</td>\n",
       "      <td>quantum correlations between components of a s...</td>\n",
       "      <td>['quantum correlations between components of a...</td>\n",
       "      <td>138</td>\n",
       "      <td>['quantum', 'correlations', 'components', 'sys...</td>\n",
       "      <td>2451</td>\n",
       "      <td>['quantum', 'correlation', 'component', 'syste...</td>\n",
       "      <td>[between, of, a, or, are, on, the, of, whole, ...</td>\n",
       "      <td>1780</td>\n",
       "    </tr>\n",
       "    <tr>\n",
       "      <th>3</th>\n",
       "      <td>3</td>\n",
       "      <td>Scientific</td>\n",
       "      <td>methanol masers are often found in star - form...</td>\n",
       "      <td>['methanol masers are often found in star - fo...</td>\n",
       "      <td>141</td>\n",
       "      <td>['methanol', 'masers', 'found', 'star', 'formi...</td>\n",
       "      <td>3232</td>\n",
       "      <td>['methanol', 'maser', 'find', 'star', 'form', ...</td>\n",
       "      <td>[are, often, in, are, two, of, to, i, most, th...</td>\n",
       "      <td>1940</td>\n",
       "    </tr>\n",
       "    <tr>\n",
       "      <th>4</th>\n",
       "      <td>4</td>\n",
       "      <td>Scientific</td>\n",
       "      <td>interdisciplinary research has recently gained...</td>\n",
       "      <td>['interdisciplinary research has recently gain...</td>\n",
       "      <td>88</td>\n",
       "      <td>['interdisciplinary', 'research', 'recently', ...</td>\n",
       "      <td>2695</td>\n",
       "      <td>['interdisciplinary', 'research', 'recently', ...</td>\n",
       "      <td>[has, a, in, the, of, to, the, in, was, to, tw...</td>\n",
       "      <td>1997</td>\n",
       "    </tr>\n",
       "  </tbody>\n",
       "</table>\n",
       "</div>"
      ],
      "text/plain": [
       "   Unnamed: 0 classification  \\\n",
       "0           0     Scientific   \n",
       "1           1     Scientific   \n",
       "2           2     Scientific   \n",
       "3           3     Scientific   \n",
       "4           4     Scientific   \n",
       "\n",
       "                                                text  \\\n",
       "0  the interest in anchoring phenomena and phenom...   \n",
       "1  galaxy clusters , as the largest peaks in the ...   \n",
       "2  quantum correlations between components of a s...   \n",
       "3  methanol masers are often found in star - form...   \n",
       "4  interdisciplinary research has recently gained...   \n",
       "\n",
       "                                           sentences  num_sentences  \\\n",
       "0  ['the interest in anchoring phenomena and phen...            222   \n",
       "1  ['galaxy clusters , as the largest peaks in th...            372   \n",
       "2  ['quantum correlations between components of a...            138   \n",
       "3  ['methanol masers are often found in star - fo...            141   \n",
       "4  ['interdisciplinary research has recently gain...             88   \n",
       "\n",
       "                                               words  num_words  \\\n",
       "0  ['interest', 'anchoring', 'phenomena', 'phenom...       3533   \n",
       "1  ['galaxy', 'clusters', 'largest', 'peaks', 'co...       8982   \n",
       "2  ['quantum', 'correlations', 'components', 'sys...       2451   \n",
       "3  ['methanol', 'masers', 'found', 'star', 'formi...       3232   \n",
       "4  ['interdisciplinary', 'research', 'recently', ...       2695   \n",
       "\n",
       "                                              lemmas  \\\n",
       "0  ['interest', 'anchor', 'phenomenon', 'phenomen...   \n",
       "1  ['galaxy', 'cluster', 'large', 'peak', 'cosmic...   \n",
       "2  ['quantum', 'correlation', 'component', 'syste...   \n",
       "3  ['methanol', 'maser', 'find', 'star', 'form', ...   \n",
       "4  ['interdisciplinary', 'research', 'recently', ...   \n",
       "\n",
       "                                               stops  num_stops  \n",
       "0  [the, in, and, in, has, been, by, their, in, a...       2426  \n",
       "1  [as, the, in, the, an, in, and, in, for, and, ...       5768  \n",
       "2  [between, of, a, or, are, on, the, of, whole, ...       1780  \n",
       "3  [are, often, in, are, two, of, to, i, most, th...       1940  \n",
       "4  [has, a, in, the, of, to, the, in, was, to, tw...       1997  "
      ]
     },
     "execution_count": 3,
     "metadata": {},
     "output_type": "execute_result"
    }
   ],
   "source": [
    "df_train=pd.read_csv('data/data_train_with_features.csv')\n",
    "df_train.head()"
   ]
  },
  {
   "cell_type": "code",
   "execution_count": 4,
   "metadata": {},
   "outputs": [],
   "source": [
    "def token_count(text):\n",
    "    tokens = text.split()\n",
    "    return len(tokens)"
   ]
  },
  {
   "cell_type": "code",
   "execution_count": 34,
   "metadata": {},
   "outputs": [
    {
     "data": {
      "application/vnd.jupyter.widget-view+json": {
       "model_id": "57611234dc5444a48896d72cc3962e26",
       "version_major": 2,
       "version_minor": 0
      },
      "text/plain": [
       "Downloading:   0%|          | 0.00/2.54k [00:00<?, ?B/s]"
      ]
     },
     "metadata": {},
     "output_type": "display_data"
    },
    {
     "data": {
      "application/vnd.jupyter.widget-view+json": {
       "model_id": "fa530e92b89b440495cb6f0d46b74e9e",
       "version_major": 2,
       "version_minor": 0
      },
      "text/plain": [
       "Downloading:   0%|          | 0.00/792k [00:00<?, ?B/s]"
      ]
     },
     "metadata": {},
     "output_type": "display_data"
    },
    {
     "data": {
      "application/vnd.jupyter.widget-view+json": {
       "model_id": "0d5488413c524edbb47d5d83ce99d664",
       "version_major": 2,
       "version_minor": 0
      },
      "text/plain": [
       "Downloading:   0%|          | 0.00/2.42M [00:00<?, ?B/s]"
      ]
     },
     "metadata": {},
     "output_type": "display_data"
    },
    {
     "data": {
      "application/vnd.jupyter.widget-view+json": {
       "model_id": "d21792f551f143dc9b68576d6eb701a0",
       "version_major": 2,
       "version_minor": 0
      },
      "text/plain": [
       "Downloading:   0%|          | 0.00/2.20k [00:00<?, ?B/s]"
      ]
     },
     "metadata": {},
     "output_type": "display_data"
    }
   ],
   "source": [
    "from transformers import PegasusForConditionalGeneration, PegasusTokenizer,AutoTokenizer,AutoModelForSeq2SeqLM\n",
    "import torch\n",
    "#model_name='facebook/bart-large-cnn'\n",
    "model_name='google/flan-t5-large'\n",
    "tokenizer = AutoTokenizer.from_pretrained(model_name)"
   ]
  },
  {
   "cell_type": "code",
   "execution_count": 152,
   "metadata": {},
   "outputs": [],
   "source": [
    "import math\n",
    "\n",
    "def adjust_length(text):\n",
    "    length = token_count(text)\n",
    "    if length < 80:\n",
    "        min_length = length + int(length * 0.05)\n",
    "        max_length = min_length + 50\n",
    "    elif length < 100:\n",
    "        min_length = length + int(length * 0.3)\n",
    "        max_length = min_length + 100\n",
    "    else:\n",
    "        min_length = math.ceil(length / 50) * 70\n",
    "        max_length = min_length + 100\n",
    "    return min_length, max_length"
   ]
  },
  {
   "cell_type": "code",
   "execution_count": 36,
   "metadata": {},
   "outputs": [],
   "source": [
    "def batch_sent(sentenc,splitt=180,split='. '):\n",
    "    sentences = sentenc.split(split)\n",
    "    # Erstellen Sie Batches von Sätzen, die weniger als 1024 Tokens enthalten\n",
    "    batches = []\n",
    "    batch = []\n",
    "    batch_len = 0\n",
    "    for sentence in sentences:\n",
    "        \n",
    "        sentence_len = len(tokenizer.tokenize(sentence))\n",
    "        if sentence_len + batch_len > splitt:\n",
    "            if sentence_len < splitt:  # überspringen Sie Sätze, die länger als 256 Tokens sind\n",
    "                batches.append(batch)\n",
    "                batch = [sentence]\n",
    "                batch_len = sentence_len\n",
    "            # wenn ein Satz alleine 1024 Tokens überschreitet, wird er übersprungen\n",
    "        else:\n",
    "            batch.append(sentence)\n",
    "            batch_len += sentence_len\n",
    "    batches.append(batch)\n",
    "    return batches"
   ]
  },
  {
   "cell_type": "code",
   "execution_count": null,
   "metadata": {},
   "outputs": [],
   "source": []
  },
  {
   "cell_type": "code",
   "execution_count": 86,
   "metadata": {},
   "outputs": [],
   "source": [
    "from transformers import PreTrainedTokenizerFast\n",
    "from tqdm import tqdm\n",
    "import random\n",
    "from transformers import pipeline\n",
    "summarizer = pipeline(\"text2text-generation\", model=\"facebook/bart-large-cnn\")\n",
    "#summarizer = pipeline(\"text2text-generation\", model=\"facebook/bart-base\")\n",
    "#summarizer = pipeline(\"text2text-generation\", model=\"t5-base\")\n",
    "\n"
   ]
  },
  {
   "cell_type": "code",
   "execution_count": null,
   "metadata": {},
   "outputs": [],
   "source": []
  },
  {
   "cell_type": "code",
   "execution_count": 64,
   "metadata": {},
   "outputs": [],
   "source": [
    "df_s=df_train.loc[[500, 1000, 1500]]['text'].reset_index(drop=True)"
   ]
  },
  {
   "cell_type": "code",
   "execution_count": 50,
   "metadata": {},
   "outputs": [
    {
     "data": {
      "text/plain": [
       "0    The Administration of Union Territory Daman an...\n",
       "1    This sound track was beautiful! It paints the ...\n",
       "Name: text, dtype: object"
      ]
     },
     "execution_count": 50,
     "metadata": {},
     "output_type": "execute_result"
    }
   ],
   "source": [
    "df_s.head()"
   ]
  },
  {
   "cell_type": "code",
   "execution_count": 42,
   "metadata": {},
   "outputs": [
    {
     "data": {
      "text/plain": [
       "0    The Administration of Union Territory Daman an...\n",
       "1    This sound track was beautiful! It paints the ...\n",
       "2    PART I\\n\\nIf you don't like Christmas stories,...\n",
       "Name: text, dtype: object"
      ]
     },
     "execution_count": 42,
     "metadata": {},
     "output_type": "execute_result"
    }
   ],
   "source": [
    "df_s"
   ]
  },
  {
   "cell_type": "code",
   "execution_count": 120,
   "metadata": {},
   "outputs": [],
   "source": [
    "\n",
    "def paraphrase_of_text(df_s,komp=1):\n",
    "    counter = 0\n",
    "    df_summary_testing = pd.DataFrame(columns=['Min_Kompressionsrate', 'Max_Kompressionsrate', 'Endgueltige_Kompressionsrate', 'Zusammenfassung','länge Zusammenfassung','länge Ausgangstext'])\n",
    "    # Teilen Sie den Text in Sätze --> für tatsächliche umsetzubng\n",
    "    soplitting=True\n",
    "    for text in tqdm(df_s):\n",
    "        text_gesamt_list=[]\n",
    "        if soplitting:\n",
    "            split=' .'\n",
    "        else:\n",
    "            split='. '\n",
    "        for batch in tqdm(batch_sent(text,split=split), desc='Verarbeite Batches'):\n",
    "            # Zusammenfügen der Sätze in einem Batch\n",
    "            batch_text = '. '.join(batch)\n",
    "            min_length_test, max_length_test = adjust_length(batch_text)\n",
    "            ext_summary=summarizer(batch_text, max_length=int(round(max_length_test,0)), min_length=int(round(min_length_test,0)),length_penalty=100,num_beams=2)\n",
    "            # Erstellen Sie einen DataFrame für die aktuellen Ergebnisse\n",
    "            text_gesamt_list.append(ext_summary[0]['generated_text'])\n",
    "        text_gesamt = '. '.join(text_gesamt_list)\n",
    "        actual_compression_rate = len(text_gesamt.split(' '))/len(text.split(' '))*100\n",
    "      \n",
    "        df_current = pd.DataFrame({\n",
    "            'Min_Kompressionsrate': [min_length_test],\n",
    "            'Max_Kompressionsrate': [max_length_test],\n",
    "            'Endgueltige_Kompressionsrate': [actual_compression_rate],\n",
    "            'Zusammenfassung': [text_gesamt],\n",
    "            'länge Zusammenfassung': [len(text_gesamt.split(' '))],\n",
    "            'länge Ausgangstext': [len(text.split(' '))]\n",
    "        \n",
    "        })\n",
    "\n",
    "        # Fügen Sie die Daten zum DataFrame hinzu\n",
    "        df_summary_testing = pd.concat([df_summary_testing, df_current], ignore_index=True)\n",
    "        counter += 1\n",
    "        soplitting=False\n",
    "    return df_summary_testing\n",
    "    # Wenn der Zähler ein Vielfaches von 50 ist, speichern Sie die Daten in einer CSV-Datei\n",
    "    # if counter % 50 == 0:\n",
    "    #     df_summary_testing.to_csv(f'/content/df_summary_testing_{counter}.csv', index=False)\n"
   ]
  },
  {
   "cell_type": "code",
   "execution_count": 141,
   "metadata": {},
   "outputs": [],
   "source": [
    "def paraphrase_of_text(df_s,text_name='text',komp_name='reduction_multiplier'):\n",
    "    counter = 0\n",
    "    df_summary_testing = pd.DataFrame(columns=['text', 'Zusammenfassung','Min_Kompressionsrate', 'Max_Kompressionsrate', 'Endgueltige_Kompressionsrate','länge Zusammenfassung','länge Ausgangstext'])\n",
    "    # Teilen Sie den Text in Sätze --> für tatsächliche umsetzubng\n",
    "    soplitting=True\n",
    "    for _, row in tqdm(df_s.iterrows(), total=df_s.shape[0]):\n",
    "     \n",
    "        text = row[text_name]\n",
    "        komp = row[komp_name]\n",
    "        text_gesamt_list=[]\n",
    "\n",
    "        if soplitting:\n",
    "            split=' .'\n",
    "        else:\n",
    "            split='. '\n",
    "        for batch in tqdm(batch_sent(text,split=split), desc='Verarbeite Batches'):\n",
    "            # Zusammenfügen der Sätze in einem Batch\n",
    "            batch_text = '. '.join(batch)\n",
    "            min_length_test, max_length_test = adjust_length(batch_text)\n",
    "            ext_summary=summarizer(batch_text, max_length=int(round(max_length_test*komp,0)), min_length=int(round(min_length_test*komp,0)),length_penalty=100,num_beams=2)\n",
    "            # Erstellen Sie einen DataFrame für die aktuellen Ergebnisse\n",
    "           \n",
    "            text_gesamt_list.append(ext_summary[0]['generated_text'])\n",
    "        text_gesamt = '. '.join(text_gesamt_list)\n",
    "        actual_compression_rate = len(text_gesamt.split(' '))/len(text.split(' '))*100\n",
    "      \n",
    "        df_current = pd.DataFrame({\n",
    "            'text':[text],\n",
    "            'Zusammenfassung': [text_gesamt],\n",
    "            'Min_Kompressionsrate': [min_length_test],\n",
    "            'Max_Kompressionsrate': [max_length_test],\n",
    "            'Endgueltige_Kompressionsrate': [actual_compression_rate],\n",
    "            'länge Zusammenfassung': [len(text_gesamt.split(' '))],\n",
    "            'länge Ausgangstext': [len(text.split(' '))]\n",
    "        \n",
    "        })\n",
    "       \n",
    "        # Fügen Sie die Daten zum DataFrame hinzu\n",
    "        df_summary_testing = pd.concat([df_summary_testing, df_current], ignore_index=True)\n",
    "        counter += 1\n",
    "        soplitting=False\n",
    "    return df_summary_testing\n"
   ]
  },
  {
   "cell_type": "code",
   "execution_count": 90,
   "metadata": {},
   "outputs": [],
   "source": [
    "def count_tokens(df):\n",
    "    df['token_count'] = df['text'].apply(lambda x: len(str(x).split()))\n",
    "    return df"
   ]
  },
  {
   "cell_type": "code",
   "execution_count": 91,
   "metadata": {},
   "outputs": [],
   "source": [
    "df_test = count_tokens(pd.DataFrame(df_s))"
   ]
  },
  {
   "cell_type": "code",
   "execution_count": 96,
   "metadata": {},
   "outputs": [
    {
     "data": {
      "text/html": [
       "<div>\n",
       "<style scoped>\n",
       "    .dataframe tbody tr th:only-of-type {\n",
       "        vertical-align: middle;\n",
       "    }\n",
       "\n",
       "    .dataframe tbody tr th {\n",
       "        vertical-align: top;\n",
       "    }\n",
       "\n",
       "    .dataframe thead th {\n",
       "        text-align: right;\n",
       "    }\n",
       "</style>\n",
       "<table border=\"1\" class=\"dataframe\">\n",
       "  <thead>\n",
       "    <tr style=\"text-align: right;\">\n",
       "      <th></th>\n",
       "      <th>total_tokens</th>\n",
       "      <th>current_tokens</th>\n",
       "      <th>current_compression_rate</th>\n",
       "      <th>compression_difference</th>\n",
       "      <th>reduction_multiplier</th>\n",
       "    </tr>\n",
       "  </thead>\n",
       "  <tbody>\n",
       "    <tr>\n",
       "      <th>0</th>\n",
       "      <td>1000</td>\n",
       "      <td>800</td>\n",
       "      <td>0.800000</td>\n",
       "      <td>-0.100000</td>\n",
       "      <td>0.875000</td>\n",
       "    </tr>\n",
       "    <tr>\n",
       "      <th>1</th>\n",
       "      <td>2000</td>\n",
       "      <td>1500</td>\n",
       "      <td>0.750000</td>\n",
       "      <td>-0.050000</td>\n",
       "      <td>0.933333</td>\n",
       "    </tr>\n",
       "    <tr>\n",
       "      <th>2</th>\n",
       "      <td>3000</td>\n",
       "      <td>2500</td>\n",
       "      <td>0.833333</td>\n",
       "      <td>-0.133333</td>\n",
       "      <td>0.840000</td>\n",
       "    </tr>\n",
       "  </tbody>\n",
       "</table>\n",
       "</div>"
      ],
      "text/plain": [
       "   total_tokens  current_tokens  current_compression_rate  \\\n",
       "0          1000             800                  0.800000   \n",
       "1          2000            1500                  0.750000   \n",
       "2          3000            2500                  0.833333   \n",
       "\n",
       "   compression_difference  reduction_multiplier  \n",
       "0               -0.100000              0.875000  \n",
       "1               -0.050000              0.933333  \n",
       "2               -0.133333              0.840000  "
      ]
     },
     "execution_count": 96,
     "metadata": {},
     "output_type": "execute_result"
    }
   ],
   "source": [
    "def calculate_compression(df, total_tokens_col, current_tokens_col, desired_compression_rate):\n",
    "    df['current_compression_rate'] = df[current_tokens_col] / df[total_tokens_col]\n",
    "    df['compression_difference'] = desired_compression_rate - df['current_compression_rate']\n",
    "    df['reduction_multiplier'] = desired_compression_rate / df['current_compression_rate']\n",
    "    return df\n",
    "\n",
    "# Beispiel der Verwendung\n",
    "df_testung = pd.DataFrame({\n",
    "    'total_tokens': [1000, 2000, 3000],\n",
    "    'current_tokens': [800, 1500, 2500]\n",
    "})\n",
    "desired_compression_rate = 0.7\n",
    "\n",
    "df_testung = calculate_compression(df_testung, 'total_tokens', 'current_tokens', desired_compression_rate)\n",
    "df_testung"
   ]
  },
  {
   "cell_type": "code",
   "execution_count": 99,
   "metadata": {},
   "outputs": [],
   "source": [
    "df_test['total_tokens']=df_test['token_count'].apply(lambda x: round(x * 1.1))"
   ]
  },
  {
   "cell_type": "code",
   "execution_count": 100,
   "metadata": {},
   "outputs": [
    {
     "data": {
      "text/html": [
       "<div>\n",
       "<style scoped>\n",
       "    .dataframe tbody tr th:only-of-type {\n",
       "        vertical-align: middle;\n",
       "    }\n",
       "\n",
       "    .dataframe tbody tr th {\n",
       "        vertical-align: top;\n",
       "    }\n",
       "\n",
       "    .dataframe thead th {\n",
       "        text-align: right;\n",
       "    }\n",
       "</style>\n",
       "<table border=\"1\" class=\"dataframe\">\n",
       "  <thead>\n",
       "    <tr style=\"text-align: right;\">\n",
       "      <th></th>\n",
       "      <th>text</th>\n",
       "      <th>token_count</th>\n",
       "      <th>total_tokens</th>\n",
       "    </tr>\n",
       "  </thead>\n",
       "  <tbody>\n",
       "    <tr>\n",
       "      <th>0</th>\n",
       "      <td>The Administration of Union Territory Daman an...</td>\n",
       "      <td>60</td>\n",
       "      <td>66</td>\n",
       "    </tr>\n",
       "    <tr>\n",
       "      <th>1</th>\n",
       "      <td>This sound track was beautiful! It paints the ...</td>\n",
       "      <td>75</td>\n",
       "      <td>82</td>\n",
       "    </tr>\n",
       "    <tr>\n",
       "      <th>2</th>\n",
       "      <td>PART I\\n\\nIf you don't like Christmas stories,...</td>\n",
       "      <td>5499</td>\n",
       "      <td>6049</td>\n",
       "    </tr>\n",
       "  </tbody>\n",
       "</table>\n",
       "</div>"
      ],
      "text/plain": [
       "                                                text  token_count  \\\n",
       "0  The Administration of Union Territory Daman an...           60   \n",
       "1  This sound track was beautiful! It paints the ...           75   \n",
       "2  PART I\\n\\nIf you don't like Christmas stories,...         5499   \n",
       "\n",
       "   total_tokens  \n",
       "0            66  \n",
       "1            82  \n",
       "2          6049  "
      ]
     },
     "execution_count": 100,
     "metadata": {},
     "output_type": "execute_result"
    }
   ],
   "source": [
    "df_test"
   ]
  },
  {
   "cell_type": "code",
   "execution_count": 144,
   "metadata": {},
   "outputs": [],
   "source": [
    "df_test=calculate_compression(df_test, 'total_tokens', 'token_count', desired_compression_rate)"
   ]
  },
  {
   "cell_type": "code",
   "execution_count": 132,
   "metadata": {},
   "outputs": [],
   "source": [
    "df_test['reduction_multiplier']=1"
   ]
  },
  {
   "cell_type": "code",
   "execution_count": 145,
   "metadata": {},
   "outputs": [
    {
     "data": {
      "text/html": [
       "<div>\n",
       "<style scoped>\n",
       "    .dataframe tbody tr th:only-of-type {\n",
       "        vertical-align: middle;\n",
       "    }\n",
       "\n",
       "    .dataframe tbody tr th {\n",
       "        vertical-align: top;\n",
       "    }\n",
       "\n",
       "    .dataframe thead th {\n",
       "        text-align: right;\n",
       "    }\n",
       "</style>\n",
       "<table border=\"1\" class=\"dataframe\">\n",
       "  <thead>\n",
       "    <tr style=\"text-align: right;\">\n",
       "      <th></th>\n",
       "      <th>text</th>\n",
       "      <th>reduction_multiplier</th>\n",
       "    </tr>\n",
       "  </thead>\n",
       "  <tbody>\n",
       "    <tr>\n",
       "      <th>0</th>\n",
       "      <td>The Administration of Union Territory Daman an...</td>\n",
       "      <td>0.770000</td>\n",
       "    </tr>\n",
       "    <tr>\n",
       "      <th>1</th>\n",
       "      <td>This sound track was beautiful! It paints the ...</td>\n",
       "      <td>0.765333</td>\n",
       "    </tr>\n",
       "    <tr>\n",
       "      <th>2</th>\n",
       "      <td>PART I\\n\\nIf you don't like Christmas stories,...</td>\n",
       "      <td>0.770013</td>\n",
       "    </tr>\n",
       "  </tbody>\n",
       "</table>\n",
       "</div>"
      ],
      "text/plain": [
       "                                                text  reduction_multiplier\n",
       "0  The Administration of Union Territory Daman an...              0.770000\n",
       "1  This sound track was beautiful! It paints the ...              0.765333\n",
       "2  PART I\\n\\nIf you don't like Christmas stories,...              0.770013"
      ]
     },
     "execution_count": 145,
     "metadata": {},
     "output_type": "execute_result"
    }
   ],
   "source": [
    "df_test[['text','reduction_multiplier']]"
   ]
  },
  {
   "cell_type": "code",
   "execution_count": 153,
   "metadata": {},
   "outputs": [
    {
     "name": "stderr",
     "output_type": "stream",
     "text": [
      "Verarbeite Batches: 100%|██████████| 1/1 [00:04<00:00,  4.83s/it]\n",
      "Verarbeite Batches: 100%|██████████| 1/1 [00:06<00:00,  6.59s/it]\n",
      "Verarbeite Batches: 100%|██████████| 54/54 [08:33<00:00,  9.51s/it]\n",
      "100%|██████████| 3/3 [08:44<00:00, 174.92s/it]\n"
     ]
    }
   ],
   "source": [
    "df_summary_testing_3=paraphrase_of_text(df_test[['text','reduction_multiplier']])"
   ]
  },
  {
   "cell_type": "code",
   "execution_count": 118,
   "metadata": {},
   "outputs": [
    {
     "data": {
      "text/html": [
       "<div>\n",
       "<style scoped>\n",
       "    .dataframe tbody tr th:only-of-type {\n",
       "        vertical-align: middle;\n",
       "    }\n",
       "\n",
       "    .dataframe tbody tr th {\n",
       "        vertical-align: top;\n",
       "    }\n",
       "\n",
       "    .dataframe thead th {\n",
       "        text-align: right;\n",
       "    }\n",
       "</style>\n",
       "<table border=\"1\" class=\"dataframe\">\n",
       "  <thead>\n",
       "    <tr style=\"text-align: right;\">\n",
       "      <th></th>\n",
       "      <th>Min_Kompressionsrate</th>\n",
       "      <th>Max_Kompressionsrate</th>\n",
       "      <th>Endgueltige_Kompressionsrate</th>\n",
       "      <th>Zusammenfassung</th>\n",
       "      <th>länge Zusammenfassung</th>\n",
       "      <th>länge Ausgangstext</th>\n",
       "    </tr>\n",
       "  </thead>\n",
       "  <tbody>\n",
       "    <tr>\n",
       "      <th>0</th>\n",
       "      <td>63</td>\n",
       "      <td>163</td>\n",
       "      <td>75.000000</td>\n",
       "      <td>The administration was forced to withdraw the ...</td>\n",
       "      <td>45</td>\n",
       "      <td>60</td>\n",
       "    </tr>\n",
       "    <tr>\n",
       "      <th>1</th>\n",
       "      <td>78</td>\n",
       "      <td>178</td>\n",
       "      <td>88.000000</td>\n",
       "      <td>This sound track was beautiful! It paints the ...</td>\n",
       "      <td>66</td>\n",
       "      <td>75</td>\n",
       "    </tr>\n",
       "    <tr>\n",
       "      <th>2</th>\n",
       "      <td>107</td>\n",
       "      <td>207</td>\n",
       "      <td>63.538175</td>\n",
       "      <td>After five blustering, wintry weeks of village...</td>\n",
       "      <td>3412</td>\n",
       "      <td>5370</td>\n",
       "    </tr>\n",
       "  </tbody>\n",
       "</table>\n",
       "</div>"
      ],
      "text/plain": [
       "  Min_Kompressionsrate Max_Kompressionsrate  Endgueltige_Kompressionsrate  \\\n",
       "0                   63                  163                     75.000000   \n",
       "1                   78                  178                     88.000000   \n",
       "2                  107                  207                     63.538175   \n",
       "\n",
       "                                     Zusammenfassung länge Zusammenfassung  \\\n",
       "0  The administration was forced to withdraw the ...                    45   \n",
       "1  This sound track was beautiful! It paints the ...                    66   \n",
       "2  After five blustering, wintry weeks of village...                  3412   \n",
       "\n",
       "  länge Ausgangstext  \n",
       "0                 60  \n",
       "1                 75  \n",
       "2               5370  "
      ]
     },
     "execution_count": 118,
     "metadata": {},
     "output_type": "execute_result"
    }
   ],
   "source": [
    "df_summary_testing_2"
   ]
  },
  {
   "cell_type": "code",
   "execution_count": 154,
   "metadata": {},
   "outputs": [
    {
     "data": {
      "text/html": [
       "<div>\n",
       "<style scoped>\n",
       "    .dataframe tbody tr th:only-of-type {\n",
       "        vertical-align: middle;\n",
       "    }\n",
       "\n",
       "    .dataframe tbody tr th {\n",
       "        vertical-align: top;\n",
       "    }\n",
       "\n",
       "    .dataframe thead th {\n",
       "        text-align: right;\n",
       "    }\n",
       "</style>\n",
       "<table border=\"1\" class=\"dataframe\">\n",
       "  <thead>\n",
       "    <tr style=\"text-align: right;\">\n",
       "      <th></th>\n",
       "      <th>Min_Kompressionsrate</th>\n",
       "      <th>Max_Kompressionsrate</th>\n",
       "      <th>Endgueltige_Kompressionsrate</th>\n",
       "      <th>Zusammenfassung</th>\n",
       "      <th>länge Zusammenfassung</th>\n",
       "      <th>länge Ausgangstext</th>\n",
       "    </tr>\n",
       "  </thead>\n",
       "  <tbody>\n",
       "    <tr>\n",
       "      <th>0</th>\n",
       "      <td>63</td>\n",
       "      <td>113</td>\n",
       "      <td>75.000000</td>\n",
       "      <td>The administration was forced to withdraw the ...</td>\n",
       "      <td>45</td>\n",
       "      <td>60</td>\n",
       "    </tr>\n",
       "    <tr>\n",
       "      <th>1</th>\n",
       "      <td>78</td>\n",
       "      <td>128</td>\n",
       "      <td>88.000000</td>\n",
       "      <td>This sound track was beautiful! It paints the ...</td>\n",
       "      <td>66</td>\n",
       "      <td>75</td>\n",
       "    </tr>\n",
       "    <tr>\n",
       "      <th>2</th>\n",
       "      <td>127</td>\n",
       "      <td>227</td>\n",
       "      <td>76.945996</td>\n",
       "      <td>After five blustering, wintry weeks of village...</td>\n",
       "      <td>4132</td>\n",
       "      <td>5370</td>\n",
       "    </tr>\n",
       "  </tbody>\n",
       "</table>\n",
       "</div>"
      ],
      "text/plain": [
       "  Min_Kompressionsrate Max_Kompressionsrate  Endgueltige_Kompressionsrate  \\\n",
       "0                   63                  113                     75.000000   \n",
       "1                   78                  128                     88.000000   \n",
       "2                  127                  227                     76.945996   \n",
       "\n",
       "                                     Zusammenfassung länge Zusammenfassung  \\\n",
       "0  The administration was forced to withdraw the ...                    45   \n",
       "1  This sound track was beautiful! It paints the ...                    66   \n",
       "2  After five blustering, wintry weeks of village...                  4132   \n",
       "\n",
       "  länge Ausgangstext  \n",
       "0                 60  \n",
       "1                 75  \n",
       "2               5370  "
      ]
     },
     "execution_count": 154,
     "metadata": {},
     "output_type": "execute_result"
    }
   ],
   "source": [
    "df_summary_testing_3"
   ]
  },
  {
   "cell_type": "code",
   "execution_count": 93,
   "metadata": {},
   "outputs": [
    {
     "data": {
      "text/html": [
       "<div>\n",
       "<style scoped>\n",
       "    .dataframe tbody tr th:only-of-type {\n",
       "        vertical-align: middle;\n",
       "    }\n",
       "\n",
       "    .dataframe tbody tr th {\n",
       "        vertical-align: top;\n",
       "    }\n",
       "\n",
       "    .dataframe thead th {\n",
       "        text-align: right;\n",
       "    }\n",
       "</style>\n",
       "<table border=\"1\" class=\"dataframe\">\n",
       "  <thead>\n",
       "    <tr style=\"text-align: right;\">\n",
       "      <th></th>\n",
       "      <th>Min_Kompressionsrate</th>\n",
       "      <th>Max_Kompressionsrate</th>\n",
       "      <th>Endgueltige_Kompressionsrate</th>\n",
       "      <th>Zusammenfassung</th>\n",
       "    </tr>\n",
       "  </thead>\n",
       "  <tbody>\n",
       "    <tr>\n",
       "      <th>0</th>\n",
       "      <td>63</td>\n",
       "      <td>163</td>\n",
       "      <td>100.000000</td>\n",
       "      <td>The Administration of Union Territory Daman an...</td>\n",
       "    </tr>\n",
       "    <tr>\n",
       "      <th>1</th>\n",
       "      <td>78</td>\n",
       "      <td>178</td>\n",
       "      <td>100.000000</td>\n",
       "      <td>This sound track was beautiful! It paints the ...</td>\n",
       "    </tr>\n",
       "    <tr>\n",
       "      <th>2</th>\n",
       "      <td>63</td>\n",
       "      <td>163</td>\n",
       "      <td>100.000000</td>\n",
       "      <td>The Administration of Union Territory Daman an...</td>\n",
       "    </tr>\n",
       "    <tr>\n",
       "      <th>3</th>\n",
       "      <td>78</td>\n",
       "      <td>178</td>\n",
       "      <td>100.000000</td>\n",
       "      <td>This sound track was beautiful! It paints the ...</td>\n",
       "    </tr>\n",
       "    <tr>\n",
       "      <th>4</th>\n",
       "      <td>63</td>\n",
       "      <td>163</td>\n",
       "      <td>100.000000</td>\n",
       "      <td>The Administration of Union Territory Daman an...</td>\n",
       "    </tr>\n",
       "    <tr>\n",
       "      <th>5</th>\n",
       "      <td>78</td>\n",
       "      <td>178</td>\n",
       "      <td>100.000000</td>\n",
       "      <td>This sound track was beautiful! It paints the ...</td>\n",
       "    </tr>\n",
       "    <tr>\n",
       "      <th>6</th>\n",
       "      <td>107</td>\n",
       "      <td>207</td>\n",
       "      <td>105.567970</td>\n",
       "      <td>And one or two other oldish persons. But they ...</td>\n",
       "    </tr>\n",
       "    <tr>\n",
       "      <th>7</th>\n",
       "      <td>63</td>\n",
       "      <td>163</td>\n",
       "      <td>148.333333</td>\n",
       "      <td>its order that made it compulsory for women to...</td>\n",
       "    </tr>\n",
       "    <tr>\n",
       "      <th>8</th>\n",
       "      <td>78</td>\n",
       "      <td>178</td>\n",
       "      <td>60.000000</td>\n",
       "      <td>vid. game music! vid. game music! This sound t...</td>\n",
       "    </tr>\n",
       "    <tr>\n",
       "      <th>9</th>\n",
       "      <td>107</td>\n",
       "      <td>207</td>\n",
       "      <td>107.635009</td>\n",
       "      <td>the Twilight of Christmas Eve. the Twilight of...</td>\n",
       "    </tr>\n",
       "    <tr>\n",
       "      <th>10</th>\n",
       "      <td>63</td>\n",
       "      <td>163</td>\n",
       "      <td>101.666667</td>\n",
       "      <td>its order that made it compulsory for women to...</td>\n",
       "    </tr>\n",
       "    <tr>\n",
       "      <th>11</th>\n",
       "      <td>78</td>\n",
       "      <td>178</td>\n",
       "      <td>52.000000</td>\n",
       "      <td>vid. game music! vid. game music! This sound t...</td>\n",
       "    </tr>\n",
       "    <tr>\n",
       "      <th>12</th>\n",
       "      <td>107</td>\n",
       "      <td>207</td>\n",
       "      <td>51.545624</td>\n",
       "      <td>the Twilight of Christmas Eve. the Twilight of...</td>\n",
       "    </tr>\n",
       "  </tbody>\n",
       "</table>\n",
       "</div>"
      ],
      "text/plain": [
       "   Min_Kompressionsrate Max_Kompressionsrate  Endgueltige_Kompressionsrate  \\\n",
       "0                    63                  163                    100.000000   \n",
       "1                    78                  178                    100.000000   \n",
       "2                    63                  163                    100.000000   \n",
       "3                    78                  178                    100.000000   \n",
       "4                    63                  163                    100.000000   \n",
       "5                    78                  178                    100.000000   \n",
       "6                   107                  207                    105.567970   \n",
       "7                    63                  163                    148.333333   \n",
       "8                    78                  178                     60.000000   \n",
       "9                   107                  207                    107.635009   \n",
       "10                   63                  163                    101.666667   \n",
       "11                   78                  178                     52.000000   \n",
       "12                  107                  207                     51.545624   \n",
       "\n",
       "                                      Zusammenfassung  \n",
       "0   The Administration of Union Territory Daman an...  \n",
       "1   This sound track was beautiful! It paints the ...  \n",
       "2   The Administration of Union Territory Daman an...  \n",
       "3   This sound track was beautiful! It paints the ...  \n",
       "4   The Administration of Union Territory Daman an...  \n",
       "5   This sound track was beautiful! It paints the ...  \n",
       "6   And one or two other oldish persons. But they ...  \n",
       "7   its order that made it compulsory for women to...  \n",
       "8   vid. game music! vid. game music! This sound t...  \n",
       "9   the Twilight of Christmas Eve. the Twilight of...  \n",
       "10  its order that made it compulsory for women to...  \n",
       "11  vid. game music! vid. game music! This sound t...  \n",
       "12  the Twilight of Christmas Eve. the Twilight of...  "
      ]
     },
     "execution_count": 93,
     "metadata": {},
     "output_type": "execute_result"
    }
   ],
   "source": [
    "df_summary_testing"
   ]
  },
  {
   "cell_type": "code",
   "execution_count": null,
   "metadata": {},
   "outputs": [],
   "source": [
    "df_summary_testing"
   ]
  },
  {
   "cell_type": "code",
   "execution_count": 78,
   "metadata": {},
   "outputs": [
    {
     "data": {
      "text/plain": [
       "'The Administration of Union Territory Daman and Diu has revoked its order that made it compulsory for women to tie rakhis to their male colleagues on the occasion of Rakshabandhan on August 7. The administration was forced to withdraw the decision within 24 hours of issuing the circular after it received flak from employees and was slammed on social media.'"
      ]
     },
     "execution_count": 78,
     "metadata": {},
     "output_type": "execute_result"
    }
   ],
   "source": [
    "df_s[0]"
   ]
  },
  {
   "cell_type": "code",
   "execution_count": 80,
   "metadata": {},
   "outputs": [
    {
     "data": {
      "text/plain": [
       "'its order that made it compulsory for women to tie rakhis to their male colleagues on the occasion of Rakshabandhan on August 7 . The administration was forced to withdraw the decision within 24 hours after receiving flak from employees and was slammed on social media . Daman and Diu has revoked its order that made it compulsory for women to tie rakhis to their male colleagues on the occasion of Rakshabandhan on August 7. The administration was forced to withdraw the decision after receiving fla   '"
      ]
     },
     "execution_count": 80,
     "metadata": {},
     "output_type": "execute_result"
    }
   ],
   "source": [
    "df_summary_testing[7:8]['Zusammenfassung'][7]"
   ]
  },
  {
   "cell_type": "code",
   "execution_count": 59,
   "metadata": {},
   "outputs": [
    {
     "data": {
      "text/plain": [
       "17179"
      ]
     },
     "execution_count": 59,
     "metadata": {},
     "output_type": "execute_result"
    }
   ],
   "source": [
    "df_s\n",
    "len(df_s[0].split(' '))"
   ]
  },
  {
   "cell_type": "code",
   "execution_count": 76,
   "metadata": {},
   "outputs": [
    {
     "data": {
      "text/plain": [
       "15104"
      ]
     },
     "execution_count": 76,
     "metadata": {},
     "output_type": "execute_result"
    }
   ],
   "source": [
    "len(df_summary_testing['Zusammenfassung'][4].split(' '))"
   ]
  },
  {
   "cell_type": "code",
   "execution_count": 77,
   "metadata": {},
   "outputs": [
    {
     "data": {
      "text/plain": [
       "87.9212992607253"
      ]
     },
     "execution_count": 77,
     "metadata": {},
     "output_type": "execute_result"
    }
   ],
   "source": [
    "15104/17179*100"
   ]
  },
  {
   "cell_type": "code",
   "execution_count": 35,
   "metadata": {},
   "outputs": [],
   "source": [
    "text=df_s[0]"
   ]
  },
  {
   "cell_type": "code",
   "execution_count": 40,
   "metadata": {},
   "outputs": [
    {
     "data": {
      "text/plain": [
       "['galaxy clusters , as the largest peaks in the cosmic density field , play an important role in astrophysics and cosmology ( e.g. * ? ? ?* ; * ? ? ?structure formation theory , realized in large scale n - body simulations , makes robust predictions for cluster space density and clustering within various cosmological models',\n",
       " ' since clusters are also the most observationally accessible features of large scale structure , they provide an opportunity to place strong constraints on both cosmological parameters and the growth of structure',\n",
       " 'the great challenge of cluster cosmology lies in confidently relating the dark matter halos we can robustly predict to the baryonic structures we observe',\n",
       " 'substantial work is being done to close the gap between theory and observations from both sides',\n",
       " 'on the theory side , numerical simulations of ever increasing complexity and resolution provide new insights into the evolution of baryons within clusters , and to elucidate the connection between cluster galaxies and dark matter substructure @xcite',\n",
       " 'observationally , much work is being done to assemble large samples of clusters detected and observed in a wide variety of ways',\n",
       " 'this is possible because galaxy clusters provide a rich suite of observables',\n",
       " 'optical light is emitted by individual cluster galaxies as well as intracluster stars',\n",
       " 'x - rays are emitted by both the hot intracluster medium ( icm ) and agn within cluster galaxies']"
      ]
     },
     "execution_count": 40,
     "metadata": {},
     "output_type": "execute_result"
    }
   ],
   "source": [
    "batch_sent(text,split=' .')[0]"
   ]
  },
  {
   "cell_type": "code",
   "execution_count": 41,
   "metadata": {},
   "outputs": [],
   "source": [
    "batch_text = '. '.join(batch_sent(text,split=' .')[0])"
   ]
  },
  {
   "cell_type": "code",
   "execution_count": 42,
   "metadata": {},
   "outputs": [],
   "source": [
    "min_length_test, max_length_test = adjust_length(batch_text)"
   ]
  },
  {
   "cell_type": "code",
   "execution_count": 43,
   "metadata": {},
   "outputs": [
    {
     "data": {
      "text/plain": [
       "250"
      ]
     },
     "execution_count": 43,
     "metadata": {},
     "output_type": "execute_result"
    }
   ],
   "source": [
    "min_length_test"
   ]
  },
  {
   "cell_type": "code",
   "execution_count": null,
   "metadata": {},
   "outputs": [],
   "source": [
    "summarizer(batch_text, max_length=max_length_test, min_length=min_length_test,length_penalty=100,num_beams=2)"
   ]
  },
  {
   "cell_type": "code",
   "execution_count": 66,
   "metadata": {},
   "outputs": [],
   "source": [
    "import nltk\n",
    "import math\n",
    "\n",
    "def check_compression_rate(original_text, filtered_text, compression_rate):\n",
    "    # Tokenize the texts\n",
    "    original_tokens = nltk.word_tokenize(original_text)\n",
    "    filtered_tokens = nltk.word_tokenize(filtered_text)\n",
    "\n",
    "    # Calculate the expected number of tokens in the filtered text\n",
    "    expected_tokens = len(original_tokens) * compression_rate\n",
    "\n",
    "    # Calculate the acceptable range of token counts\n",
    "    min_tokens = expected_tokens * 0.95\n",
    "    max_tokens = expected_tokens * 1.05\n",
    "\n",
    "    # Check if the number of tokens in the filtered text is within the acceptable range\n",
    "    if min_tokens <= len(filtered_tokens) <= max_tokens:\n",
    "        return True\n",
    "    else:\n",
    "        return math.ceil(min_tokens), math.floor(max_tokens)  # round up for min and down for max\n"
   ]
  },
  {
   "cell_type": "code",
   "execution_count": null,
   "metadata": {},
   "outputs": [],
   "source": []
  },
  {
   "cell_type": "code",
   "execution_count": null,
   "metadata": {},
   "outputs": [],
   "source": []
  },
  {
   "cell_type": "code",
   "execution_count": 63,
   "metadata": {},
   "outputs": [
    {
     "data": {
      "text/html": [
       "<pre style=\"white-space:pre;overflow-x:auto;line-height:normal;font-family:Menlo,'DejaVu Sans Mono',consolas,'Courier New',monospace\"><span style=\"color: #800000; text-decoration-color: #800000\">╭─────────────────────────────── </span><span style=\"color: #800000; text-decoration-color: #800000; font-weight: bold\">Traceback </span><span style=\"color: #bf7f7f; text-decoration-color: #bf7f7f; font-weight: bold\">(most recent call last)</span><span style=\"color: #800000; text-decoration-color: #800000\"> ────────────────────────────────╮</span>\n",
       "<span style=\"color: #800000; text-decoration-color: #800000\">│</span> <span style=\"color: #bfbf7f; text-decoration-color: #bfbf7f\">/var/folders/k3/z_svrdgd6sb9lc9bqdfzp_k00000gn/T/ipykernel_35943/</span><span style=\"color: #808000; text-decoration-color: #808000; font-weight: bold\">3855289726.py</span>:<span style=\"color: #0000ff; text-decoration-color: #0000ff\">1</span> in <span style=\"color: #00ff00; text-decoration-color: #00ff00\">&lt;module&gt;</span>     <span style=\"color: #800000; text-decoration-color: #800000\">│</span>\n",
       "<span style=\"color: #800000; text-decoration-color: #800000\">│</span>                                                                                                  <span style=\"color: #800000; text-decoration-color: #800000\">│</span>\n",
       "<span style=\"color: #800000; text-decoration-color: #800000\">│</span> <span style=\"color: #800000; text-decoration-color: #800000; font-style: italic\">[Errno 2] No such file or directory: </span>                                                            <span style=\"color: #800000; text-decoration-color: #800000\">│</span>\n",
       "<span style=\"color: #800000; text-decoration-color: #800000\">│</span> <span style=\"color: #800000; text-decoration-color: #800000; font-style: italic\">'/var/folders/k3/z_svrdgd6sb9lc9bqdfzp_k00000gn/T/ipykernel_35943/3855289726.py'</span>                 <span style=\"color: #800000; text-decoration-color: #800000\">│</span>\n",
       "<span style=\"color: #800000; text-decoration-color: #800000\">╰──────────────────────────────────────────────────────────────────────────────────────────────────╯</span>\n",
       "<span style=\"color: #ff0000; text-decoration-color: #ff0000; font-weight: bold\">NameError: </span>name <span style=\"color: #008000; text-decoration-color: #008000\">'original_text'</span> is not defined\n",
       "</pre>\n"
      ],
      "text/plain": [
       "\u001b[31m╭─\u001b[0m\u001b[31m──────────────────────────────\u001b[0m\u001b[31m \u001b[0m\u001b[1;31mTraceback \u001b[0m\u001b[1;2;31m(most recent call last)\u001b[0m\u001b[31m \u001b[0m\u001b[31m───────────────────────────────\u001b[0m\u001b[31m─╮\u001b[0m\n",
       "\u001b[31m│\u001b[0m \u001b[2;33m/var/folders/k3/z_svrdgd6sb9lc9bqdfzp_k00000gn/T/ipykernel_35943/\u001b[0m\u001b[1;33m3855289726.py\u001b[0m:\u001b[94m1\u001b[0m in \u001b[92m<module>\u001b[0m     \u001b[31m│\u001b[0m\n",
       "\u001b[31m│\u001b[0m                                                                                                  \u001b[31m│\u001b[0m\n",
       "\u001b[31m│\u001b[0m \u001b[3;31m[Errno 2] No such file or directory: \u001b[0m                                                            \u001b[31m│\u001b[0m\n",
       "\u001b[31m│\u001b[0m \u001b[3;31m'/var/folders/k3/z_svrdgd6sb9lc9bqdfzp_k00000gn/T/ipykernel_35943/3855289726.py'\u001b[0m                 \u001b[31m│\u001b[0m\n",
       "\u001b[31m╰──────────────────────────────────────────────────────────────────────────────────────────────────╯\u001b[0m\n",
       "\u001b[1;91mNameError: \u001b[0mname \u001b[32m'original_text'\u001b[0m is not defined\n"
      ]
     },
     "metadata": {},
     "output_type": "display_data"
    }
   ],
   "source": [
    "result = check_compression_rate(original_text, filtered_text, compression_rate)\n",
    "\n",
    "if result == True:\n",
    "    print(\"The filtered text is within the acceptable compression range.\")\n",
    "else:\n",
    "    min_tokens, max_tokens = result\n",
    "    print(f\"The filtered text is not within the acceptable compression range. It should have between {min_tokens} and {max_tokens} tokens.\")\n"
   ]
  },
  {
   "cell_type": "code",
   "execution_count": 67,
   "metadata": {},
   "outputs": [
    {
     "name": "stdout",
     "output_type": "stream",
     "text": [
      "The filtered text is not within the acceptable compression range. It should have between 13497 and 14917 tokens.\n",
      "The filtered text is not within the acceptable compression range. It should have between 48 and 52 tokens.\n",
      "The filtered text is not within the acceptable compression range. It should have between 62 and 68 tokens.\n",
      "The filtered text is not within the acceptable compression range. It should have between 5371 and 5936 tokens.\n"
     ]
    }
   ],
   "source": [
    "for text in df_s:\n",
    "    result =check_compression_rate(text, text, 0.8)\n",
    "    if result == True:\n",
    "        print(\"The filtered text is within the acceptable compression range.\")\n",
    "    else:\n",
    "        min_tokens, max_tokens = result\n",
    "        print(f\"The filtered text is not within the acceptable compression range. It should have between {min_tokens} and {max_tokens} tokens.\")"
   ]
  },
  {
   "cell_type": "code",
   "execution_count": null,
   "metadata": {},
   "outputs": [],
   "source": []
  }
 ],
 "metadata": {
  "kernelspec": {
   "display_name": "Python 3.9.15 ('torch')",
   "language": "python",
   "name": "python3"
  },
  "language_info": {
   "codemirror_mode": {
    "name": "ipython",
    "version": 3
   },
   "file_extension": ".py",
   "mimetype": "text/x-python",
   "name": "python",
   "nbconvert_exporter": "python",
   "pygments_lexer": "ipython3",
   "version": "3.9.15"
  },
  "orig_nbformat": 4,
  "vscode": {
   "interpreter": {
    "hash": "63be3639594356bc87fe58051c1d1c5221c23a964c31c0e05d208c4974bedf26"
   }
  }
 },
 "nbformat": 4,
 "nbformat_minor": 2
}
