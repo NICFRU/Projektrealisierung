{
 "cells": [
  {
   "cell_type": "code",
   "execution_count": 1,
   "metadata": {},
   "outputs": [],
   "source": [
    "import pandas as pd\n",
    "import numpy as np\n",
    "import matplotlib.pyplot as plt\n",
    "from tqdm import tqdm\n",
    "import spacy\n",
    "from spacy.lang.en import English\n",
    "\n",
    "from sklearn.feature_extraction.text import TfidfVectorizer\n",
    "from sklearn.model_selection import train_test_split\n",
    "from sklearn import svm\n",
    "from sklearn.metrics import classification_report\n",
    "\n",
    "import tensorflow as tf\n",
    "from tensorflow import keras\n",
    "from tensorflow.keras import layers"
   ]
  },
  {
   "cell_type": "code",
   "execution_count": 2,
   "metadata": {},
   "outputs": [],
   "source": [
    "data_train = pd.read_csv(\"../../data/data_train_with_features.csv\").drop([\"Unnamed: 0\"], axis=1)\n",
    "data_test = pd.read_csv(\"../../data/data_test_with_features.csv\").drop([\"Unnamed: 0\"], axis=1)"
   ]
  },
  {
   "cell_type": "code",
   "execution_count": 6,
   "metadata": {},
   "outputs": [],
   "source": [
    "data_train_scientific = data_train[data_train[\"classification\"] == \"Scientific\"]\n",
    "data_train_story = data_train[data_train[\"classification\"] == \"story\"]\n",
    "data_train_reviews = data_train[data_train[\"classification\"] == \"reviews\"]\n",
    "data_train_news = data_train[data_train[\"classification\"] == \"news\"]"
   ]
  },
  {
   "cell_type": "code",
   "execution_count": 7,
   "metadata": {},
   "outputs": [
    {
     "name": "stdout",
     "output_type": "stream",
     "text": [
      "148.332\n",
      "125.59\n",
      "5.284\n",
      "3.082\n"
     ]
    }
   ],
   "source": [
    "print(data_train_scientific[\"num_sentences\"].mean())\n",
    "print(data_train_story[\"num_sentences\"].mean())\n",
    "print(data_train_reviews[\"num_sentences\"].mean())\n",
    "print(data_train_news[\"num_sentences\"].mean())"
   ]
  },
  {
   "cell_type": "code",
   "execution_count": 8,
   "metadata": {},
   "outputs": [
    {
     "name": "stdout",
     "output_type": "stream",
     "text": [
      "3030.968\n",
      "978.182\n",
      "34.342\n",
      "33.558\n"
     ]
    }
   ],
   "source": [
    "print(data_train_scientific[\"num_words\"].mean())\n",
    "print(data_train_story[\"num_words\"].mean())\n",
    "print(data_train_reviews[\"num_words\"].mean())\n",
    "print(data_train_news[\"num_words\"].mean())"
   ]
  },
  {
   "cell_type": "code",
   "execution_count": 9,
   "metadata": {},
   "outputs": [
    {
     "name": "stdout",
     "output_type": "stream",
     "text": [
      "2016.416\n",
      "1347.034\n",
      "45.832\n",
      "26.432\n"
     ]
    }
   ],
   "source": [
    "print(data_train_scientific[\"num_stops\"].mean())\n",
    "print(data_train_story[\"num_stops\"].mean())\n",
    "print(data_train_reviews[\"num_stops\"].mean())\n",
    "print(data_train_news[\"num_stops\"].mean())"
   ]
  },
  {
   "cell_type": "code",
   "execution_count": 10,
   "metadata": {},
   "outputs": [],
   "source": [
    "## TODO: Signifikanztests für metrische Variablen\n",
    "##       Visualisierung für Worthäufigkeiten pro Klasse"
   ]
  },
  {
   "cell_type": "code",
   "execution_count": null,
   "metadata": {},
   "outputs": [],
   "source": []
  }
 ],
 "metadata": {
  "kernelspec": {
   "display_name": "NLP-Projektrealisierung",
   "language": "python",
   "name": "python3"
  },
  "language_info": {
   "codemirror_mode": {
    "name": "ipython",
    "version": 3
   },
   "file_extension": ".py",
   "mimetype": "text/x-python",
   "name": "python",
   "nbconvert_exporter": "python",
   "pygments_lexer": "ipython3",
   "version": "3.9.16"
  },
  "orig_nbformat": 4
 },
 "nbformat": 4,
 "nbformat_minor": 2
}
