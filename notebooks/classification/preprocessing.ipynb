{
 "cells": [
  {
   "cell_type": "code",
   "execution_count": 1,
   "metadata": {},
   "outputs": [],
   "source": [
    "import pandas as pd\n",
    "import numpy as np\n",
    "import matplotlib.pyplot as plt\n",
    "from tqdm import tqdm\n",
    "import spacy\n",
    "from spacy.lang.en import English\n",
    "\n",
    "from sklearn.feature_extraction.text import TfidfVectorizer\n",
    "from sklearn.model_selection import train_test_split\n",
    "from sklearn import svm\n",
    "from sklearn.metrics import classification_report\n",
    "\n",
    "import tensorflow as tf\n",
    "from tensorflow import keras\n",
    "from tensorflow.keras import layers\n",
    "\n",
    "from ast import literal_eval"
   ]
  },
  {
   "cell_type": "code",
   "execution_count": null,
   "metadata": {},
   "outputs": [],
   "source": [
    "data_train = pd.read_csv(\"../../data/data_train.csv\").drop([\"Unnamed: 0\"], axis=1)\n",
    "data_test = pd.read_csv(\"../../data/data_test.csv\").drop([\"Unnamed: 0\"], axis=1)\n",
    "\n",
    "nlp = spacy.load('en_core_web_sm')"
   ]
  },
  {
   "cell_type": "code",
   "execution_count": null,
   "metadata": {},
   "outputs": [],
   "source": [
    "# Funktion zur Tokenisierung, Lemmatisierung, Stop-Word-Removal der Texte\n",
    "def preprocess_text(text):\n",
    "    doc = nlp(text)\n",
    "    sentences = [sent.text for sent in doc.sents]\n",
    "    num_sentences = len(sentences)\n",
    "    \n",
    "    words_without_stopwords = []\n",
    "    words_with_stopwords = []\n",
    "    lemmas = []\n",
    "    stops = []\n",
    "\n",
    "    for token in doc:\n",
    "        if not token.is_stop and not token.is_punct:\n",
    "            words_without_stopwords.append(token.text)\n",
    "            lemmas.append(token.lemma_)\n",
    "        elif not token.is_punct:\n",
    "            words_with_stopwords.append(token)\n",
    "            stops.append(token)\n",
    "\n",
    "    num_words_without_stopwords = len(words_without_stopwords)\n",
    "    num_words_with_stopwords = len(words_with_stopwords)\n",
    "    num_stops = len(stops)\n",
    "\n",
    "    return sentences, num_sentences, words_with_stopwords, num_words_with_stopwords, words_without_stopwords, num_words_without_stopwords, lemmas, stops, num_stops\n",
    "\n",
    "data_train['sentences'], data_train['num_sentences'], data_train['words_with_stopwords'], data_train['num_words_with_stopwords'], data_train['words_without_stopwords'], data_train['num_words_without_stopwords'], data_train['lemmas'], data_train['stops'], data_train['num_stops'] = zip(*data_train['text'].apply(preprocess_text))\n",
    "data_test['sentences'], data_test['num_sentences'], data_test['words_with_stopwords'], data_test['num_words_with_stopwords'], data_test['words_without_stopwords'], data_test['num_words_without_stopwords'], data_test['lemmas'], data_test['stops'], data_test['num_stops'] = zip(*data_test['text'].apply(preprocess_text))\n",
    "data_train.to_csv(\"../../data/data_with_features/data_train_with_features.csv\")\n",
    "data_test.to_csv(\"../../data/data_with_features/data_test_with_features.csv\")\n",
    "\n",
    "# etwa 10 Minuten"
   ]
  },
  {
   "cell_type": "code",
   "execution_count": null,
   "metadata": {},
   "outputs": [],
   "source": []
  }
 ],
 "metadata": {
  "kernelspec": {
   "display_name": "NLP-Projektrealisierung",
   "language": "python",
   "name": "python3"
  },
  "language_info": {
   "codemirror_mode": {
    "name": "ipython",
    "version": 3
   },
   "file_extension": ".py",
   "mimetype": "text/x-python",
   "name": "python",
   "nbconvert_exporter": "python",
   "pygments_lexer": "ipython3",
   "version": "3.9.16"
  },
  "orig_nbformat": 4
 },
 "nbformat": 4,
 "nbformat_minor": 2
}
